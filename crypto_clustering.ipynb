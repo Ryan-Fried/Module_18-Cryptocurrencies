{
 "cells": [
  {
   "cell_type": "markdown",
   "metadata": {},
   "source": [
    "# Clustering Crypto"
   ]
  },
  {
   "cell_type": "code",
   "execution_count": 303,
   "metadata": {},
   "outputs": [],
   "source": [
    "# Initial imports\n",
    "import pandas as pd\n",
    "import hvplot.pandas\n",
    "from path import Path\n",
    "import plotly.express as px\n",
    "from sklearn.preprocessing import StandardScaler, MinMaxScaler\n",
    "from sklearn.decomposition import PCA\n",
    "from sklearn.cluster import KMeans\n"
   ]
  },
  {
   "cell_type": "markdown",
   "metadata": {},
   "source": [
    "### Deliverable 1: Preprocessing the Data for PCA"
   ]
  },
  {
   "cell_type": "code",
   "execution_count": 304,
   "metadata": {},
   "outputs": [
    {
     "data": {
      "text/html": [
       "<div>\n",
       "<style scoped>\n",
       "    .dataframe tbody tr th:only-of-type {\n",
       "        vertical-align: middle;\n",
       "    }\n",
       "\n",
       "    .dataframe tbody tr th {\n",
       "        vertical-align: top;\n",
       "    }\n",
       "\n",
       "    .dataframe thead th {\n",
       "        text-align: right;\n",
       "    }\n",
       "</style>\n",
       "<table border=\"1\" class=\"dataframe\">\n",
       "  <thead>\n",
       "    <tr style=\"text-align: right;\">\n",
       "      <th></th>\n",
       "      <th>CoinName</th>\n",
       "      <th>Algorithm</th>\n",
       "      <th>IsTrading</th>\n",
       "      <th>ProofType</th>\n",
       "      <th>TotalCoinsMined</th>\n",
       "      <th>TotalCoinSupply</th>\n",
       "    </tr>\n",
       "  </thead>\n",
       "  <tbody>\n",
       "    <tr>\n",
       "      <th>42</th>\n",
       "      <td>42 Coin</td>\n",
       "      <td>Scrypt</td>\n",
       "      <td>True</td>\n",
       "      <td>PoW/PoS</td>\n",
       "      <td>4.199995e+01</td>\n",
       "      <td>42</td>\n",
       "    </tr>\n",
       "    <tr>\n",
       "      <th>365</th>\n",
       "      <td>365Coin</td>\n",
       "      <td>X11</td>\n",
       "      <td>True</td>\n",
       "      <td>PoW/PoS</td>\n",
       "      <td>NaN</td>\n",
       "      <td>2300000000</td>\n",
       "    </tr>\n",
       "    <tr>\n",
       "      <th>404</th>\n",
       "      <td>404Coin</td>\n",
       "      <td>Scrypt</td>\n",
       "      <td>True</td>\n",
       "      <td>PoW/PoS</td>\n",
       "      <td>1.055185e+09</td>\n",
       "      <td>532000000</td>\n",
       "    </tr>\n",
       "    <tr>\n",
       "      <th>611</th>\n",
       "      <td>SixEleven</td>\n",
       "      <td>SHA-256</td>\n",
       "      <td>True</td>\n",
       "      <td>PoW</td>\n",
       "      <td>NaN</td>\n",
       "      <td>611000</td>\n",
       "    </tr>\n",
       "    <tr>\n",
       "      <th>808</th>\n",
       "      <td>808</td>\n",
       "      <td>SHA-256</td>\n",
       "      <td>True</td>\n",
       "      <td>PoW/PoS</td>\n",
       "      <td>0.000000e+00</td>\n",
       "      <td>0</td>\n",
       "    </tr>\n",
       "  </tbody>\n",
       "</table>\n",
       "</div>"
      ],
      "text/plain": [
       "      CoinName Algorithm  IsTrading ProofType  TotalCoinsMined TotalCoinSupply\n",
       "42     42 Coin    Scrypt       True   PoW/PoS     4.199995e+01              42\n",
       "365    365Coin       X11       True   PoW/PoS              NaN      2300000000\n",
       "404    404Coin    Scrypt       True   PoW/PoS     1.055185e+09       532000000\n",
       "611  SixEleven   SHA-256       True       PoW              NaN          611000\n",
       "808        808   SHA-256       True   PoW/PoS     0.000000e+00               0"
      ]
     },
     "execution_count": 304,
     "metadata": {},
     "output_type": "execute_result"
    }
   ],
   "source": [
    "# Load the crypto_data.csv dataset.\n",
    "file_path = \"crypto_data.csv\"\n",
    "crypto_df = pd.read_csv(file_path, index_col = 0)\n",
    "crypto_df.head()"
   ]
  },
  {
   "cell_type": "code",
   "execution_count": 305,
   "metadata": {},
   "outputs": [
    {
     "data": {
      "text/html": [
       "<div>\n",
       "<style scoped>\n",
       "    .dataframe tbody tr th:only-of-type {\n",
       "        vertical-align: middle;\n",
       "    }\n",
       "\n",
       "    .dataframe tbody tr th {\n",
       "        vertical-align: top;\n",
       "    }\n",
       "\n",
       "    .dataframe thead th {\n",
       "        text-align: right;\n",
       "    }\n",
       "</style>\n",
       "<table border=\"1\" class=\"dataframe\">\n",
       "  <thead>\n",
       "    <tr style=\"text-align: right;\">\n",
       "      <th></th>\n",
       "      <th>CoinName</th>\n",
       "      <th>Algorithm</th>\n",
       "      <th>IsTrading</th>\n",
       "      <th>ProofType</th>\n",
       "      <th>TotalCoinsMined</th>\n",
       "      <th>TotalCoinSupply</th>\n",
       "    </tr>\n",
       "  </thead>\n",
       "  <tbody>\n",
       "    <tr>\n",
       "      <th>42</th>\n",
       "      <td>42 Coin</td>\n",
       "      <td>Scrypt</td>\n",
       "      <td>True</td>\n",
       "      <td>PoW/PoS</td>\n",
       "      <td>4.199995e+01</td>\n",
       "      <td>42</td>\n",
       "    </tr>\n",
       "    <tr>\n",
       "      <th>365</th>\n",
       "      <td>365Coin</td>\n",
       "      <td>X11</td>\n",
       "      <td>True</td>\n",
       "      <td>PoW/PoS</td>\n",
       "      <td>NaN</td>\n",
       "      <td>2300000000</td>\n",
       "    </tr>\n",
       "    <tr>\n",
       "      <th>404</th>\n",
       "      <td>404Coin</td>\n",
       "      <td>Scrypt</td>\n",
       "      <td>True</td>\n",
       "      <td>PoW/PoS</td>\n",
       "      <td>1.055185e+09</td>\n",
       "      <td>532000000</td>\n",
       "    </tr>\n",
       "    <tr>\n",
       "      <th>611</th>\n",
       "      <td>SixEleven</td>\n",
       "      <td>SHA-256</td>\n",
       "      <td>True</td>\n",
       "      <td>PoW</td>\n",
       "      <td>NaN</td>\n",
       "      <td>611000</td>\n",
       "    </tr>\n",
       "    <tr>\n",
       "      <th>808</th>\n",
       "      <td>808</td>\n",
       "      <td>SHA-256</td>\n",
       "      <td>True</td>\n",
       "      <td>PoW/PoS</td>\n",
       "      <td>0.000000e+00</td>\n",
       "      <td>0</td>\n",
       "    </tr>\n",
       "  </tbody>\n",
       "</table>\n",
       "</div>"
      ],
      "text/plain": [
       "      CoinName Algorithm  IsTrading ProofType  TotalCoinsMined TotalCoinSupply\n",
       "42     42 Coin    Scrypt       True   PoW/PoS     4.199995e+01              42\n",
       "365    365Coin       X11       True   PoW/PoS              NaN      2300000000\n",
       "404    404Coin    Scrypt       True   PoW/PoS     1.055185e+09       532000000\n",
       "611  SixEleven   SHA-256       True       PoW              NaN          611000\n",
       "808        808   SHA-256       True   PoW/PoS     0.000000e+00               0"
      ]
     },
     "execution_count": 305,
     "metadata": {},
     "output_type": "execute_result"
    }
   ],
   "source": [
    "# Keep all the cryptocurrencies that are being traded.\n",
    "crypto_df = crypto_df.loc[crypto_df['IsTrading']==True]\n",
    "crypto_df.head()"
   ]
  },
  {
   "cell_type": "code",
   "execution_count": 306,
   "metadata": {},
   "outputs": [
    {
     "data": {
      "text/html": [
       "<div>\n",
       "<style scoped>\n",
       "    .dataframe tbody tr th:only-of-type {\n",
       "        vertical-align: middle;\n",
       "    }\n",
       "\n",
       "    .dataframe tbody tr th {\n",
       "        vertical-align: top;\n",
       "    }\n",
       "\n",
       "    .dataframe thead th {\n",
       "        text-align: right;\n",
       "    }\n",
       "</style>\n",
       "<table border=\"1\" class=\"dataframe\">\n",
       "  <thead>\n",
       "    <tr style=\"text-align: right;\">\n",
       "      <th></th>\n",
       "      <th>CoinName</th>\n",
       "      <th>Algorithm</th>\n",
       "      <th>IsTrading</th>\n",
       "      <th>ProofType</th>\n",
       "      <th>TotalCoinsMined</th>\n",
       "      <th>TotalCoinSupply</th>\n",
       "    </tr>\n",
       "  </thead>\n",
       "  <tbody>\n",
       "    <tr>\n",
       "      <th>SERO</th>\n",
       "      <td>Super Zero</td>\n",
       "      <td>Ethash</td>\n",
       "      <td>True</td>\n",
       "      <td>PoW</td>\n",
       "      <td>NaN</td>\n",
       "      <td>1000000000</td>\n",
       "    </tr>\n",
       "    <tr>\n",
       "      <th>UOS</th>\n",
       "      <td>UOS</td>\n",
       "      <td>SHA-256</td>\n",
       "      <td>True</td>\n",
       "      <td>DPoI</td>\n",
       "      <td>NaN</td>\n",
       "      <td>1000000000</td>\n",
       "    </tr>\n",
       "    <tr>\n",
       "      <th>BDX</th>\n",
       "      <td>Beldex</td>\n",
       "      <td>CryptoNight</td>\n",
       "      <td>True</td>\n",
       "      <td>PoW</td>\n",
       "      <td>9.802226e+08</td>\n",
       "      <td>1400222610</td>\n",
       "    </tr>\n",
       "    <tr>\n",
       "      <th>ZEN</th>\n",
       "      <td>Horizen</td>\n",
       "      <td>Equihash</td>\n",
       "      <td>True</td>\n",
       "      <td>PoW</td>\n",
       "      <td>7.296538e+06</td>\n",
       "      <td>21000000</td>\n",
       "    </tr>\n",
       "    <tr>\n",
       "      <th>XBC</th>\n",
       "      <td>BitcoinPlus</td>\n",
       "      <td>Scrypt</td>\n",
       "      <td>True</td>\n",
       "      <td>PoS</td>\n",
       "      <td>1.283270e+05</td>\n",
       "      <td>1000000</td>\n",
       "    </tr>\n",
       "  </tbody>\n",
       "</table>\n",
       "</div>"
      ],
      "text/plain": [
       "         CoinName    Algorithm  IsTrading ProofType  TotalCoinsMined  \\\n",
       "SERO   Super Zero       Ethash       True       PoW              NaN   \n",
       "UOS           UOS      SHA-256       True      DPoI              NaN   \n",
       "BDX        Beldex  CryptoNight       True       PoW     9.802226e+08   \n",
       "ZEN       Horizen     Equihash       True       PoW     7.296538e+06   \n",
       "XBC   BitcoinPlus       Scrypt       True       PoS     1.283270e+05   \n",
       "\n",
       "     TotalCoinSupply  \n",
       "SERO      1000000000  \n",
       "UOS       1000000000  \n",
       "BDX       1400222610  \n",
       "ZEN         21000000  \n",
       "XBC          1000000  "
      ]
     },
     "execution_count": 306,
     "metadata": {},
     "output_type": "execute_result"
    }
   ],
   "source": [
    "# Keep all the cryptocurrencies that have a working algorithm.\n",
    "crypto_df = crypto_df.dropna(axis=0, subset=['Algorithm'])\n",
    "crypto_df.tail()"
   ]
  },
  {
   "cell_type": "code",
   "execution_count": 307,
   "metadata": {},
   "outputs": [
    {
     "data": {
      "text/html": [
       "<div>\n",
       "<style scoped>\n",
       "    .dataframe tbody tr th:only-of-type {\n",
       "        vertical-align: middle;\n",
       "    }\n",
       "\n",
       "    .dataframe tbody tr th {\n",
       "        vertical-align: top;\n",
       "    }\n",
       "\n",
       "    .dataframe thead th {\n",
       "        text-align: right;\n",
       "    }\n",
       "</style>\n",
       "<table border=\"1\" class=\"dataframe\">\n",
       "  <thead>\n",
       "    <tr style=\"text-align: right;\">\n",
       "      <th></th>\n",
       "      <th>CoinName</th>\n",
       "      <th>Algorithm</th>\n",
       "      <th>ProofType</th>\n",
       "      <th>TotalCoinsMined</th>\n",
       "      <th>TotalCoinSupply</th>\n",
       "    </tr>\n",
       "  </thead>\n",
       "  <tbody>\n",
       "    <tr>\n",
       "      <th>42</th>\n",
       "      <td>42 Coin</td>\n",
       "      <td>Scrypt</td>\n",
       "      <td>PoW/PoS</td>\n",
       "      <td>4.199995e+01</td>\n",
       "      <td>42</td>\n",
       "    </tr>\n",
       "    <tr>\n",
       "      <th>365</th>\n",
       "      <td>365Coin</td>\n",
       "      <td>X11</td>\n",
       "      <td>PoW/PoS</td>\n",
       "      <td>NaN</td>\n",
       "      <td>2300000000</td>\n",
       "    </tr>\n",
       "    <tr>\n",
       "      <th>404</th>\n",
       "      <td>404Coin</td>\n",
       "      <td>Scrypt</td>\n",
       "      <td>PoW/PoS</td>\n",
       "      <td>1.055185e+09</td>\n",
       "      <td>532000000</td>\n",
       "    </tr>\n",
       "    <tr>\n",
       "      <th>611</th>\n",
       "      <td>SixEleven</td>\n",
       "      <td>SHA-256</td>\n",
       "      <td>PoW</td>\n",
       "      <td>NaN</td>\n",
       "      <td>611000</td>\n",
       "    </tr>\n",
       "    <tr>\n",
       "      <th>808</th>\n",
       "      <td>808</td>\n",
       "      <td>SHA-256</td>\n",
       "      <td>PoW/PoS</td>\n",
       "      <td>0.000000e+00</td>\n",
       "      <td>0</td>\n",
       "    </tr>\n",
       "  </tbody>\n",
       "</table>\n",
       "</div>"
      ],
      "text/plain": [
       "      CoinName Algorithm ProofType  TotalCoinsMined TotalCoinSupply\n",
       "42     42 Coin    Scrypt   PoW/PoS     4.199995e+01              42\n",
       "365    365Coin       X11   PoW/PoS              NaN      2300000000\n",
       "404    404Coin    Scrypt   PoW/PoS     1.055185e+09       532000000\n",
       "611  SixEleven   SHA-256       PoW              NaN          611000\n",
       "808        808   SHA-256   PoW/PoS     0.000000e+00               0"
      ]
     },
     "execution_count": 307,
     "metadata": {},
     "output_type": "execute_result"
    }
   ],
   "source": [
    "# Remove the \"IsTrading\" column. \n",
    "crypto_df.drop(['IsTrading'], axis=1, inplace=True)\n",
    "crypto_df.head()"
   ]
  },
  {
   "cell_type": "code",
   "execution_count": 308,
   "metadata": {},
   "outputs": [
    {
     "data": {
      "text/html": [
       "<div>\n",
       "<style scoped>\n",
       "    .dataframe tbody tr th:only-of-type {\n",
       "        vertical-align: middle;\n",
       "    }\n",
       "\n",
       "    .dataframe tbody tr th {\n",
       "        vertical-align: top;\n",
       "    }\n",
       "\n",
       "    .dataframe thead th {\n",
       "        text-align: right;\n",
       "    }\n",
       "</style>\n",
       "<table border=\"1\" class=\"dataframe\">\n",
       "  <thead>\n",
       "    <tr style=\"text-align: right;\">\n",
       "      <th></th>\n",
       "      <th>CoinName</th>\n",
       "      <th>Algorithm</th>\n",
       "      <th>ProofType</th>\n",
       "      <th>TotalCoinsMined</th>\n",
       "      <th>TotalCoinSupply</th>\n",
       "    </tr>\n",
       "  </thead>\n",
       "  <tbody>\n",
       "    <tr>\n",
       "      <th>42</th>\n",
       "      <td>42 Coin</td>\n",
       "      <td>Scrypt</td>\n",
       "      <td>PoW/PoS</td>\n",
       "      <td>4.199995e+01</td>\n",
       "      <td>42</td>\n",
       "    </tr>\n",
       "    <tr>\n",
       "      <th>404</th>\n",
       "      <td>404Coin</td>\n",
       "      <td>Scrypt</td>\n",
       "      <td>PoW/PoS</td>\n",
       "      <td>1.055185e+09</td>\n",
       "      <td>532000000</td>\n",
       "    </tr>\n",
       "    <tr>\n",
       "      <th>808</th>\n",
       "      <td>808</td>\n",
       "      <td>SHA-256</td>\n",
       "      <td>PoW/PoS</td>\n",
       "      <td>0.000000e+00</td>\n",
       "      <td>0</td>\n",
       "    </tr>\n",
       "    <tr>\n",
       "      <th>1337</th>\n",
       "      <td>EliteCoin</td>\n",
       "      <td>X13</td>\n",
       "      <td>PoW/PoS</td>\n",
       "      <td>2.927942e+10</td>\n",
       "      <td>314159265359</td>\n",
       "    </tr>\n",
       "    <tr>\n",
       "      <th>BTC</th>\n",
       "      <td>Bitcoin</td>\n",
       "      <td>SHA-256</td>\n",
       "      <td>PoW</td>\n",
       "      <td>1.792718e+07</td>\n",
       "      <td>21000000</td>\n",
       "    </tr>\n",
       "  </tbody>\n",
       "</table>\n",
       "</div>"
      ],
      "text/plain": [
       "       CoinName Algorithm ProofType  TotalCoinsMined TotalCoinSupply\n",
       "42      42 Coin    Scrypt   PoW/PoS     4.199995e+01              42\n",
       "404     404Coin    Scrypt   PoW/PoS     1.055185e+09       532000000\n",
       "808         808   SHA-256   PoW/PoS     0.000000e+00               0\n",
       "1337  EliteCoin       X13   PoW/PoS     2.927942e+10    314159265359\n",
       "BTC     Bitcoin   SHA-256       PoW     1.792718e+07        21000000"
      ]
     },
     "execution_count": 308,
     "metadata": {},
     "output_type": "execute_result"
    }
   ],
   "source": [
    "# Remove rows that have at least 1 null value.\n",
    "crypto_df.dropna(inplace=True)\n",
    "crypto_df.head()"
   ]
  },
  {
   "cell_type": "code",
   "execution_count": 309,
   "metadata": {},
   "outputs": [
    {
     "data": {
      "text/html": [
       "<div>\n",
       "<style scoped>\n",
       "    .dataframe tbody tr th:only-of-type {\n",
       "        vertical-align: middle;\n",
       "    }\n",
       "\n",
       "    .dataframe tbody tr th {\n",
       "        vertical-align: top;\n",
       "    }\n",
       "\n",
       "    .dataframe thead th {\n",
       "        text-align: right;\n",
       "    }\n",
       "</style>\n",
       "<table border=\"1\" class=\"dataframe\">\n",
       "  <thead>\n",
       "    <tr style=\"text-align: right;\">\n",
       "      <th></th>\n",
       "      <th>CoinName</th>\n",
       "      <th>Algorithm</th>\n",
       "      <th>ProofType</th>\n",
       "      <th>TotalCoinsMined</th>\n",
       "      <th>TotalCoinSupply</th>\n",
       "    </tr>\n",
       "  </thead>\n",
       "  <tbody>\n",
       "    <tr>\n",
       "      <th>42</th>\n",
       "      <td>42 Coin</td>\n",
       "      <td>Scrypt</td>\n",
       "      <td>PoW/PoS</td>\n",
       "      <td>4.199995e+01</td>\n",
       "      <td>42</td>\n",
       "    </tr>\n",
       "    <tr>\n",
       "      <th>404</th>\n",
       "      <td>404Coin</td>\n",
       "      <td>Scrypt</td>\n",
       "      <td>PoW/PoS</td>\n",
       "      <td>1.055185e+09</td>\n",
       "      <td>532000000</td>\n",
       "    </tr>\n",
       "    <tr>\n",
       "      <th>1337</th>\n",
       "      <td>EliteCoin</td>\n",
       "      <td>X13</td>\n",
       "      <td>PoW/PoS</td>\n",
       "      <td>2.927942e+10</td>\n",
       "      <td>314159265359</td>\n",
       "    </tr>\n",
       "    <tr>\n",
       "      <th>BTC</th>\n",
       "      <td>Bitcoin</td>\n",
       "      <td>SHA-256</td>\n",
       "      <td>PoW</td>\n",
       "      <td>1.792718e+07</td>\n",
       "      <td>21000000</td>\n",
       "    </tr>\n",
       "    <tr>\n",
       "      <th>ETH</th>\n",
       "      <td>Ethereum</td>\n",
       "      <td>Ethash</td>\n",
       "      <td>PoW</td>\n",
       "      <td>1.076842e+08</td>\n",
       "      <td>0</td>\n",
       "    </tr>\n",
       "  </tbody>\n",
       "</table>\n",
       "</div>"
      ],
      "text/plain": [
       "       CoinName Algorithm ProofType  TotalCoinsMined TotalCoinSupply\n",
       "42      42 Coin    Scrypt   PoW/PoS     4.199995e+01              42\n",
       "404     404Coin    Scrypt   PoW/PoS     1.055185e+09       532000000\n",
       "1337  EliteCoin       X13   PoW/PoS     2.927942e+10    314159265359\n",
       "BTC     Bitcoin   SHA-256       PoW     1.792718e+07        21000000\n",
       "ETH    Ethereum    Ethash       PoW     1.076842e+08               0"
      ]
     },
     "execution_count": 309,
     "metadata": {},
     "output_type": "execute_result"
    }
   ],
   "source": [
    "# Keep the rows where coins are mined.\n",
    "crypto_df = crypto_df.loc[crypto_df['TotalCoinsMined'] > 0]\n",
    "crypto_df.head()"
   ]
  },
  {
   "cell_type": "code",
   "execution_count": 310,
   "metadata": {},
   "outputs": [
    {
     "data": {
      "text/html": [
       "<div>\n",
       "<style scoped>\n",
       "    .dataframe tbody tr th:only-of-type {\n",
       "        vertical-align: middle;\n",
       "    }\n",
       "\n",
       "    .dataframe tbody tr th {\n",
       "        vertical-align: top;\n",
       "    }\n",
       "\n",
       "    .dataframe thead th {\n",
       "        text-align: right;\n",
       "    }\n",
       "</style>\n",
       "<table border=\"1\" class=\"dataframe\">\n",
       "  <thead>\n",
       "    <tr style=\"text-align: right;\">\n",
       "      <th></th>\n",
       "      <th>CoinName</th>\n",
       "    </tr>\n",
       "  </thead>\n",
       "  <tbody>\n",
       "    <tr>\n",
       "      <th>42</th>\n",
       "      <td>42 Coin</td>\n",
       "    </tr>\n",
       "    <tr>\n",
       "      <th>404</th>\n",
       "      <td>404Coin</td>\n",
       "    </tr>\n",
       "    <tr>\n",
       "      <th>1337</th>\n",
       "      <td>EliteCoin</td>\n",
       "    </tr>\n",
       "    <tr>\n",
       "      <th>BTC</th>\n",
       "      <td>Bitcoin</td>\n",
       "    </tr>\n",
       "    <tr>\n",
       "      <th>ETH</th>\n",
       "      <td>Ethereum</td>\n",
       "    </tr>\n",
       "  </tbody>\n",
       "</table>\n",
       "</div>"
      ],
      "text/plain": [
       "       CoinName\n",
       "42      42 Coin\n",
       "404     404Coin\n",
       "1337  EliteCoin\n",
       "BTC     Bitcoin\n",
       "ETH    Ethereum"
      ]
     },
     "execution_count": 310,
     "metadata": {},
     "output_type": "execute_result"
    }
   ],
   "source": [
    "# Create a new DataFrame that holds only the cryptocurrencies names.\n",
    "coin_names = crypto_df[['CoinName']]\n",
    "coin_names.head()"
   ]
  },
  {
   "cell_type": "code",
   "execution_count": 311,
   "metadata": {},
   "outputs": [
    {
     "data": {
      "text/html": [
       "<div>\n",
       "<style scoped>\n",
       "    .dataframe tbody tr th:only-of-type {\n",
       "        vertical-align: middle;\n",
       "    }\n",
       "\n",
       "    .dataframe tbody tr th {\n",
       "        vertical-align: top;\n",
       "    }\n",
       "\n",
       "    .dataframe thead th {\n",
       "        text-align: right;\n",
       "    }\n",
       "</style>\n",
       "<table border=\"1\" class=\"dataframe\">\n",
       "  <thead>\n",
       "    <tr style=\"text-align: right;\">\n",
       "      <th></th>\n",
       "      <th>Algorithm</th>\n",
       "      <th>ProofType</th>\n",
       "      <th>TotalCoinsMined</th>\n",
       "      <th>TotalCoinSupply</th>\n",
       "    </tr>\n",
       "  </thead>\n",
       "  <tbody>\n",
       "    <tr>\n",
       "      <th>42</th>\n",
       "      <td>Scrypt</td>\n",
       "      <td>PoW/PoS</td>\n",
       "      <td>4.199995e+01</td>\n",
       "      <td>42</td>\n",
       "    </tr>\n",
       "    <tr>\n",
       "      <th>404</th>\n",
       "      <td>Scrypt</td>\n",
       "      <td>PoW/PoS</td>\n",
       "      <td>1.055185e+09</td>\n",
       "      <td>532000000</td>\n",
       "    </tr>\n",
       "    <tr>\n",
       "      <th>1337</th>\n",
       "      <td>X13</td>\n",
       "      <td>PoW/PoS</td>\n",
       "      <td>2.927942e+10</td>\n",
       "      <td>314159265359</td>\n",
       "    </tr>\n",
       "    <tr>\n",
       "      <th>BTC</th>\n",
       "      <td>SHA-256</td>\n",
       "      <td>PoW</td>\n",
       "      <td>1.792718e+07</td>\n",
       "      <td>21000000</td>\n",
       "    </tr>\n",
       "    <tr>\n",
       "      <th>ETH</th>\n",
       "      <td>Ethash</td>\n",
       "      <td>PoW</td>\n",
       "      <td>1.076842e+08</td>\n",
       "      <td>0</td>\n",
       "    </tr>\n",
       "  </tbody>\n",
       "</table>\n",
       "</div>"
      ],
      "text/plain": [
       "     Algorithm ProofType  TotalCoinsMined TotalCoinSupply\n",
       "42      Scrypt   PoW/PoS     4.199995e+01              42\n",
       "404     Scrypt   PoW/PoS     1.055185e+09       532000000\n",
       "1337       X13   PoW/PoS     2.927942e+10    314159265359\n",
       "BTC    SHA-256       PoW     1.792718e+07        21000000\n",
       "ETH     Ethash       PoW     1.076842e+08               0"
      ]
     },
     "execution_count": 311,
     "metadata": {},
     "output_type": "execute_result"
    }
   ],
   "source": [
    "# Drop the 'CoinName' column since it's not going to be used on the clustering algorithm.\n",
    "crypto_df.drop(['CoinName'], axis=1, inplace=True)\n",
    "crypto_df.head()"
   ]
  },
  {
   "cell_type": "code",
   "execution_count": 312,
   "metadata": {},
   "outputs": [
    {
     "data": {
      "text/html": [
       "<div>\n",
       "<style scoped>\n",
       "    .dataframe tbody tr th:only-of-type {\n",
       "        vertical-align: middle;\n",
       "    }\n",
       "\n",
       "    .dataframe tbody tr th {\n",
       "        vertical-align: top;\n",
       "    }\n",
       "\n",
       "    .dataframe thead th {\n",
       "        text-align: right;\n",
       "    }\n",
       "</style>\n",
       "<table border=\"1\" class=\"dataframe\">\n",
       "  <thead>\n",
       "    <tr style=\"text-align: right;\">\n",
       "      <th></th>\n",
       "      <th>TotalCoinsMined</th>\n",
       "      <th>TotalCoinSupply</th>\n",
       "      <th>Algorithm_1GB AES Pattern Search</th>\n",
       "      <th>Algorithm_536</th>\n",
       "      <th>Algorithm_Argon2d</th>\n",
       "      <th>Algorithm_BLAKE256</th>\n",
       "      <th>Algorithm_Blake</th>\n",
       "      <th>Algorithm_Blake2S</th>\n",
       "      <th>Algorithm_Blake2b</th>\n",
       "      <th>Algorithm_C11</th>\n",
       "      <th>...</th>\n",
       "      <th>ProofType_PoW/PoS</th>\n",
       "      <th>ProofType_PoW/PoS</th>\n",
       "      <th>ProofType_PoW/PoW</th>\n",
       "      <th>ProofType_PoW/nPoS</th>\n",
       "      <th>ProofType_Pos</th>\n",
       "      <th>ProofType_Proof of Authority</th>\n",
       "      <th>ProofType_Proof of Trust</th>\n",
       "      <th>ProofType_TPoS</th>\n",
       "      <th>ProofType_Zero-Knowledge Proof</th>\n",
       "      <th>ProofType_dPoW/PoW</th>\n",
       "    </tr>\n",
       "  </thead>\n",
       "  <tbody>\n",
       "    <tr>\n",
       "      <th>42</th>\n",
       "      <td>4.199995e+01</td>\n",
       "      <td>42</td>\n",
       "      <td>0</td>\n",
       "      <td>0</td>\n",
       "      <td>0</td>\n",
       "      <td>0</td>\n",
       "      <td>0</td>\n",
       "      <td>0</td>\n",
       "      <td>0</td>\n",
       "      <td>0</td>\n",
       "      <td>...</td>\n",
       "      <td>1</td>\n",
       "      <td>0</td>\n",
       "      <td>0</td>\n",
       "      <td>0</td>\n",
       "      <td>0</td>\n",
       "      <td>0</td>\n",
       "      <td>0</td>\n",
       "      <td>0</td>\n",
       "      <td>0</td>\n",
       "      <td>0</td>\n",
       "    </tr>\n",
       "    <tr>\n",
       "      <th>404</th>\n",
       "      <td>1.055185e+09</td>\n",
       "      <td>532000000</td>\n",
       "      <td>0</td>\n",
       "      <td>0</td>\n",
       "      <td>0</td>\n",
       "      <td>0</td>\n",
       "      <td>0</td>\n",
       "      <td>0</td>\n",
       "      <td>0</td>\n",
       "      <td>0</td>\n",
       "      <td>...</td>\n",
       "      <td>1</td>\n",
       "      <td>0</td>\n",
       "      <td>0</td>\n",
       "      <td>0</td>\n",
       "      <td>0</td>\n",
       "      <td>0</td>\n",
       "      <td>0</td>\n",
       "      <td>0</td>\n",
       "      <td>0</td>\n",
       "      <td>0</td>\n",
       "    </tr>\n",
       "    <tr>\n",
       "      <th>1337</th>\n",
       "      <td>2.927942e+10</td>\n",
       "      <td>314159265359</td>\n",
       "      <td>0</td>\n",
       "      <td>0</td>\n",
       "      <td>0</td>\n",
       "      <td>0</td>\n",
       "      <td>0</td>\n",
       "      <td>0</td>\n",
       "      <td>0</td>\n",
       "      <td>0</td>\n",
       "      <td>...</td>\n",
       "      <td>1</td>\n",
       "      <td>0</td>\n",
       "      <td>0</td>\n",
       "      <td>0</td>\n",
       "      <td>0</td>\n",
       "      <td>0</td>\n",
       "      <td>0</td>\n",
       "      <td>0</td>\n",
       "      <td>0</td>\n",
       "      <td>0</td>\n",
       "    </tr>\n",
       "    <tr>\n",
       "      <th>BTC</th>\n",
       "      <td>1.792718e+07</td>\n",
       "      <td>21000000</td>\n",
       "      <td>0</td>\n",
       "      <td>0</td>\n",
       "      <td>0</td>\n",
       "      <td>0</td>\n",
       "      <td>0</td>\n",
       "      <td>0</td>\n",
       "      <td>0</td>\n",
       "      <td>0</td>\n",
       "      <td>...</td>\n",
       "      <td>0</td>\n",
       "      <td>0</td>\n",
       "      <td>0</td>\n",
       "      <td>0</td>\n",
       "      <td>0</td>\n",
       "      <td>0</td>\n",
       "      <td>0</td>\n",
       "      <td>0</td>\n",
       "      <td>0</td>\n",
       "      <td>0</td>\n",
       "    </tr>\n",
       "    <tr>\n",
       "      <th>ETH</th>\n",
       "      <td>1.076842e+08</td>\n",
       "      <td>0</td>\n",
       "      <td>0</td>\n",
       "      <td>0</td>\n",
       "      <td>0</td>\n",
       "      <td>0</td>\n",
       "      <td>0</td>\n",
       "      <td>0</td>\n",
       "      <td>0</td>\n",
       "      <td>0</td>\n",
       "      <td>...</td>\n",
       "      <td>0</td>\n",
       "      <td>0</td>\n",
       "      <td>0</td>\n",
       "      <td>0</td>\n",
       "      <td>0</td>\n",
       "      <td>0</td>\n",
       "      <td>0</td>\n",
       "      <td>0</td>\n",
       "      <td>0</td>\n",
       "      <td>0</td>\n",
       "    </tr>\n",
       "  </tbody>\n",
       "</table>\n",
       "<p>5 rows × 98 columns</p>\n",
       "</div>"
      ],
      "text/plain": [
       "      TotalCoinsMined TotalCoinSupply  Algorithm_1GB AES Pattern Search  \\\n",
       "42       4.199995e+01              42                                 0   \n",
       "404      1.055185e+09       532000000                                 0   \n",
       "1337     2.927942e+10    314159265359                                 0   \n",
       "BTC      1.792718e+07        21000000                                 0   \n",
       "ETH      1.076842e+08               0                                 0   \n",
       "\n",
       "      Algorithm_536  Algorithm_Argon2d  Algorithm_BLAKE256  Algorithm_Blake  \\\n",
       "42                0                  0                   0                0   \n",
       "404               0                  0                   0                0   \n",
       "1337              0                  0                   0                0   \n",
       "BTC               0                  0                   0                0   \n",
       "ETH               0                  0                   0                0   \n",
       "\n",
       "      Algorithm_Blake2S  Algorithm_Blake2b  Algorithm_C11  ...  \\\n",
       "42                    0                  0              0  ...   \n",
       "404                   0                  0              0  ...   \n",
       "1337                  0                  0              0  ...   \n",
       "BTC                   0                  0              0  ...   \n",
       "ETH                   0                  0              0  ...   \n",
       "\n",
       "      ProofType_PoW/PoS  ProofType_PoW/PoS   ProofType_PoW/PoW  \\\n",
       "42                    1                   0                  0   \n",
       "404                   1                   0                  0   \n",
       "1337                  1                   0                  0   \n",
       "BTC                   0                   0                  0   \n",
       "ETH                   0                   0                  0   \n",
       "\n",
       "      ProofType_PoW/nPoS  ProofType_Pos  ProofType_Proof of Authority  \\\n",
       "42                     0              0                             0   \n",
       "404                    0              0                             0   \n",
       "1337                   0              0                             0   \n",
       "BTC                    0              0                             0   \n",
       "ETH                    0              0                             0   \n",
       "\n",
       "      ProofType_Proof of Trust  ProofType_TPoS  \\\n",
       "42                           0               0   \n",
       "404                          0               0   \n",
       "1337                         0               0   \n",
       "BTC                          0               0   \n",
       "ETH                          0               0   \n",
       "\n",
       "      ProofType_Zero-Knowledge Proof  ProofType_dPoW/PoW  \n",
       "42                                 0                   0  \n",
       "404                                0                   0  \n",
       "1337                               0                   0  \n",
       "BTC                                0                   0  \n",
       "ETH                                0                   0  \n",
       "\n",
       "[5 rows x 98 columns]"
      ]
     },
     "execution_count": 312,
     "metadata": {},
     "output_type": "execute_result"
    }
   ],
   "source": [
    "# Use get_dummies() to create variables for text features.\n",
    "X = pd.get_dummies(crypto_df, columns=['Algorithm', 'ProofType'])\n",
    "X.head()"
   ]
  },
  {
   "cell_type": "code",
   "execution_count": 313,
   "metadata": {},
   "outputs": [
    {
     "name": "stdout",
     "output_type": "stream",
     "text": [
      "[[-0.11710817 -0.1528703  -0.0433963  -0.0433963  -0.0433963  -0.06142951\n",
      "  -0.07530656 -0.0433963  -0.06142951 -0.06142951 -0.0433963  -0.0433963\n",
      "  -0.19245009 -0.06142951 -0.09740465 -0.0433963  -0.11547005 -0.07530656\n",
      "  -0.0433963  -0.0433963  -0.15191091 -0.0433963  -0.13118084 -0.0433963\n",
      "  -0.0433963  -0.08703883 -0.0433963  -0.0433963  -0.0433963  -0.0433963\n",
      "  -0.06142951 -0.0433963  -0.08703883 -0.08703883 -0.08703883 -0.0433963\n",
      "  -0.13118084 -0.13840913 -0.13840913 -0.0433963  -0.06142951 -0.0433963\n",
      "  -0.07530656 -0.18168574 -0.0433963  -0.0433963  -0.0433963  -0.07530656\n",
      "  -0.15826614 -0.31491833 -0.0433963  -0.08703883 -0.07530656 -0.06142951\n",
      "   1.38675049 -0.0433963  -0.0433963  -0.06142951 -0.0433963  -0.0433963\n",
      "  -0.0433963  -0.0433963  -0.0433963  -0.0433963  -0.0433963  -0.0433963\n",
      "  -0.39879994 -0.0433963  -0.18168574 -0.0433963  -0.08703883 -0.08703883\n",
      "  -0.10680283 -0.0433963  -0.13118084 -0.0433963  -0.0433963  -0.0433963\n",
      "  -0.0433963  -0.07530656 -0.43911856 -0.0433963  -0.06142951 -0.0433963\n",
      "  -0.0433963  -0.89632016 -0.0433963  -0.0433963   1.42222617 -0.0433963\n",
      "  -0.0433963  -0.0433963  -0.0433963  -0.0433963  -0.0433963  -0.0433963\n",
      "  -0.0433963  -0.0433963 ]\n",
      " [-0.09396955 -0.145009   -0.0433963  -0.0433963  -0.0433963  -0.06142951\n",
      "  -0.07530656 -0.0433963  -0.06142951 -0.06142951 -0.0433963  -0.0433963\n",
      "  -0.19245009 -0.06142951 -0.09740465 -0.0433963  -0.11547005 -0.07530656\n",
      "  -0.0433963  -0.0433963  -0.15191091 -0.0433963  -0.13118084 -0.0433963\n",
      "  -0.0433963  -0.08703883 -0.0433963  -0.0433963  -0.0433963  -0.0433963\n",
      "  -0.06142951 -0.0433963  -0.08703883 -0.08703883 -0.08703883 -0.0433963\n",
      "  -0.13118084 -0.13840913 -0.13840913 -0.0433963  -0.06142951 -0.0433963\n",
      "  -0.07530656 -0.18168574 -0.0433963  -0.0433963  -0.0433963  -0.07530656\n",
      "  -0.15826614 -0.31491833 -0.0433963  -0.08703883 -0.07530656 -0.06142951\n",
      "   1.38675049 -0.0433963  -0.0433963  -0.06142951 -0.0433963  -0.0433963\n",
      "  -0.0433963  -0.0433963  -0.0433963  -0.0433963  -0.0433963  -0.0433963\n",
      "  -0.39879994 -0.0433963  -0.18168574 -0.0433963  -0.08703883 -0.08703883\n",
      "  -0.10680283 -0.0433963  -0.13118084 -0.0433963  -0.0433963  -0.0433963\n",
      "  -0.0433963  -0.07530656 -0.43911856 -0.0433963  -0.06142951 -0.0433963\n",
      "  -0.0433963  -0.89632016 -0.0433963  -0.0433963   1.42222617 -0.0433963\n",
      "  -0.0433963  -0.0433963  -0.0433963  -0.0433963  -0.0433963  -0.0433963\n",
      "  -0.0433963  -0.0433963 ]\n",
      " [ 0.52494561  4.48942416 -0.0433963  -0.0433963  -0.0433963  -0.06142951\n",
      "  -0.07530656 -0.0433963  -0.06142951 -0.06142951 -0.0433963  -0.0433963\n",
      "  -0.19245009 -0.06142951 -0.09740465 -0.0433963  -0.11547005 -0.07530656\n",
      "  -0.0433963  -0.0433963  -0.15191091 -0.0433963  -0.13118084 -0.0433963\n",
      "  -0.0433963  -0.08703883 -0.0433963  -0.0433963  -0.0433963  -0.0433963\n",
      "  -0.06142951 -0.0433963  -0.08703883 -0.08703883 -0.08703883 -0.0433963\n",
      "  -0.13118084 -0.13840913 -0.13840913 -0.0433963  -0.06142951 -0.0433963\n",
      "  -0.07530656 -0.18168574 -0.0433963  -0.0433963  -0.0433963  -0.07530656\n",
      "  -0.15826614 -0.31491833 -0.0433963  -0.08703883 -0.07530656 -0.06142951\n",
      "  -0.72111026 -0.0433963  -0.0433963  -0.06142951 -0.0433963  -0.0433963\n",
      "  -0.0433963  -0.0433963  -0.0433963  -0.0433963  -0.0433963  -0.0433963\n",
      "  -0.39879994 -0.0433963   5.50400923 -0.0433963  -0.08703883 -0.08703883\n",
      "  -0.10680283 -0.0433963  -0.13118084 -0.0433963  -0.0433963  -0.0433963\n",
      "  -0.0433963  -0.07530656 -0.43911856 -0.0433963  -0.06142951 -0.0433963\n",
      "  -0.0433963  -0.89632016 -0.0433963  -0.0433963   1.42222617 -0.0433963\n",
      "  -0.0433963  -0.0433963  -0.0433963  -0.0433963  -0.0433963  -0.0433963\n",
      "  -0.0433963  -0.0433963 ]\n",
      " [-0.11671506 -0.15255998 -0.0433963  -0.0433963  -0.0433963  -0.06142951\n",
      "  -0.07530656 -0.0433963  -0.06142951 -0.06142951 -0.0433963  -0.0433963\n",
      "  -0.19245009 -0.06142951 -0.09740465 -0.0433963  -0.11547005 -0.07530656\n",
      "  -0.0433963  -0.0433963  -0.15191091 -0.0433963  -0.13118084 -0.0433963\n",
      "  -0.0433963  -0.08703883 -0.0433963  -0.0433963  -0.0433963  -0.0433963\n",
      "  -0.06142951 -0.0433963  -0.08703883 -0.08703883 -0.08703883 -0.0433963\n",
      "  -0.13118084 -0.13840913 -0.13840913 -0.0433963  -0.06142951 -0.0433963\n",
      "  -0.07530656 -0.18168574 -0.0433963  -0.0433963  -0.0433963  -0.07530656\n",
      "  -0.15826614  3.17542648 -0.0433963  -0.08703883 -0.07530656 -0.06142951\n",
      "  -0.72111026 -0.0433963  -0.0433963  -0.06142951 -0.0433963  -0.0433963\n",
      "  -0.0433963  -0.0433963  -0.0433963  -0.0433963  -0.0433963  -0.0433963\n",
      "  -0.39879994 -0.0433963  -0.18168574 -0.0433963  -0.08703883 -0.08703883\n",
      "  -0.10680283 -0.0433963  -0.13118084 -0.0433963  -0.0433963  -0.0433963\n",
      "  -0.0433963  -0.07530656 -0.43911856 -0.0433963  -0.06142951 -0.0433963\n",
      "  -0.0433963   1.11567277 -0.0433963  -0.0433963  -0.70312305 -0.0433963\n",
      "  -0.0433963  -0.0433963  -0.0433963  -0.0433963  -0.0433963  -0.0433963\n",
      "  -0.0433963  -0.0433963 ]\n",
      " [-0.11474682 -0.1528703  -0.0433963  -0.0433963  -0.0433963  -0.06142951\n",
      "  -0.07530656 -0.0433963  -0.06142951 -0.06142951 -0.0433963  -0.0433963\n",
      "  -0.19245009 -0.06142951 -0.09740465 -0.0433963  -0.11547005 -0.07530656\n",
      "  -0.0433963  -0.0433963  -0.15191091 -0.0433963   7.62306442 -0.0433963\n",
      "  -0.0433963  -0.08703883 -0.0433963  -0.0433963  -0.0433963  -0.0433963\n",
      "  -0.06142951 -0.0433963  -0.08703883 -0.08703883 -0.08703883 -0.0433963\n",
      "  -0.13118084 -0.13840913 -0.13840913 -0.0433963  -0.06142951 -0.0433963\n",
      "  -0.07530656 -0.18168574 -0.0433963  -0.0433963  -0.0433963  -0.07530656\n",
      "  -0.15826614 -0.31491833 -0.0433963  -0.08703883 -0.07530656 -0.06142951\n",
      "  -0.72111026 -0.0433963  -0.0433963  -0.06142951 -0.0433963  -0.0433963\n",
      "  -0.0433963  -0.0433963  -0.0433963  -0.0433963  -0.0433963  -0.0433963\n",
      "  -0.39879994 -0.0433963  -0.18168574 -0.0433963  -0.08703883 -0.08703883\n",
      "  -0.10680283 -0.0433963  -0.13118084 -0.0433963  -0.0433963  -0.0433963\n",
      "  -0.0433963  -0.07530656 -0.43911856 -0.0433963  -0.06142951 -0.0433963\n",
      "  -0.0433963   1.11567277 -0.0433963  -0.0433963  -0.70312305 -0.0433963\n",
      "  -0.0433963  -0.0433963  -0.0433963  -0.0433963  -0.0433963  -0.0433963\n",
      "  -0.0433963  -0.0433963 ]]\n"
     ]
    }
   ],
   "source": [
    "# Standardize the data with StandardScaler().\n",
    "X_scaled = StandardScaler().fit_transform(X)\n",
    "print(X_scaled[0:5])"
   ]
  },
  {
   "cell_type": "markdown",
   "metadata": {},
   "source": [
    "### Deliverable 2: Reducing Data Dimensions Using PCA"
   ]
  },
  {
   "cell_type": "code",
   "execution_count": 314,
   "metadata": {},
   "outputs": [
    {
     "data": {
      "text/plain": [
       "array([[-0.35120734,  0.96941878, -0.52267491],\n",
       "       [-0.33449238,  0.96977443, -0.52309529],\n",
       "       [ 2.30856427,  1.68091692, -0.69996008],\n",
       "       ...,\n",
       "       [ 0.33791595, -2.23279214,  0.36282444],\n",
       "       [-0.18330188, -2.22993944,  0.43847127],\n",
       "       [-0.28463453,  0.89074521, -0.2476224 ]])"
      ]
     },
     "execution_count": 314,
     "metadata": {},
     "output_type": "execute_result"
    }
   ],
   "source": [
    "# Using PCA to reduce dimension to three principal components.\n",
    "pca = PCA(n_components=3)\n",
    "X_pca = pca.fit_transform(X_scaled)\n",
    "X_pca"
   ]
  },
  {
   "cell_type": "code",
   "execution_count": 315,
   "metadata": {},
   "outputs": [],
   "source": [
    "index_values = (X.index.tolist())"
   ]
  },
  {
   "cell_type": "code",
   "execution_count": 316,
   "metadata": {},
   "outputs": [
    {
     "data": {
      "text/html": [
       "<div>\n",
       "<style scoped>\n",
       "    .dataframe tbody tr th:only-of-type {\n",
       "        vertical-align: middle;\n",
       "    }\n",
       "\n",
       "    .dataframe tbody tr th {\n",
       "        vertical-align: top;\n",
       "    }\n",
       "\n",
       "    .dataframe thead th {\n",
       "        text-align: right;\n",
       "    }\n",
       "</style>\n",
       "<table border=\"1\" class=\"dataframe\">\n",
       "  <thead>\n",
       "    <tr style=\"text-align: right;\">\n",
       "      <th></th>\n",
       "      <th>PC 1</th>\n",
       "      <th>PC 2</th>\n",
       "      <th>PC 3</th>\n",
       "    </tr>\n",
       "  </thead>\n",
       "  <tbody>\n",
       "    <tr>\n",
       "      <th>42</th>\n",
       "      <td>-0.351207</td>\n",
       "      <td>0.969419</td>\n",
       "      <td>-0.522675</td>\n",
       "    </tr>\n",
       "    <tr>\n",
       "      <th>404</th>\n",
       "      <td>-0.334492</td>\n",
       "      <td>0.969774</td>\n",
       "      <td>-0.523095</td>\n",
       "    </tr>\n",
       "    <tr>\n",
       "      <th>1337</th>\n",
       "      <td>2.308564</td>\n",
       "      <td>1.680917</td>\n",
       "      <td>-0.699960</td>\n",
       "    </tr>\n",
       "    <tr>\n",
       "      <th>BTC</th>\n",
       "      <td>-0.137076</td>\n",
       "      <td>-1.325500</td>\n",
       "      <td>0.164227</td>\n",
       "    </tr>\n",
       "    <tr>\n",
       "      <th>ETH</th>\n",
       "      <td>-0.135514</td>\n",
       "      <td>-2.025334</td>\n",
       "      <td>0.375027</td>\n",
       "    </tr>\n",
       "  </tbody>\n",
       "</table>\n",
       "</div>"
      ],
      "text/plain": [
       "          PC 1      PC 2      PC 3\n",
       "42   -0.351207  0.969419 -0.522675\n",
       "404  -0.334492  0.969774 -0.523095\n",
       "1337  2.308564  1.680917 -0.699960\n",
       "BTC  -0.137076 -1.325500  0.164227\n",
       "ETH  -0.135514 -2.025334  0.375027"
      ]
     },
     "execution_count": 316,
     "metadata": {},
     "output_type": "execute_result"
    }
   ],
   "source": [
    "# Create a DataFrame with the three principal components.\n",
    "pcs_df = pd.DataFrame(\n",
    "    X_pca, columns=['PC 1', 'PC 2', 'PC 3'], index=index_values)\n",
    "pcs_df.head()"
   ]
  },
  {
   "cell_type": "markdown",
   "metadata": {},
   "source": [
    "### Deliverable 3: Clustering Crytocurrencies Using K-Means\n",
    "\n",
    "#### Finding the Best Value for `k` Using the Elbow Curve"
   ]
  },
  {
   "cell_type": "code",
   "execution_count": 317,
   "metadata": {},
   "outputs": [
    {
     "name": "stderr",
     "output_type": "stream",
     "text": [
      "C:\\Users\\Ryan\\anaconda3\\envs\\mlenv\\lib\\site-packages\\sklearn\\cluster\\_kmeans.py:1037: UserWarning:\n",
      "\n",
      "KMeans is known to have a memory leak on Windows with MKL, when there are less chunks than available threads. You can avoid it by setting the environment variable OMP_NUM_THREADS=3.\n",
      "\n"
     ]
    },
    {
     "data": {},
     "metadata": {},
     "output_type": "display_data"
    },
    {
     "data": {
      "application/vnd.holoviews_exec.v0+json": "",
      "text/html": [
       "<div id='2214'>\n",
       "\n",
       "\n",
       "\n",
       "\n",
       "\n",
       "  <div class=\"bk-root\" id=\"634f3f23-cfa0-4f57-a52f-b8bda4437e68\" data-root-id=\"2214\"></div>\n",
       "</div>\n",
       "<script type=\"application/javascript\">(function(root) {\n",
       "  function embed_document(root) {\n",
       "    var docs_json = {\"06f27a42-cc32-4d55-8bf2-5048bae996a0\":{\"defs\":[{\"extends\":null,\"module\":null,\"name\":\"ReactiveHTML1\",\"overrides\":[],\"properties\":[]},{\"extends\":null,\"module\":null,\"name\":\"FlexBox1\",\"overrides\":[],\"properties\":[{\"default\":\"flex-start\",\"kind\":null,\"name\":\"align_content\"},{\"default\":\"flex-start\",\"kind\":null,\"name\":\"align_items\"},{\"default\":\"row\",\"kind\":null,\"name\":\"flex_direction\"},{\"default\":\"wrap\",\"kind\":null,\"name\":\"flex_wrap\"},{\"default\":\"flex-start\",\"kind\":null,\"name\":\"justify_content\"}]},{\"extends\":null,\"module\":null,\"name\":\"TemplateActions1\",\"overrides\":[],\"properties\":[{\"default\":0,\"kind\":null,\"name\":\"open_modal\"},{\"default\":0,\"kind\":null,\"name\":\"close_modal\"}]},{\"extends\":null,\"module\":null,\"name\":\"MaterialTemplateActions1\",\"overrides\":[],\"properties\":[{\"default\":0,\"kind\":null,\"name\":\"open_modal\"},{\"default\":0,\"kind\":null,\"name\":\"close_modal\"}]}],\"roots\":{\"references\":[{\"attributes\":{},\"id\":\"2238\",\"type\":\"WheelZoomTool\"},{\"attributes\":{\"margin\":[5,5,5,5],\"name\":\"HSpacer03696\",\"sizing_mode\":\"stretch_width\"},\"id\":\"2285\",\"type\":\"Spacer\"},{\"attributes\":{},\"id\":\"2240\",\"type\":\"ResetTool\"},{\"attributes\":{\"overlay\":{\"id\":\"2241\"}},\"id\":\"2239\",\"type\":\"BoxZoomTool\"},{\"attributes\":{\"coordinates\":null,\"group\":null,\"text\":\"Elbow Curve\",\"text_color\":\"black\",\"text_font_size\":\"12pt\"},\"id\":\"2220\",\"type\":\"Title\"},{\"attributes\":{},\"id\":\"2224\",\"type\":\"LinearScale\"},{\"attributes\":{\"axis\":{\"id\":\"2228\"},\"coordinates\":null,\"grid_line_color\":null,\"group\":null,\"ticker\":null},\"id\":\"2231\",\"type\":\"Grid\"},{\"attributes\":{},\"id\":\"2237\",\"type\":\"PanTool\"},{\"attributes\":{\"bottom_units\":\"screen\",\"coordinates\":null,\"fill_alpha\":0.5,\"fill_color\":\"lightgrey\",\"group\":null,\"left_units\":\"screen\",\"level\":\"overlay\",\"line_alpha\":1.0,\"line_color\":\"black\",\"line_dash\":[4,4],\"line_width\":2,\"right_units\":\"screen\",\"syncable\":false,\"top_units\":\"screen\"},\"id\":\"2241\",\"type\":\"BoxAnnotation\"},{\"attributes\":{},\"id\":\"2226\",\"type\":\"LinearScale\"},{\"attributes\":{\"callback\":null,\"renderers\":[{\"id\":\"2255\"}],\"tags\":[\"hv_created\"],\"tooltips\":[[\"k\",\"@{k}\"],[\"inertia\",\"@{inertia}\"]]},\"id\":\"2218\",\"type\":\"HoverTool\"},{\"attributes\":{},\"id\":\"2260\",\"type\":\"BasicTickFormatter\"},{\"attributes\":{},\"id\":\"2261\",\"type\":\"AllLabels\"},{\"attributes\":{\"axis_label\":\"inertia\",\"coordinates\":null,\"formatter\":{\"id\":\"2265\"},\"group\":null,\"major_label_policy\":{\"id\":\"2266\"},\"ticker\":{\"id\":\"2233\"}},\"id\":\"2232\",\"type\":\"LinearAxis\"},{\"attributes\":{\"end\":10.0,\"reset_end\":10.0,\"reset_start\":1.0,\"start\":1.0,\"tags\":[[[\"k\",\"k\",null]]]},\"id\":\"2216\",\"type\":\"Range1d\"},{\"attributes\":{\"axis_label\":\"k\",\"coordinates\":null,\"formatter\":{\"id\":\"2260\"},\"group\":null,\"major_label_policy\":{\"id\":\"2261\"},\"ticker\":{\"id\":\"2258\"}},\"id\":\"2228\",\"type\":\"LinearAxis\"},{\"attributes\":{\"data\":{\"inertia\":{\"__ndarray__\":\"CLFb/kdurEC723FqUEqjQLRYKdVPOJdASyIaqLsHgECkzHsEJwV0QF/lgpPhInBA3O6jrzVha0ATbT5EgvhkQA5mwmPin2BAAAcZ7ospWUA=\",\"dtype\":\"float64\",\"order\":\"little\",\"shape\":[10]},\"k\":[1,2,3,4,5,6,7,8,9,10]},\"selected\":{\"id\":\"2250\"},\"selection_policy\":{\"id\":\"2273\"}},\"id\":\"2249\",\"type\":\"ColumnDataSource\"},{\"attributes\":{},\"id\":\"2266\",\"type\":\"AllLabels\"},{\"attributes\":{\"line_alpha\":0.2,\"line_color\":\"#30a2da\",\"line_width\":2,\"x\":{\"field\":\"k\"},\"y\":{\"field\":\"inertia\"}},\"id\":\"2254\",\"type\":\"Line\"},{\"attributes\":{\"below\":[{\"id\":\"2228\"}],\"center\":[{\"id\":\"2231\"},{\"id\":\"2235\"}],\"height\":300,\"left\":[{\"id\":\"2232\"}],\"margin\":[5,5,5,5],\"min_border_bottom\":10,\"min_border_left\":10,\"min_border_right\":10,\"min_border_top\":10,\"renderers\":[{\"id\":\"2255\"}],\"sizing_mode\":\"fixed\",\"title\":{\"id\":\"2220\"},\"toolbar\":{\"id\":\"2242\"},\"width\":700,\"x_range\":{\"id\":\"2216\"},\"x_scale\":{\"id\":\"2224\"},\"y_range\":{\"id\":\"2217\"},\"y_scale\":{\"id\":\"2226\"}},\"id\":\"2219\",\"subtype\":\"Figure\",\"type\":\"Plot\"},{\"attributes\":{\"axis\":{\"id\":\"2232\"},\"coordinates\":null,\"dimension\":1,\"grid_line_color\":null,\"group\":null,\"ticker\":null},\"id\":\"2235\",\"type\":\"Grid\"},{\"attributes\":{\"coordinates\":null,\"data_source\":{\"id\":\"2249\"},\"glyph\":{\"id\":\"2252\"},\"group\":null,\"hover_glyph\":null,\"muted_glyph\":{\"id\":\"2254\"},\"nonselection_glyph\":{\"id\":\"2253\"},\"selection_glyph\":{\"id\":\"2257\"},\"view\":{\"id\":\"2256\"}},\"id\":\"2255\",\"type\":\"GlyphRenderer\"},{\"attributes\":{\"tools\":[{\"id\":\"2218\"},{\"id\":\"2236\"},{\"id\":\"2237\"},{\"id\":\"2238\"},{\"id\":\"2239\"},{\"id\":\"2240\"}]},\"id\":\"2242\",\"type\":\"Toolbar\"},{\"attributes\":{\"line_alpha\":0.1,\"line_color\":\"#30a2da\",\"line_width\":2,\"x\":{\"field\":\"k\"},\"y\":{\"field\":\"inertia\"}},\"id\":\"2253\",\"type\":\"Line\"},{\"attributes\":{\"end\":3992.9897571558495,\"reset_end\":3992.9897571558495,\"reset_start\":-253.19997902836917,\"start\":-253.19997902836917,\"tags\":[[[\"inertia\",\"inertia\",null]]]},\"id\":\"2217\",\"type\":\"Range1d\"},{\"attributes\":{\"line_color\":\"#30a2da\",\"line_width\":2,\"x\":{\"field\":\"k\"},\"y\":{\"field\":\"inertia\"}},\"id\":\"2257\",\"type\":\"Line\"},{\"attributes\":{\"source\":{\"id\":\"2249\"}},\"id\":\"2256\",\"type\":\"CDSView\"},{\"attributes\":{},\"id\":\"2250\",\"type\":\"Selection\"},{\"attributes\":{\"margin\":[5,5,5,5],\"name\":\"HSpacer03695\",\"sizing_mode\":\"stretch_width\"},\"id\":\"2215\",\"type\":\"Spacer\"},{\"attributes\":{\"children\":[{\"id\":\"2215\"},{\"id\":\"2219\"},{\"id\":\"2285\"}],\"margin\":[0,0,0,0],\"name\":\"Row03691\",\"tags\":[\"embedded\"]},\"id\":\"2214\",\"type\":\"Row\"},{\"attributes\":{},\"id\":\"2233\",\"type\":\"BasicTicker\"},{\"attributes\":{},\"id\":\"2265\",\"type\":\"BasicTickFormatter\"},{\"attributes\":{},\"id\":\"2236\",\"type\":\"SaveTool\"},{\"attributes\":{},\"id\":\"2273\",\"type\":\"UnionRenderers\"},{\"attributes\":{\"line_color\":\"#30a2da\",\"line_width\":2,\"x\":{\"field\":\"k\"},\"y\":{\"field\":\"inertia\"}},\"id\":\"2252\",\"type\":\"Line\"},{\"attributes\":{\"ticks\":[1,2,3,4,5,6,7,8,9,10]},\"id\":\"2258\",\"type\":\"FixedTicker\"}],\"root_ids\":[\"2214\"]},\"title\":\"Bokeh Application\",\"version\":\"2.4.2\"}};\n",
       "    var render_items = [{\"docid\":\"06f27a42-cc32-4d55-8bf2-5048bae996a0\",\"root_ids\":[\"2214\"],\"roots\":{\"2214\":\"634f3f23-cfa0-4f57-a52f-b8bda4437e68\"}}];\n",
       "    root.Bokeh.embed.embed_items_notebook(docs_json, render_items);\n",
       "  }\n",
       "  if (root.Bokeh !== undefined && root.Bokeh.Panel !== undefined) {\n",
       "    embed_document(root);\n",
       "  } else {\n",
       "    var attempts = 0;\n",
       "    var timer = setInterval(function(root) {\n",
       "      if (root.Bokeh !== undefined && root.Bokeh.Panel !== undefined) {\n",
       "        clearInterval(timer);\n",
       "        embed_document(root);\n",
       "      } else if (document.readyState == \"complete\") {\n",
       "        attempts++;\n",
       "        if (attempts > 200) {\n",
       "          clearInterval(timer);\n",
       "          console.log(\"Bokeh: ERROR: Unable to run BokehJS code because BokehJS library is missing\");\n",
       "        }\n",
       "      }\n",
       "    }, 25, root)\n",
       "  }\n",
       "})(window);</script>"
      ],
      "text/plain": [
       ":Curve   [k]   (inertia)"
      ]
     },
     "execution_count": 317,
     "metadata": {
      "application/vnd.holoviews_exec.v0+json": {
       "id": "2214"
      }
     },
     "output_type": "execute_result"
    }
   ],
   "source": [
    "# Create an elbow curve to find the best value for K.\n",
    "inertia =[]\n",
    "k = list(range(1,11))\n",
    "\n",
    "# Calculate the inertia for the range of K values\n",
    "for i in k:\n",
    "    km = KMeans(n_clusters=i, random_state=0)\n",
    "    km.fit(pcs_df)\n",
    "    inertia.append(km.inertia_)\n",
    "    \n",
    "elbow_data = {\"k\": k, \"inertia\": inertia}\n",
    "df_elbow = pd.DataFrame(elbow_data)\n",
    "df_elbow.hvplot.line(x=\"k\", y=\"inertia\", title=\"Elbow Curve\", xticks=k)"
   ]
  },
  {
   "cell_type": "markdown",
   "metadata": {},
   "source": [
    "Running K-Means with `k=4`"
   ]
  },
  {
   "cell_type": "code",
   "execution_count": 318,
   "metadata": {},
   "outputs": [
    {
     "name": "stdout",
     "output_type": "stream",
     "text": [
      "[0 0 0 3 3 3 0 3 3 3 0 3 0 0 3 0 3 3 0 0 3 3 3 3 3 0 3 3 3 0 3 0 3 3 0 0 3\n",
      " 3 3 3 3 3 0 0 3 3 3 3 3 0 0 3 0 3 3 3 3 0 3 3 0 3 0 0 0 3 3 3 0 0 0 0 0 3\n",
      " 3 3 0 0 3 0 3 0 0 3 3 3 3 0 0 3 0 3 3 0 0 3 0 0 3 3 0 0 3 0 0 3 0 3 0 3 0\n",
      " 3 0 0 3 3 0 3 3 3 0 3 3 3 3 3 0 0 3 3 3 0 3 0 3 3 0 3 0 3 0 0 3 3 0 3 3 0\n",
      " 0 3 0 3 0 0 0 3 3 3 3 0 0 0 0 0 3 3 0 0 0 0 0 3 0 0 0 0 0 3 0 3 0 0 3 0 3\n",
      " 0 0 3 0 3 0 3 0 3 0 0 0 0 3 0 0 0 0 0 3 3 0 0 3 3 0 0 0 0 0 3 0 0 0 0 0 0\n",
      " 0 0 3 0 0 0 0 0 0 3 3 3 0 0 0 0 3 0 3 0 0 3 0 3 3 0 3 3 0 3 0 0 0 3 0 0 3\n",
      " 0 0 0 0 0 0 0 3 0 3 0 0 0 0 3 0 3 0 3 3 3 3 0 3 0 0 3 0 3 3 3 0 3 0 3 3 3\n",
      " 0 3 0 3 0 0 0 3 0 3 3 3 3 3 0 0 3 0 0 0 3 0 3 0 3 0 3 0 0 0 0 3 0 0 3 0 0\n",
      " 0 3 3 3 3 0 0 0 0 3 0 3 3 3 0 0 3 3 0 0 3 0 3 3 3 0 3 3 0 0 0 3 3 3 0 0 0\n",
      " 3 3 0 3 3 3 3 0 1 1 3 3 3 0 1 0 0 0 0 3 3 3 3 0 0 0 3 0 3 0 0 0 0 3 0 0 3\n",
      " 0 0 3 3 0 3 0 3 3 3 3 0 0 3 0 3 0 0 0 0 0 0 3 3 3 0 0 0 0 0 0 3 0 3 3 3 3\n",
      " 0 0 0 0 3 0 0 3 0 0 3 1 3 0 3 3 0 0 3 0 3 3 3 3 3 0 3 0 3 0 0 3 0 0 0 0 0\n",
      " 3 3 3 0 0 0 3 0 3 0 3 0 0 0 0 3 0 0 0 3 0 3 0 3 0 0 0 3 3 0 0 0 0 0 0 3 0\n",
      " 3 0 3 0 0 0 0 2 0 0 0 3 3 0]\n"
     ]
    }
   ],
   "source": [
    "# Initialize the K-Means model\n",
    "model = KMeans(n_clusters=4, random_state=0)\n",
    "    \n",
    "# Fit the model\n",
    "model.fit(pcs_df)\n",
    "    \n",
    "# Predict Clusters\n",
    "predictions = model.predict(pcs_df)\n",
    "print(predictions)\n",
    "    \n",
    "# Create return DataFrame with predicted clusters\n",
    "pcs_df['class'] = model.labels_"
   ]
  },
  {
   "cell_type": "code",
   "execution_count": 319,
   "metadata": {},
   "outputs": [
    {
     "data": {
      "text/html": [
       "<div>\n",
       "<style scoped>\n",
       "    .dataframe tbody tr th:only-of-type {\n",
       "        vertical-align: middle;\n",
       "    }\n",
       "\n",
       "    .dataframe tbody tr th {\n",
       "        vertical-align: top;\n",
       "    }\n",
       "\n",
       "    .dataframe thead th {\n",
       "        text-align: right;\n",
       "    }\n",
       "</style>\n",
       "<table border=\"1\" class=\"dataframe\">\n",
       "  <thead>\n",
       "    <tr style=\"text-align: right;\">\n",
       "      <th></th>\n",
       "      <th>Algorithm</th>\n",
       "      <th>ProofType</th>\n",
       "      <th>TotalCoinsMined</th>\n",
       "      <th>TotalCoinSupply</th>\n",
       "      <th>PC 1</th>\n",
       "      <th>PC 2</th>\n",
       "      <th>PC 3</th>\n",
       "      <th>class</th>\n",
       "    </tr>\n",
       "  </thead>\n",
       "  <tbody>\n",
       "    <tr>\n",
       "      <th>42</th>\n",
       "      <td>Scrypt</td>\n",
       "      <td>PoW/PoS</td>\n",
       "      <td>4.199995e+01</td>\n",
       "      <td>42</td>\n",
       "      <td>-0.351207</td>\n",
       "      <td>0.969419</td>\n",
       "      <td>-0.522675</td>\n",
       "      <td>0</td>\n",
       "    </tr>\n",
       "    <tr>\n",
       "      <th>404</th>\n",
       "      <td>Scrypt</td>\n",
       "      <td>PoW/PoS</td>\n",
       "      <td>1.055185e+09</td>\n",
       "      <td>532000000</td>\n",
       "      <td>-0.334492</td>\n",
       "      <td>0.969774</td>\n",
       "      <td>-0.523095</td>\n",
       "      <td>0</td>\n",
       "    </tr>\n",
       "    <tr>\n",
       "      <th>1337</th>\n",
       "      <td>X13</td>\n",
       "      <td>PoW/PoS</td>\n",
       "      <td>2.927942e+10</td>\n",
       "      <td>314159265359</td>\n",
       "      <td>2.308564</td>\n",
       "      <td>1.680917</td>\n",
       "      <td>-0.699960</td>\n",
       "      <td>0</td>\n",
       "    </tr>\n",
       "    <tr>\n",
       "      <th>BTC</th>\n",
       "      <td>SHA-256</td>\n",
       "      <td>PoW</td>\n",
       "      <td>1.792718e+07</td>\n",
       "      <td>21000000</td>\n",
       "      <td>-0.137076</td>\n",
       "      <td>-1.325500</td>\n",
       "      <td>0.164227</td>\n",
       "      <td>3</td>\n",
       "    </tr>\n",
       "    <tr>\n",
       "      <th>ETH</th>\n",
       "      <td>Ethash</td>\n",
       "      <td>PoW</td>\n",
       "      <td>1.076842e+08</td>\n",
       "      <td>0</td>\n",
       "      <td>-0.135514</td>\n",
       "      <td>-2.025334</td>\n",
       "      <td>0.375027</td>\n",
       "      <td>3</td>\n",
       "    </tr>\n",
       "    <tr>\n",
       "      <th>...</th>\n",
       "      <td>...</td>\n",
       "      <td>...</td>\n",
       "      <td>...</td>\n",
       "      <td>...</td>\n",
       "      <td>...</td>\n",
       "      <td>...</td>\n",
       "      <td>...</td>\n",
       "      <td>...</td>\n",
       "    </tr>\n",
       "    <tr>\n",
       "      <th>ZEPH</th>\n",
       "      <td>SHA-256</td>\n",
       "      <td>DPoS</td>\n",
       "      <td>2.000000e+09</td>\n",
       "      <td>2000000000</td>\n",
       "      <td>2.431610</td>\n",
       "      <td>0.606728</td>\n",
       "      <td>0.119358</td>\n",
       "      <td>0</td>\n",
       "    </tr>\n",
       "    <tr>\n",
       "      <th>GAP</th>\n",
       "      <td>Scrypt</td>\n",
       "      <td>PoW/PoS</td>\n",
       "      <td>1.493105e+07</td>\n",
       "      <td>250000000</td>\n",
       "      <td>-0.349245</td>\n",
       "      <td>0.969338</td>\n",
       "      <td>-0.522716</td>\n",
       "      <td>0</td>\n",
       "    </tr>\n",
       "    <tr>\n",
       "      <th>BDX</th>\n",
       "      <td>CryptoNight</td>\n",
       "      <td>PoW</td>\n",
       "      <td>9.802226e+08</td>\n",
       "      <td>1400222610</td>\n",
       "      <td>0.337916</td>\n",
       "      <td>-2.232792</td>\n",
       "      <td>0.362824</td>\n",
       "      <td>3</td>\n",
       "    </tr>\n",
       "    <tr>\n",
       "      <th>ZEN</th>\n",
       "      <td>Equihash</td>\n",
       "      <td>PoW</td>\n",
       "      <td>7.296538e+06</td>\n",
       "      <td>21000000</td>\n",
       "      <td>-0.183302</td>\n",
       "      <td>-2.229939</td>\n",
       "      <td>0.438471</td>\n",
       "      <td>3</td>\n",
       "    </tr>\n",
       "    <tr>\n",
       "      <th>XBC</th>\n",
       "      <td>Scrypt</td>\n",
       "      <td>PoS</td>\n",
       "      <td>1.283270e+05</td>\n",
       "      <td>1000000</td>\n",
       "      <td>-0.284635</td>\n",
       "      <td>0.890745</td>\n",
       "      <td>-0.247622</td>\n",
       "      <td>0</td>\n",
       "    </tr>\n",
       "  </tbody>\n",
       "</table>\n",
       "<p>532 rows × 8 columns</p>\n",
       "</div>"
      ],
      "text/plain": [
       "        Algorithm ProofType  TotalCoinsMined TotalCoinSupply      PC 1  \\\n",
       "42         Scrypt   PoW/PoS     4.199995e+01              42 -0.351207   \n",
       "404        Scrypt   PoW/PoS     1.055185e+09       532000000 -0.334492   \n",
       "1337          X13   PoW/PoS     2.927942e+10    314159265359  2.308564   \n",
       "BTC       SHA-256       PoW     1.792718e+07        21000000 -0.137076   \n",
       "ETH        Ethash       PoW     1.076842e+08               0 -0.135514   \n",
       "...           ...       ...              ...             ...       ...   \n",
       "ZEPH      SHA-256      DPoS     2.000000e+09      2000000000  2.431610   \n",
       "GAP        Scrypt   PoW/PoS     1.493105e+07       250000000 -0.349245   \n",
       "BDX   CryptoNight       PoW     9.802226e+08      1400222610  0.337916   \n",
       "ZEN      Equihash       PoW     7.296538e+06        21000000 -0.183302   \n",
       "XBC        Scrypt       PoS     1.283270e+05         1000000 -0.284635   \n",
       "\n",
       "          PC 2      PC 3  class  \n",
       "42    0.969419 -0.522675      0  \n",
       "404   0.969774 -0.523095      0  \n",
       "1337  1.680917 -0.699960      0  \n",
       "BTC  -1.325500  0.164227      3  \n",
       "ETH  -2.025334  0.375027      3  \n",
       "...        ...       ...    ...  \n",
       "ZEPH  0.606728  0.119358      0  \n",
       "GAP   0.969338 -0.522716      0  \n",
       "BDX  -2.232792  0.362824      3  \n",
       "ZEN  -2.229939  0.438471      3  \n",
       "XBC   0.890745 -0.247622      0  \n",
       "\n",
       "[532 rows x 8 columns]"
      ]
     },
     "execution_count": 319,
     "metadata": {},
     "output_type": "execute_result"
    }
   ],
   "source": [
    "# Create a new DataFrame including predicted clusters and cryptocurrencies features.\n",
    "# Concatentate the crypto_df and pcs_df DataFrames on the same columns.\n",
    "clustered_df = crypto_df.join(pcs_df, how='inner')\n",
    "clustered_df"
   ]
  },
  {
   "cell_type": "code",
   "execution_count": 320,
   "metadata": {},
   "outputs": [
    {
     "data": {
      "text/html": [
       "<div>\n",
       "<style scoped>\n",
       "    .dataframe tbody tr th:only-of-type {\n",
       "        vertical-align: middle;\n",
       "    }\n",
       "\n",
       "    .dataframe tbody tr th {\n",
       "        vertical-align: top;\n",
       "    }\n",
       "\n",
       "    .dataframe thead th {\n",
       "        text-align: right;\n",
       "    }\n",
       "</style>\n",
       "<table border=\"1\" class=\"dataframe\">\n",
       "  <thead>\n",
       "    <tr style=\"text-align: right;\">\n",
       "      <th></th>\n",
       "      <th>Algorithm</th>\n",
       "      <th>ProofType</th>\n",
       "      <th>TotalCoinsMined</th>\n",
       "      <th>TotalCoinSupply</th>\n",
       "      <th>PC 1</th>\n",
       "      <th>PC 2</th>\n",
       "      <th>PC 3</th>\n",
       "      <th>class</th>\n",
       "    </tr>\n",
       "  </thead>\n",
       "  <tbody>\n",
       "    <tr>\n",
       "      <th>42</th>\n",
       "      <td>Scrypt</td>\n",
       "      <td>PoW/PoS</td>\n",
       "      <td>4.199995e+01</td>\n",
       "      <td>42</td>\n",
       "      <td>-0.351207</td>\n",
       "      <td>0.969419</td>\n",
       "      <td>-0.522675</td>\n",
       "      <td>0</td>\n",
       "    </tr>\n",
       "    <tr>\n",
       "      <th>404</th>\n",
       "      <td>Scrypt</td>\n",
       "      <td>PoW/PoS</td>\n",
       "      <td>1.055185e+09</td>\n",
       "      <td>532000000</td>\n",
       "      <td>-0.334492</td>\n",
       "      <td>0.969774</td>\n",
       "      <td>-0.523095</td>\n",
       "      <td>0</td>\n",
       "    </tr>\n",
       "    <tr>\n",
       "      <th>1337</th>\n",
       "      <td>X13</td>\n",
       "      <td>PoW/PoS</td>\n",
       "      <td>2.927942e+10</td>\n",
       "      <td>314159265359</td>\n",
       "      <td>2.308564</td>\n",
       "      <td>1.680917</td>\n",
       "      <td>-0.699960</td>\n",
       "      <td>0</td>\n",
       "    </tr>\n",
       "    <tr>\n",
       "      <th>BTC</th>\n",
       "      <td>SHA-256</td>\n",
       "      <td>PoW</td>\n",
       "      <td>1.792718e+07</td>\n",
       "      <td>21000000</td>\n",
       "      <td>-0.137076</td>\n",
       "      <td>-1.325500</td>\n",
       "      <td>0.164227</td>\n",
       "      <td>3</td>\n",
       "    </tr>\n",
       "    <tr>\n",
       "      <th>ETH</th>\n",
       "      <td>Ethash</td>\n",
       "      <td>PoW</td>\n",
       "      <td>1.076842e+08</td>\n",
       "      <td>0</td>\n",
       "      <td>-0.135514</td>\n",
       "      <td>-2.025334</td>\n",
       "      <td>0.375027</td>\n",
       "      <td>3</td>\n",
       "    </tr>\n",
       "    <tr>\n",
       "      <th>...</th>\n",
       "      <td>...</td>\n",
       "      <td>...</td>\n",
       "      <td>...</td>\n",
       "      <td>...</td>\n",
       "      <td>...</td>\n",
       "      <td>...</td>\n",
       "      <td>...</td>\n",
       "      <td>...</td>\n",
       "    </tr>\n",
       "    <tr>\n",
       "      <th>ZEPH</th>\n",
       "      <td>SHA-256</td>\n",
       "      <td>DPoS</td>\n",
       "      <td>2.000000e+09</td>\n",
       "      <td>2000000000</td>\n",
       "      <td>2.431610</td>\n",
       "      <td>0.606728</td>\n",
       "      <td>0.119358</td>\n",
       "      <td>0</td>\n",
       "    </tr>\n",
       "    <tr>\n",
       "      <th>GAP</th>\n",
       "      <td>Scrypt</td>\n",
       "      <td>PoW/PoS</td>\n",
       "      <td>1.493105e+07</td>\n",
       "      <td>250000000</td>\n",
       "      <td>-0.349245</td>\n",
       "      <td>0.969338</td>\n",
       "      <td>-0.522716</td>\n",
       "      <td>0</td>\n",
       "    </tr>\n",
       "    <tr>\n",
       "      <th>BDX</th>\n",
       "      <td>CryptoNight</td>\n",
       "      <td>PoW</td>\n",
       "      <td>9.802226e+08</td>\n",
       "      <td>1400222610</td>\n",
       "      <td>0.337916</td>\n",
       "      <td>-2.232792</td>\n",
       "      <td>0.362824</td>\n",
       "      <td>3</td>\n",
       "    </tr>\n",
       "    <tr>\n",
       "      <th>ZEN</th>\n",
       "      <td>Equihash</td>\n",
       "      <td>PoW</td>\n",
       "      <td>7.296538e+06</td>\n",
       "      <td>21000000</td>\n",
       "      <td>-0.183302</td>\n",
       "      <td>-2.229939</td>\n",
       "      <td>0.438471</td>\n",
       "      <td>3</td>\n",
       "    </tr>\n",
       "    <tr>\n",
       "      <th>XBC</th>\n",
       "      <td>Scrypt</td>\n",
       "      <td>PoS</td>\n",
       "      <td>1.283270e+05</td>\n",
       "      <td>1000000</td>\n",
       "      <td>-0.284635</td>\n",
       "      <td>0.890745</td>\n",
       "      <td>-0.247622</td>\n",
       "      <td>0</td>\n",
       "    </tr>\n",
       "  </tbody>\n",
       "</table>\n",
       "<p>532 rows × 8 columns</p>\n",
       "</div>"
      ],
      "text/plain": [
       "        Algorithm ProofType  TotalCoinsMined TotalCoinSupply      PC 1  \\\n",
       "42         Scrypt   PoW/PoS     4.199995e+01              42 -0.351207   \n",
       "404        Scrypt   PoW/PoS     1.055185e+09       532000000 -0.334492   \n",
       "1337          X13   PoW/PoS     2.927942e+10    314159265359  2.308564   \n",
       "BTC       SHA-256       PoW     1.792718e+07        21000000 -0.137076   \n",
       "ETH        Ethash       PoW     1.076842e+08               0 -0.135514   \n",
       "...           ...       ...              ...             ...       ...   \n",
       "ZEPH      SHA-256      DPoS     2.000000e+09      2000000000  2.431610   \n",
       "GAP        Scrypt   PoW/PoS     1.493105e+07       250000000 -0.349245   \n",
       "BDX   CryptoNight       PoW     9.802226e+08      1400222610  0.337916   \n",
       "ZEN      Equihash       PoW     7.296538e+06        21000000 -0.183302   \n",
       "XBC        Scrypt       PoS     1.283270e+05         1000000 -0.284635   \n",
       "\n",
       "          PC 2      PC 3  class  \n",
       "42    0.969419 -0.522675      0  \n",
       "404   0.969774 -0.523095      0  \n",
       "1337  1.680917 -0.699960      0  \n",
       "BTC  -1.325500  0.164227      3  \n",
       "ETH  -2.025334  0.375027      3  \n",
       "...        ...       ...    ...  \n",
       "ZEPH  0.606728  0.119358      0  \n",
       "GAP   0.969338 -0.522716      0  \n",
       "BDX  -2.232792  0.362824      3  \n",
       "ZEN  -2.229939  0.438471      3  \n",
       "XBC   0.890745 -0.247622      0  \n",
       "\n",
       "[532 rows x 8 columns]"
      ]
     },
     "execution_count": 320,
     "metadata": {},
     "output_type": "execute_result"
    }
   ],
   "source": [
    "#  Add a new column, \"Class\" to the clustered_df DataFrame that holds the predictions.\n",
    "clustered_df['class'] = model.labels_\n",
    "clustered_df"
   ]
  },
  {
   "cell_type": "code",
   "execution_count": 321,
   "metadata": {},
   "outputs": [
    {
     "data": {
      "text/html": [
       "<div>\n",
       "<style scoped>\n",
       "    .dataframe tbody tr th:only-of-type {\n",
       "        vertical-align: middle;\n",
       "    }\n",
       "\n",
       "    .dataframe tbody tr th {\n",
       "        vertical-align: top;\n",
       "    }\n",
       "\n",
       "    .dataframe thead th {\n",
       "        text-align: right;\n",
       "    }\n",
       "</style>\n",
       "<table border=\"1\" class=\"dataframe\">\n",
       "  <thead>\n",
       "    <tr style=\"text-align: right;\">\n",
       "      <th></th>\n",
       "      <th>Algorithm</th>\n",
       "      <th>ProofType</th>\n",
       "      <th>TotalCoinsMined</th>\n",
       "      <th>TotalCoinSupply</th>\n",
       "      <th>PC 1</th>\n",
       "      <th>PC 2</th>\n",
       "      <th>PC 3</th>\n",
       "      <th>class</th>\n",
       "      <th>CoinName</th>\n",
       "    </tr>\n",
       "  </thead>\n",
       "  <tbody>\n",
       "    <tr>\n",
       "      <th>42</th>\n",
       "      <td>Scrypt</td>\n",
       "      <td>PoW/PoS</td>\n",
       "      <td>4.199995e+01</td>\n",
       "      <td>42</td>\n",
       "      <td>-0.351207</td>\n",
       "      <td>0.969419</td>\n",
       "      <td>-0.522675</td>\n",
       "      <td>0</td>\n",
       "      <td>42 Coin</td>\n",
       "    </tr>\n",
       "    <tr>\n",
       "      <th>404</th>\n",
       "      <td>Scrypt</td>\n",
       "      <td>PoW/PoS</td>\n",
       "      <td>1.055185e+09</td>\n",
       "      <td>532000000</td>\n",
       "      <td>-0.334492</td>\n",
       "      <td>0.969774</td>\n",
       "      <td>-0.523095</td>\n",
       "      <td>0</td>\n",
       "      <td>404Coin</td>\n",
       "    </tr>\n",
       "    <tr>\n",
       "      <th>1337</th>\n",
       "      <td>X13</td>\n",
       "      <td>PoW/PoS</td>\n",
       "      <td>2.927942e+10</td>\n",
       "      <td>314159265359</td>\n",
       "      <td>2.308564</td>\n",
       "      <td>1.680917</td>\n",
       "      <td>-0.699960</td>\n",
       "      <td>0</td>\n",
       "      <td>EliteCoin</td>\n",
       "    </tr>\n",
       "    <tr>\n",
       "      <th>BTC</th>\n",
       "      <td>SHA-256</td>\n",
       "      <td>PoW</td>\n",
       "      <td>1.792718e+07</td>\n",
       "      <td>21000000</td>\n",
       "      <td>-0.137076</td>\n",
       "      <td>-1.325500</td>\n",
       "      <td>0.164227</td>\n",
       "      <td>3</td>\n",
       "      <td>Bitcoin</td>\n",
       "    </tr>\n",
       "    <tr>\n",
       "      <th>ETH</th>\n",
       "      <td>Ethash</td>\n",
       "      <td>PoW</td>\n",
       "      <td>1.076842e+08</td>\n",
       "      <td>0</td>\n",
       "      <td>-0.135514</td>\n",
       "      <td>-2.025334</td>\n",
       "      <td>0.375027</td>\n",
       "      <td>3</td>\n",
       "      <td>Ethereum</td>\n",
       "    </tr>\n",
       "    <tr>\n",
       "      <th>...</th>\n",
       "      <td>...</td>\n",
       "      <td>...</td>\n",
       "      <td>...</td>\n",
       "      <td>...</td>\n",
       "      <td>...</td>\n",
       "      <td>...</td>\n",
       "      <td>...</td>\n",
       "      <td>...</td>\n",
       "      <td>...</td>\n",
       "    </tr>\n",
       "    <tr>\n",
       "      <th>ZEPH</th>\n",
       "      <td>SHA-256</td>\n",
       "      <td>DPoS</td>\n",
       "      <td>2.000000e+09</td>\n",
       "      <td>2000000000</td>\n",
       "      <td>2.431610</td>\n",
       "      <td>0.606728</td>\n",
       "      <td>0.119358</td>\n",
       "      <td>0</td>\n",
       "      <td>ZEPHYR</td>\n",
       "    </tr>\n",
       "    <tr>\n",
       "      <th>GAP</th>\n",
       "      <td>Scrypt</td>\n",
       "      <td>PoW/PoS</td>\n",
       "      <td>1.493105e+07</td>\n",
       "      <td>250000000</td>\n",
       "      <td>-0.349245</td>\n",
       "      <td>0.969338</td>\n",
       "      <td>-0.522716</td>\n",
       "      <td>0</td>\n",
       "      <td>Gapcoin</td>\n",
       "    </tr>\n",
       "    <tr>\n",
       "      <th>BDX</th>\n",
       "      <td>CryptoNight</td>\n",
       "      <td>PoW</td>\n",
       "      <td>9.802226e+08</td>\n",
       "      <td>1400222610</td>\n",
       "      <td>0.337916</td>\n",
       "      <td>-2.232792</td>\n",
       "      <td>0.362824</td>\n",
       "      <td>3</td>\n",
       "      <td>Beldex</td>\n",
       "    </tr>\n",
       "    <tr>\n",
       "      <th>ZEN</th>\n",
       "      <td>Equihash</td>\n",
       "      <td>PoW</td>\n",
       "      <td>7.296538e+06</td>\n",
       "      <td>21000000</td>\n",
       "      <td>-0.183302</td>\n",
       "      <td>-2.229939</td>\n",
       "      <td>0.438471</td>\n",
       "      <td>3</td>\n",
       "      <td>Horizen</td>\n",
       "    </tr>\n",
       "    <tr>\n",
       "      <th>XBC</th>\n",
       "      <td>Scrypt</td>\n",
       "      <td>PoS</td>\n",
       "      <td>1.283270e+05</td>\n",
       "      <td>1000000</td>\n",
       "      <td>-0.284635</td>\n",
       "      <td>0.890745</td>\n",
       "      <td>-0.247622</td>\n",
       "      <td>0</td>\n",
       "      <td>BitcoinPlus</td>\n",
       "    </tr>\n",
       "  </tbody>\n",
       "</table>\n",
       "<p>532 rows × 9 columns</p>\n",
       "</div>"
      ],
      "text/plain": [
       "        Algorithm ProofType  TotalCoinsMined TotalCoinSupply      PC 1  \\\n",
       "42         Scrypt   PoW/PoS     4.199995e+01              42 -0.351207   \n",
       "404        Scrypt   PoW/PoS     1.055185e+09       532000000 -0.334492   \n",
       "1337          X13   PoW/PoS     2.927942e+10    314159265359  2.308564   \n",
       "BTC       SHA-256       PoW     1.792718e+07        21000000 -0.137076   \n",
       "ETH        Ethash       PoW     1.076842e+08               0 -0.135514   \n",
       "...           ...       ...              ...             ...       ...   \n",
       "ZEPH      SHA-256      DPoS     2.000000e+09      2000000000  2.431610   \n",
       "GAP        Scrypt   PoW/PoS     1.493105e+07       250000000 -0.349245   \n",
       "BDX   CryptoNight       PoW     9.802226e+08      1400222610  0.337916   \n",
       "ZEN      Equihash       PoW     7.296538e+06        21000000 -0.183302   \n",
       "XBC        Scrypt       PoS     1.283270e+05         1000000 -0.284635   \n",
       "\n",
       "          PC 2      PC 3  class     CoinName  \n",
       "42    0.969419 -0.522675      0      42 Coin  \n",
       "404   0.969774 -0.523095      0      404Coin  \n",
       "1337  1.680917 -0.699960      0    EliteCoin  \n",
       "BTC  -1.325500  0.164227      3      Bitcoin  \n",
       "ETH  -2.025334  0.375027      3     Ethereum  \n",
       "...        ...       ...    ...          ...  \n",
       "ZEPH  0.606728  0.119358      0       ZEPHYR  \n",
       "GAP   0.969338 -0.522716      0      Gapcoin  \n",
       "BDX  -2.232792  0.362824      3       Beldex  \n",
       "ZEN  -2.229939  0.438471      3      Horizen  \n",
       "XBC   0.890745 -0.247622      0  BitcoinPlus  \n",
       "\n",
       "[532 rows x 9 columns]"
      ]
     },
     "execution_count": 321,
     "metadata": {},
     "output_type": "execute_result"
    }
   ],
   "source": [
    "#  Add a new column, \"CoinName\" to the clustered_df DataFrame that holds the names of the cryptocurrencies. # YOUR CODE HERE\n",
    "clustered_df = clustered_df.join(coin_names, how='inner')\n",
    "clustered_df"
   ]
  },
  {
   "cell_type": "code",
   "execution_count": 322,
   "metadata": {},
   "outputs": [
    {
     "name": "stdout",
     "output_type": "stream",
     "text": [
      "(532, 9)\n"
     ]
    },
    {
     "data": {
      "text/html": [
       "<div>\n",
       "<style scoped>\n",
       "    .dataframe tbody tr th:only-of-type {\n",
       "        vertical-align: middle;\n",
       "    }\n",
       "\n",
       "    .dataframe tbody tr th {\n",
       "        vertical-align: top;\n",
       "    }\n",
       "\n",
       "    .dataframe thead th {\n",
       "        text-align: right;\n",
       "    }\n",
       "</style>\n",
       "<table border=\"1\" class=\"dataframe\">\n",
       "  <thead>\n",
       "    <tr style=\"text-align: right;\">\n",
       "      <th></th>\n",
       "      <th>Algorithm</th>\n",
       "      <th>ProofType</th>\n",
       "      <th>TotalCoinsMined</th>\n",
       "      <th>TotalCoinSupply</th>\n",
       "      <th>PC 1</th>\n",
       "      <th>PC 2</th>\n",
       "      <th>PC 3</th>\n",
       "      <th>class</th>\n",
       "      <th>CoinName</th>\n",
       "    </tr>\n",
       "  </thead>\n",
       "  <tbody>\n",
       "    <tr>\n",
       "      <th>42</th>\n",
       "      <td>Scrypt</td>\n",
       "      <td>PoW/PoS</td>\n",
       "      <td>4.199995e+01</td>\n",
       "      <td>42</td>\n",
       "      <td>-0.351207</td>\n",
       "      <td>0.969419</td>\n",
       "      <td>-0.522675</td>\n",
       "      <td>0</td>\n",
       "      <td>42 Coin</td>\n",
       "    </tr>\n",
       "    <tr>\n",
       "      <th>404</th>\n",
       "      <td>Scrypt</td>\n",
       "      <td>PoW/PoS</td>\n",
       "      <td>1.055185e+09</td>\n",
       "      <td>532000000</td>\n",
       "      <td>-0.334492</td>\n",
       "      <td>0.969774</td>\n",
       "      <td>-0.523095</td>\n",
       "      <td>0</td>\n",
       "      <td>404Coin</td>\n",
       "    </tr>\n",
       "    <tr>\n",
       "      <th>1337</th>\n",
       "      <td>X13</td>\n",
       "      <td>PoW/PoS</td>\n",
       "      <td>2.927942e+10</td>\n",
       "      <td>314159265359</td>\n",
       "      <td>2.308564</td>\n",
       "      <td>1.680917</td>\n",
       "      <td>-0.699960</td>\n",
       "      <td>0</td>\n",
       "      <td>EliteCoin</td>\n",
       "    </tr>\n",
       "    <tr>\n",
       "      <th>BTC</th>\n",
       "      <td>SHA-256</td>\n",
       "      <td>PoW</td>\n",
       "      <td>1.792718e+07</td>\n",
       "      <td>21000000</td>\n",
       "      <td>-0.137076</td>\n",
       "      <td>-1.325500</td>\n",
       "      <td>0.164227</td>\n",
       "      <td>3</td>\n",
       "      <td>Bitcoin</td>\n",
       "    </tr>\n",
       "    <tr>\n",
       "      <th>ETH</th>\n",
       "      <td>Ethash</td>\n",
       "      <td>PoW</td>\n",
       "      <td>1.076842e+08</td>\n",
       "      <td>0</td>\n",
       "      <td>-0.135514</td>\n",
       "      <td>-2.025334</td>\n",
       "      <td>0.375027</td>\n",
       "      <td>3</td>\n",
       "      <td>Ethereum</td>\n",
       "    </tr>\n",
       "    <tr>\n",
       "      <th>LTC</th>\n",
       "      <td>Scrypt</td>\n",
       "      <td>PoW</td>\n",
       "      <td>6.303924e+07</td>\n",
       "      <td>84000000</td>\n",
       "      <td>-0.168216</td>\n",
       "      <td>-1.111074</td>\n",
       "      <td>0.024709</td>\n",
       "      <td>3</td>\n",
       "      <td>Litecoin</td>\n",
       "    </tr>\n",
       "    <tr>\n",
       "      <th>DASH</th>\n",
       "      <td>X11</td>\n",
       "      <td>PoW/PoS</td>\n",
       "      <td>9.031294e+06</td>\n",
       "      <td>22000000</td>\n",
       "      <td>-0.396133</td>\n",
       "      <td>1.169778</td>\n",
       "      <td>-0.484510</td>\n",
       "      <td>0</td>\n",
       "      <td>Dash</td>\n",
       "    </tr>\n",
       "    <tr>\n",
       "      <th>XMR</th>\n",
       "      <td>CryptoNight-V7</td>\n",
       "      <td>PoW</td>\n",
       "      <td>1.720114e+07</td>\n",
       "      <td>0</td>\n",
       "      <td>-0.144593</td>\n",
       "      <td>-2.256026</td>\n",
       "      <td>0.422444</td>\n",
       "      <td>3</td>\n",
       "      <td>Monero</td>\n",
       "    </tr>\n",
       "    <tr>\n",
       "      <th>ETC</th>\n",
       "      <td>Ethash</td>\n",
       "      <td>PoW</td>\n",
       "      <td>1.133597e+08</td>\n",
       "      <td>210000000</td>\n",
       "      <td>-0.133950</td>\n",
       "      <td>-2.025406</td>\n",
       "      <td>0.374994</td>\n",
       "      <td>3</td>\n",
       "      <td>Ethereum Classic</td>\n",
       "    </tr>\n",
       "    <tr>\n",
       "      <th>ZEC</th>\n",
       "      <td>Equihash</td>\n",
       "      <td>PoW</td>\n",
       "      <td>7.383056e+06</td>\n",
       "      <td>21000000</td>\n",
       "      <td>-0.183301</td>\n",
       "      <td>-2.229939</td>\n",
       "      <td>0.438471</td>\n",
       "      <td>3</td>\n",
       "      <td>ZCash</td>\n",
       "    </tr>\n",
       "  </tbody>\n",
       "</table>\n",
       "</div>"
      ],
      "text/plain": [
       "           Algorithm ProofType  TotalCoinsMined TotalCoinSupply      PC 1  \\\n",
       "42            Scrypt   PoW/PoS     4.199995e+01              42 -0.351207   \n",
       "404           Scrypt   PoW/PoS     1.055185e+09       532000000 -0.334492   \n",
       "1337             X13   PoW/PoS     2.927942e+10    314159265359  2.308564   \n",
       "BTC          SHA-256       PoW     1.792718e+07        21000000 -0.137076   \n",
       "ETH           Ethash       PoW     1.076842e+08               0 -0.135514   \n",
       "LTC           Scrypt       PoW     6.303924e+07        84000000 -0.168216   \n",
       "DASH             X11   PoW/PoS     9.031294e+06        22000000 -0.396133   \n",
       "XMR   CryptoNight-V7       PoW     1.720114e+07               0 -0.144593   \n",
       "ETC           Ethash       PoW     1.133597e+08       210000000 -0.133950   \n",
       "ZEC         Equihash       PoW     7.383056e+06        21000000 -0.183301   \n",
       "\n",
       "          PC 2      PC 3  class          CoinName  \n",
       "42    0.969419 -0.522675      0           42 Coin  \n",
       "404   0.969774 -0.523095      0           404Coin  \n",
       "1337  1.680917 -0.699960      0         EliteCoin  \n",
       "BTC  -1.325500  0.164227      3           Bitcoin  \n",
       "ETH  -2.025334  0.375027      3          Ethereum  \n",
       "LTC  -1.111074  0.024709      3          Litecoin  \n",
       "DASH  1.169778 -0.484510      0              Dash  \n",
       "XMR  -2.256026  0.422444      3            Monero  \n",
       "ETC  -2.025406  0.374994      3  Ethereum Classic  \n",
       "ZEC  -2.229939  0.438471      3             ZCash  "
      ]
     },
     "execution_count": 322,
     "metadata": {},
     "output_type": "execute_result"
    }
   ],
   "source": [
    "# Print the shape of the clustered_df\n",
    "print(clustered_df.shape)\n",
    "clustered_df.head(10)"
   ]
  },
  {
   "cell_type": "markdown",
   "metadata": {},
   "source": [
    "### Deliverable 4: Visualizing Cryptocurrencies Results\n",
    "\n",
    "#### 3D-Scatter with Clusters"
   ]
  },
  {
   "cell_type": "code",
   "execution_count": 323,
   "metadata": {},
   "outputs": [
    {
     "data": {
      "application/vnd.plotly.v1+json": {
       "config": {
        "plotlyServerURL": "https://plot.ly"
       },
       "data": [
        {
         "customdata": [
          [
           "Scrypt",
           41.99995383,
           "42"
          ],
          [
           "Scrypt",
           1055184902.04,
           "532000000"
          ],
          [
           "X13",
           29279424622.5027,
           "314159265359"
          ],
          [
           "X11",
           9031294.37563393,
           "22000000"
          ],
          [
           "SHA-512",
           2741570000,
           "3600570502"
          ],
          [
           "SHA-256",
           1288862,
           "22000000"
          ],
          [
           "SHA-256",
           11995334.8847328,
           "12500000"
          ],
          [
           "X15",
           25542535.5881841,
           "350000000"
          ],
          [
           "Scrypt",
           18135099.992959,
           "16768584"
          ],
          [
           "Scrypt",
           635423900,
           "0"
          ],
          [
           "Scrypt",
           123062801.128773,
           "0"
          ],
          [
           "Scrypt",
           42579.476901,
           "500000"
          ],
          [
           "Scrypt",
           1039116.65144562,
           "1000000"
          ],
          [
           "Scrypt",
           39999997299.8568,
           "40000000000"
          ],
          [
           "Groestl",
           3304487.74735637,
           "4380000"
          ],
          [
           "PoS",
           5679705,
           "0"
          ],
          [
           "Scrypt",
           461829905.32893,
           "0"
          ],
          [
           "Scrypt",
           89266933.684704,
           "120000000"
          ],
          [
           "X11",
           1678520090.7713,
           "0"
          ],
          [
           "X11",
           17650913.9743456,
           "22000000"
          ],
          [
           "SHA3",
           61445805,
           "100000000"
          ],
          [
           "Scrypt",
           21293925445.4969,
           "0"
          ],
          [
           "SHA-256",
           1613836099.99999,
           "2419200000"
          ],
          [
           "Scrypt",
           16180000,
           "16180000"
          ],
          [
           "X13",
           66087096.2077108,
           "0"
          ],
          [
           "X13",
           15156364.3306548,
           "0"
          ],
          [
           "NeoScrypt",
           3220616.279225,
           "3770000"
          ],
          [
           "Scrypt",
           222677226.014206,
           "420000000"
          ],
          [
           "Scrypt",
           73959274.625,
           "98000000"
          ],
          [
           "Scrypt",
           29315567169.0888,
           "0"
          ],
          [
           "X11",
           50707661.7493518,
           "0"
          ],
          [
           "X11",
           1177,
           "1000"
          ],
          [
           "Multiple",
           80260463.7331396,
           "100000000"
          ],
          [
           "PHI1612",
           1622326490.46336,
           "2300000000"
          ],
          [
           "X11",
           1431851.00002479,
           "10000000"
          ],
          [
           "Scrypt",
           1098952592.6,
           "1600000000"
          ],
          [
           "Scrypt",
           50235211.141939,
           "100000000"
          ],
          [
           "Scrypt",
           32021108.4136696,
           "0"
          ],
          [
           "X11",
           6950831.0970606,
           "5500000"
          ],
          [
           "Multiple",
           100000000,
           "0"
          ],
          [
           "X13",
           33093725.4123502,
           "0"
          ],
          [
           "Scrypt",
           147990237.978331,
           "1000000000"
          ],
          [
           "Shabal256",
           1813033920,
           "2158812800"
          ],
          [
           "Counterparty",
           51173144,
           "500000000"
          ],
          [
           "SHA-256",
           39121694,
           "68000000"
          ],
          [
           "Groestl",
           53193831,
           "0"
          ],
          [
           "Scrypt",
           27184490.3918338,
           "0"
          ],
          [
           "X13",
           2022464.886973,
           "12000000"
          ],
          [
           "Scrypt",
           174646113.934655,
           "500000000"
          ],
          [
           "Scrypt",
           1467841,
           "0"
          ],
          [
           "X13",
           7096834,
           "10000000"
          ],
          [
           "X11",
           2689812,
           "20000000"
          ],
          [
           "Scrypt",
           11604722,
           "20000000"
          ],
          [
           "X11",
           1513704,
           "0"
          ],
          [
           "SHA3",
           63657220,
           "78000000"
          ],
          [
           "QUAIT",
           8568038.35935056,
           "5060000"
          ],
          [
           "X11",
           329200.01639,
           "0"
          ],
          [
           "Scrypt",
           100000000,
           "100000000"
          ],
          [
           "X13",
           23042604,
           "50000000"
          ],
          [
           "SHA-256",
           43059794.804778,
           "1000000000"
          ],
          [
           "X15",
           13530556.4180753,
           "26298000"
          ],
          [
           "BLAKE256",
           10365046.9281661,
           "21000000"
          ],
          [
           "SHA-256",
           3669691.84494672,
           "22000000"
          ],
          [
           "X11",
           10996318099,
           "26550000000"
          ],
          [
           "SHA-256",
           5129014,
           "10500000"
          ],
          [
           "NIST5",
           10069449031.9252,
           "0"
          ],
          [
           "Scrypt",
           8998743.2411911,
           "42000000"
          ],
          [
           "Scrypt",
           40477042,
           "221052632"
          ],
          [
           "X11",
           10407269.7881868,
           "384000000"
          ],
          [
           "Scrypt",
           36971236046.8073,
           " 99000000000"
          ],
          [
           "SHA-256",
           4377081.60953993,
           "40000000"
          ],
          [
           "Scrypt",
           2147483647,
           "2147483647"
          ],
          [
           "PoS",
           20000000,
           "20000000"
          ],
          [
           "X11",
           134554941.15119,
           "75000000"
          ],
          [
           "SHA-256",
           1195525,
           "222725000"
          ],
          [
           "SHA-256",
           16662820,
           "525000000"
          ],
          [
           "NIST5",
           83450403,
           "90000000"
          ],
          [
           "X11",
           24387724.5010828,
           "139000000"
          ],
          [
           "POS 3.0",
           38589808.6658096,
           "33500000"
          ],
          [
           "Scrypt",
           813092338.575672,
           "2000000000"
          ],
          [
           "Scrypt",
           4526324,
           "44333333"
          ],
          [
           "Scrypt",
           100000000,
           "100000000"
          ],
          [
           "X13",
           5000000,
           "200000000"
          ],
          [
           "X11",
           657000000,
           "657000000"
          ],
          [
           "X11",
           15563873,
           "50000000"
          ],
          [
           "Scrypt",
           43165500,
           "90000000"
          ],
          [
           "SHA-256",
           595429,
           "21000000"
          ],
          [
           "X11",
           657636.34549789,
           "3000000"
          ],
          [
           "Scrypt",
           2581970,
           "21000000"
          ],
          [
           "Scrypt",
           1939889,
           "0"
          ],
          [
           "Scrypt",
           169598616,
           "0"
          ],
          [
           "Scrypt",
           665200057,
           "3100000000"
          ],
          [
           "SHA-256D",
           19577787259,
           "20000000000"
          ],
          [
           "PoS",
           74033806.7949683,
           "74000000"
          ],
          [
           "Scrypt",
           33522957,
           "0"
          ],
          [
           "X11",
           264678458.288619,
           "1500000000"
          ],
          [
           "PoS",
           148716816,
           "39999898"
          ],
          [
           "X13",
           2500124,
           "2500124"
          ],
          [
           "X14",
           100000000,
           "100000000"
          ],
          [
           "PoS",
           17818682.1654,
           "301000000"
          ],
          [
           "SHA-256D",
           1082162635.53683,
           "7506000000"
          ],
          [
           "DPoS",
           108202084,
           "125000000"
          ],
          [
           "X11",
           18342813,
           "30000000"
          ],
          [
           "X13",
           92192822723,
           "850000000"
          ],
          [
           "X11",
           3853326.77707314,
           "3853326.77707314"
          ],
          [
           "PoS",
           50000000,
           "50000000"
          ],
          [
           "Scrypt",
           17089600,
           "38540000 "
          ],
          [
           "Scrypt",
           2449577.41533168,
           "42000000"
          ],
          [
           "PoS",
           20000000,
           "20000000"
          ],
          [
           "X11",
           6069482.07721352,
           "60000000"
          ],
          [
           "SHA-256",
           12416554,
           "20000000"
          ],
          [
           "Scrypt",
           20244023.640728,
           "33000000"
          ],
          [
           "X11",
           75590369,
           "76500000"
          ],
          [
           "Scrypt",
           11080722.3769581,
           "28000000"
          ],
          [
           "Scrypt",
           10914418,
           "650659833"
          ],
          [
           "X11",
           814671,
           "5000000"
          ],
          [
           "Scrypt",
           8377873,
           "144000000"
          ],
          [
           "Scrypt",
           33813143821.8337,
           "32514916898"
          ],
          [
           "Scrypt",
           3472983,
           "13000000"
          ],
          [
           "Scrypt",
           3315789,
           "3315789"
          ],
          [
           "Quark",
           10517772.7391666,
           "15000000"
          ],
          [
           "QuBit",
           30227750,
           "78835200"
          ],
          [
           "Scrypt",
           23965372,
           "500000000"
          ],
          [
           "SHA-256",
           2526078.47525448,
           "21000000"
          ],
          [
           "X11",
           5659096.95728771,
           "9354000"
          ],
          [
           "Scrypt",
           11821728,
           "20000000"
          ],
          [
           "Scrypt",
           308179,
           "21933333"
          ],
          [
           "Scrypt",
           2922613.96424908,
           "55000000"
          ],
          [
           "Scrypt",
           110000000,
           "110000000"
          ],
          [
           "X13",
           14524851.4827,
           "14524851.4827"
          ],
          [
           "Scrypt",
           1000000000,
           "1000000000"
          ],
          [
           "Scrypt",
           36050365,
           "34426423"
          ],
          [
           "X11",
           13162749.0858027,
           "100000000"
          ],
          [
           "Blake2S",
           12184195.9258495,
           "36900000"
          ],
          [
           "X11",
           110630387.850471,
           "110000000"
          ],
          [
           "PoS",
           111135836.889,
           "110290030"
          ],
          [
           "X11",
           21521322.0099142,
           "100000000"
          ],
          [
           "PoS",
           401421401,
           "400000000"
          ],
          [
           "X11",
           121665451.643876,
           "500000000"
          ],
          [
           "Scrypt",
           5368934,
           "21212121"
          ],
          [
           "Scrypt",
           1148324,
           "28600000"
          ],
          [
           "Scrypt",
           500000,
           "1000000000"
          ],
          [
           "SHA-256",
           100545745,
           "75000000000"
          ],
          [
           "X11",
           17171382,
           "40000000"
          ],
          [
           "Scrypt",
           295135466.361878,
           "2000000000"
          ],
          [
           "PoS",
           11390225.9742772,
           "30000000"
          ],
          [
           "Scrypt",
           21358764,
           "105000000"
          ],
          [
           "X15",
           40659020000,
           "90000000000"
          ],
          [
           "SHA-256",
           10343113,
           "200084200"
          ],
          [
           "POS 3.0",
           100000000,
           "100000000"
          ],
          [
           "536",
           22801882871,
           "50000000000"
          ],
          [
           "NIST5",
           4171382,
           "10000000"
          ],
          [
           "NIST5",
           62942075,
           "120000000"
          ],
          [
           "Skein",
           6804362,
           "100000000"
          ],
          [
           "X13",
           21268092,
           "30000000"
          ],
          [
           "Scrypt",
           9044930943.24243,
           "50000000000"
          ],
          [
           "X13",
           21917018.0492836,
           "18898187.6216583"
          ],
          [
           "SkunkHash v2 Raptor",
           107972766,
           "137500000"
          ],
          [
           "Skein",
           47331802.4774238,
           "100000000"
          ],
          [
           "X11",
           12569262.5359307,
           "9507271"
          ],
          [
           "Scrypt",
           18663297.3489799,
           "17405891.19707116"
          ],
          [
           "VeChainThor Authority",
           55454734800,
           "86712634466"
          ],
          [
           "PoS",
           4000000,
           "61599965"
          ],
          [
           "Scrypt",
           19539588,
           "48252000"
          ],
          [
           "Scrypt",
           4200000,
           "4200000"
          ],
          [
           "SHA-512",
           25000000,
           "91388946"
          ],
          [
           "Ouroboros",
           25927070538,
           "45000000000"
          ],
          [
           "X11",
           7262402.04264803,
           "27000000"
          ],
          [
           "NeoScrypt",
           182638400,
           "400000000"
          ],
          [
           "Scrypt",
           1140734.91680375,
           "15733333"
          ],
          [
           "Lyra2REv2",
           24000000,
           "24000000"
          ],
          [
           "Scrypt",
           48459472454,
           "25000000000"
          ],
          [
           "SHA-256",
           92050800,
           "100000000"
          ],
          [
           "NIST5",
           560563220,
           "1200000000"
          ],
          [
           "PHI1612",
           8305775.31777569,
           "60000000"
          ],
          [
           "Scrypt",
           2149688,
           "21000000"
          ],
          [
           "Quark",
           30711550.5294042,
           "200000000"
          ],
          [
           "POS 2.0",
           12330806.30517,
           "21000000"
          ],
          [
           "Scrypt",
           16362544.992,
           "14788275.991"
          ],
          [
           "SHA-256",
           8999999990,
           "9000000000"
          ],
          [
           "X11",
           38198594.8342105,
           "144000000"
          ],
          [
           "DPoS",
           288090567.493887,
           "500000000"
          ],
          [
           "NIST5",
           28399150208,
           "30000000000"
          ],
          [
           "X13",
           183534024.889807,
           "210000000"
          ],
          [
           "Scrypt",
           110976977.29338,
           "210000000"
          ],
          [
           "NIST5",
           13247178.8807286,
           "27716121"
          ],
          [
           "Quark",
           16955764.902064,
           "20000000"
          ],
          [
           "Scrypt",
           4911500269.41,
           "50000000000"
          ],
          [
           "Scrypt",
           8419402.321,
           "150000000"
          ],
          [
           "X11",
           45174214.1078625,
           "50000000"
          ],
          [
           "Quark",
           27299680,
           "120000000"
          ],
          [
           "Scrypt",
           591022748,
           "900000000"
          ],
          [
           "Scrypt",
           2504486.227718,
           "4000000"
          ],
          [
           "X11",
           4407252,
           "21000000"
          ],
          [
           "POS 3.0",
           20445861.5344251,
           "25000000"
          ],
          [
           "Ethash",
           1618033,
           "1618033"
          ],
          [
           "Scrypt",
           9399342.52839847,
           "30000000"
          ],
          [
           "Scrypt",
           234846265.782157,
           "232000000"
          ],
          [
           "X13",
           230298925,
           "800000000"
          ],
          [
           "C11",
           11251342.1879021,
           "19340594"
          ],
          [
           "X11",
           2167827.1,
           "25000000"
          ],
          [
           "XEVAN",
           419275.38,
           "60000000"
          ],
          [
           "Scrypt",
           25570013.1348022,
           "124000000"
          ],
          [
           "VBFT",
           650848625,
           "1000000000"
          ],
          [
           "NIST5",
           13787854.6277781,
           "50000000"
          ],
          [
           "Scrypt",
           845637.81347436,
           "3000000"
          ],
          [
           "Scrypt",
           1182153.5,
           "5000000"
          ],
          [
           "Scrypt",
           267297676.3125,
           "500000000"
          ],
          [
           "Green Protocol",
           9803691.3618195,
           "21000000"
          ],
          [
           "PoS",
           21876586.8530324,
           "88000000"
          ],
          [
           "Scrypt",
           9880502.37178894,
           "30000000"
          ],
          [
           "Semux BFT consensus",
           1231147,
           "100000000"
          ],
          [
           "Quark",
           139739596.506702,
           "200000000"
          ],
          [
           "PoS",
           11075254.0929996,
           "80000000"
          ],
          [
           "X16R",
           4403800,
           "45000000"
          ],
          [
           "Scrypt",
           1404157529.46026,
           "5121951220"
          ],
          [
           "XEVAN",
           10904963.0923455,
           "21000000"
          ],
          [
           "Scrypt",
           38706809.466535,
           "26000000"
          ],
          [
           "Scrypt",
           10200000000,
           "10200000000"
          ],
          [
           "Scrypt",
           7630000.0154,
           "44000000"
          ],
          [
           "SHA-256D",
           33238183.7225834,
           "100000000"
          ],
          [
           "Scrypt",
           21599339.6728,
           "84000000"
          ],
          [
           "X15",
           30284196.369129,
           "90000000"
          ],
          [
           "Scrypt",
           77872059787.8998,
           "92000000000"
          ],
          [
           "Quark",
           2716264.95302831,
           "650000000 "
          ],
          [
           "SHA-256",
           57811001.000889,
           "100262205"
          ],
          [
           "DPoS",
           18194936,
           "18081806 "
          ],
          [
           "X16R",
           36923120.6205934,
           "82546564"
          ],
          [
           "Quark",
           7082392.24744494,
           "21000000"
          ],
          [
           "Quark",
           5919489.76813523,
           "5151000"
          ],
          [
           "Scrypt",
           1042012.45227735,
           "16880000000"
          ],
          [
           "Lyra2REv2",
           13332617.9413708,
           "52500000"
          ],
          [
           "Quark",
           66053877.6256106,
           "100000000"
          ],
          [
           "Scrypt",
           5403802.49590733,
           "1000000000"
          ],
          [
           "X11",
           19269509.94,
           "55000000"
          ],
          [
           "X11",
           30771125.9760867,
           "50000000"
          ],
          [
           "Scrypt",
           107763867.917675,
           "260000000"
          ],
          [
           "PoS",
           9327131.59708692,
           "210000000"
          ],
          [
           "Keccak",
           4672513.84432375,
           "366000000"
          ],
          [
           "X11",
           4504639,
           "100000000"
          ],
          [
           "Scrypt",
           1059954080.43439,
           "18000000000"
          ],
          [
           "SHA-512",
           1000000000,
           "1000000000"
          ],
          [
           "XEVAN",
           6787405.18013774,
           "50000000"
          ],
          [
           "XEVAN",
           208515864.367343,
           "70000000000"
          ],
          [
           "X11",
           17209923728.3266,
           "0"
          ],
          [
           "Quark",
           35312185.7437239,
           "54000000"
          ],
          [
           "Scrypt",
           14777549.3940764,
           "21000000"
          ],
          [
           "Quark",
           18265011.2486006,
           "19035999"
          ],
          [
           "Quark",
           1934701.67524713,
           "13370000"
          ],
          [
           "Scrypt",
           30825710000.0296,
           "74800000000"
          ],
          [
           "X11",
           715659.44237941,
           "19700000"
          ],
          [
           "Scrypt",
           20546528.2059957,
           "84000000"
          ],
          [
           "XEVAN",
           198938144.363399,
           "500000000"
          ],
          [
           "SHA-256D",
           896361168,
           "5000000000"
          ],
          [
           "X11",
           15420234.5389336,
           "420000000"
          ],
          [
           "X11",
           23775960.3207514,
           "30000000"
          ],
          [
           "DPoS",
           1000000000,
           "1000000000"
          ],
          [
           "Scrypt",
           15318887081.0146,
           "35000000000"
          ],
          [
           "X11",
           242574105.22384,
           "0"
          ],
          [
           "Scrypt",
           3537150,
           "200000000"
          ],
          [
           "Scrypt",
           20576532,
           "54256119"
          ],
          [
           "SHA-256",
           4392258.24647793,
           "21000000"
          ],
          [
           "Scrypt",
           9631199.99309942,
           "0"
          ],
          [
           "X11",
           436353624.490312,
           "500000000"
          ],
          [
           "Scrypt",
           980732528.97974,
           "10500000000"
          ],
          [
           "SHA-256",
           17939725045.334,
           "190000000"
          ],
          [
           "X11",
           494240666.028571,
           "1000000000"
          ],
          [
           "Scrypt",
           60000000,
           "15000000"
          ],
          [
           "Scrypt",
           404316475.545465,
           "400000000"
          ],
          [
           "X11",
           201364327.427503,
           "208000000"
          ],
          [
           "Scrypt",
           103621876.167052,
           "160000000"
          ],
          [
           "PoS",
           3821245.74150193,
           "9000000"
          ],
          [
           "X11",
           16901016.6609755,
           "16504333"
          ],
          [
           "SHA-256",
           74676064.9488608,
           "105000000"
          ],
          [
           "DPoS",
           120012140,
           "159918400"
          ],
          [
           "Scrypt",
           10000244677.7002,
           "10008835635"
          ],
          [
           "Scrypt",
           252005564.19257,
           "300000000"
          ],
          [
           "NeoScrypt",
           1120385.00502,
           "60168145"
          ],
          [
           "X13",
           140777.753365,
           "120000"
          ],
          [
           "DPoS",
           1020544523.0722,
           "0"
          ],
          [
           "DPoS",
           1122382283.37,
           "0"
          ],
          [
           "SHA-256",
           1000000000,
           "1000000000"
          ],
          [
           "Leased POS",
           100000000,
           "100000000"
          ],
          [
           "PoS",
           9283137.5558676,
           "8634140"
          ],
          [
           "PoS",
           1000000000,
           "1000000000"
          ],
          [
           "SHA-256",
           1999999995.3056,
           "2000000000"
          ],
          [
           "Scrypt",
           14931046.1546605,
           "250000000"
          ],
          [
           "Scrypt",
           128326.99633965,
           "1000000"
          ]
         ],
         "hovertemplate": "<b>%{hovertext}</b><br><br>class=%{marker.color}<br>PC 1=%{x}<br>PC 2=%{y}<br>PC 3=%{z}<br>Algorithm=%{customdata[0]}<br>TotalCoinsMined=%{customdata[1]}<br>TotalCoinSupply=%{customdata[2]}<extra></extra>",
         "hovertext": [
          "42 Coin",
          "404Coin",
          "EliteCoin",
          "Dash",
          "Bitshares",
          "BitcoinDark",
          "PayCoin",
          "KoboCoin",
          "Aurora Coin",
          "BlueCoin",
          "EnergyCoin",
          "BitBar",
          "CryptoBullion",
          "CasinoCoin",
          "Diamond",
          "Exclusive Coin",
          "FlutterCoin",
          "HoboNickels",
          "HyperStake",
          "IOCoin",
          "MaxCoin",
          "MintCoin",
          "MazaCoin",
          "Nautilus Coin",
          "NavCoin",
          "OpalCoin",
          "Orbitcoin",
          "PotCoin",
          "PhoenixCoin",
          "Reddcoin",
          "SuperCoin",
          "SyncCoin",
          "TeslaCoin",
          "TittieCoin",
          "TorCoin",
          "UnitaryStatus Dollar",
          "UltraCoin",
          "VeriCoin",
          "X11 Coin",
          "Crypti",
          "StealthCoin",
          "ZCC Coin",
          "BurstCoin",
          "StorjCoin",
          "Neutron",
          "FairCoin",
          "RubyCoin",
          "Kore",
          "Dnotes",
          "8BIT Coin",
          "Sativa Coin",
          "Ucoin",
          "Vtorrent",
          "IslaCoin",
          "Nexus",
          "Droidz",
          "Squall Coin",
          "Diggits",
          "Paycon",
          "Emercoin",
          "EverGreenCoin",
          "Decred",
          "EDRCoin",
          "Hitcoin",
          "DubaiCoin",
          "PWR Coin",
          "BillaryCoin",
          "GPU Coin",
          "EuropeCoin",
          "ZeitCoin",
          "SwingCoin",
          "SafeExchangeCoin",
          "Nebuchadnezzar",
          "Ratecoin",
          "Revenu",
          "Clockcoin",
          "VIP Tokens",
          "BitSend",
          "Let it Ride",
          "PutinCoin",
          "iBankCoin",
          "Frankywillcoin",
          "MudraCoin",
          "Lutetium Coin",
          "GoldBlocks",
          "CarterCoin",
          "BitTokens",
          "MustangCoin",
          "ZoneCoin",
          "RootCoin",
          "BitCurrency",
          "Swiscoin",
          "BuzzCoin",
          "Opair",
          "PesoBit",
          "Halloween Coin",
          "CoffeeCoin",
          "RoyalCoin",
          "GanjaCoin V2",
          "TeamUP",
          "LanaCoin",
          "ARK",
          "InsaneCoin",
          "EmberCoin",
          "XenixCoin",
          "FreeCoin",
          "PLNCoin",
          "AquariusCoin",
          "Creatio",
          "Eternity",
          "Eurocoin",
          "BitcoinFast",
          "Stakenet",
          "BitConnect Coin",
          "MoneyCoin",
          "Enigma",
          "Russiacoin",
          "PandaCoin",
          "GameUnits",
          "GAKHcoin",
          "Allsafe",
          "LiteCreed",
          "Klingon Empire Darsek",
          "Internet of People",
          "KushCoin",
          "Printerium",
          "Impeach",
          "Zilbercoin",
          "FirstCoin",
          "FindCoin",
          "OpenChat",
          "RenosCoin",
          "VirtacoinPlus",
          "TajCoin",
          "Impact",
          "Atmos",
          "HappyCoin",
          "MacronCoin",
          "Condensate",
          "Independent Money System",
          "ArgusCoin",
          "LomoCoin",
          "ProCurrency",
          "GoldReserve",
          "GrowthCoin",
          "Phreak",
          "Degas Coin",
          "HTML5 Coin",
          "Ultimate Secure Cash",
          "QTUM",
          "Espers",
          "Denarius",
          "Virta Unique Coin",
          "Bitcoin Planet",
          "BritCoin",
          "Linda",
          "DeepOnion",
          "Signatum",
          "Cream",
          "Monoeci",
          "Draftcoin",
          "Vechain",
          "Stakecoin",
          "CoinonatX",
          "Ethereum Dark",
          "Obsidian",
          "Cardano",
          "Regalcoin",
          "TrezarCoin",
          "TerraNovaCoin",
          "Rupee",
          "WomenCoin",
          "Theresa May Coin",
          "NamoCoin",
          "LUXCoin",
          "Xios",
          "Bitcloud 2.0",
          "KekCoin",
          "BlackholeCoin",
          "Infinity Economics",
          "Magnet",
          "Lamden Tau",
          "Electra",
          "Bitcoin Diamond",
          "Cash & Back Coin",
          "Bulwark",
          "Kalkulus",
          "GermanCoin",
          "LiteCoin Ultra",
          "PhantomX",
          "Digiwage",
          "Trollcoin",
          "Litecoin Plus",
          "Monkey Project",
          "TokenPay",
          "1717 Masonic Commemorative Token",
          "My Big Coin",
          "Unified Society USDEX",
          "Tokyo Coin",
          "Stipend",
          "Pushi",
          "Ellerium",
          "Velox",
          "Ontology",
          "Bitspace",
          "Briacoin",
          "Ignition",
          "MedicCoin",
          "Bitcoin Green",
          "Deviant Coin",
          "Abjcoin",
          "Semux",
          "Carebit",
          "Zealium",
          "Proton",
          "iDealCash",
          "Bitcoin Incognito",
          "HollyWoodCoin",
          "Swisscoin",
          "Xt3ch",
          "TheVig",
          "EmaratCoin",
          "Dekado",
          "Lynx",
          "Poseidon Quark",
          "BitcoinWSpectrum",
          "Muse",
          "Trivechain",
          "Dystem",
          "Giant",
          "Peony Coin",
          "Absolute Coin",
          "Vitae",
          "TPCash",
          "ARENON",
          "EUNO",
          "MMOCoin",
          "Ketan",
          "XDNA",
          "PAXEX",
          "ThunderStake",
          "Kcash",
          "Bettex coin",
          "BitMoney",
          "Junson Ming Chan Coin",
          "HerbCoin",
          "Oduwa",
          "Galilel",
          "Crypto Sports",
          "Credit",
          "Dash Platinum",
          "Nasdacoin",
          "Beetle Coin",
          "Titan Coin",
          "Award",
          "Insane Coin",
          "ALAX",
          "LiteDoge",
          "TruckCoin",
          "OrangeCoin",
          "BitstarCoin",
          "NeosCoin",
          "HyperCoin",
          "PinkCoin",
          "AudioCoin",
          "IncaKoin",
          "Piggy Coin",
          "Genstake",
          "XiaoMiCoin",
          "CapriCoin",
          " ClubCoin",
          "Radium",
          "Creditbit ",
          "OKCash",
          "Lisk",
          "HiCoin",
          "WhiteCoin",
          "FriendshipCoin",
          "Triangles Coin",
          "EOS",
          "Oxycoin",
          "TigerCash",
          "Waves",
          "Particl",
          "Nxt",
          "ZEPHYR",
          "Gapcoin",
          "BitcoinPlus"
         ],
         "legendgroup": "0",
         "marker": {
          "color": [
           0,
           0,
           0,
           0,
           0,
           0,
           0,
           0,
           0,
           0,
           0,
           0,
           0,
           0,
           0,
           0,
           0,
           0,
           0,
           0,
           0,
           0,
           0,
           0,
           0,
           0,
           0,
           0,
           0,
           0,
           0,
           0,
           0,
           0,
           0,
           0,
           0,
           0,
           0,
           0,
           0,
           0,
           0,
           0,
           0,
           0,
           0,
           0,
           0,
           0,
           0,
           0,
           0,
           0,
           0,
           0,
           0,
           0,
           0,
           0,
           0,
           0,
           0,
           0,
           0,
           0,
           0,
           0,
           0,
           0,
           0,
           0,
           0,
           0,
           0,
           0,
           0,
           0,
           0,
           0,
           0,
           0,
           0,
           0,
           0,
           0,
           0,
           0,
           0,
           0,
           0,
           0,
           0,
           0,
           0,
           0,
           0,
           0,
           0,
           0,
           0,
           0,
           0,
           0,
           0,
           0,
           0,
           0,
           0,
           0,
           0,
           0,
           0,
           0,
           0,
           0,
           0,
           0,
           0,
           0,
           0,
           0,
           0,
           0,
           0,
           0,
           0,
           0,
           0,
           0,
           0,
           0,
           0,
           0,
           0,
           0,
           0,
           0,
           0,
           0,
           0,
           0,
           0,
           0,
           0,
           0,
           0,
           0,
           0,
           0,
           0,
           0,
           0,
           0,
           0,
           0,
           0,
           0,
           0,
           0,
           0,
           0,
           0,
           0,
           0,
           0,
           0,
           0,
           0,
           0,
           0,
           0,
           0,
           0,
           0,
           0,
           0,
           0,
           0,
           0,
           0,
           0,
           0,
           0,
           0,
           0,
           0,
           0,
           0,
           0,
           0,
           0,
           0,
           0,
           0,
           0,
           0,
           0,
           0,
           0,
           0,
           0,
           0,
           0,
           0,
           0,
           0,
           0,
           0,
           0,
           0,
           0,
           0,
           0,
           0,
           0,
           0,
           0,
           0,
           0,
           0,
           0,
           0,
           0,
           0,
           0,
           0,
           0,
           0,
           0,
           0,
           0,
           0,
           0,
           0,
           0,
           0,
           0,
           0,
           0,
           0,
           0,
           0,
           0,
           0,
           0,
           0,
           0,
           0,
           0,
           0,
           0,
           0,
           0,
           0,
           0,
           0,
           0,
           0,
           0,
           0,
           0,
           0,
           0,
           0,
           0,
           0,
           0,
           0,
           0,
           0,
           0,
           0,
           0,
           0,
           0,
           0,
           0,
           0,
           0,
           0,
           0,
           0,
           0,
           0,
           0,
           0,
           0
          ],
          "coloraxis": "coloraxis",
          "symbol": "circle"
         },
         "mode": "markers",
         "name": "0",
         "scene": "scene",
         "showlegend": true,
         "type": "scatter3d",
         "x": [
          -0.35120734302740686,
          -0.3344923818376766,
          2.3085642679979665,
          -0.3961327202396275,
          -0.27789147180490853,
          -0.3188939015480853,
          -0.25226621784704073,
          -0.2718123218375413,
          -0.35086579742489366,
          -0.3434218983209979,
          -0.3496995334898981,
          -0.35120326344663566,
          -0.3511874948144739,
          0.6076079219435814,
          -0.3862134943907268,
          -0.30485834003952517,
          -0.30580993620547287,
          -0.3492595259881787,
          -0.3092699975157869,
          -0.3960271095145847,
          -0.4932396855676527,
          -0.023742278798548663,
          -0.28207457691507315,
          -0.2843298219121945,
          -0.2853622273265824,
          -0.28598624924064586,
          -0.35297782754135393,
          -0.34548971739013457,
          -0.34960366359411277,
          0.007977683793604166,
          -0.32921454946423484,
          -0.3963999359964773,
          -0.22364309020611994,
          -0.3127313349690141,
          -0.39631124007361285,
          -0.3263547515696861,
          -0.3498801046979173,
          -0.3160703274347044,
          -0.39627564777044677,
          -0.22411297320669557,
          -0.2857664741464558,
          -0.34227672340802406,
          -0.13289767762984805,
          -0.3195623610859403,
          -0.31810295994207305,
          -0.3856334061184673,
          -0.28431015025049783,
          -0.2860617618894893,
          -0.27894470160874113,
          -0.3511893593173215,
          -0.2860138236472887,
          -0.3296605338828498,
          -0.35092281075130055,
          -0.3963814110810684,
          -0.5771627071555402,
          -0.44758683536489124,
          -0.30826375256065475,
          -0.28270624905001557,
          -0.2855337546527261,
          -0.3114213013873793,
          -0.2742634103770491,
          -0.10200520232675116,
          -0.31886473075194405,
          -0.07270234984080301,
          -0.3189287005896489,
          -0.24775357608919285,
          -0.3507981575734784,
          -0.28257396725835593,
          -0.3935393660964472,
          0.8729634649105653,
          -0.3187279505338771,
          -0.12558601199688618,
          -0.3045405347584448,
          -0.39421753703813567,
          -0.3174664070336306,
          -0.3151254870196994,
          -0.36946511056570247,
          -0.39511183302010294,
          -0.3387515686127626,
          -0.3270102597149847,
          -0.35083634804519814,
          -0.34927036834323205,
          -0.21812309142408945,
          -0.31710990922174126,
          -0.3958533937814714,
          -0.35003789927919393,
          -0.3189095151322971,
          -0.3963705477643072,
          -0.3510262434116181,
          -0.3511835756129522,
          -0.2825652404096929,
          -0.2514291436117772,
          0.016349646591300233,
          -0.30349415377649264,
          -0.3507966083376158,
          -0.38248093542734724,
          -0.3028211022791814,
          -0.21955940446521202,
          -0.4583901720365728,
          -0.30256727446265513,
          -0.29919016726429126,
          3.626961192639533,
          -0.39596169299498796,
          0.8494579406317085,
          -0.3963253195393823,
          -0.3039594421091322,
          -0.35072365161321967,
          -0.3508784003432864,
          -0.3045405347584448,
          -0.3958985486237397,
          -0.318771795784721,
          -0.35072443280432763,
          -0.328902220568275,
          -0.35087229186568825,
          -0.34644261660115466,
          -0.39635438893835395,
          -0.3500797909193668,
          0.3610690989237985,
          -0.3510722655153949,
          -0.3511431178204546,
          -0.3384675973764297,
          -0.3491030228800555,
          -0.3473550163428859,
          -0.31888586011033815,
          -0.3962640441473748,
          -0.3509201519145925,
          -0.35104745983377994,
          -0.2842159591632698,
          -0.32198510904359207,
          -0.21932648844020608,
          -0.33183758886385806,
          -0.2839564960394367,
          -0.3955269437265374,
          -0.45127902038579215,
          -0.3942615607454186,
          -0.3027812758657911,
          -0.3954245314406206,
          -0.29716261234336283,
          -0.3913505730055301,
          -0.3509905867637008,
          -0.3509897168014018,
          -0.3440838276301089,
          0.28253401884546897,
          -0.3959048718948286,
          -0.2667923370478317,
          -0.3045748509516503,
          -0.35019832251658095,
          0.8641178892344376,
          -0.2509513515579914,
          -0.33752584210007935,
          0.5748484439667332,
          -0.3710058572660407,
          -0.36950286438399604,
          -0.44748187808637613,
          -0.2856978444219231,
          0.1154839524295323,
          -0.2857689094718608,
          -0.3141798923896439,
          -0.44698532109520905,
          -0.3961782873873621,
          -0.2842906705010167,
          4.408258165815306,
          -0.3044404894215534,
          -0.35062450937416817,
          -0.35112599087003654,
          -0.3361520926680358,
          0.6618956004969375,
          -0.3961188064039043,
          -0.3479594119259797,
          -0.35108138687302276,
          -0.2961688417555801,
          0.4204705485970906,
          -0.31722669673804393,
          -0.3557190472786277,
          -0.41501397876251644,
          -0.35103153988844293,
          -0.40346757797922067,
          -0.307358068751067,
          -0.35090161004013337,
          -0.0781743617718689,
          -0.39490703024638035,
          3.631834273250006,
          0.19035031297186344,
          -0.28242857278830746,
          -0.3483529615082804,
          -0.3042044454542944,
          -0.338353129796771,
          0.06483965132348161,
          -0.35003657774679964,
          -0.3954905970759616,
          -0.3375146533711567,
          -0.33756026641392445,
          -0.35114818840155576,
          -0.32963237379116395,
          -0.3390343726898678,
          -0.25185912536818467,
          -0.2982409502872326,
          -0.34667868719915296,
          -0.21109221275541964,
          -0.37457153558080647,
          -0.39619546177541703,
          -0.2900484987846441,
          -0.28344737505153617,
          -0.27718972982490503,
          -0.3706033371327514,
          -0.35117563060775,
          -0.3511572727146911,
          -0.27780950085341816,
          -0.30974358964060206,
          -0.30403355960953515,
          -0.3508727626191536,
          3.8047119775774583,
          -0.4021317265702605,
          -0.30422284060067056,
          -0.3059293814548721,
          -0.29754816880553386,
          -0.2020654310276555,
          -0.2839839224514016,
          -0.15363584307470146,
          -0.2842365738417285,
          -0.36475336300157274,
          -0.35034484008623573,
          -0.20704062739334644,
          2.232757589636831,
          -0.33404364162896916,
          -0.2510802297426831,
          0.9797252164313085,
          -0.3718278286237478,
          -0.3384669845717818,
          -0.4051581556851341,
          -0.16448891375221156,
          -0.3626608160910182,
          -0.3371821705991199,
          -0.3440237444522926,
          -0.32920828472195673,
          -0.39566706896814086,
          -0.28147234090233725,
          -0.303318998531779,
          -0.3463283671378307,
          -0.32906890675785844,
          -0.21010737910814214,
          -0.37987765253662265,
          -0.223477528741359,
          0.6194973812862787,
          -0.11897357198250066,
          -0.4044503482617191,
          -0.35087681872212073,
          -0.40490806889704667,
          -0.33858436164123185,
          0.5588612790040927,
          -0.3296868571374587,
          -0.35035773951654914,
          -0.2844845215401741,
          -0.31930285406362385,
          -0.39322171938182504,
          -0.3958951240911939,
          3.6441155424416887,
          0.08559390227645726,
          -0.39342785107058803,
          -0.3497405273825904,
          -0.3505690707011492,
          -0.25229887570150467,
          -0.35108933886373067,
          -0.387494898666768,
          -0.264458455681046,
          -0.09790991329569484,
          -0.3832269504938608,
          -0.35036544109359136,
          -0.343406554816432,
          -0.3924523511817061,
          -0.34879894839293285,
          -0.3048170540503475,
          -0.3461635746814327,
          -0.31740399138263603,
          3.6273544216276745,
          -0.09087979023598053,
          -0.3459844626908363,
          -0.3526021527465613,
          -0.2861693716005066,
          3.6372498714077097,
          3.6384976248124397,
          -0.23313240146600295,
          -0.26643472617071584,
          -0.30475273692684307,
          -0.2249362305808872,
          2.43160955074867,
          -0.3492450557072978,
          -0.28463453484850343
         ],
         "y": [
          0.9694187794282958,
          0.9697744309719388,
          1.6809169159756565,
          1.169777597057654,
          1.6541277800373841,
          0.7549866580230941,
          0.676322292568716,
          1.7483882775482713,
          0.9694221784739756,
          0.9697469501914111,
          0.9694823363859449,
          0.9694186234903099,
          0.9694189602396751,
          0.2188919824455245,
          0.875501907815621,
          1.830637626087513,
          0.25445376298954714,
          0.9694221809491469,
          1.0919743736952812,
          1.1697820487428991,
          1.5300477356676176,
          0.9017429560972204,
          0.7549664451423603,
          0.8907481027580937,
          1.777620984029741,
          1.7775946803645972,
          0.5114683971392718,
          0.9693843288826645,
          0.969422103721832,
          0.9845590853602657,
          1.091133674347932,
          1.16978076157113,
          0.28024806504506244,
          1.6425482703722676,
          1.1697779423758885,
          0.9694169942081876,
          0.969409139514341,
          0.25248182587940193,
          1.1697823940024923,
          0.2802938440819585,
          1.7776039442868317,
          0.9691393667599161,
          0.18107507389548216,
          1.6533562785404619,
          0.7549898283447374,
          0.8755292322407603,
          0.890759543682836,
          1.7775836271125347,
          0.8906577798331847,
          0.969419537502119,
          1.7775869595064293,
          1.0911017581959124,
          0.9694176559187723,
          1.169781543086055,
          1.2063243922952027,
          1.79683571190131,
          0.9246019820678615,
          0.8907615655874203,
          1.7775809611067432,
          0.754660215942239,
          1.74849726114432,
          0.8481275074395825,
          0.7549878876255111,
          1.1660122666667923,
          0.7549927335082994,
          1.3993533762068724,
          0.9694084814759593,
          0.8906877485754582,
          1.1696494922956924,
          0.8746111332202782,
          0.7549818477782231,
          0.21281226578652543,
          1.8306379050684658,
          1.1698235652364763,
          0.7549151831036739,
          0.7548156087003113,
          1.3941639854746501,
          1.1697438943274578,
          1.645286577625098,
          0.9691270214812674,
          0.969405341350423,
          0.9694348410170252,
          1.6988449908551946,
          1.0912130105717632,
          1.1697710072486442,
          0.9694090467305895,
          0.7549866557366081,
          1.1697800334307817,
          0.9694126401882913,
          0.9694197812958374,
          0.8908330948244277,
          0.34518378716181886,
          1.7567271277340022,
          1.8306465957898657,
          0.9694360926743363,
          1.1693836915884537,
          1.8306972652665856,
          1.6989139788450165,
          1.8017005546503218,
          1.8305367864431115,
          1.7516207953748162,
          1.4600434418163348,
          1.1697795593316698,
          1.8248982534791451,
          1.16978138022486,
          1.8306427235471083,
          0.9694138912955562,
          0.9694050990964317,
          1.8306379050684658,
          1.169762545342957,
          0.7549931167136742,
          0.9694174918016768,
          0.7765901136731853,
          0.9694145385450196,
          0.9691928831140962,
          1.1697794028455555,
          0.96937186477029,
          0.8966384001638712,
          0.9694159471096239,
          0.9694193119901666,
          1.5783834018470293,
          0.5784810747118823,
          0.9692532347478799,
          0.7549876528390534,
          1.1697803554526136,
          0.9694177679936032,
          0.969411133746501,
          0.8907274420037713,
          0.36656627894220456,
          1.6989159102081022,
          0.969579395376295,
          0.8907518721251718,
          1.1697519749831629,
          1.6943382978099313,
          1.169798754643976,
          1.8306528439129213,
          1.1697562918483475,
          1.8306996732274525,
          1.1696656747889658,
          0.9694140040606803,
          0.9694091953563954,
          0.9690631940113869,
          0.6496842003260362,
          1.1697753958984909,
          0.8901862422553638,
          1.8306299000316617,
          0.9693924467779537,
          1.7374724445284917,
          0.6762546886183438,
          1.6452946299055675,
          1.7192254588036764,
          1.3941515085547924,
          1.3941427184426838,
          1.7446590578483172,
          1.7775871615157937,
          0.9562979387925727,
          1.7775914471692047,
          1.6255201513530662,
          1.744679988633801,
          1.169783869733417,
          0.8907489490552501,
          3.3248548900616917,
          1.8306148386319825,
          0.9694117006619346,
          0.9694194540085604,
          1.6539735013343662,
          1.6286744476823949,
          1.1697749042780372,
          0.5114200632496735,
          0.9694137699585602,
          0.7531389953012056,
          0.9855500479257621,
          0.7550057770928915,
          1.3940154085263896,
          1.7211850590709952,
          0.9694124169321049,
          1.6570012754735344,
          1.6755478260812728,
          0.9694219677009486,
          0.6777660890959576,
          1.1697492478657527,
          1.4600029055846266,
          1.3981446170485052,
          1.7776069134585355,
          0.9694013673818732,
          1.3154766162385834,
          1.578384947591653,
          0.9541631888620213,
          0.9693697511566669,
          1.1697862997934123,
          1.5783547054418559,
          0.9694037595144794,
          0.9694186495129331,
          1.0911022893406386,
          1.6452802316804558,
          -0.02356761677075926,
          0.3005940871211491,
          0.9694575123043238,
          1.6987478424627107,
          0.7569328354780376,
          1.1697729848232072,
          1.48126498812084,
          0.8907145852592108,
          1.6270035837532588,
          1.3941422413287499,
          0.9694181486283932,
          0.9694176107378684,
          0.8907056306215395,
          1.7954017378915164,
          1.8306146768822347,
          0.9694132069926024,
          1.55902478384215,
          1.6570575840539712,
          1.830611945179414,
          0.704235587550473,
          0.9683213562842894,
          1.2361053321870787,
          0.8907562425604363,
          0.9710570621599434,
          0.8907337874585032,
          1.7537144462751089,
          0.9694000437420075,
          1.6698099703412612,
          0.2982000909293056,
          1.5781534119721046,
          0.6763147248865913,
          1.529949056718953,
          0.7829122971892238,
          1.578379492549973,
          1.6570578071532844,
          0.8847394015067277,
          0.8317966199152564,
          1.578381837291854,
          0.9690657266272364,
          1.091097866412592,
          1.1697788611803532,
          0.8907086403291046,
          1.8305647826715832,
          0.9574453997263235,
          1.0910742279895322,
          0.9635610173570348,
          1.7121611682583653,
          1.4025985600093707,
          1.3248694184768701,
          1.099995716123144,
          1.657055604687167,
          0.9694189387122822,
          1.6570592422277197,
          1.5783795490627595,
          0.9587219088455748,
          1.0911008453789743,
          0.9693995000074237,
          1.4812109438938739,
          1.7524165805859395,
          1.1696392709183974,
          1.169782365332733,
          1.460192656221625,
          0.9648758382361078,
          1.169906041043171,
          0.9693494374886137,
          0.9694100996740529,
          0.6763153412158974,
          0.9694237535471957,
          1.1698281985151726,
          0.9661889299263886,
          0.7641913537724794,
          1.1696801730132038,
          0.9694444293426336,
          0.9694852550886592,
          1.16981074238092,
          0.9694153609513247,
          1.8306334636756378,
          0.7077163984077427,
          0.754995024526069,
          1.4600371157425123,
          0.8923486458010158,
          0.9694421770211087,
          0.5114472435334754,
          1.7775868827196029,
          1.4605591102776458,
          1.460611705366055,
          0.6764811614631673,
          5.2713698242967375,
          1.8306364147110246,
          2.4212562405987614,
          0.6067277236170221,
          0.969337529793606,
          0.8907452144240144
         ],
         "z": [
          -0.5226749095719613,
          -0.5230952906356762,
          -0.699960075567991,
          -0.4845099518655564,
          -0.12573348566058767,
          -0.38318440797701264,
          -0.10813378869904719,
          -0.5720789994871118,
          -0.5226832553029112,
          -0.5228809705134363,
          -0.5227148174610341,
          -0.5226749968529391,
          -0.5226753935116772,
          -0.30415849788609,
          -0.42279336527900685,
          -0.16150428564013836,
          -0.14673460906905847,
          -0.5227214960881106,
          -0.20999542007860147,
          -0.4845127471131098,
          -0.5268641850730812,
          -0.25452759976917694,
          -0.38405969278028,
          -0.2476298398650305,
          -0.6443096712680684,
          -0.6442931549935479,
          -0.3590755546600582,
          -0.522808855209435,
          -0.5227132983032249,
          -0.5321816245989753,
          -0.20946753846460686,
          -0.48450378996517784,
          0.08237937011139758,
          -0.2157704714881657,
          -0.484505723624495,
          -0.5232664644762247,
          -0.5227058988220441,
          -0.12905642879381377,
          -0.48450685193433135,
          0.08238766734260344,
          -0.6442989718818757,
          -0.5228698866044871,
          -0.26608488474885594,
          -0.15163030939685676,
          -0.3832034380778189,
          -0.4228089000464101,
          -0.2476310302752799,
          -0.6442906596402488,
          -0.2477523431784461,
          -0.5226753855568036,
          -0.6442920112312744,
          -0.20945490651464127,
          -0.5226816125445031,
          -0.48450428031401327,
          -0.2404103241579549,
          -0.6519064398579885,
          -0.1541727432496407,
          -0.24766934208686894,
          -0.6443030616866113,
          -0.3833417056004851,
          -0.5720275246504234,
          -0.4451314303972706,
          -0.383185180053868,
          -0.49197223780842303,
          -0.38318396296326224,
          -0.5998941395566016,
          -0.5226840011342532,
          -0.24766783242386836,
          -0.48456360681234617,
          -0.2741631382730813,
          -0.38318805519067717,
          -0.28631957609257086,
          -0.16151186926284922,
          -0.48455844802841547,
          -0.38321388136343726,
          -0.38326332726368195,
          -0.5966690190494292,
          -0.4845321290841759,
          -0.1485489190171268,
          -0.5232325573294936,
          -0.5226828937440321,
          -0.5227220369941047,
          -0.3692665635795292,
          -0.2097607218228498,
          -0.4845161859013628,
          -0.5227021363382012,
          -0.3831840361188895,
          -0.4845044436570685,
          -0.5226788335510121,
          -0.5226755386367627,
          -0.2476772136052148,
          -0.3024469631110271,
          -0.7443133920225288,
          -0.16153732904467086,
          -0.5226857806773157,
          -0.48481009991679763,
          -0.1615565504003974,
          -0.369236723289039,
          -0.7188331539848405,
          -0.16155246479717444,
          -0.7364790287656467,
          0.3260782039378017,
          -0.48451414737193654,
          -0.6743102929957151,
          -0.484505605410844,
          -0.16152600749543328,
          -0.522686116340189,
          -0.5226818773120212,
          -0.16151186926284922,
          -0.48451457682962784,
          -0.38318772259387507,
          -0.5226863249855819,
          -0.17922001459024428,
          -0.5226826185008111,
          -0.5227740865062991,
          -0.484504788552576,
          -0.5226987923088504,
          -0.2633666639000229,
          -0.5226779466130936,
          -0.5226764721986952,
          -0.24972777237795912,
          -0.2974552313284167,
          -0.5227561739832631,
          -0.38318466220721686,
          -0.48450699952112625,
          -0.5226816829171552,
          -0.5226782333720451,
          -0.24763124661617847,
          -0.23757272266186272,
          -0.3692423902355023,
          -0.5231461839716135,
          -0.24763896556391352,
          -0.48452275651589805,
          -0.7219521939524015,
          -0.48455583405046987,
          -0.16155469493016458,
          -0.484525467108892,
          -0.1616914144869069,
          -0.4846167369256865,
          -0.5226797685113942,
          -0.5226794857248539,
          -0.522822057147306,
          -0.11918457610177319,
          -0.48451523734429247,
          -0.248011894722289,
          -0.16151054706261622,
          -0.5226972694360315,
          -0.5984332336443583,
          -0.10816082504989022,
          -0.14857860819721647,
          -0.8655367187648563,
          -0.5966315509014093,
          -0.5966667779884104,
          -0.7114075136113623,
          -0.6442995465229309,
          -0.5329573534136562,
          -0.6442981251575947,
          -0.10367557686911838,
          -0.7114206562132428,
          -0.4845092629402031,
          -0.247630825359137,
          0.85283888185423,
          -0.16151279522895232,
          -0.5226883383669678,
          -0.5226768889047209,
          -0.12433673334417206,
          -0.1687766875857948,
          -0.4845101131605412,
          -0.3591919779132401,
          -0.5226775920509504,
          -0.14969413211221777,
          -0.5420644181690294,
          -0.38322530593744386,
          -0.5969868953230868,
          -0.4899705098725951,
          -0.522678693366728,
          -0.5248142082129429,
          -0.22819783296618407,
          -0.5226823894064128,
          -0.11236953119797981,
          -0.48453734272432764,
          0.3259647485429936,
          -0.6102478229691267,
          -0.6443786249560974,
          -0.5227417651063244,
          -0.32158440318701326,
          -0.2497305950750525,
          -0.5316169274428659,
          -0.5226996876890551,
          -0.4845257882083467,
          -0.2497486480376789,
          -0.5229988586152372,
          -0.5226763096712184,
          -0.20945561044693825,
          -0.14854178575889074,
          0.10269707936221914,
          -0.1525626901481156,
          -0.5227851682300682,
          -0.3694278168059843,
          -0.5062606397973344,
          -0.4845081670751854,
          -0.49582958372595837,
          -0.2476487329139974,
          -0.15291816004987813,
          -0.5966405488354274,
          -0.522675624739526,
          -0.522676027838752,
          -0.24778238905806663,
          -0.2408986500691476,
          -0.16152247282991042,
          -0.5226825232536045,
          0.31106220505770316,
          -0.5248495648055425,
          -0.16151779419324283,
          -0.006349832282852566,
          -0.5238831146577516,
          -0.1654960987434405,
          -0.24763858845796807,
          -0.5274819086305936,
          -0.2476311563295896,
          -0.7350502998892217,
          -0.5226942607576043,
          -0.2969896260309886,
          -0.3404039116967433,
          -0.24981857819621486,
          -0.10816154598141944,
          0.09769417252527422,
          -0.2814185916456693,
          -0.24972754023466595,
          -0.5247775284530485,
          -0.25010366696524816,
          -0.4247475567904698,
          -0.24975827588745014,
          -0.5228236473963607,
          -0.20946542761856257,
          -0.4845211174457488,
          -0.2476953774956959,
          -0.1615363354049877,
          -0.4343154912697596,
          -0.20946725387907075,
          -0.5256643790797928,
          -0.036297966959300196,
          -0.22077748407846165,
          -0.3257464652044128,
          -0.2150320829481158,
          -0.5247942402723957,
          -0.5226827884428779,
          -0.5247835728623136,
          -0.2497247493964103,
          -0.543665858969894,
          -0.20945422222310908,
          -0.5226939193424593,
          -0.49595863480355806,
          -0.7360504298599794,
          -0.48457052393773953,
          -0.48451590928167837,
          0.32566039144192277,
          -0.532787146419885,
          -0.4845824535429427,
          -0.5227054537010178,
          -0.5226895571546054,
          -0.10813257248149517,
          -0.5226780328440733,
          -0.48471878682874997,
          -0.5245362975245981,
          -0.389026338504358,
          -0.484811051683088,
          -0.5226965716720466,
          -0.5228648191053447,
          -0.4845996626403349,
          -0.5227320306556318,
          -0.16150500583135763,
          -0.19590143130469342,
          -0.38322040642978455,
          0.32606924157016015,
          -0.25233633689553847,
          -0.5228007278118999,
          -0.3590831632849837,
          -0.6442883032427149,
          0.3258007145303832,
          0.3257676896681113,
          -0.10859933584558806,
          4.3586038107878196,
          -0.161506723286525,
          -0.14415008728312945,
          0.11935832489314512,
          -0.5227164978883855,
          -0.2476224032454034
         ]
        },
        {
         "customdata": [
          [
           "SHA-256",
           17927175,
           "21000000"
          ],
          [
           "Ethash",
           107684222.6865,
           "0"
          ],
          [
           "Scrypt",
           63039243.3000049,
           "84000000"
          ],
          [
           "CryptoNight-V7",
           17201143.1449131,
           "0"
          ],
          [
           "Ethash",
           113359703,
           "210000000"
          ],
          [
           "Equihash",
           7383056.25,
           "21000000"
          ],
          [
           "Multiple",
           11406219141,
           "21000000000"
          ],
          [
           "Scrypt",
           5768310,
           "21000000"
          ],
          [
           "X11",
           11149733.9976203,
           "20000000"
          ],
          [
           "Scrypt",
           12205795.4449549,
           "64000000"
          ],
          [
           "Multiple",
           1688254250,
           "2000000000"
          ],
          [
           "Scrypt",
           88,
           "384000000000"
          ],
          [
           "SHA-256",
           170204389.754849,
           "169795588"
          ],
          [
           "Scrypt",
           128940951.183046,
           "250000000"
          ],
          [
           "Scrypt",
           7357794.7925,
           "100000000"
          ],
          [
           "Quark",
           259557164.91477,
           "247000000"
          ],
          [
           "Groestl",
           49548585.1412917,
           "84000000"
          ],
          [
           "Scrypt",
           33442988.3440364,
           "48166000"
          ],
          [
           "Scrypt",
           7219956.64626131,
           "21000000 "
          ],
          [
           "Scrypt",
           4703879.51824446,
           "13140000"
          ],
          [
           "X11",
           4996986.20575291,
           "18000000"
          ],
          [
           "Multiple",
           15929530669.1206,
           "16555000000"
          ],
          [
           "SHA-256",
           18773857500,
           "21000000000"
          ],
          [
           "Scrypt",
           12539015186.822,
           "13500000000"
          ],
          [
           "Scrypt",
           20910478.8062499,
           "21000000 "
          ],
          [
           "Scrypt",
           218871896.499999,
           "299792458"
          ],
          [
           "Scrypt",
           19496786.31025,
           "32000000"
          ],
          [
           "Scrypt",
           1142732.14912776,
           "11235813"
          ],
          [
           "NeoScrypt",
           208669093.00773,
           "336000000"
          ],
          [
           "Scrypt",
           884125802,
           "1420609614"
          ],
          [
           "Scrypt",
           65672720.4708748,
           "70000000"
          ],
          [
           "Scrypt",
           41658647.9999715,
           "72245700"
          ],
          [
           "Scrypt",
           90595753018.6314,
           "90600000000"
          ],
          [
           "SHA-256",
           21089348.999,
           "21000000"
          ],
          [
           "Scrypt",
           151447649.8,
           "265420800"
          ],
          [
           "Scrypt",
           19326319.14375,
           "20000000"
          ],
          [
           "Scrypt",
           1104344.22938102,
           "1350000"
          ],
          [
           "Scrypt",
           38151999.9930997,
           "42000000"
          ],
          [
           "HybridScryptHash256",
           40431856.9,
           "200000000"
          ],
          [
           "Scrypt",
           5804204.88794916,
           "10000000"
          ],
          [
           "Scrypt",
           2366066305.76482,
           "15000000000"
          ],
          [
           "SHA-256",
           14736400,
           "21000000"
          ],
          [
           "Scrypt",
           334709223.483138,
           "337000000"
          ],
          [
           "Scrypt",
           1104157.42169891,
           "21000000"
          ],
          [
           "Scrypt",
           24215181.725,
           "250000000"
          ],
          [
           "Scrypt",
           25593737.1355044,
           "51200000"
          ],
          [
           "SHA-256",
           563336541.299966,
           "888000000"
          ],
          [
           "SHA-256",
           43536800,
           "47011968"
          ],
          [
           "SHA-256",
           22935396,
           "42000000"
          ],
          [
           "SHA-256",
           2278150,
           "80000000"
          ],
          [
           "SHA-256",
           200911.79151896,
           "250000"
          ],
          [
           "X11",
           1207310,
           "0"
          ],
          [
           "Scrypt",
           23150892.1679687,
           "23000000"
          ],
          [
           "Lyra2REv2",
           51173723.8166347,
           "84000000"
          ],
          [
           "Scrypt",
           119606941,
           "265420800"
          ],
          [
           "SHA-256",
           39195739.362088,
           "45000000"
          ],
          [
           "CryptoNight",
           184066828814,
           "184467440735"
          ],
          [
           "CryptoNight",
           6906587610.38292,
           "10000000000"
          ],
          [
           "Scrypt",
           68194674.8711679,
           "105120000"
          ],
          [
           "Scrypt",
           415032420,
           "1680000000"
          ],
          [
           "Scrypt",
           137517654.41397,
           "166386000"
          ],
          [
           "Scrypt",
           181919.2435974,
           "2628000"
          ],
          [
           "Scrypt",
           152270664.860648,
           "160000000"
          ],
          [
           "Scrypt",
           792537250,
           "1000000000"
          ],
          [
           "Stanford Folding",
           719416990,
           "1000000000"
          ],
          [
           "Multiple",
           65113302,
           "0"
          ],
          [
           "QuBit",
           6365285,
           "0"
          ],
          [
           "Scrypt",
           10140044.4430293,
           "3371337"
          ],
          [
           "Scrypt",
           4610340640.89,
           "10000000000"
          ],
          [
           "M7 POW",
           708506520,
           "1840000000"
          ],
          [
           "Scrypt",
           619478,
           "619478"
          ],
          [
           "SHA-256",
           12462620,
           "21000000"
          ],
          [
           "Scrypt",
           88213,
           "92000000000"
          ],
          [
           "X11",
           32221574.820996,
           "33000000"
          ],
          [
           "Lyra2RE",
           13742738,
           "65789100"
          ],
          [
           "SHA-256",
           14747200.0002,
           "53760000"
          ],
          [
           "X11",
           15863837.5,
           "21000000"
          ],
          [
           "Scrypt",
           32565300,
           "210240000"
          ],
          [
           "Scrypt",
           75614500,
           "250000000"
          ],
          [
           "Ethash",
           10495278,
           "16906397"
          ],
          [
           "Blake2b",
           33098296530,
           "0"
          ],
          [
           "X11",
           15867695,
           "16000000"
          ],
          [
           "SHA-256",
           20997476.8650231,
           "21000000"
          ],
          [
           "Scrypt",
           210000000,
           "210000000"
          ],
          [
           "1GB AES Pattern Search",
           11448949,
           "81962100"
          ],
          [
           "Scrypt",
           69836100,
           "84000000"
          ],
          [
           "SHA-256",
           21739971929,
           "21626280000 "
          ],
          [
           "X11",
           45110324,
           "84000000"
          ],
          [
           "Dagger",
           5702048,
           "30000000"
          ],
          [
           "Scrypt",
           636462.55983338,
           "168351300"
          ],
          [
           "X11GOST",
           17263355,
           "24000000"
          ],
          [
           "Scrypt",
           6570807.65677618,
           "20000000"
          ],
          [
           "X11",
           13654082.4987998,
           "25000000"
          ],
          [
           "Scrypt",
           616448,
           "616448"
          ],
          [
           "X11",
           1377917,
           "25000000"
          ],
          [
           "Equihash",
           115898131,
           "200000000"
          ],
          [
           "CryptoNight",
           7822432.72439746,
           "10000000"
          ],
          [
           "SHA-256",
           6243840,
           "9736000"
          ],
          [
           "Multiple",
           1000000000,
           "1200000000"
          ],
          [
           "Scrypt",
           116845228,
           "200000000"
          ],
          [
           "SHA-256",
           9106714,
           "10638298"
          ],
          [
           "Scrypt",
           11119200,
           "30000000"
          ],
          [
           "Lyra2Z",
           7568281.24956067,
           "21400000"
          ],
          [
           "Ethash",
           26205539,
           "26205539"
          ],
          [
           "Equihash",
           5613550,
           "21000000"
          ],
          [
           "Scrypt",
           196297971,
           "10000000000"
          ],
          [
           "X11",
           824000000,
           "500000000"
          ],
          [
           "X11",
           61364813,
           "228000000"
          ],
          [
           "CryptoNight",
           978145,
           "21000000"
          ],
          [
           "Scrypt",
           894026,
           "2714286"
          ],
          [
           "CryptoNight",
           9357088,
           "25000000"
          ],
          [
           "Lyra2RE",
           1876146.443596,
           "9999999"
          ],
          [
           "X11",
           536982074,
           "100000000000"
          ],
          [
           "CryptoNight-V7",
           10969318.522954,
           "185000000"
          ],
          [
           "Scrypt",
           3115258,
           "3360000"
          ],
          [
           "X11",
           30385540,
           "1000000000"
          ],
          [
           "Equihash",
           6921653.89980891,
           "17000000"
          ],
          [
           "Scrypt",
           99843408.3158479,
           "100000000 "
          ],
          [
           "Lyra2RE",
           18545757.5,
           "21000000"
          ],
          [
           "Dagger-Hashimoto",
           2232901,
           "2232901"
          ],
          [
           "Scrypt",
           64096052,
           "4000000000"
          ],
          [
           "NIST5",
           10123200,
           "48252000"
          ],
          [
           "Scrypt",
           20276099.146524,
           "35520400"
          ],
          [
           "SHA-256",
           1317747500,
           "2500000000"
          ],
          [
           "Scrypt",
           13673406.4325268,
           "72000000"
          ],
          [
           "CryptoNight-V7",
           69036016.8340164,
           "105000000"
          ],
          [
           "Argon2d",
           19784224.6512734,
           "0"
          ],
          [
           "Blake2b",
           133248297,
           "340282367"
          ],
          [
           "Cloverhash",
           18407259.0885883,
           "30000000"
          ],
          [
           "CryptoNight",
           1809467143,
           "2000000000"
          ],
          [
           "X11",
           35138975,
           "100000000"
          ],
          [
           "Scrypt",
           18133195,
           "19276800"
          ],
          [
           "Scrypt",
           5167775,
           " 75000000"
          ],
          [
           "X11",
           26042364.3735553,
           "60000000"
          ],
          [
           "X11",
           2622886,
           "18900000"
          ],
          [
           "CryptoNight",
           14161803,
           "54000000"
          ],
          [
           "Time Travel",
           17801865.1605478,
           "21000000"
          ],
          [
           "Scrypt",
           163055097500,
           "200000000000"
          ],
          [
           "Keccak",
           2241009149.22257,
           "5000000000"
          ],
          [
           "X11",
           122475638.389743,
           "1100000000"
          ],
          [
           "SHA-256",
           17995589.6469082,
           "21000000"
          ],
          [
           "Scrypt",
           485214,
           "10500000000"
          ],
          [
           "Scrypt",
           143006669741.687,
           "0"
          ],
          [
           "Scrypt",
           9704042,
           "20000000"
          ],
          [
           "Scrypt",
           17453749.4042601,
           "84000000"
          ],
          [
           "Scrypt",
           32646731.063036,
           "100000000"
          ],
          [
           "Scrypt",
           33716526,
           "100000000"
          ],
          [
           "CryptoNight",
           8946653,
           "88888888"
          ],
          [
           "Equihash",
           5211553258.01514,
           "21000000000"
          ],
          [
           "X11",
           2702855668.85288,
           "1800000000"
          ],
          [
           "NeoScrypt",
           4165967.57499639,
           "27000000"
          ],
          [
           "Equihash",
           17202361.088994,
           "21000000"
          ],
          [
           "Dagger",
           33986980,
           "156306732.71"
          ],
          [
           "Scrypt",
           99990001.493466,
           "100000000"
          ],
          [
           "X11",
           175215859,
           "350000000"
          ],
          [
           "NeoScrypt",
           6375259.04,
           "45000000"
          ],
          [
           "Ethash",
           12756367,
           "280000000"
          ],
          [
           "NeoScrypt",
           5832306.875,
           "31800000"
          ],
          [
           "Multiple",
           481730566.566176,
           "660000000"
          ],
          [
           "CryptoNight",
           19281821413.4924,
           "85000000000"
          ],
          [
           "CryptoNight",
           4500000,
           "12500000"
          ],
          [
           "Ethash",
           520891780,
           "10000000000"
          ],
          [
           "X11",
           80316207,
           "550000000"
          ],
          [
           "CryptoNight-V7",
           441250233.377,
           "999481516"
          ],
          [
           "Scrypt",
           3964201248.87125,
           "4999999999"
          ],
          [
           "BLAKE256",
           30089671530.5228,
           " 90000000000"
          ],
          [
           "X11",
           4229040.50393462,
           "19800000"
          ],
          [
           "NeoScrypt",
           7847417.33355824,
           "21000000"
          ],
          [
           "NeoScrypt",
           299797953,
           "500000000"
          ],
          [
           "Scrypt",
           45483049.3398182,
           "64000000"
          ],
          [
           "X11",
           8478104.33969947,
           "23000000"
          ],
          [
           "SHA-256",
           20166000,
           "20166000"
          ],
          [
           "C11",
           11916588.09471,
           "23000000"
          ],
          [
           "CryptoNight",
           53139835213.77,
           "1000000000000"
          ],
          [
           "SkunkHash",
           4818338.98949984,
           "16600000"
          ],
          [
           "CryptoNight",
           133932467.774108,
           "336000000"
          ],
          [
           "Scrypt",
           10000000000,
           "10000000000"
          ],
          [
           "Dagger",
           107325266.027783,
           "100000000"
          ],
          [
           "Lyra2REv2",
           643795911.540095,
           "1100000000"
          ],
          [
           "Scrypt",
           12446100.00278,
           "40000000"
          ],
          [
           "Scrypt",
           14491014421,
           "18406979840"
          ],
          [
           "X11",
           211297638.500483,
           "500000000"
          ],
          [
           "Ethash",
           247612453,
           "6500000000"
          ],
          [
           "CryptoNight",
           80049082.9057215,
           "1000000000"
          ],
          [
           "Scrypt",
           4070212.1493016,
           "21000000"
          ],
          [
           "IMesh",
           25000000,
           "25000000"
          ],
          [
           "Equihash",
           71355477,
           "70000000"
          ],
          [
           "Lyra2Z",
           27340501.6514783,
           "300000000"
          ],
          [
           "X11",
           31801461.1867843,
           "100000000"
          ],
          [
           "CryptoNight",
           16016864,
           "18400000"
          ],
          [
           "NIST5",
           21069346.2522598,
           "21000000"
          ],
          [
           "Lyra2RE",
           5097689.71077377,
           "26280000"
          ],
          [
           "Tribus",
           795447,
           "18000000"
          ],
          [
           "Lyra2Z",
           6986399.70430446,
           "10500000"
          ],
          [
           "CryptoNight",
           84300,
           "600000518"
          ],
          [
           "CryptoNight Heavy",
           19153632,
           "150000000"
          ],
          [
           "CryptoNight",
           41294520017,
           "184000000000"
          ],
          [
           "Jump Consistent Hash",
           135862416.039898,
           "168000000"
          ],
          [
           "CryptoNight",
           560085952.404637,
           "1000000000"
          ],
          [
           "X16R",
           8125865.02097646,
           "22075700"
          ],
          [
           "HMQ1725",
           8645406.16776286,
           "21000000"
          ],
          [
           "X11",
           4993030.69736615,
           "21000000"
          ],
          [
           "Scrypt",
           1416663.06600024,
           "22105263"
          ],
          [
           "CryptoNight-V7",
           15580199.3087496,
           "1750000000"
          ],
          [
           "Cryptonight-GPU",
           4890897,
           "88188888"
          ],
          [
           "XEVAN",
           14746153.0962884,
           "210000000"
          ],
          [
           "CryptoNight Heavy",
           99553110528.8022,
           "184470000000"
          ],
          [
           "SHA-256",
           2100000000,
           "2100000000"
          ],
          [
           "X11",
           5015881.37315389,
           "25000000"
          ],
          [
           "X16R",
           9753753.61515394,
           "100000000"
          ],
          [
           "Equihash",
           4235111504,
           "7600000000"
          ],
          [
           "Lyra2Z",
           13634850,
           "84000000"
          ],
          [
           "SHA-256",
           17992514.6469233,
           "21000000"
          ],
          [
           "CryptoNight",
           1867054873.28397,
           "8080000000"
          ],
          [
           "Blake",
           1578281.31341127,
           "105120001.44"
          ],
          [
           "Blake",
           15846721.2482747,
           "25228800"
          ],
          [
           "Equihash",
           13475920,
           "105000000"
          ],
          [
           "Exosis",
           406091.925,
           "21000000"
          ],
          [
           "Scrypt",
           35284717.173946,
           "120000000"
          ],
          [
           "Equihash",
           35687520,
           "262800000"
          ],
          [
           "Equihash",
           25150787.5,
           "30886000"
          ],
          [
           "QuBit",
           12925790.4226959,
           "100000000"
          ],
          [
           "SHA-256",
           52293836.6277958,
           "64000000"
          ],
          [
           "X13",
           1170292.5,
           "2100000"
          ],
          [
           "SHA-256",
           84613099.9999955,
           "168000000"
          ],
          [
           "Scrypt",
           55565076.3863525,
           "98100000000"
          ],
          [
           "NeoScrypt",
           3824685012,
           "4000000000"
          ],
          [
           "Blake",
           23356790.1494191,
           "7000000000"
          ],
          [
           "Scrypt",
           780210700,
           "1000000000"
          ],
          [
           "SHA-256",
           22986929.0854247,
           "42000000"
          ],
          [
           "Scrypt",
           29583989322.9213,
           "50000000000"
          ],
          [
           "Groestl",
           73298203.8873662,
           "105000000"
          ],
          [
           "Scrypt",
           5052555.91981545,
           "5000000"
          ],
          [
           "Scrypt",
           69684455.4387001,
           "182000000"
          ],
          [
           "Multiple",
           3332922.5,
           "2800000"
          ],
          [
           "Equihash+Scrypt",
           100000000,
           "2100000000"
          ],
          [
           "Ethash",
           24487944.0958204,
           "24487944"
          ],
          [
           "CryptoNight",
           980222595,
           "1400222610"
          ],
          [
           "Equihash",
           7296537.5,
           "21000000"
          ]
         ],
         "hovertemplate": "<b>%{hovertext}</b><br><br>class=%{marker.color}<br>PC 1=%{x}<br>PC 2=%{y}<br>PC 3=%{z}<br>Algorithm=%{customdata[0]}<br>TotalCoinsMined=%{customdata[1]}<br>TotalCoinSupply=%{customdata[2]}<extra></extra>",
         "hovertext": [
          "Bitcoin",
          "Ethereum",
          "Litecoin",
          "Monero",
          "Ethereum Classic",
          "ZCash",
          "DigiByte",
          "ProsperCoin",
          "Spreadcoin",
          "Argentum",
          "MyriadCoin",
          "MoonCoin",
          "ZetaCoin",
          "SexCoin",
          "Quatloo",
          "QuarkCoin",
          "Riecoin",
          "Digitalcoin ",
          "Catcoin",
          "CannaCoin",
          "CryptCoin",
          "Verge",
          "DevCoin",
          "EarthCoin",
          "E-Gulden",
          "Einsteinium",
          "Emerald",
          "Franko",
          "FeatherCoin",
          "GrandCoin",
          "GlobalCoin",
          "GoldCoin",
          "Infinite Coin",
          "IXcoin",
          "KrugerCoin",
          "LuckyCoin",
          "Litebar ",
          "MegaCoin",
          "MediterraneanCoin",
          "MinCoin",
          "NobleCoin",
          "Namecoin",
          "NyanCoin",
          "RonPaulCoin",
          "StableCoin",
          "SmartCoin",
          "SysCoin",
          "TigerCoin",
          "TerraCoin",
          "UnbreakableCoin",
          "Unobtanium",
          "UroCoin",
          "ViaCoin",
          "Vertcoin",
          "WorldCoin",
          "JouleCoin",
          "ByteCoin",
          "DigitalNote ",
          "MonaCoin",
          "Gulden",
          "PesetaCoin",
          "Wild Beast Coin",
          "Flo",
          "ArtByte",
          "Folding Coin",
          "Unitus",
          "CypherPunkCoin",
          "OmniCron",
          "GreenCoin",
          "Cryptonite",
          "MasterCoin",
          "SoonCoin",
          "1Credit",
          "MarsCoin ",
          "Crypto",
          "Anarchists Prime",
          "BowsCoin",
          "Song Coin",
          "BitZeny",
          "Expanse",
          "Siacoin",
          "MindCoin",
          "I0coin",
          "Revolution VR",
          "HOdlcoin",
          "Gamecredits",
          "CarpeDiemCoin",
          "Adzcoin",
          "SoilCoin",
          "YoCoin",
          "SibCoin",
          "Francs",
          "BolivarCoin",
          "Omni",
          "PizzaCoin",
          "Komodo",
          "Karbo",
          "ZayedCoin",
          "Circuits of Value",
          "DopeCoin",
          "DollarCoin",
          "Shilling",
          "ZCoin",
          "Elementrem",
          "ZClassic",
          "KiloCoin",
          "ArtexCoin",
          "Kurrent",
          "Cannabis Industry Coin",
          "OsmiumCoin",
          "Bikercoins",
          "HexxCoin",
          "PacCoin",
          "Citadel",
          "BeaverCoin",
          "VaultCoin",
          "Zero",
          "Canada eCoin",
          "Zoin",
          "DubaiCoin",
          "EB3coin",
          "Coinonat",
          "BenjiRolls",
          "ILCoin",
          "EquiTrader",
          "Quantum Resistant Ledger",
          "Dynamic",
          "Nano",
          "ChanCoin",
          "Dinastycoin",
          "DigitalPrice",
          "Unify",
          "SocialCoin",
          "ArcticCoin",
          "DAS",
          "LeviarCoin",
          "Bitcore",
          "gCn Coin",
          "SmartCash",
          "Onix",
          "Bitcoin Cash",
          "Sojourn Coin",
          "NewYorkCoin",
          "FrazCoin",
          "Kronecoin",
          "AdCoin",
          "Linx",
          "Sumokoin",
          "BitcoinZ",
          "Elements",
          "VIVO Coin",
          "Bitcoin Gold",
          "Pirl",
          "eBoost",
          "Pura",
          "Innova",
          "Ellaism",
          "GoByte",
          "SHIELD",
          "UltraNote",
          "BitCoal",
          "DaxxCoin",
          "AC3",
          "Lethean",
          "PopularCoin",
          "Photon",
          "Sucre",
          "SparksPay",
          "GunCoin",
          "IrishCoin",
          "Pioneer Coin",
          "UnitedBitcoin",
          "Interzone",
          "TurtleCoin",
          "MUNcoin",
          "Niobio Cash",
          "ShareChain",
          "Travelflex",
          "KREDS",
          "BitFlip",
          "LottoCoin",
          "Crypto Improvement Fund",
          "Callisto Network",
          "BitTube",
          "Poseidon",
          "Aidos Kuneen",
          "Bitrolium",
          "Alpenschillling",
          "FuturoCoin",
          "Monero Classic",
          "Jumpcoin",
          "Infinex",
          "KEYCO",
          "GINcoin",
          "PlatinCoin",
          "Loki",
          "Newton Coin",
          "MassGrid",
          "PluraCoin",
          "Motion",
          "PlusOneCoin",
          "Axe",
          "HexCoin",
          "Webchain",
          "Ryo",
          "Urals Coin",
          "Qwertycoin",
          "Project Pai",
          "Azart",
          "Xchange",
          "CrypticCoin",
          "Actinium",
          "Bitcoin SV",
          "FREDEnergy",
          "Universal Molecule",
          "Lithium",
          "PirateCash",
          "Exosis",
          "Block-Logic",
          "Beam",
          "Bithereum",
          "SLICE",
          "BLAST",
          "Bitcoin Rhodium",
          "GlobalToken",
          "SolarCoin",
          "UFO Coin",
          "BlakeCoin",
          "Crypto Escudo",
          "Crown Coin",
          "SmileyCoin",
          "Groestlcoin",
          "Bata",
          "Pakcoin",
          "JoinCoin",
          "Vollar",
          "Reality Clash",
          "Beldex",
          "Horizen"
         ],
         "legendgroup": "3",
         "marker": {
          "color": [
           3,
           3,
           3,
           3,
           3,
           3,
           3,
           3,
           3,
           3,
           3,
           3,
           3,
           3,
           3,
           3,
           3,
           3,
           3,
           3,
           3,
           3,
           3,
           3,
           3,
           3,
           3,
           3,
           3,
           3,
           3,
           3,
           3,
           3,
           3,
           3,
           3,
           3,
           3,
           3,
           3,
           3,
           3,
           3,
           3,
           3,
           3,
           3,
           3,
           3,
           3,
           3,
           3,
           3,
           3,
           3,
           3,
           3,
           3,
           3,
           3,
           3,
           3,
           3,
           3,
           3,
           3,
           3,
           3,
           3,
           3,
           3,
           3,
           3,
           3,
           3,
           3,
           3,
           3,
           3,
           3,
           3,
           3,
           3,
           3,
           3,
           3,
           3,
           3,
           3,
           3,
           3,
           3,
           3,
           3,
           3,
           3,
           3,
           3,
           3,
           3,
           3,
           3,
           3,
           3,
           3,
           3,
           3,
           3,
           3,
           3,
           3,
           3,
           3,
           3,
           3,
           3,
           3,
           3,
           3,
           3,
           3,
           3,
           3,
           3,
           3,
           3,
           3,
           3,
           3,
           3,
           3,
           3,
           3,
           3,
           3,
           3,
           3,
           3,
           3,
           3,
           3,
           3,
           3,
           3,
           3,
           3,
           3,
           3,
           3,
           3,
           3,
           3,
           3,
           3,
           3,
           3,
           3,
           3,
           3,
           3,
           3,
           3,
           3,
           3,
           3,
           3,
           3,
           3,
           3,
           3,
           3,
           3,
           3,
           3,
           3,
           3,
           3,
           3,
           3,
           3,
           3,
           3,
           3,
           3,
           3,
           3,
           3,
           3,
           3,
           3,
           3,
           3,
           3,
           3,
           3,
           3,
           3,
           3,
           3,
           3,
           3,
           3,
           3,
           3,
           3,
           3,
           3,
           3,
           3,
           3,
           3,
           3,
           3,
           3,
           3,
           3,
           3,
           3,
           3,
           3,
           3,
           3,
           3,
           3,
           3,
           3,
           3,
           3,
           3,
           3,
           3,
           3,
           3,
           3,
           3,
           3,
           3,
           3
          ],
          "coloraxis": "coloraxis",
          "symbol": "diamond"
         },
         "mode": "markers",
         "name": "3",
         "scene": "scene",
         "showlegend": true,
         "type": "scatter3d",
         "x": [
          -0.13707639886967798,
          -0.13551443778315284,
          -0.1682163418781276,
          -0.14459349543549357,
          -0.13395024782113807,
          -0.18330082357445246,
          0.17893678258680662,
          -0.1693664418256597,
          -0.2145002377388861,
          -0.16898151963341665,
          -0.07536168035540664,
          2.5634911895117685,
          -0.13415160662683226,
          -0.16622740335769287,
          -0.16878469306566135,
          -0.21870839927809538,
          -0.20345944685324638,
          -0.1688340105492396,
          -0.16934865572117305,
          -0.1694354263020076,
          -0.21458985823032609,
          0.20272124753006973,
          0.24204382982998487,
          0.08013077309385803,
          -0.1691809144473303,
          -0.16477114425142905,
          -0.16911994423340462,
          -0.16949261162077614,
          -0.1664752259517679,
          -0.14864291776795252,
          -0.1682837190151428,
          -0.1685619646721748,
          1.585261182902478,
          -0.1370376547598118,
          -0.16584188722429763,
          -0.1692074415396806,
          -0.16956344315044694,
          -0.16882019984688235,
          -0.13946162927349204,
          -0.16944429331870464,
          -0.03383582415904531,
          -0.13711549340944815,
          -0.1630870424581364,
          -0.16942358872522556,
          -0.16751054170462887,
          -0.16890858827827473,
          -0.12422306711273315,
          -0.13657748307631778,
          -0.13686557112764755,
          -0.13684821042339756,
          -0.13744127335877473,
          -0.21476440374674702,
          -0.16913922930512984,
          -0.18035221388045025,
          -0.1662320112087414,
          -0.13664499129649854,
          3.8841206620599373,
          0.47173590946878025,
          -0.16800285637165038,
          -0.1525442385324802,
          -0.16671743190948163,
          -0.16956564901355428,
          -0.16658212429411776,
          -0.15275873680469648,
          -0.1299527720988091,
          -0.10948377567023636,
          -0.16833573399074742,
          -0.16943834781005424,
          -0.04192510610181874,
          -0.09531399954779653,
          -0.16957458331843883,
          -0.13714335259182123,
          0.485214380971198,
          -0.2141495317846079,
          -0.1447717413849925,
          -0.13688219538657526,
          -0.21443536143234038,
          -0.16769122043568607,
          -0.166880778499008,
          -0.13658490278101074,
          0.38092059579534715,
          -0.21447090111898442,
          -0.1370387804107259,
          -0.16551893391032524,
          -0.12733700454167027,
          -0.16813306430933495,
          0.2828432253207323,
          -0.213628627234488,
          -0.14527972520652924,
          -0.1683805624200724,
          -0.12984243882919294,
          -0.16936372672152677,
          -0.214433966596949,
          -0.1695746420087965,
          -0.21458437865681113,
          -0.44040098082679047,
          0.3161069944332646,
          -0.13729971763519647,
          -0.08948833462660336,
          -0.1667314740738682,
          -0.13725821865135848,
          -0.16923682425832395,
          -0.14432840970446528,
          -0.13632622930925584,
          -0.18332250421080643,
          -0.09600756779255663,
          -0.20112455241754493,
          -0.21240456713912145,
          0.31610142701256316,
          -0.16955630989057643,
          0.31623255844019726,
          -0.1453142079865874,
          0.5035391070277947,
          -0.14335313286981222,
          -0.16952449874709186,
          -0.20728951139587198,
          -0.18333494640454873,
          -0.16765152557626647,
          -0.1450316745309416,
          -0.14111456558874177,
          -0.14033169412120824,
          -0.18903991763100403,
          -0.16908533974826967,
          -0.10350651599971128,
          -0.16890659880776723,
          -0.14321106969300612,
          -0.15951269940380092,
          -0.020557283381987847,
          -0.1416979998776444,
          0.35234500908793226,
          -0.21363692160101336,
          -0.16922720742858752,
          -0.16898946073811288,
          -0.21403307219533937,
          -0.21461254092144638,
          0.3164978318726743,
          -0.13414447402897292,
          3.251701984535857,
          -0.10432520775613842,
          -0.20544945089940128,
          -0.1370755606284571,
          -0.0948480421387582,
          1.5825833253214618,
          -0.16932533719088372,
          -0.168774871985706,
          -0.16847484378930966,
          -0.1684617362713217,
          0.31668225177516357,
          0.02977829439775603,
          -0.1688515200399143,
          -0.171180146396487,
          -0.1831805138680222,
          -0.1440341936172109,
          -0.1676497294631554,
          -0.2101413009902759,
          -0.17102496433066938,
          -0.13468465930688442,
          -0.17112556632711884,
          -0.09968175148211633,
          1.1571660424770516,
          0.31608408025007867,
          -0.05927776770780774,
          -0.20988056815441541,
          -0.13228419145028963,
          -0.08542879188948212,
          1.0885738368617668,
          -0.21458645607927448,
          -0.17117774427067495,
          -0.16419142993713096,
          -0.16857379457420546,
          -0.21451161935037755,
          -0.1370549038720062,
          -0.19291657793997383,
          8.084418659943655,
          -0.11458114222057593,
          0.31997240975563473,
          0.024110967315309755,
          -0.143536383150004,
          -0.16585992229093974,
          -0.16914939269495585,
          0.13897226947320368,
          -0.20863160535558273,
          -0.08753695085440315,
          0.3240381578383837,
          -0.1693872475402451,
          -0.13129161008961715,
          -0.1821682580173804,
          -0.14210324838235402,
          -0.21367781403827438,
          0.31626718167203893,
          -0.1890997645653918,
          -0.14515886534600075,
          -0.1307357457547976,
          -0.1444131186808238,
          0.3202114478106425,
          0.5966347286180684,
          2.1314952720808606,
          -0.12320944422287304,
          0.329919744752328,
          -0.19099029644788806,
          -0.15169217756853598,
          -0.21456855452457324,
          -0.16941189320416813,
          -0.13215792328131098,
          -0.14752754340434018,
          -0.10718459076060727,
          3.128038423335132,
          -0.09676902889900142,
          -0.21453980498964081,
          -0.19041573332694964,
          -0.07755845270359439,
          -0.14380853127437315,
          -0.13707559830447918,
          0.39632432634835024,
          -0.14195291506758856,
          -0.1423467097747402,
          -0.2976849529140338,
          -0.1381565052244761,
          -0.16830017442018197,
          -0.1812330420460527,
          -0.18301276432904642,
          -0.16754361328122463,
          -0.13634927821812634,
          -0.10452190379242696,
          -0.13521308224546713,
          0.5293101829205957,
          -0.09609236218797489,
          -0.09261252668082198,
          -0.15290976619385513,
          -0.13686493972547797,
          0.5487567527859589,
          -0.20301899266638096,
          -0.16948908974631738,
          -0.1674374180910634,
          -0.11022080273446166,
          -0.09629003614841018,
          -0.1363594987023817,
          0.3379159526392755,
          -0.1833018836337525
         ],
         "y": [
          -1.3254995197911588,
          -2.025334113347328,
          -1.1110736808964412,
          -2.256025556080583,
          -2.0254059093554706,
          -2.229939398577926,
          -1.7231615182466873,
          -1.1110808408701214,
          -0.9107157238408748,
          -1.1110928174455157,
          -1.7214194252963926,
          -1.2477203049524241,
          -1.3254738227261835,
          -1.111098715371328,
          -1.111108131613007,
          -0.42339238633856613,
          -1.2049976679214722,
          -1.1110762148652835,
          -1.111080091153283,
          -1.1110785936744465,
          -0.9107181897992257,
          -1.7192436856285185,
          -1.323278083339925,
          -1.1094043416908101,
          -1.1110730205517567,
          -1.1110699880012558,
          -1.11107766494685,
          -1.1110797552703404,
          -1.5690388456304856,
          -1.111125246895367,
          -1.111067339000927,
          -1.1110805404171245,
          -1.0965267351471633,
          -1.3254978866560527,
          -1.1110925789644857,
          -1.1110734828625741,
          -1.111076257292468,
          -1.1110715887191518,
          -2.0789548829870217,
          -1.1110769080518228,
          -1.1151920242068245,
          -1.3255011676975177,
          -1.1110234027694896,
          -1.1110832497164715,
          -1.111152801999778,
          -1.1110813483159847,
          -1.3255263543267328,
          -1.3254955496479826,
          -1.3255044059638057,
          -1.3255285966550214,
          -1.3255012909343373,
          -0.9107137418283435,
          -1.11107257515606,
          -1.2486901724314758,
          -1.111109023404048,
          -1.3254970756843831,
          -2.203378607593898,
          -2.232791584798002,
          -1.1110785337420144,
          -1.1114598170924392,
          -1.111064532340542,
          -1.111077188455874,
          -1.1110546405892616,
          -1.111022877425764,
          -2.209164653518821,
          -1.721546024732624,
          -1.5019983229568727,
          -1.1110723099983135,
          -1.1122537289934908,
          -2.230798060590272,
          -1.111076247754677,
          -1.325502342013015,
          -1.143813916570718,
          -0.9107094670538227,
          -2.1095753512505118,
          -1.325512819557399,
          -0.9107136450405304,
          -1.111134341157953,
          -1.1111262563286937,
          -2.025390323544172,
          -2.1624727451911223,
          -0.9107118638300876,
          -1.3254979341042974,
          -1.1110426179022306,
          -2.1144238050297335,
          -1.1110701705945818,
          -1.3219690628389085,
          -0.9107209585612835,
          -2.1208583802898353,
          -1.1111359252849156,
          -2.0460196374405992,
          -1.1110800705688668,
          -0.9107162096642625,
          -1.111076248241343,
          -0.9107225498077206,
          -2.4001831958110706,
          -2.232799640302411,
          -1.325501545538853,
          -1.7214902058954324,
          -1.111087170141623,
          -1.3255003880571121,
          -1.1110812799444005,
          -2.1636731876492075,
          -2.0253855188696814,
          -2.2299403124564074,
          -1.1145334036817962,
          -0.9104667244691202,
          -0.9107638052586368,
          -2.232807089380515,
          -1.1110768513858316,
          -2.2328041853695697,
          -2.1095616276688074,
          -0.9460213998070063,
          -2.256094605639595,
          -1.1110759339824732,
          -0.911054516091465,
          -2.229938213499037,
          -1.1110603665305303,
          -2.1095569327686334,
          -2.0698482804011897,
          -1.1124666187915344,
          -0.6863541559768894,
          -1.1110785151752085,
          -1.325710351496379,
          -1.1110949062328601,
          -2.2560361490449226,
          -2.2732569050992337,
          -2.179618947957079,
          -2.1893296499664228,
          -2.232577292449062,
          -0.9107318018583863,
          -1.1110738417168653,
          -1.1111003665787422,
          -0.9107222661446253,
          -0.9107197361853318,
          -2.232812023393967,
          -2.010701143241761,
          -1.0980337056754443,
          -1.123543728863202,
          -0.9110425396405702,
          -1.3254994844577537,
          -1.114812454878895,
          -1.0372191805577256,
          -1.111078452379928,
          -1.11109722396214,
          -1.1110950708992298,
          -1.1110945183933703,
          -2.232827131797123,
          -2.2347168986674917,
          -0.9099589681638233,
          -1.5690345075470153,
          -2.229934327303729,
          -2.1208887177128366,
          -1.1110602908210772,
          -0.9107484187176383,
          -1.5690397717227593,
          -2.0254827759684053,
          -1.5690353549995675,
          -1.721565715551393,
          -2.253088549560759,
          -2.2328022458137693,
          -2.028679144739376,
          -0.9108685992814403,
          -2.2561622110000346,
          -1.1108082156818542,
          -1.2488513276792288,
          -0.9107192269307036,
          -1.5690304711651248,
          -1.5690501396133418,
          -1.1110756310884566,
          -0.910718171160565,
          -1.3254980667549066,
          -1.323563249799959,
          -2.5611991840405324,
          -2.1216099215741813,
          -2.2328505145914495,
          -1.1094701877052833,
          -2.120830805058637,
          -1.2487456441547915,
          -1.1110841530905622,
          -1.1101423305249434,
          -0.9107831604824153,
          -2.027574829729975,
          -2.233114623359493,
          -1.111081717869049,
          -2.2341529692034987,
          -2.2299237957457914,
          -2.1637621141343657,
          -0.9107335255494177,
          -2.2327983972963317,
          -0.6863388052837561,
          -2.109565757006692,
          -2.1815087312447874,
          -2.163669609471839,
          -2.2330135846672063,
          -2.2403345412370292,
          -2.276948400517783,
          -2.156591482953847,
          -2.232866703712429,
          -1.2975761839316524,
          -2.251880727552853,
          -0.9107192593730057,
          -1.1110834816207422,
          -2.2566491196025122,
          -2.2236485121088334,
          -0.599276115845973,
          -2.254518373916323,
          -1.3251640122312869,
          -0.9107206709461149,
          -1.2976030720595215,
          -2.2304528866045423,
          -2.16369233032343,
          -1.325499486045867,
          -2.234711080044184,
          -2.2298015489522376,
          -2.2297657511036104,
          -0.22814429148106752,
          -2.07502324349902,
          -1.1111008253587915,
          -2.2300108234581932,
          -2.229933740132871,
          -1.5020305190848973,
          -1.3254970720755375,
          -0.30290841682231356,
          -1.3255173882204307,
          -1.1459559112161022,
          -1.5684751306113318,
          -2.2322438004281744,
          -1.1110292435907814,
          -1.3255043793490495,
          -1.1135895941152996,
          -1.2049928749194396,
          -1.1110755170299442,
          -1.111105121589587,
          -1.721578928164573,
          -2.1057149530408976,
          -2.025385794742792,
          -2.2327921367826096,
          -2.2299394432613644
         ],
         "z": [
          0.16422694638007007,
          0.37502682917999636,
          0.024708903731779235,
          0.42244437134756735,
          0.3749941217397118,
          0.4384712418790235,
          0.34799839881828165,
          0.024736736147069508,
          0.06290625811173657,
          0.024728328167174452,
          0.3539425511941253,
          -0.0317007196420481,
          0.16415569377256456,
          0.02466313295007518,
          0.024724608844082955,
          0.022521274355568686,
          0.12459653828174852,
          0.024723768547415172,
          0.024736265394075606,
          0.024738236635775186,
          0.0629085473508744,
          0.34718488911549633,
          0.15506099730679254,
          0.018691125552291535,
          0.024731825708762225,
          0.0246266505696771,
          0.024730667313686342,
          0.024739671364367454,
          0.18822559068200442,
          0.024246172251892854,
          0.024710107520489508,
          0.02471756493406108,
          -0.01795439171251955,
          0.16422592092192126,
          0.02465356764275222,
          0.024732486419715847,
          0.024741136883825388,
          0.024723147779172044,
          0.19269027886058535,
          0.024738341346710786,
          0.021769622478509717,
          0.16422798111320086,
          0.024583616835033295,
          0.024738248680299568,
          0.024697094361858983,
          0.024725868019137988,
          0.16392263975337532,
          0.1642148180803452,
          0.16422223557477908,
          0.16422334904465766,
          0.16423574475978397,
          0.06291242203917519,
          0.024730805196522057,
          0.12265214470762563,
          0.024663893233374836,
          0.16421652156844616,
          0.2765432546003393,
          0.35963854193354067,
          0.02470412754947035,
          0.024360167448225244,
          0.024672641661300412,
          0.02474124816866678,
          0.024668796071844284,
          0.024337696902640805,
          0.3144969548723248,
          0.35476288879968126,
          0.24998069762614472,
          0.024737909598790818,
          0.02177675632199757,
          0.3720884211645009,
          0.024741401496700385,
          0.16422871847497233,
          0.011219003373395316,
          0.06289751393534668,
          0.33983451680316923,
          0.16422316236751633,
          0.06290458239452232,
          0.024700230652132463,
          0.024680426129938954,
          0.37505586148827835,
          0.35556675098014323,
          0.06290531607083093,
          0.1642259507150408,
          0.02464272581274971,
          0.3930750996309266,
          0.024706699586125962,
          0.15400706506925255,
          0.0628858379981825,
          0.3846465736376315,
          0.02471674185134798,
          0.4974975859407856,
          0.024736622891382485,
          0.06290471105189015,
          0.024741402924661614,
          0.0629086920769404,
          0.6926627196397179,
          0.36334412003105837,
          0.1642323908008422,
          0.35428333281565466,
          0.02467440473220603,
          0.1642313297777066,
          0.024733678043413587,
          0.45274825249430345,
          0.3750493999853617,
          0.4384718157103802,
          0.023208181667619995,
          0.06257210672087418,
          0.0628594009418113,
          0.36334472271810975,
          0.024741004557514483,
          0.3633414175775217,
          0.33984656519406065,
          0.04804013112721698,
          0.4224191999511743,
          0.024740189325916543,
          0.06275597441039497,
          0.4384719794485185,
          0.02469461677984526,
          0.3398395425829767,
          0.28713248990953416,
          0.024132965995578855,
          -0.04922250050479448,
          0.024729897143550082,
          0.16344105205506532,
          0.024726676353515283,
          0.42241212839751124,
          0.3925033445876855,
          0.36620693592073456,
          0.4456739022364961,
          0.36246736547901537,
          0.06288671982945664,
          0.02473297963659235,
          0.024728993679609842,
          0.06289554917796286,
          0.0629091849584765,
          0.3633355968833801,
          0.4130949132804282,
          -0.057532366116187214,
          0.11169476184350695,
          0.06271141206228607,
          0.16422692419395124,
          0.023198188859332655,
          -0.021633792020071433,
          0.024735606818048518,
          0.0247236866045835,
          0.02471640792101777,
          0.02471606099832101,
          0.3633321599400694,
          0.43369997912142927,
          0.0617717334676519,
          0.18833732729392064,
          0.4384680575867824,
          0.38461883589417145,
          0.024694569241295112,
          0.06280454807852717,
          0.1883339651069576,
          0.37501645731025474,
          0.1883360813883044,
          0.35453077401913685,
          0.34460148132529356,
          0.3633448299957134,
          0.37342297602072855,
          0.06280592589868036,
          0.4221599476643199,
          0.02272121945258995,
          0.07930518144903248,
          0.0629085318133828,
          0.1883370153530792,
          0.18817193298406215,
          0.024717536720824725,
          0.06290668353541112,
          0.16422634293968177,
          0.04115520958431059,
          0.19913001358859997,
          0.35991987106341894,
          0.3632553066809225,
          0.020028949246291977,
          0.3846033293675055,
          0.1223106266516127,
          0.02473177788987323,
          0.01733685909038407,
          0.06277079933786141,
          0.37402604656919197,
          0.36317518212899613,
          0.024737286821470538,
          0.48128218010348933,
          0.4384432940415845,
          0.4527008904347838,
          0.06288780214836952,
          0.3633402279896043,
          -0.04922204457177339,
          0.339843127559833,
          0.36789975893391086,
          0.452750043333482,
          0.363259907930111,
          0.35250256157619303,
          0.32291144637925945,
          0.5036243629460873,
          0.36301951146760486,
          0.2660162383168445,
          0.5236212593636106,
          0.06290810767725032,
          0.024737984880585904,
          0.42218767246311245,
          0.42366503926558075,
          0.05156032540103658,
          0.29313243906825764,
          0.1632461703787706,
          0.06290751232522546,
          0.2660042566721778,
          0.43598623344979986,
          0.4527370838837671,
          0.16422692519114,
          0.36155501887331976,
          0.38190716707925776,
          0.3819142828258327,
          0.16609301116690608,
          0.40552430394856337,
          0.024712612742209268,
          0.4384265219716913,
          0.43846402690161357,
          0.2499638715815406,
          0.16420948127642807,
          -0.09687232514118775,
          0.16418371400896806,
          0.010304401589535479,
          0.18651440191727248,
          0.3808866575052341,
          0.024341694266829226,
          0.1642222188631682,
          0.007798659517434152,
          0.1245857498479124,
          0.024739320025432627,
          0.02469234418861931,
          0.3547825119359792,
          0.4214911683740733,
          0.37505020944391687,
          0.3628244388883292,
          0.43847126993609953
         ]
        },
        {
         "customdata": [
          [
           "Proof-of-BibleHash",
           1772091549.88818,
           "5200000000"
          ],
          [
           "SHA-256 + Hive",
           638382332.208514,
           "840000000"
          ],
          [
           "Proof-of-Authority",
           204479039,
           "252460800"
          ],
          [
           "ECC 256K1",
           1000000000,
           "1000000000"
          ]
         ],
         "hovertemplate": "<b>%{hovertext}</b><br><br>class=%{marker.color}<br>PC 1=%{x}<br>PC 2=%{y}<br>PC 3=%{z}<br>Algorithm=%{customdata[0]}<br>TotalCoinsMined=%{customdata[1]}<br>TotalCoinSupply=%{customdata[2]}<extra></extra>",
         "hovertext": [
          "BiblePay",
          "LitecoinCash",
          "Poa Network",
          "Acute Angle Cloud"
         ],
         "legendgroup": "1",
         "marker": {
          "color": [
           1,
           1,
           1,
           1
          ],
          "coloraxis": "coloraxis",
          "symbol": "square"
         },
         "mode": "markers",
         "name": "1",
         "scene": "scene",
         "showlegend": true,
         "type": "scatter3d",
         "x": [
          -0.26316212803102634,
          -0.4198081422040482,
          -0.3822369526385097,
          -0.27687025490267547
         ],
         "y": [
          2.804522814083581,
          2.5513013019597945,
          3.344617589441659,
          4.104595249265917
         ],
         "z": [
          17.965429304373213,
          18.967704937012446,
          13.554014819818338,
          10.650045454073242
         ]
        },
        {
         "customdata": [
          [
           "TRC10",
           989988713439.649,
           "990000000000"
          ]
         ],
         "hovertemplate": "<b>%{hovertext}</b><br><br>class=%{marker.color}<br>PC 1=%{x}<br>PC 2=%{y}<br>PC 3=%{z}<br>Algorithm=%{customdata[0]}<br>TotalCoinsMined=%{customdata[1]}<br>TotalCoinSupply=%{customdata[2]}<extra></extra>",
         "hovertext": [
          "BitTorrent"
         ],
         "legendgroup": "2",
         "marker": {
          "color": [
           2
          ],
          "coloraxis": "coloraxis",
          "symbol": "x"
         },
         "mode": "markers",
         "name": "2",
         "scene": "scene",
         "showlegend": true,
         "type": "scatter3d",
         "x": [
          34.1163351819568
         ],
         "y": [
          1.8652086570113238
         ],
         "z": [
          -0.6172548768713562
         ]
        }
       ],
       "layout": {
        "coloraxis": {
         "colorbar": {
          "title": {
           "text": "class"
          }
         },
         "colorscale": [
          [
           0,
           "#0d0887"
          ],
          [
           0.1111111111111111,
           "#46039f"
          ],
          [
           0.2222222222222222,
           "#7201a8"
          ],
          [
           0.3333333333333333,
           "#9c179e"
          ],
          [
           0.4444444444444444,
           "#bd3786"
          ],
          [
           0.5555555555555556,
           "#d8576b"
          ],
          [
           0.6666666666666666,
           "#ed7953"
          ],
          [
           0.7777777777777778,
           "#fb9f3a"
          ],
          [
           0.8888888888888888,
           "#fdca26"
          ],
          [
           1,
           "#f0f921"
          ]
         ]
        },
        "legend": {
         "title": {
          "text": "class"
         },
         "tracegroupgap": 0,
         "x": 0,
         "y": 1
        },
        "margin": {
         "t": 60
        },
        "scene": {
         "domain": {
          "x": [
           0,
           1
          ],
          "y": [
           0,
           1
          ]
         },
         "xaxis": {
          "title": {
           "text": "PC 1"
          }
         },
         "yaxis": {
          "title": {
           "text": "PC 2"
          }
         },
         "zaxis": {
          "title": {
           "text": "PC 3"
          }
         }
        },
        "template": {
         "data": {
          "bar": [
           {
            "error_x": {
             "color": "#2a3f5f"
            },
            "error_y": {
             "color": "#2a3f5f"
            },
            "marker": {
             "line": {
              "color": "#E5ECF6",
              "width": 0.5
             },
             "pattern": {
              "fillmode": "overlay",
              "size": 10,
              "solidity": 0.2
             }
            },
            "type": "bar"
           }
          ],
          "barpolar": [
           {
            "marker": {
             "line": {
              "color": "#E5ECF6",
              "width": 0.5
             },
             "pattern": {
              "fillmode": "overlay",
              "size": 10,
              "solidity": 0.2
             }
            },
            "type": "barpolar"
           }
          ],
          "carpet": [
           {
            "aaxis": {
             "endlinecolor": "#2a3f5f",
             "gridcolor": "white",
             "linecolor": "white",
             "minorgridcolor": "white",
             "startlinecolor": "#2a3f5f"
            },
            "baxis": {
             "endlinecolor": "#2a3f5f",
             "gridcolor": "white",
             "linecolor": "white",
             "minorgridcolor": "white",
             "startlinecolor": "#2a3f5f"
            },
            "type": "carpet"
           }
          ],
          "choropleth": [
           {
            "colorbar": {
             "outlinewidth": 0,
             "ticks": ""
            },
            "type": "choropleth"
           }
          ],
          "contour": [
           {
            "colorbar": {
             "outlinewidth": 0,
             "ticks": ""
            },
            "colorscale": [
             [
              0,
              "#0d0887"
             ],
             [
              0.1111111111111111,
              "#46039f"
             ],
             [
              0.2222222222222222,
              "#7201a8"
             ],
             [
              0.3333333333333333,
              "#9c179e"
             ],
             [
              0.4444444444444444,
              "#bd3786"
             ],
             [
              0.5555555555555556,
              "#d8576b"
             ],
             [
              0.6666666666666666,
              "#ed7953"
             ],
             [
              0.7777777777777778,
              "#fb9f3a"
             ],
             [
              0.8888888888888888,
              "#fdca26"
             ],
             [
              1,
              "#f0f921"
             ]
            ],
            "type": "contour"
           }
          ],
          "contourcarpet": [
           {
            "colorbar": {
             "outlinewidth": 0,
             "ticks": ""
            },
            "type": "contourcarpet"
           }
          ],
          "heatmap": [
           {
            "colorbar": {
             "outlinewidth": 0,
             "ticks": ""
            },
            "colorscale": [
             [
              0,
              "#0d0887"
             ],
             [
              0.1111111111111111,
              "#46039f"
             ],
             [
              0.2222222222222222,
              "#7201a8"
             ],
             [
              0.3333333333333333,
              "#9c179e"
             ],
             [
              0.4444444444444444,
              "#bd3786"
             ],
             [
              0.5555555555555556,
              "#d8576b"
             ],
             [
              0.6666666666666666,
              "#ed7953"
             ],
             [
              0.7777777777777778,
              "#fb9f3a"
             ],
             [
              0.8888888888888888,
              "#fdca26"
             ],
             [
              1,
              "#f0f921"
             ]
            ],
            "type": "heatmap"
           }
          ],
          "heatmapgl": [
           {
            "colorbar": {
             "outlinewidth": 0,
             "ticks": ""
            },
            "colorscale": [
             [
              0,
              "#0d0887"
             ],
             [
              0.1111111111111111,
              "#46039f"
             ],
             [
              0.2222222222222222,
              "#7201a8"
             ],
             [
              0.3333333333333333,
              "#9c179e"
             ],
             [
              0.4444444444444444,
              "#bd3786"
             ],
             [
              0.5555555555555556,
              "#d8576b"
             ],
             [
              0.6666666666666666,
              "#ed7953"
             ],
             [
              0.7777777777777778,
              "#fb9f3a"
             ],
             [
              0.8888888888888888,
              "#fdca26"
             ],
             [
              1,
              "#f0f921"
             ]
            ],
            "type": "heatmapgl"
           }
          ],
          "histogram": [
           {
            "marker": {
             "pattern": {
              "fillmode": "overlay",
              "size": 10,
              "solidity": 0.2
             }
            },
            "type": "histogram"
           }
          ],
          "histogram2d": [
           {
            "colorbar": {
             "outlinewidth": 0,
             "ticks": ""
            },
            "colorscale": [
             [
              0,
              "#0d0887"
             ],
             [
              0.1111111111111111,
              "#46039f"
             ],
             [
              0.2222222222222222,
              "#7201a8"
             ],
             [
              0.3333333333333333,
              "#9c179e"
             ],
             [
              0.4444444444444444,
              "#bd3786"
             ],
             [
              0.5555555555555556,
              "#d8576b"
             ],
             [
              0.6666666666666666,
              "#ed7953"
             ],
             [
              0.7777777777777778,
              "#fb9f3a"
             ],
             [
              0.8888888888888888,
              "#fdca26"
             ],
             [
              1,
              "#f0f921"
             ]
            ],
            "type": "histogram2d"
           }
          ],
          "histogram2dcontour": [
           {
            "colorbar": {
             "outlinewidth": 0,
             "ticks": ""
            },
            "colorscale": [
             [
              0,
              "#0d0887"
             ],
             [
              0.1111111111111111,
              "#46039f"
             ],
             [
              0.2222222222222222,
              "#7201a8"
             ],
             [
              0.3333333333333333,
              "#9c179e"
             ],
             [
              0.4444444444444444,
              "#bd3786"
             ],
             [
              0.5555555555555556,
              "#d8576b"
             ],
             [
              0.6666666666666666,
              "#ed7953"
             ],
             [
              0.7777777777777778,
              "#fb9f3a"
             ],
             [
              0.8888888888888888,
              "#fdca26"
             ],
             [
              1,
              "#f0f921"
             ]
            ],
            "type": "histogram2dcontour"
           }
          ],
          "mesh3d": [
           {
            "colorbar": {
             "outlinewidth": 0,
             "ticks": ""
            },
            "type": "mesh3d"
           }
          ],
          "parcoords": [
           {
            "line": {
             "colorbar": {
              "outlinewidth": 0,
              "ticks": ""
             }
            },
            "type": "parcoords"
           }
          ],
          "pie": [
           {
            "automargin": true,
            "type": "pie"
           }
          ],
          "scatter": [
           {
            "marker": {
             "colorbar": {
              "outlinewidth": 0,
              "ticks": ""
             }
            },
            "type": "scatter"
           }
          ],
          "scatter3d": [
           {
            "line": {
             "colorbar": {
              "outlinewidth": 0,
              "ticks": ""
             }
            },
            "marker": {
             "colorbar": {
              "outlinewidth": 0,
              "ticks": ""
             }
            },
            "type": "scatter3d"
           }
          ],
          "scattercarpet": [
           {
            "marker": {
             "colorbar": {
              "outlinewidth": 0,
              "ticks": ""
             }
            },
            "type": "scattercarpet"
           }
          ],
          "scattergeo": [
           {
            "marker": {
             "colorbar": {
              "outlinewidth": 0,
              "ticks": ""
             }
            },
            "type": "scattergeo"
           }
          ],
          "scattergl": [
           {
            "marker": {
             "colorbar": {
              "outlinewidth": 0,
              "ticks": ""
             }
            },
            "type": "scattergl"
           }
          ],
          "scattermapbox": [
           {
            "marker": {
             "colorbar": {
              "outlinewidth": 0,
              "ticks": ""
             }
            },
            "type": "scattermapbox"
           }
          ],
          "scatterpolar": [
           {
            "marker": {
             "colorbar": {
              "outlinewidth": 0,
              "ticks": ""
             }
            },
            "type": "scatterpolar"
           }
          ],
          "scatterpolargl": [
           {
            "marker": {
             "colorbar": {
              "outlinewidth": 0,
              "ticks": ""
             }
            },
            "type": "scatterpolargl"
           }
          ],
          "scatterternary": [
           {
            "marker": {
             "colorbar": {
              "outlinewidth": 0,
              "ticks": ""
             }
            },
            "type": "scatterternary"
           }
          ],
          "surface": [
           {
            "colorbar": {
             "outlinewidth": 0,
             "ticks": ""
            },
            "colorscale": [
             [
              0,
              "#0d0887"
             ],
             [
              0.1111111111111111,
              "#46039f"
             ],
             [
              0.2222222222222222,
              "#7201a8"
             ],
             [
              0.3333333333333333,
              "#9c179e"
             ],
             [
              0.4444444444444444,
              "#bd3786"
             ],
             [
              0.5555555555555556,
              "#d8576b"
             ],
             [
              0.6666666666666666,
              "#ed7953"
             ],
             [
              0.7777777777777778,
              "#fb9f3a"
             ],
             [
              0.8888888888888888,
              "#fdca26"
             ],
             [
              1,
              "#f0f921"
             ]
            ],
            "type": "surface"
           }
          ],
          "table": [
           {
            "cells": {
             "fill": {
              "color": "#EBF0F8"
             },
             "line": {
              "color": "white"
             }
            },
            "header": {
             "fill": {
              "color": "#C8D4E3"
             },
             "line": {
              "color": "white"
             }
            },
            "type": "table"
           }
          ]
         },
         "layout": {
          "annotationdefaults": {
           "arrowcolor": "#2a3f5f",
           "arrowhead": 0,
           "arrowwidth": 1
          },
          "autotypenumbers": "strict",
          "coloraxis": {
           "colorbar": {
            "outlinewidth": 0,
            "ticks": ""
           }
          },
          "colorscale": {
           "diverging": [
            [
             0,
             "#8e0152"
            ],
            [
             0.1,
             "#c51b7d"
            ],
            [
             0.2,
             "#de77ae"
            ],
            [
             0.3,
             "#f1b6da"
            ],
            [
             0.4,
             "#fde0ef"
            ],
            [
             0.5,
             "#f7f7f7"
            ],
            [
             0.6,
             "#e6f5d0"
            ],
            [
             0.7,
             "#b8e186"
            ],
            [
             0.8,
             "#7fbc41"
            ],
            [
             0.9,
             "#4d9221"
            ],
            [
             1,
             "#276419"
            ]
           ],
           "sequential": [
            [
             0,
             "#0d0887"
            ],
            [
             0.1111111111111111,
             "#46039f"
            ],
            [
             0.2222222222222222,
             "#7201a8"
            ],
            [
             0.3333333333333333,
             "#9c179e"
            ],
            [
             0.4444444444444444,
             "#bd3786"
            ],
            [
             0.5555555555555556,
             "#d8576b"
            ],
            [
             0.6666666666666666,
             "#ed7953"
            ],
            [
             0.7777777777777778,
             "#fb9f3a"
            ],
            [
             0.8888888888888888,
             "#fdca26"
            ],
            [
             1,
             "#f0f921"
            ]
           ],
           "sequentialminus": [
            [
             0,
             "#0d0887"
            ],
            [
             0.1111111111111111,
             "#46039f"
            ],
            [
             0.2222222222222222,
             "#7201a8"
            ],
            [
             0.3333333333333333,
             "#9c179e"
            ],
            [
             0.4444444444444444,
             "#bd3786"
            ],
            [
             0.5555555555555556,
             "#d8576b"
            ],
            [
             0.6666666666666666,
             "#ed7953"
            ],
            [
             0.7777777777777778,
             "#fb9f3a"
            ],
            [
             0.8888888888888888,
             "#fdca26"
            ],
            [
             1,
             "#f0f921"
            ]
           ]
          },
          "colorway": [
           "#636efa",
           "#EF553B",
           "#00cc96",
           "#ab63fa",
           "#FFA15A",
           "#19d3f3",
           "#FF6692",
           "#B6E880",
           "#FF97FF",
           "#FECB52"
          ],
          "font": {
           "color": "#2a3f5f"
          },
          "geo": {
           "bgcolor": "white",
           "lakecolor": "white",
           "landcolor": "#E5ECF6",
           "showlakes": true,
           "showland": true,
           "subunitcolor": "white"
          },
          "hoverlabel": {
           "align": "left"
          },
          "hovermode": "closest",
          "mapbox": {
           "style": "light"
          },
          "paper_bgcolor": "white",
          "plot_bgcolor": "#E5ECF6",
          "polar": {
           "angularaxis": {
            "gridcolor": "white",
            "linecolor": "white",
            "ticks": ""
           },
           "bgcolor": "#E5ECF6",
           "radialaxis": {
            "gridcolor": "white",
            "linecolor": "white",
            "ticks": ""
           }
          },
          "scene": {
           "xaxis": {
            "backgroundcolor": "#E5ECF6",
            "gridcolor": "white",
            "gridwidth": 2,
            "linecolor": "white",
            "showbackground": true,
            "ticks": "",
            "zerolinecolor": "white"
           },
           "yaxis": {
            "backgroundcolor": "#E5ECF6",
            "gridcolor": "white",
            "gridwidth": 2,
            "linecolor": "white",
            "showbackground": true,
            "ticks": "",
            "zerolinecolor": "white"
           },
           "zaxis": {
            "backgroundcolor": "#E5ECF6",
            "gridcolor": "white",
            "gridwidth": 2,
            "linecolor": "white",
            "showbackground": true,
            "ticks": "",
            "zerolinecolor": "white"
           }
          },
          "shapedefaults": {
           "line": {
            "color": "#2a3f5f"
           }
          },
          "ternary": {
           "aaxis": {
            "gridcolor": "white",
            "linecolor": "white",
            "ticks": ""
           },
           "baxis": {
            "gridcolor": "white",
            "linecolor": "white",
            "ticks": ""
           },
           "bgcolor": "#E5ECF6",
           "caxis": {
            "gridcolor": "white",
            "linecolor": "white",
            "ticks": ""
           }
          },
          "title": {
           "x": 0.05
          },
          "xaxis": {
           "automargin": true,
           "gridcolor": "white",
           "linecolor": "white",
           "ticks": "",
           "title": {
            "standoff": 15
           },
           "zerolinecolor": "white",
           "zerolinewidth": 2
          },
          "yaxis": {
           "automargin": true,
           "gridcolor": "white",
           "linecolor": "white",
           "ticks": "",
           "title": {
            "standoff": 15
           },
           "zerolinecolor": "white",
           "zerolinewidth": 2
          }
         }
        },
        "width": 800
       }
      },
      "text/html": [
       "<div>                            <div id=\"624b1fa0-3108-4cff-9c6d-0dd05bb264cf\" class=\"plotly-graph-div\" style=\"height:525px; width:800px;\"></div>            <script type=\"text/javascript\">                require([\"plotly\"], function(Plotly) {                    window.PLOTLYENV=window.PLOTLYENV || {};                                    if (document.getElementById(\"624b1fa0-3108-4cff-9c6d-0dd05bb264cf\")) {                    Plotly.newPlot(                        \"624b1fa0-3108-4cff-9c6d-0dd05bb264cf\",                        [{\"customdata\":[[\"Scrypt\",41.99995383,\"42\"],[\"Scrypt\",1055184902.04,\"532000000\"],[\"X13\",29279424622.5027,\"314159265359\"],[\"X11\",9031294.37563393,\"22000000\"],[\"SHA-512\",2741570000.0,\"3600570502\"],[\"SHA-256\",1288862.0,\"22000000\"],[\"SHA-256\",11995334.8847328,\"12500000\"],[\"X15\",25542535.5881841,\"350000000\"],[\"Scrypt\",18135099.992959,\"16768584\"],[\"Scrypt\",635423900.0,\"0\"],[\"Scrypt\",123062801.128773,\"0\"],[\"Scrypt\",42579.476901,\"500000\"],[\"Scrypt\",1039116.65144562,\"1000000\"],[\"Scrypt\",39999997299.8568,\"40000000000\"],[\"Groestl\",3304487.74735637,\"4380000\"],[\"PoS\",5679705.0,\"0\"],[\"Scrypt\",461829905.32893,\"0\"],[\"Scrypt\",89266933.684704,\"120000000\"],[\"X11\",1678520090.7713,\"0\"],[\"X11\",17650913.9743456,\"22000000\"],[\"SHA3\",61445805.0,\"100000000\"],[\"Scrypt\",21293925445.4969,\"0\"],[\"SHA-256\",1613836099.99999,\"2419200000\"],[\"Scrypt\",16180000.0,\"16180000\"],[\"X13\",66087096.2077108,\"0\"],[\"X13\",15156364.3306548,\"0\"],[\"NeoScrypt\",3220616.279225,\"3770000\"],[\"Scrypt\",222677226.014206,\"420000000\"],[\"Scrypt\",73959274.625,\"98000000\"],[\"Scrypt\",29315567169.0888,\"0\"],[\"X11\",50707661.7493518,\"0\"],[\"X11\",1177.0,\"1000\"],[\"Multiple\",80260463.7331396,\"100000000\"],[\"PHI1612\",1622326490.46336,\"2300000000\"],[\"X11\",1431851.00002479,\"10000000\"],[\"Scrypt\",1098952592.6,\"1600000000\"],[\"Scrypt\",50235211.141939,\"100000000\"],[\"Scrypt\",32021108.4136696,\"0\"],[\"X11\",6950831.0970606,\"5500000\"],[\"Multiple\",100000000.0,\"0\"],[\"X13\",33093725.4123502,\"0\"],[\"Scrypt\",147990237.978331,\"1000000000\"],[\"Shabal256\",1813033920.0,\"2158812800\"],[\"Counterparty\",51173144.0,\"500000000\"],[\"SHA-256\",39121694.0,\"68000000\"],[\"Groestl\",53193831.0,\"0\"],[\"Scrypt\",27184490.3918338,\"0\"],[\"X13\",2022464.886973,\"12000000\"],[\"Scrypt\",174646113.934655,\"500000000\"],[\"Scrypt\",1467841.0,\"0\"],[\"X13\",7096834.0,\"10000000\"],[\"X11\",2689812.0,\"20000000\"],[\"Scrypt\",11604722.0,\"20000000\"],[\"X11\",1513704.0,\"0\"],[\"SHA3\",63657220.0,\"78000000\"],[\"QUAIT\",8568038.35935056,\"5060000\"],[\"X11\",329200.01639,\"0\"],[\"Scrypt\",100000000.0,\"100000000\"],[\"X13\",23042604.0,\"50000000\"],[\"SHA-256\",43059794.804778,\"1000000000\"],[\"X15\",13530556.4180753,\"26298000\"],[\"BLAKE256\",10365046.9281661,\"21000000\"],[\"SHA-256\",3669691.84494672,\"22000000\"],[\"X11\",10996318099.0,\"26550000000\"],[\"SHA-256\",5129014.0,\"10500000\"],[\"NIST5\",10069449031.9252,\"0\"],[\"Scrypt\",8998743.2411911,\"42000000\"],[\"Scrypt\",40477042.0,\"221052632\"],[\"X11\",10407269.7881868,\"384000000\"],[\"Scrypt\",36971236046.8073,\" 99000000000\"],[\"SHA-256\",4377081.60953993,\"40000000\"],[\"Scrypt\",2147483647.0,\"2147483647\"],[\"PoS\",20000000.0,\"20000000\"],[\"X11\",134554941.15119,\"75000000\"],[\"SHA-256\",1195525.0,\"222725000\"],[\"SHA-256\",16662820.0,\"525000000\"],[\"NIST5\",83450403.0,\"90000000\"],[\"X11\",24387724.5010828,\"139000000\"],[\"POS 3.0\",38589808.6658096,\"33500000\"],[\"Scrypt\",813092338.575672,\"2000000000\"],[\"Scrypt\",4526324.0,\"44333333\"],[\"Scrypt\",100000000.0,\"100000000\"],[\"X13\",5000000.0,\"200000000\"],[\"X11\",657000000.0,\"657000000\"],[\"X11\",15563873.0,\"50000000\"],[\"Scrypt\",43165500.0,\"90000000\"],[\"SHA-256\",595429.0,\"21000000\"],[\"X11\",657636.34549789,\"3000000\"],[\"Scrypt\",2581970.0,\"21000000\"],[\"Scrypt\",1939889.0,\"0\"],[\"Scrypt\",169598616.0,\"0\"],[\"Scrypt\",665200057.0,\"3100000000\"],[\"SHA-256D\",19577787259.0,\"20000000000\"],[\"PoS\",74033806.7949683,\"74000000\"],[\"Scrypt\",33522957.0,\"0\"],[\"X11\",264678458.288619,\"1500000000\"],[\"PoS\",148716816.0,\"39999898\"],[\"X13\",2500124.0,\"2500124\"],[\"X14\",100000000.0,\"100000000\"],[\"PoS\",17818682.1654,\"301000000\"],[\"SHA-256D\",1082162635.53683,\"7506000000\"],[\"DPoS\",108202084.0,\"125000000\"],[\"X11\",18342813.0,\"30000000\"],[\"X13\",92192822723.0,\"850000000\"],[\"X11\",3853326.77707314,\"3853326.77707314\"],[\"PoS\",50000000.0,\"50000000\"],[\"Scrypt\",17089600.0,\"38540000 \"],[\"Scrypt\",2449577.41533168,\"42000000\"],[\"PoS\",20000000.0,\"20000000\"],[\"X11\",6069482.07721352,\"60000000\"],[\"SHA-256\",12416554.0,\"20000000\"],[\"Scrypt\",20244023.640728,\"33000000\"],[\"X11\",75590369.0,\"76500000\"],[\"Scrypt\",11080722.3769581,\"28000000\"],[\"Scrypt\",10914418.0,\"650659833\"],[\"X11\",814671.0,\"5000000\"],[\"Scrypt\",8377873.0,\"144000000\"],[\"Scrypt\",33813143821.8337,\"32514916898\"],[\"Scrypt\",3472983.0,\"13000000\"],[\"Scrypt\",3315789.0,\"3315789\"],[\"Quark\",10517772.7391666,\"15000000\"],[\"QuBit\",30227750.0,\"78835200\"],[\"Scrypt\",23965372.0,\"500000000\"],[\"SHA-256\",2526078.47525448,\"21000000\"],[\"X11\",5659096.95728771,\"9354000\"],[\"Scrypt\",11821728.0,\"20000000\"],[\"Scrypt\",308179.0,\"21933333\"],[\"Scrypt\",2922613.96424908,\"55000000\"],[\"Scrypt\",110000000.0,\"110000000\"],[\"X13\",14524851.4827,\"14524851.4827\"],[\"Scrypt\",1000000000.0,\"1000000000\"],[\"Scrypt\",36050365.0,\"34426423\"],[\"X11\",13162749.0858027,\"100000000\"],[\"Blake2S\",12184195.9258495,\"36900000\"],[\"X11\",110630387.850471,\"110000000\"],[\"PoS\",111135836.889,\"110290030\"],[\"X11\",21521322.0099142,\"100000000\"],[\"PoS\",401421401.0,\"400000000\"],[\"X11\",121665451.643876,\"500000000\"],[\"Scrypt\",5368934.0,\"21212121\"],[\"Scrypt\",1148324.0,\"28600000\"],[\"Scrypt\",500000.0,\"1000000000\"],[\"SHA-256\",100545745.0,\"75000000000\"],[\"X11\",17171382.0,\"40000000\"],[\"Scrypt\",295135466.361878,\"2000000000\"],[\"PoS\",11390225.9742772,\"30000000\"],[\"Scrypt\",21358764.0,\"105000000\"],[\"X15\",40659020000.0,\"90000000000\"],[\"SHA-256\",10343113.0,\"200084200\"],[\"POS 3.0\",100000000.0,\"100000000\"],[\"536\",22801882871.0,\"50000000000\"],[\"NIST5\",4171382.0,\"10000000\"],[\"NIST5\",62942075.0,\"120000000\"],[\"Skein\",6804362.0,\"100000000\"],[\"X13\",21268092.0,\"30000000\"],[\"Scrypt\",9044930943.24243,\"50000000000\"],[\"X13\",21917018.0492836,\"18898187.6216583\"],[\"SkunkHash v2 Raptor\",107972766.0,\"137500000\"],[\"Skein\",47331802.4774238,\"100000000\"],[\"X11\",12569262.5359307,\"9507271\"],[\"Scrypt\",18663297.3489799,\"17405891.19707116\"],[\"VeChainThor Authority\",55454734800.0,\"86712634466\"],[\"PoS\",4000000.0,\"61599965\"],[\"Scrypt\",19539588.0,\"48252000\"],[\"Scrypt\",4200000.0,\"4200000\"],[\"SHA-512\",25000000.0,\"91388946\"],[\"Ouroboros\",25927070538.0,\"45000000000\"],[\"X11\",7262402.04264803,\"27000000\"],[\"NeoScrypt\",182638400.0,\"400000000\"],[\"Scrypt\",1140734.91680375,\"15733333\"],[\"Lyra2REv2\",24000000.0,\"24000000\"],[\"Scrypt\",48459472454.0,\"25000000000\"],[\"SHA-256\",92050800.0,\"100000000\"],[\"NIST5\",560563220.0,\"1200000000\"],[\"PHI1612\",8305775.31777569,\"60000000\"],[\"Scrypt\",2149688.0,\"21000000\"],[\"Quark\",30711550.5294042,\"200000000\"],[\"POS 2.0\",12330806.30517,\"21000000\"],[\"Scrypt\",16362544.992,\"14788275.991\"],[\"SHA-256\",8999999990.0,\"9000000000\"],[\"X11\",38198594.8342105,\"144000000\"],[\"DPoS\",288090567.493887,\"500000000\"],[\"NIST5\",28399150208.0,\"30000000000\"],[\"X13\",183534024.889807,\"210000000\"],[\"Scrypt\",110976977.29338,\"210000000\"],[\"NIST5\",13247178.8807286,\"27716121\"],[\"Quark\",16955764.902064,\"20000000\"],[\"Scrypt\",4911500269.41,\"50000000000\"],[\"Scrypt\",8419402.321,\"150000000\"],[\"X11\",45174214.1078625,\"50000000\"],[\"Quark\",27299680.0,\"120000000\"],[\"Scrypt\",591022748.0,\"900000000\"],[\"Scrypt\",2504486.227718,\"4000000\"],[\"X11\",4407252.0,\"21000000\"],[\"POS 3.0\",20445861.5344251,\"25000000\"],[\"Ethash\",1618033.0,\"1618033\"],[\"Scrypt\",9399342.52839847,\"30000000\"],[\"Scrypt\",234846265.782157,\"232000000\"],[\"X13\",230298925.0,\"800000000\"],[\"C11\",11251342.1879021,\"19340594\"],[\"X11\",2167827.1,\"25000000\"],[\"XEVAN\",419275.38,\"60000000\"],[\"Scrypt\",25570013.1348022,\"124000000\"],[\"VBFT\",650848625.0,\"1000000000\"],[\"NIST5\",13787854.6277781,\"50000000\"],[\"Scrypt\",845637.81347436,\"3000000\"],[\"Scrypt\",1182153.5,\"5000000\"],[\"Scrypt\",267297676.3125,\"500000000\"],[\"Green Protocol\",9803691.3618195,\"21000000\"],[\"PoS\",21876586.8530324,\"88000000\"],[\"Scrypt\",9880502.37178894,\"30000000\"],[\"Semux BFT consensus\",1231147.0,\"100000000\"],[\"Quark\",139739596.506702,\"200000000\"],[\"PoS\",11075254.0929996,\"80000000\"],[\"X16R\",4403800.0,\"45000000\"],[\"Scrypt\",1404157529.46026,\"5121951220\"],[\"XEVAN\",10904963.0923455,\"21000000\"],[\"Scrypt\",38706809.466535,\"26000000\"],[\"Scrypt\",10200000000.0,\"10200000000\"],[\"Scrypt\",7630000.0154,\"44000000\"],[\"SHA-256D\",33238183.7225834,\"100000000\"],[\"Scrypt\",21599339.6728,\"84000000\"],[\"X15\",30284196.369129,\"90000000\"],[\"Scrypt\",77872059787.8998,\"92000000000\"],[\"Quark\",2716264.95302831,\"650000000 \"],[\"SHA-256\",57811001.000889,\"100262205\"],[\"DPoS\",18194936.0,\"18081806 \"],[\"X16R\",36923120.6205934,\"82546564\"],[\"Quark\",7082392.24744494,\"21000000\"],[\"Quark\",5919489.76813523,\"5151000\"],[\"Scrypt\",1042012.45227735,\"16880000000\"],[\"Lyra2REv2\",13332617.9413708,\"52500000\"],[\"Quark\",66053877.6256106,\"100000000\"],[\"Scrypt\",5403802.49590733,\"1000000000\"],[\"X11\",19269509.94,\"55000000\"],[\"X11\",30771125.9760867,\"50000000\"],[\"Scrypt\",107763867.917675,\"260000000\"],[\"PoS\",9327131.59708692,\"210000000\"],[\"Keccak\",4672513.84432375,\"366000000\"],[\"X11\",4504639.0,\"100000000\"],[\"Scrypt\",1059954080.43439,\"18000000000\"],[\"SHA-512\",1000000000.0,\"1000000000\"],[\"XEVAN\",6787405.18013774,\"50000000\"],[\"XEVAN\",208515864.367343,\"70000000000\"],[\"X11\",17209923728.3266,\"0\"],[\"Quark\",35312185.7437239,\"54000000\"],[\"Scrypt\",14777549.3940764,\"21000000\"],[\"Quark\",18265011.2486006,\"19035999\"],[\"Quark\",1934701.67524713,\"13370000\"],[\"Scrypt\",30825710000.0296,\"74800000000\"],[\"X11\",715659.44237941,\"19700000\"],[\"Scrypt\",20546528.2059957,\"84000000\"],[\"XEVAN\",198938144.363399,\"500000000\"],[\"SHA-256D\",896361168.0,\"5000000000\"],[\"X11\",15420234.5389336,\"420000000\"],[\"X11\",23775960.3207514,\"30000000\"],[\"DPoS\",1000000000.0,\"1000000000\"],[\"Scrypt\",15318887081.0146,\"35000000000\"],[\"X11\",242574105.22384,\"0\"],[\"Scrypt\",3537150.0,\"200000000\"],[\"Scrypt\",20576532.0,\"54256119\"],[\"SHA-256\",4392258.24647793,\"21000000\"],[\"Scrypt\",9631199.99309942,\"0\"],[\"X11\",436353624.490312,\"500000000\"],[\"Scrypt\",980732528.97974,\"10500000000\"],[\"SHA-256\",17939725045.334,\"190000000\"],[\"X11\",494240666.028571,\"1000000000\"],[\"Scrypt\",60000000.0,\"15000000\"],[\"Scrypt\",404316475.545465,\"400000000\"],[\"X11\",201364327.427503,\"208000000\"],[\"Scrypt\",103621876.167052,\"160000000\"],[\"PoS\",3821245.74150193,\"9000000\"],[\"X11\",16901016.6609755,\"16504333\"],[\"SHA-256\",74676064.9488608,\"105000000\"],[\"DPoS\",120012140.0,\"159918400\"],[\"Scrypt\",10000244677.7002,\"10008835635\"],[\"Scrypt\",252005564.19257,\"300000000\"],[\"NeoScrypt\",1120385.00502,\"60168145\"],[\"X13\",140777.753365,\"120000\"],[\"DPoS\",1020544523.0722,\"0\"],[\"DPoS\",1122382283.37,\"0\"],[\"SHA-256\",1000000000.0,\"1000000000\"],[\"Leased POS\",100000000.0,\"100000000\"],[\"PoS\",9283137.5558676,\"8634140\"],[\"PoS\",1000000000.0,\"1000000000\"],[\"SHA-256\",1999999995.3056,\"2000000000\"],[\"Scrypt\",14931046.1546605,\"250000000\"],[\"Scrypt\",128326.99633965,\"1000000\"]],\"hovertemplate\":\"<b>%{hovertext}</b><br><br>class=%{marker.color}<br>PC 1=%{x}<br>PC 2=%{y}<br>PC 3=%{z}<br>Algorithm=%{customdata[0]}<br>TotalCoinsMined=%{customdata[1]}<br>TotalCoinSupply=%{customdata[2]}<extra></extra>\",\"hovertext\":[\"42 Coin\",\"404Coin\",\"EliteCoin\",\"Dash\",\"Bitshares\",\"BitcoinDark\",\"PayCoin\",\"KoboCoin\",\"Aurora Coin\",\"BlueCoin\",\"EnergyCoin\",\"BitBar\",\"CryptoBullion\",\"CasinoCoin\",\"Diamond\",\"Exclusive Coin\",\"FlutterCoin\",\"HoboNickels\",\"HyperStake\",\"IOCoin\",\"MaxCoin\",\"MintCoin\",\"MazaCoin\",\"Nautilus Coin\",\"NavCoin\",\"OpalCoin\",\"Orbitcoin\",\"PotCoin\",\"PhoenixCoin\",\"Reddcoin\",\"SuperCoin\",\"SyncCoin\",\"TeslaCoin\",\"TittieCoin\",\"TorCoin\",\"UnitaryStatus Dollar\",\"UltraCoin\",\"VeriCoin\",\"X11 Coin\",\"Crypti\",\"StealthCoin\",\"ZCC Coin\",\"BurstCoin\",\"StorjCoin\",\"Neutron\",\"FairCoin\",\"RubyCoin\",\"Kore\",\"Dnotes\",\"8BIT Coin\",\"Sativa Coin\",\"Ucoin\",\"Vtorrent\",\"IslaCoin\",\"Nexus\",\"Droidz\",\"Squall Coin\",\"Diggits\",\"Paycon\",\"Emercoin\",\"EverGreenCoin\",\"Decred\",\"EDRCoin\",\"Hitcoin\",\"DubaiCoin\",\"PWR Coin\",\"BillaryCoin\",\"GPU Coin\",\"EuropeCoin\",\"ZeitCoin\",\"SwingCoin\",\"SafeExchangeCoin\",\"Nebuchadnezzar\",\"Ratecoin\",\"Revenu\",\"Clockcoin\",\"VIP Tokens\",\"BitSend\",\"Let it Ride\",\"PutinCoin\",\"iBankCoin\",\"Frankywillcoin\",\"MudraCoin\",\"Lutetium Coin\",\"GoldBlocks\",\"CarterCoin\",\"BitTokens\",\"MustangCoin\",\"ZoneCoin\",\"RootCoin\",\"BitCurrency\",\"Swiscoin\",\"BuzzCoin\",\"Opair\",\"PesoBit\",\"Halloween Coin\",\"CoffeeCoin\",\"RoyalCoin\",\"GanjaCoin V2\",\"TeamUP\",\"LanaCoin\",\"ARK\",\"InsaneCoin\",\"EmberCoin\",\"XenixCoin\",\"FreeCoin\",\"PLNCoin\",\"AquariusCoin\",\"Creatio\",\"Eternity\",\"Eurocoin\",\"BitcoinFast\",\"Stakenet\",\"BitConnect Coin\",\"MoneyCoin\",\"Enigma\",\"Russiacoin\",\"PandaCoin\",\"GameUnits\",\"GAKHcoin\",\"Allsafe\",\"LiteCreed\",\"Klingon Empire Darsek\",\"Internet of People\",\"KushCoin\",\"Printerium\",\"Impeach\",\"Zilbercoin\",\"FirstCoin\",\"FindCoin\",\"OpenChat\",\"RenosCoin\",\"VirtacoinPlus\",\"TajCoin\",\"Impact\",\"Atmos\",\"HappyCoin\",\"MacronCoin\",\"Condensate\",\"Independent Money System\",\"ArgusCoin\",\"LomoCoin\",\"ProCurrency\",\"GoldReserve\",\"GrowthCoin\",\"Phreak\",\"Degas Coin\",\"HTML5 Coin\",\"Ultimate Secure Cash\",\"QTUM\",\"Espers\",\"Denarius\",\"Virta Unique Coin\",\"Bitcoin Planet\",\"BritCoin\",\"Linda\",\"DeepOnion\",\"Signatum\",\"Cream\",\"Monoeci\",\"Draftcoin\",\"Vechain\",\"Stakecoin\",\"CoinonatX\",\"Ethereum Dark\",\"Obsidian\",\"Cardano\",\"Regalcoin\",\"TrezarCoin\",\"TerraNovaCoin\",\"Rupee\",\"WomenCoin\",\"Theresa May Coin\",\"NamoCoin\",\"LUXCoin\",\"Xios\",\"Bitcloud 2.0\",\"KekCoin\",\"BlackholeCoin\",\"Infinity Economics\",\"Magnet\",\"Lamden Tau\",\"Electra\",\"Bitcoin Diamond\",\"Cash & Back Coin\",\"Bulwark\",\"Kalkulus\",\"GermanCoin\",\"LiteCoin Ultra\",\"PhantomX\",\"Digiwage\",\"Trollcoin\",\"Litecoin Plus\",\"Monkey Project\",\"TokenPay\",\"1717 Masonic Commemorative Token\",\"My Big Coin\",\"Unified Society USDEX\",\"Tokyo Coin\",\"Stipend\",\"Pushi\",\"Ellerium\",\"Velox\",\"Ontology\",\"Bitspace\",\"Briacoin\",\"Ignition\",\"MedicCoin\",\"Bitcoin Green\",\"Deviant Coin\",\"Abjcoin\",\"Semux\",\"Carebit\",\"Zealium\",\"Proton\",\"iDealCash\",\"Bitcoin Incognito\",\"HollyWoodCoin\",\"Swisscoin\",\"Xt3ch\",\"TheVig\",\"EmaratCoin\",\"Dekado\",\"Lynx\",\"Poseidon Quark\",\"BitcoinWSpectrum\",\"Muse\",\"Trivechain\",\"Dystem\",\"Giant\",\"Peony Coin\",\"Absolute Coin\",\"Vitae\",\"TPCash\",\"ARENON\",\"EUNO\",\"MMOCoin\",\"Ketan\",\"XDNA\",\"PAXEX\",\"ThunderStake\",\"Kcash\",\"Bettex coin\",\"BitMoney\",\"Junson Ming Chan Coin\",\"HerbCoin\",\"Oduwa\",\"Galilel\",\"Crypto Sports\",\"Credit\",\"Dash Platinum\",\"Nasdacoin\",\"Beetle Coin\",\"Titan Coin\",\"Award\",\"Insane Coin\",\"ALAX\",\"LiteDoge\",\"TruckCoin\",\"OrangeCoin\",\"BitstarCoin\",\"NeosCoin\",\"HyperCoin\",\"PinkCoin\",\"AudioCoin\",\"IncaKoin\",\"Piggy Coin\",\"Genstake\",\"XiaoMiCoin\",\"CapriCoin\",\" ClubCoin\",\"Radium\",\"Creditbit \",\"OKCash\",\"Lisk\",\"HiCoin\",\"WhiteCoin\",\"FriendshipCoin\",\"Triangles Coin\",\"EOS\",\"Oxycoin\",\"TigerCash\",\"Waves\",\"Particl\",\"Nxt\",\"ZEPHYR\",\"Gapcoin\",\"BitcoinPlus\"],\"legendgroup\":\"0\",\"marker\":{\"color\":[0,0,0,0,0,0,0,0,0,0,0,0,0,0,0,0,0,0,0,0,0,0,0,0,0,0,0,0,0,0,0,0,0,0,0,0,0,0,0,0,0,0,0,0,0,0,0,0,0,0,0,0,0,0,0,0,0,0,0,0,0,0,0,0,0,0,0,0,0,0,0,0,0,0,0,0,0,0,0,0,0,0,0,0,0,0,0,0,0,0,0,0,0,0,0,0,0,0,0,0,0,0,0,0,0,0,0,0,0,0,0,0,0,0,0,0,0,0,0,0,0,0,0,0,0,0,0,0,0,0,0,0,0,0,0,0,0,0,0,0,0,0,0,0,0,0,0,0,0,0,0,0,0,0,0,0,0,0,0,0,0,0,0,0,0,0,0,0,0,0,0,0,0,0,0,0,0,0,0,0,0,0,0,0,0,0,0,0,0,0,0,0,0,0,0,0,0,0,0,0,0,0,0,0,0,0,0,0,0,0,0,0,0,0,0,0,0,0,0,0,0,0,0,0,0,0,0,0,0,0,0,0,0,0,0,0,0,0,0,0,0,0,0,0,0,0,0,0,0,0,0,0,0,0,0,0,0,0,0,0,0,0,0,0,0,0,0,0,0,0,0,0,0,0,0,0,0,0,0,0,0,0,0,0,0,0,0,0],\"coloraxis\":\"coloraxis\",\"symbol\":\"circle\"},\"mode\":\"markers\",\"name\":\"0\",\"scene\":\"scene\",\"showlegend\":true,\"x\":[-0.35120734302740686,-0.3344923818376766,2.3085642679979665,-0.3961327202396275,-0.27789147180490853,-0.3188939015480853,-0.25226621784704073,-0.2718123218375413,-0.35086579742489366,-0.3434218983209979,-0.3496995334898981,-0.35120326344663566,-0.3511874948144739,0.6076079219435814,-0.3862134943907268,-0.30485834003952517,-0.30580993620547287,-0.3492595259881787,-0.3092699975157869,-0.3960271095145847,-0.4932396855676527,-0.023742278798548663,-0.28207457691507315,-0.2843298219121945,-0.2853622273265824,-0.28598624924064586,-0.35297782754135393,-0.34548971739013457,-0.34960366359411277,0.007977683793604166,-0.32921454946423484,-0.3963999359964773,-0.22364309020611994,-0.3127313349690141,-0.39631124007361285,-0.3263547515696861,-0.3498801046979173,-0.3160703274347044,-0.39627564777044677,-0.22411297320669557,-0.2857664741464558,-0.34227672340802406,-0.13289767762984805,-0.3195623610859403,-0.31810295994207305,-0.3856334061184673,-0.28431015025049783,-0.2860617618894893,-0.27894470160874113,-0.3511893593173215,-0.2860138236472887,-0.3296605338828498,-0.35092281075130055,-0.3963814110810684,-0.5771627071555402,-0.44758683536489124,-0.30826375256065475,-0.28270624905001557,-0.2855337546527261,-0.3114213013873793,-0.2742634103770491,-0.10200520232675116,-0.31886473075194405,-0.07270234984080301,-0.3189287005896489,-0.24775357608919285,-0.3507981575734784,-0.28257396725835593,-0.3935393660964472,0.8729634649105653,-0.3187279505338771,-0.12558601199688618,-0.3045405347584448,-0.39421753703813567,-0.3174664070336306,-0.3151254870196994,-0.36946511056570247,-0.39511183302010294,-0.3387515686127626,-0.3270102597149847,-0.35083634804519814,-0.34927036834323205,-0.21812309142408945,-0.31710990922174126,-0.3958533937814714,-0.35003789927919393,-0.3189095151322971,-0.3963705477643072,-0.3510262434116181,-0.3511835756129522,-0.2825652404096929,-0.2514291436117772,0.016349646591300233,-0.30349415377649264,-0.3507966083376158,-0.38248093542734724,-0.3028211022791814,-0.21955940446521202,-0.4583901720365728,-0.30256727446265513,-0.29919016726429126,3.626961192639533,-0.39596169299498796,0.8494579406317085,-0.3963253195393823,-0.3039594421091322,-0.35072365161321967,-0.3508784003432864,-0.3045405347584448,-0.3958985486237397,-0.318771795784721,-0.35072443280432763,-0.328902220568275,-0.35087229186568825,-0.34644261660115466,-0.39635438893835395,-0.3500797909193668,0.3610690989237985,-0.3510722655153949,-0.3511431178204546,-0.3384675973764297,-0.3491030228800555,-0.3473550163428859,-0.31888586011033815,-0.3962640441473748,-0.3509201519145925,-0.35104745983377994,-0.2842159591632698,-0.32198510904359207,-0.21932648844020608,-0.33183758886385806,-0.2839564960394367,-0.3955269437265374,-0.45127902038579215,-0.3942615607454186,-0.3027812758657911,-0.3954245314406206,-0.29716261234336283,-0.3913505730055301,-0.3509905867637008,-0.3509897168014018,-0.3440838276301089,0.28253401884546897,-0.3959048718948286,-0.2667923370478317,-0.3045748509516503,-0.35019832251658095,0.8641178892344376,-0.2509513515579914,-0.33752584210007935,0.5748484439667332,-0.3710058572660407,-0.36950286438399604,-0.44748187808637613,-0.2856978444219231,0.1154839524295323,-0.2857689094718608,-0.3141798923896439,-0.44698532109520905,-0.3961782873873621,-0.2842906705010167,4.408258165815306,-0.3044404894215534,-0.35062450937416817,-0.35112599087003654,-0.3361520926680358,0.6618956004969375,-0.3961188064039043,-0.3479594119259797,-0.35108138687302276,-0.2961688417555801,0.4204705485970906,-0.31722669673804393,-0.3557190472786277,-0.41501397876251644,-0.35103153988844293,-0.40346757797922067,-0.307358068751067,-0.35090161004013337,-0.0781743617718689,-0.39490703024638035,3.631834273250006,0.19035031297186344,-0.28242857278830746,-0.3483529615082804,-0.3042044454542944,-0.338353129796771,0.06483965132348161,-0.35003657774679964,-0.3954905970759616,-0.3375146533711567,-0.33756026641392445,-0.35114818840155576,-0.32963237379116395,-0.3390343726898678,-0.25185912536818467,-0.2982409502872326,-0.34667868719915296,-0.21109221275541964,-0.37457153558080647,-0.39619546177541703,-0.2900484987846441,-0.28344737505153617,-0.27718972982490503,-0.3706033371327514,-0.35117563060775,-0.3511572727146911,-0.27780950085341816,-0.30974358964060206,-0.30403355960953515,-0.3508727626191536,3.8047119775774583,-0.4021317265702605,-0.30422284060067056,-0.3059293814548721,-0.29754816880553386,-0.2020654310276555,-0.2839839224514016,-0.15363584307470146,-0.2842365738417285,-0.36475336300157274,-0.35034484008623573,-0.20704062739334644,2.232757589636831,-0.33404364162896916,-0.2510802297426831,0.9797252164313085,-0.3718278286237478,-0.3384669845717818,-0.4051581556851341,-0.16448891375221156,-0.3626608160910182,-0.3371821705991199,-0.3440237444522926,-0.32920828472195673,-0.39566706896814086,-0.28147234090233725,-0.303318998531779,-0.3463283671378307,-0.32906890675785844,-0.21010737910814214,-0.37987765253662265,-0.223477528741359,0.6194973812862787,-0.11897357198250066,-0.4044503482617191,-0.35087681872212073,-0.40490806889704667,-0.33858436164123185,0.5588612790040927,-0.3296868571374587,-0.35035773951654914,-0.2844845215401741,-0.31930285406362385,-0.39322171938182504,-0.3958951240911939,3.6441155424416887,0.08559390227645726,-0.39342785107058803,-0.3497405273825904,-0.3505690707011492,-0.25229887570150467,-0.35108933886373067,-0.387494898666768,-0.264458455681046,-0.09790991329569484,-0.3832269504938608,-0.35036544109359136,-0.343406554816432,-0.3924523511817061,-0.34879894839293285,-0.3048170540503475,-0.3461635746814327,-0.31740399138263603,3.6273544216276745,-0.09087979023598053,-0.3459844626908363,-0.3526021527465613,-0.2861693716005066,3.6372498714077097,3.6384976248124397,-0.23313240146600295,-0.26643472617071584,-0.30475273692684307,-0.2249362305808872,2.43160955074867,-0.3492450557072978,-0.28463453484850343],\"y\":[0.9694187794282958,0.9697744309719388,1.6809169159756565,1.169777597057654,1.6541277800373841,0.7549866580230941,0.676322292568716,1.7483882775482713,0.9694221784739756,0.9697469501914111,0.9694823363859449,0.9694186234903099,0.9694189602396751,0.2188919824455245,0.875501907815621,1.830637626087513,0.25445376298954714,0.9694221809491469,1.0919743736952812,1.1697820487428991,1.5300477356676176,0.9017429560972204,0.7549664451423603,0.8907481027580937,1.777620984029741,1.7775946803645972,0.5114683971392718,0.9693843288826645,0.969422103721832,0.9845590853602657,1.091133674347932,1.16978076157113,0.28024806504506244,1.6425482703722676,1.1697779423758885,0.9694169942081876,0.969409139514341,0.25248182587940193,1.1697823940024923,0.2802938440819585,1.7776039442868317,0.9691393667599161,0.18107507389548216,1.6533562785404619,0.7549898283447374,0.8755292322407603,0.890759543682836,1.7775836271125347,0.8906577798331847,0.969419537502119,1.7775869595064293,1.0911017581959124,0.9694176559187723,1.169781543086055,1.2063243922952027,1.79683571190131,0.9246019820678615,0.8907615655874203,1.7775809611067432,0.754660215942239,1.74849726114432,0.8481275074395825,0.7549878876255111,1.1660122666667923,0.7549927335082994,1.3993533762068724,0.9694084814759593,0.8906877485754582,1.1696494922956924,0.8746111332202782,0.7549818477782231,0.21281226578652543,1.8306379050684658,1.1698235652364763,0.7549151831036739,0.7548156087003113,1.3941639854746501,1.1697438943274578,1.645286577625098,0.9691270214812674,0.969405341350423,0.9694348410170252,1.6988449908551946,1.0912130105717632,1.1697710072486442,0.9694090467305895,0.7549866557366081,1.1697800334307817,0.9694126401882913,0.9694197812958374,0.8908330948244277,0.34518378716181886,1.7567271277340022,1.8306465957898657,0.9694360926743363,1.1693836915884537,1.8306972652665856,1.6989139788450165,1.8017005546503218,1.8305367864431115,1.7516207953748162,1.4600434418163348,1.1697795593316698,1.8248982534791451,1.16978138022486,1.8306427235471083,0.9694138912955562,0.9694050990964317,1.8306379050684658,1.169762545342957,0.7549931167136742,0.9694174918016768,0.7765901136731853,0.9694145385450196,0.9691928831140962,1.1697794028455555,0.96937186477029,0.8966384001638712,0.9694159471096239,0.9694193119901666,1.5783834018470293,0.5784810747118823,0.9692532347478799,0.7549876528390534,1.1697803554526136,0.9694177679936032,0.969411133746501,0.8907274420037713,0.36656627894220456,1.6989159102081022,0.969579395376295,0.8907518721251718,1.1697519749831629,1.6943382978099313,1.169798754643976,1.8306528439129213,1.1697562918483475,1.8306996732274525,1.1696656747889658,0.9694140040606803,0.9694091953563954,0.9690631940113869,0.6496842003260362,1.1697753958984909,0.8901862422553638,1.8306299000316617,0.9693924467779537,1.7374724445284917,0.6762546886183438,1.6452946299055675,1.7192254588036764,1.3941515085547924,1.3941427184426838,1.7446590578483172,1.7775871615157937,0.9562979387925727,1.7775914471692047,1.6255201513530662,1.744679988633801,1.169783869733417,0.8907489490552501,3.3248548900616917,1.8306148386319825,0.9694117006619346,0.9694194540085604,1.6539735013343662,1.6286744476823949,1.1697749042780372,0.5114200632496735,0.9694137699585602,0.7531389953012056,0.9855500479257621,0.7550057770928915,1.3940154085263896,1.7211850590709952,0.9694124169321049,1.6570012754735344,1.6755478260812728,0.9694219677009486,0.6777660890959576,1.1697492478657527,1.4600029055846266,1.3981446170485052,1.7776069134585355,0.9694013673818732,1.3154766162385834,1.578384947591653,0.9541631888620213,0.9693697511566669,1.1697862997934123,1.5783547054418559,0.9694037595144794,0.9694186495129331,1.0911022893406386,1.6452802316804558,-0.02356761677075926,0.3005940871211491,0.9694575123043238,1.6987478424627107,0.7569328354780376,1.1697729848232072,1.48126498812084,0.8907145852592108,1.6270035837532588,1.3941422413287499,0.9694181486283932,0.9694176107378684,0.8907056306215395,1.7954017378915164,1.8306146768822347,0.9694132069926024,1.55902478384215,1.6570575840539712,1.830611945179414,0.704235587550473,0.9683213562842894,1.2361053321870787,0.8907562425604363,0.9710570621599434,0.8907337874585032,1.7537144462751089,0.9694000437420075,1.6698099703412612,0.2982000909293056,1.5781534119721046,0.6763147248865913,1.529949056718953,0.7829122971892238,1.578379492549973,1.6570578071532844,0.8847394015067277,0.8317966199152564,1.578381837291854,0.9690657266272364,1.091097866412592,1.1697788611803532,0.8907086403291046,1.8305647826715832,0.9574453997263235,1.0910742279895322,0.9635610173570348,1.7121611682583653,1.4025985600093707,1.3248694184768701,1.099995716123144,1.657055604687167,0.9694189387122822,1.6570592422277197,1.5783795490627595,0.9587219088455748,1.0911008453789743,0.9693995000074237,1.4812109438938739,1.7524165805859395,1.1696392709183974,1.169782365332733,1.460192656221625,0.9648758382361078,1.169906041043171,0.9693494374886137,0.9694100996740529,0.6763153412158974,0.9694237535471957,1.1698281985151726,0.9661889299263886,0.7641913537724794,1.1696801730132038,0.9694444293426336,0.9694852550886592,1.16981074238092,0.9694153609513247,1.8306334636756378,0.7077163984077427,0.754995024526069,1.4600371157425123,0.8923486458010158,0.9694421770211087,0.5114472435334754,1.7775868827196029,1.4605591102776458,1.460611705366055,0.6764811614631673,5.2713698242967375,1.8306364147110246,2.4212562405987614,0.6067277236170221,0.969337529793606,0.8907452144240144],\"z\":[-0.5226749095719613,-0.5230952906356762,-0.699960075567991,-0.4845099518655564,-0.12573348566058767,-0.38318440797701264,-0.10813378869904719,-0.5720789994871118,-0.5226832553029112,-0.5228809705134363,-0.5227148174610341,-0.5226749968529391,-0.5226753935116772,-0.30415849788609,-0.42279336527900685,-0.16150428564013836,-0.14673460906905847,-0.5227214960881106,-0.20999542007860147,-0.4845127471131098,-0.5268641850730812,-0.25452759976917694,-0.38405969278028,-0.2476298398650305,-0.6443096712680684,-0.6442931549935479,-0.3590755546600582,-0.522808855209435,-0.5227132983032249,-0.5321816245989753,-0.20946753846460686,-0.48450378996517784,0.08237937011139758,-0.2157704714881657,-0.484505723624495,-0.5232664644762247,-0.5227058988220441,-0.12905642879381377,-0.48450685193433135,0.08238766734260344,-0.6442989718818757,-0.5228698866044871,-0.26608488474885594,-0.15163030939685676,-0.3832034380778189,-0.4228089000464101,-0.2476310302752799,-0.6442906596402488,-0.2477523431784461,-0.5226753855568036,-0.6442920112312744,-0.20945490651464127,-0.5226816125445031,-0.48450428031401327,-0.2404103241579549,-0.6519064398579885,-0.1541727432496407,-0.24766934208686894,-0.6443030616866113,-0.3833417056004851,-0.5720275246504234,-0.4451314303972706,-0.383185180053868,-0.49197223780842303,-0.38318396296326224,-0.5998941395566016,-0.5226840011342532,-0.24766783242386836,-0.48456360681234617,-0.2741631382730813,-0.38318805519067717,-0.28631957609257086,-0.16151186926284922,-0.48455844802841547,-0.38321388136343726,-0.38326332726368195,-0.5966690190494292,-0.4845321290841759,-0.1485489190171268,-0.5232325573294936,-0.5226828937440321,-0.5227220369941047,-0.3692665635795292,-0.2097607218228498,-0.4845161859013628,-0.5227021363382012,-0.3831840361188895,-0.4845044436570685,-0.5226788335510121,-0.5226755386367627,-0.2476772136052148,-0.3024469631110271,-0.7443133920225288,-0.16153732904467086,-0.5226857806773157,-0.48481009991679763,-0.1615565504003974,-0.369236723289039,-0.7188331539848405,-0.16155246479717444,-0.7364790287656467,0.3260782039378017,-0.48451414737193654,-0.6743102929957151,-0.484505605410844,-0.16152600749543328,-0.522686116340189,-0.5226818773120212,-0.16151186926284922,-0.48451457682962784,-0.38318772259387507,-0.5226863249855819,-0.17922001459024428,-0.5226826185008111,-0.5227740865062991,-0.484504788552576,-0.5226987923088504,-0.2633666639000229,-0.5226779466130936,-0.5226764721986952,-0.24972777237795912,-0.2974552313284167,-0.5227561739832631,-0.38318466220721686,-0.48450699952112625,-0.5226816829171552,-0.5226782333720451,-0.24763124661617847,-0.23757272266186272,-0.3692423902355023,-0.5231461839716135,-0.24763896556391352,-0.48452275651589805,-0.7219521939524015,-0.48455583405046987,-0.16155469493016458,-0.484525467108892,-0.1616914144869069,-0.4846167369256865,-0.5226797685113942,-0.5226794857248539,-0.522822057147306,-0.11918457610177319,-0.48451523734429247,-0.248011894722289,-0.16151054706261622,-0.5226972694360315,-0.5984332336443583,-0.10816082504989022,-0.14857860819721647,-0.8655367187648563,-0.5966315509014093,-0.5966667779884104,-0.7114075136113623,-0.6442995465229309,-0.5329573534136562,-0.6442981251575947,-0.10367557686911838,-0.7114206562132428,-0.4845092629402031,-0.247630825359137,0.85283888185423,-0.16151279522895232,-0.5226883383669678,-0.5226768889047209,-0.12433673334417206,-0.1687766875857948,-0.4845101131605412,-0.3591919779132401,-0.5226775920509504,-0.14969413211221777,-0.5420644181690294,-0.38322530593744386,-0.5969868953230868,-0.4899705098725951,-0.522678693366728,-0.5248142082129429,-0.22819783296618407,-0.5226823894064128,-0.11236953119797981,-0.48453734272432764,0.3259647485429936,-0.6102478229691267,-0.6443786249560974,-0.5227417651063244,-0.32158440318701326,-0.2497305950750525,-0.5316169274428659,-0.5226996876890551,-0.4845257882083467,-0.2497486480376789,-0.5229988586152372,-0.5226763096712184,-0.20945561044693825,-0.14854178575889074,0.10269707936221914,-0.1525626901481156,-0.5227851682300682,-0.3694278168059843,-0.5062606397973344,-0.4845081670751854,-0.49582958372595837,-0.2476487329139974,-0.15291816004987813,-0.5966405488354274,-0.522675624739526,-0.522676027838752,-0.24778238905806663,-0.2408986500691476,-0.16152247282991042,-0.5226825232536045,0.31106220505770316,-0.5248495648055425,-0.16151779419324283,-0.006349832282852566,-0.5238831146577516,-0.1654960987434405,-0.24763858845796807,-0.5274819086305936,-0.2476311563295896,-0.7350502998892217,-0.5226942607576043,-0.2969896260309886,-0.3404039116967433,-0.24981857819621486,-0.10816154598141944,0.09769417252527422,-0.2814185916456693,-0.24972754023466595,-0.5247775284530485,-0.25010366696524816,-0.4247475567904698,-0.24975827588745014,-0.5228236473963607,-0.20946542761856257,-0.4845211174457488,-0.2476953774956959,-0.1615363354049877,-0.4343154912697596,-0.20946725387907075,-0.5256643790797928,-0.036297966959300196,-0.22077748407846165,-0.3257464652044128,-0.2150320829481158,-0.5247942402723957,-0.5226827884428779,-0.5247835728623136,-0.2497247493964103,-0.543665858969894,-0.20945422222310908,-0.5226939193424593,-0.49595863480355806,-0.7360504298599794,-0.48457052393773953,-0.48451590928167837,0.32566039144192277,-0.532787146419885,-0.4845824535429427,-0.5227054537010178,-0.5226895571546054,-0.10813257248149517,-0.5226780328440733,-0.48471878682874997,-0.5245362975245981,-0.389026338504358,-0.484811051683088,-0.5226965716720466,-0.5228648191053447,-0.4845996626403349,-0.5227320306556318,-0.16150500583135763,-0.19590143130469342,-0.38322040642978455,0.32606924157016015,-0.25233633689553847,-0.5228007278118999,-0.3590831632849837,-0.6442883032427149,0.3258007145303832,0.3257676896681113,-0.10859933584558806,4.3586038107878196,-0.161506723286525,-0.14415008728312945,0.11935832489314512,-0.5227164978883855,-0.2476224032454034],\"type\":\"scatter3d\"},{\"customdata\":[[\"SHA-256\",17927175.0,\"21000000\"],[\"Ethash\",107684222.6865,\"0\"],[\"Scrypt\",63039243.3000049,\"84000000\"],[\"CryptoNight-V7\",17201143.1449131,\"0\"],[\"Ethash\",113359703.0,\"210000000\"],[\"Equihash\",7383056.25,\"21000000\"],[\"Multiple\",11406219141.0,\"21000000000\"],[\"Scrypt\",5768310.0,\"21000000\"],[\"X11\",11149733.9976203,\"20000000\"],[\"Scrypt\",12205795.4449549,\"64000000\"],[\"Multiple\",1688254250.0,\"2000000000\"],[\"Scrypt\",88.0,\"384000000000\"],[\"SHA-256\",170204389.754849,\"169795588\"],[\"Scrypt\",128940951.183046,\"250000000\"],[\"Scrypt\",7357794.7925,\"100000000\"],[\"Quark\",259557164.91477,\"247000000\"],[\"Groestl\",49548585.1412917,\"84000000\"],[\"Scrypt\",33442988.3440364,\"48166000\"],[\"Scrypt\",7219956.64626131,\"21000000 \"],[\"Scrypt\",4703879.51824446,\"13140000\"],[\"X11\",4996986.20575291,\"18000000\"],[\"Multiple\",15929530669.1206,\"16555000000\"],[\"SHA-256\",18773857500.0,\"21000000000\"],[\"Scrypt\",12539015186.822,\"13500000000\"],[\"Scrypt\",20910478.8062499,\"21000000 \"],[\"Scrypt\",218871896.499999,\"299792458\"],[\"Scrypt\",19496786.31025,\"32000000\"],[\"Scrypt\",1142732.14912776,\"11235813\"],[\"NeoScrypt\",208669093.00773,\"336000000\"],[\"Scrypt\",884125802.0,\"1420609614\"],[\"Scrypt\",65672720.4708748,\"70000000\"],[\"Scrypt\",41658647.9999715,\"72245700\"],[\"Scrypt\",90595753018.6314,\"90600000000\"],[\"SHA-256\",21089348.999,\"21000000\"],[\"Scrypt\",151447649.8,\"265420800\"],[\"Scrypt\",19326319.14375,\"20000000\"],[\"Scrypt\",1104344.22938102,\"1350000\"],[\"Scrypt\",38151999.9930997,\"42000000\"],[\"HybridScryptHash256\",40431856.9,\"200000000\"],[\"Scrypt\",5804204.88794916,\"10000000\"],[\"Scrypt\",2366066305.76482,\"15000000000\"],[\"SHA-256\",14736400.0,\"21000000\"],[\"Scrypt\",334709223.483138,\"337000000\"],[\"Scrypt\",1104157.42169891,\"21000000\"],[\"Scrypt\",24215181.725,\"250000000\"],[\"Scrypt\",25593737.1355044,\"51200000\"],[\"SHA-256\",563336541.299966,\"888000000\"],[\"SHA-256\",43536800.0,\"47011968\"],[\"SHA-256\",22935396.0,\"42000000\"],[\"SHA-256\",2278150.0,\"80000000\"],[\"SHA-256\",200911.79151896,\"250000\"],[\"X11\",1207310.0,\"0\"],[\"Scrypt\",23150892.1679687,\"23000000\"],[\"Lyra2REv2\",51173723.8166347,\"84000000\"],[\"Scrypt\",119606941.0,\"265420800\"],[\"SHA-256\",39195739.362088,\"45000000\"],[\"CryptoNight\",184066828814.0,\"184467440735\"],[\"CryptoNight\",6906587610.38292,\"10000000000\"],[\"Scrypt\",68194674.8711679,\"105120000\"],[\"Scrypt\",415032420.0,\"1680000000\"],[\"Scrypt\",137517654.41397,\"166386000\"],[\"Scrypt\",181919.2435974,\"2628000\"],[\"Scrypt\",152270664.860648,\"160000000\"],[\"Scrypt\",792537250.0,\"1000000000\"],[\"Stanford Folding\",719416990.0,\"1000000000\"],[\"Multiple\",65113302.0,\"0\"],[\"QuBit\",6365285.0,\"0\"],[\"Scrypt\",10140044.4430293,\"3371337\"],[\"Scrypt\",4610340640.89,\"10000000000\"],[\"M7 POW\",708506520.0,\"1840000000\"],[\"Scrypt\",619478.0,\"619478\"],[\"SHA-256\",12462620.0,\"21000000\"],[\"Scrypt\",88213.0,\"92000000000\"],[\"X11\",32221574.820996,\"33000000\"],[\"Lyra2RE\",13742738.0,\"65789100\"],[\"SHA-256\",14747200.0002,\"53760000\"],[\"X11\",15863837.5,\"21000000\"],[\"Scrypt\",32565300.0,\"210240000\"],[\"Scrypt\",75614500.0,\"250000000\"],[\"Ethash\",10495278.0,\"16906397\"],[\"Blake2b\",33098296530.0,\"0\"],[\"X11\",15867695.0,\"16000000\"],[\"SHA-256\",20997476.8650231,\"21000000\"],[\"Scrypt\",210000000.0,\"210000000\"],[\"1GB AES Pattern Search\",11448949.0,\"81962100\"],[\"Scrypt\",69836100.0,\"84000000\"],[\"SHA-256\",21739971929.0,\"21626280000 \"],[\"X11\",45110324.0,\"84000000\"],[\"Dagger\",5702048.0,\"30000000\"],[\"Scrypt\",636462.55983338,\"168351300\"],[\"X11GOST\",17263355.0,\"24000000\"],[\"Scrypt\",6570807.65677618,\"20000000\"],[\"X11\",13654082.4987998,\"25000000\"],[\"Scrypt\",616448.0,\"616448\"],[\"X11\",1377917.0,\"25000000\"],[\"Equihash\",115898131.0,\"200000000\"],[\"CryptoNight\",7822432.72439746,\"10000000\"],[\"SHA-256\",6243840.0,\"9736000\"],[\"Multiple\",1000000000.0,\"1200000000\"],[\"Scrypt\",116845228.0,\"200000000\"],[\"SHA-256\",9106714.0,\"10638298\"],[\"Scrypt\",11119200.0,\"30000000\"],[\"Lyra2Z\",7568281.24956067,\"21400000\"],[\"Ethash\",26205539.0,\"26205539\"],[\"Equihash\",5613550.0,\"21000000\"],[\"Scrypt\",196297971.0,\"10000000000\"],[\"X11\",824000000.0,\"500000000\"],[\"X11\",61364813.0,\"228000000\"],[\"CryptoNight\",978145.0,\"21000000\"],[\"Scrypt\",894026.0,\"2714286\"],[\"CryptoNight\",9357088.0,\"25000000\"],[\"Lyra2RE\",1876146.443596,\"9999999\"],[\"X11\",536982074.0,\"100000000000\"],[\"CryptoNight-V7\",10969318.522954,\"185000000\"],[\"Scrypt\",3115258.0,\"3360000\"],[\"X11\",30385540.0,\"1000000000\"],[\"Equihash\",6921653.89980891,\"17000000\"],[\"Scrypt\",99843408.3158479,\"100000000 \"],[\"Lyra2RE\",18545757.5,\"21000000\"],[\"Dagger-Hashimoto\",2232901.0,\"2232901\"],[\"Scrypt\",64096052.0,\"4000000000\"],[\"NIST5\",10123200.0,\"48252000\"],[\"Scrypt\",20276099.146524,\"35520400\"],[\"SHA-256\",1317747500.0,\"2500000000\"],[\"Scrypt\",13673406.4325268,\"72000000\"],[\"CryptoNight-V7\",69036016.8340164,\"105000000\"],[\"Argon2d\",19784224.6512734,\"0\"],[\"Blake2b\",133248297.0,\"340282367\"],[\"Cloverhash\",18407259.0885883,\"30000000\"],[\"CryptoNight\",1809467143.0,\"2000000000\"],[\"X11\",35138975.0,\"100000000\"],[\"Scrypt\",18133195.0,\"19276800\"],[\"Scrypt\",5167775.0,\" 75000000\"],[\"X11\",26042364.3735553,\"60000000\"],[\"X11\",2622886.0,\"18900000\"],[\"CryptoNight\",14161803.0,\"54000000\"],[\"Time Travel\",17801865.1605478,\"21000000\"],[\"Scrypt\",163055097500.0,\"200000000000\"],[\"Keccak\",2241009149.22257,\"5000000000\"],[\"X11\",122475638.389743,\"1100000000\"],[\"SHA-256\",17995589.6469082,\"21000000\"],[\"Scrypt\",485214.0,\"10500000000\"],[\"Scrypt\",143006669741.687,\"0\"],[\"Scrypt\",9704042.0,\"20000000\"],[\"Scrypt\",17453749.4042601,\"84000000\"],[\"Scrypt\",32646731.063036,\"100000000\"],[\"Scrypt\",33716526.0,\"100000000\"],[\"CryptoNight\",8946653.0,\"88888888\"],[\"Equihash\",5211553258.01514,\"21000000000\"],[\"X11\",2702855668.85288,\"1800000000\"],[\"NeoScrypt\",4165967.57499639,\"27000000\"],[\"Equihash\",17202361.088994,\"21000000\"],[\"Dagger\",33986980.0,\"156306732.71\"],[\"Scrypt\",99990001.493466,\"100000000\"],[\"X11\",175215859.0,\"350000000\"],[\"NeoScrypt\",6375259.04,\"45000000\"],[\"Ethash\",12756367.0,\"280000000\"],[\"NeoScrypt\",5832306.875,\"31800000\"],[\"Multiple\",481730566.566176,\"660000000\"],[\"CryptoNight\",19281821413.4924,\"85000000000\"],[\"CryptoNight\",4500000.0,\"12500000\"],[\"Ethash\",520891780.0,\"10000000000\"],[\"X11\",80316207.0,\"550000000\"],[\"CryptoNight-V7\",441250233.377,\"999481516\"],[\"Scrypt\",3964201248.87125,\"4999999999\"],[\"BLAKE256\",30089671530.5228,\" 90000000000\"],[\"X11\",4229040.50393462,\"19800000\"],[\"NeoScrypt\",7847417.33355824,\"21000000\"],[\"NeoScrypt\",299797953.0,\"500000000\"],[\"Scrypt\",45483049.3398182,\"64000000\"],[\"X11\",8478104.33969947,\"23000000\"],[\"SHA-256\",20166000.0,\"20166000\"],[\"C11\",11916588.09471,\"23000000\"],[\"CryptoNight\",53139835213.77,\"1000000000000\"],[\"SkunkHash\",4818338.98949984,\"16600000\"],[\"CryptoNight\",133932467.774108,\"336000000\"],[\"Scrypt\",10000000000.0,\"10000000000\"],[\"Dagger\",107325266.027783,\"100000000\"],[\"Lyra2REv2\",643795911.540095,\"1100000000\"],[\"Scrypt\",12446100.00278,\"40000000\"],[\"Scrypt\",14491014421.0,\"18406979840\"],[\"X11\",211297638.500483,\"500000000\"],[\"Ethash\",247612453.0,\"6500000000\"],[\"CryptoNight\",80049082.9057215,\"1000000000\"],[\"Scrypt\",4070212.1493016,\"21000000\"],[\"IMesh\",25000000.0,\"25000000\"],[\"Equihash\",71355477.0,\"70000000\"],[\"Lyra2Z\",27340501.6514783,\"300000000\"],[\"X11\",31801461.1867843,\"100000000\"],[\"CryptoNight\",16016864.0,\"18400000\"],[\"NIST5\",21069346.2522598,\"21000000\"],[\"Lyra2RE\",5097689.71077377,\"26280000\"],[\"Tribus\",795447.0,\"18000000\"],[\"Lyra2Z\",6986399.70430446,\"10500000\"],[\"CryptoNight\",84300.0,\"600000518\"],[\"CryptoNight Heavy\",19153632.0,\"150000000\"],[\"CryptoNight\",41294520017.0,\"184000000000\"],[\"Jump Consistent Hash\",135862416.039898,\"168000000\"],[\"CryptoNight\",560085952.404637,\"1000000000\"],[\"X16R\",8125865.02097646,\"22075700\"],[\"HMQ1725\",8645406.16776286,\"21000000\"],[\"X11\",4993030.69736615,\"21000000\"],[\"Scrypt\",1416663.06600024,\"22105263\"],[\"CryptoNight-V7\",15580199.3087496,\"1750000000\"],[\"Cryptonight-GPU\",4890897.0,\"88188888\"],[\"XEVAN\",14746153.0962884,\"210000000\"],[\"CryptoNight Heavy\",99553110528.8022,\"184470000000\"],[\"SHA-256\",2100000000.0,\"2100000000\"],[\"X11\",5015881.37315389,\"25000000\"],[\"X16R\",9753753.61515394,\"100000000\"],[\"Equihash\",4235111504.0,\"7600000000\"],[\"Lyra2Z\",13634850.0,\"84000000\"],[\"SHA-256\",17992514.6469233,\"21000000\"],[\"CryptoNight\",1867054873.28397,\"8080000000\"],[\"Blake\",1578281.31341127,\"105120001.44\"],[\"Blake\",15846721.2482747,\"25228800\"],[\"Equihash\",13475920.0,\"105000000\"],[\"Exosis\",406091.925,\"21000000\"],[\"Scrypt\",35284717.173946,\"120000000\"],[\"Equihash\",35687520.0,\"262800000\"],[\"Equihash\",25150787.5,\"30886000\"],[\"QuBit\",12925790.4226959,\"100000000\"],[\"SHA-256\",52293836.6277958,\"64000000\"],[\"X13\",1170292.5,\"2100000\"],[\"SHA-256\",84613099.9999955,\"168000000\"],[\"Scrypt\",55565076.3863525,\"98100000000\"],[\"NeoScrypt\",3824685012.0,\"4000000000\"],[\"Blake\",23356790.1494191,\"7000000000\"],[\"Scrypt\",780210700.0,\"1000000000\"],[\"SHA-256\",22986929.0854247,\"42000000\"],[\"Scrypt\",29583989322.9213,\"50000000000\"],[\"Groestl\",73298203.8873662,\"105000000\"],[\"Scrypt\",5052555.91981545,\"5000000\"],[\"Scrypt\",69684455.4387001,\"182000000\"],[\"Multiple\",3332922.5,\"2800000\"],[\"Equihash+Scrypt\",100000000.0,\"2100000000\"],[\"Ethash\",24487944.0958204,\"24487944\"],[\"CryptoNight\",980222595.0,\"1400222610\"],[\"Equihash\",7296537.5,\"21000000\"]],\"hovertemplate\":\"<b>%{hovertext}</b><br><br>class=%{marker.color}<br>PC 1=%{x}<br>PC 2=%{y}<br>PC 3=%{z}<br>Algorithm=%{customdata[0]}<br>TotalCoinsMined=%{customdata[1]}<br>TotalCoinSupply=%{customdata[2]}<extra></extra>\",\"hovertext\":[\"Bitcoin\",\"Ethereum\",\"Litecoin\",\"Monero\",\"Ethereum Classic\",\"ZCash\",\"DigiByte\",\"ProsperCoin\",\"Spreadcoin\",\"Argentum\",\"MyriadCoin\",\"MoonCoin\",\"ZetaCoin\",\"SexCoin\",\"Quatloo\",\"QuarkCoin\",\"Riecoin\",\"Digitalcoin \",\"Catcoin\",\"CannaCoin\",\"CryptCoin\",\"Verge\",\"DevCoin\",\"EarthCoin\",\"E-Gulden\",\"Einsteinium\",\"Emerald\",\"Franko\",\"FeatherCoin\",\"GrandCoin\",\"GlobalCoin\",\"GoldCoin\",\"Infinite Coin\",\"IXcoin\",\"KrugerCoin\",\"LuckyCoin\",\"Litebar \",\"MegaCoin\",\"MediterraneanCoin\",\"MinCoin\",\"NobleCoin\",\"Namecoin\",\"NyanCoin\",\"RonPaulCoin\",\"StableCoin\",\"SmartCoin\",\"SysCoin\",\"TigerCoin\",\"TerraCoin\",\"UnbreakableCoin\",\"Unobtanium\",\"UroCoin\",\"ViaCoin\",\"Vertcoin\",\"WorldCoin\",\"JouleCoin\",\"ByteCoin\",\"DigitalNote \",\"MonaCoin\",\"Gulden\",\"PesetaCoin\",\"Wild Beast Coin\",\"Flo\",\"ArtByte\",\"Folding Coin\",\"Unitus\",\"CypherPunkCoin\",\"OmniCron\",\"GreenCoin\",\"Cryptonite\",\"MasterCoin\",\"SoonCoin\",\"1Credit\",\"MarsCoin \",\"Crypto\",\"Anarchists Prime\",\"BowsCoin\",\"Song Coin\",\"BitZeny\",\"Expanse\",\"Siacoin\",\"MindCoin\",\"I0coin\",\"Revolution VR\",\"HOdlcoin\",\"Gamecredits\",\"CarpeDiemCoin\",\"Adzcoin\",\"SoilCoin\",\"YoCoin\",\"SibCoin\",\"Francs\",\"BolivarCoin\",\"Omni\",\"PizzaCoin\",\"Komodo\",\"Karbo\",\"ZayedCoin\",\"Circuits of Value\",\"DopeCoin\",\"DollarCoin\",\"Shilling\",\"ZCoin\",\"Elementrem\",\"ZClassic\",\"KiloCoin\",\"ArtexCoin\",\"Kurrent\",\"Cannabis Industry Coin\",\"OsmiumCoin\",\"Bikercoins\",\"HexxCoin\",\"PacCoin\",\"Citadel\",\"BeaverCoin\",\"VaultCoin\",\"Zero\",\"Canada eCoin\",\"Zoin\",\"DubaiCoin\",\"EB3coin\",\"Coinonat\",\"BenjiRolls\",\"ILCoin\",\"EquiTrader\",\"Quantum Resistant Ledger\",\"Dynamic\",\"Nano\",\"ChanCoin\",\"Dinastycoin\",\"DigitalPrice\",\"Unify\",\"SocialCoin\",\"ArcticCoin\",\"DAS\",\"LeviarCoin\",\"Bitcore\",\"gCn Coin\",\"SmartCash\",\"Onix\",\"Bitcoin Cash\",\"Sojourn Coin\",\"NewYorkCoin\",\"FrazCoin\",\"Kronecoin\",\"AdCoin\",\"Linx\",\"Sumokoin\",\"BitcoinZ\",\"Elements\",\"VIVO Coin\",\"Bitcoin Gold\",\"Pirl\",\"eBoost\",\"Pura\",\"Innova\",\"Ellaism\",\"GoByte\",\"SHIELD\",\"UltraNote\",\"BitCoal\",\"DaxxCoin\",\"AC3\",\"Lethean\",\"PopularCoin\",\"Photon\",\"Sucre\",\"SparksPay\",\"GunCoin\",\"IrishCoin\",\"Pioneer Coin\",\"UnitedBitcoin\",\"Interzone\",\"TurtleCoin\",\"MUNcoin\",\"Niobio Cash\",\"ShareChain\",\"Travelflex\",\"KREDS\",\"BitFlip\",\"LottoCoin\",\"Crypto Improvement Fund\",\"Callisto Network\",\"BitTube\",\"Poseidon\",\"Aidos Kuneen\",\"Bitrolium\",\"Alpenschillling\",\"FuturoCoin\",\"Monero Classic\",\"Jumpcoin\",\"Infinex\",\"KEYCO\",\"GINcoin\",\"PlatinCoin\",\"Loki\",\"Newton Coin\",\"MassGrid\",\"PluraCoin\",\"Motion\",\"PlusOneCoin\",\"Axe\",\"HexCoin\",\"Webchain\",\"Ryo\",\"Urals Coin\",\"Qwertycoin\",\"Project Pai\",\"Azart\",\"Xchange\",\"CrypticCoin\",\"Actinium\",\"Bitcoin SV\",\"FREDEnergy\",\"Universal Molecule\",\"Lithium\",\"PirateCash\",\"Exosis\",\"Block-Logic\",\"Beam\",\"Bithereum\",\"SLICE\",\"BLAST\",\"Bitcoin Rhodium\",\"GlobalToken\",\"SolarCoin\",\"UFO Coin\",\"BlakeCoin\",\"Crypto Escudo\",\"Crown Coin\",\"SmileyCoin\",\"Groestlcoin\",\"Bata\",\"Pakcoin\",\"JoinCoin\",\"Vollar\",\"Reality Clash\",\"Beldex\",\"Horizen\"],\"legendgroup\":\"3\",\"marker\":{\"color\":[3,3,3,3,3,3,3,3,3,3,3,3,3,3,3,3,3,3,3,3,3,3,3,3,3,3,3,3,3,3,3,3,3,3,3,3,3,3,3,3,3,3,3,3,3,3,3,3,3,3,3,3,3,3,3,3,3,3,3,3,3,3,3,3,3,3,3,3,3,3,3,3,3,3,3,3,3,3,3,3,3,3,3,3,3,3,3,3,3,3,3,3,3,3,3,3,3,3,3,3,3,3,3,3,3,3,3,3,3,3,3,3,3,3,3,3,3,3,3,3,3,3,3,3,3,3,3,3,3,3,3,3,3,3,3,3,3,3,3,3,3,3,3,3,3,3,3,3,3,3,3,3,3,3,3,3,3,3,3,3,3,3,3,3,3,3,3,3,3,3,3,3,3,3,3,3,3,3,3,3,3,3,3,3,3,3,3,3,3,3,3,3,3,3,3,3,3,3,3,3,3,3,3,3,3,3,3,3,3,3,3,3,3,3,3,3,3,3,3,3,3,3,3,3,3,3,3,3,3,3,3,3,3,3,3,3,3,3,3],\"coloraxis\":\"coloraxis\",\"symbol\":\"diamond\"},\"mode\":\"markers\",\"name\":\"3\",\"scene\":\"scene\",\"showlegend\":true,\"x\":[-0.13707639886967798,-0.13551443778315284,-0.1682163418781276,-0.14459349543549357,-0.13395024782113807,-0.18330082357445246,0.17893678258680662,-0.1693664418256597,-0.2145002377388861,-0.16898151963341665,-0.07536168035540664,2.5634911895117685,-0.13415160662683226,-0.16622740335769287,-0.16878469306566135,-0.21870839927809538,-0.20345944685324638,-0.1688340105492396,-0.16934865572117305,-0.1694354263020076,-0.21458985823032609,0.20272124753006973,0.24204382982998487,0.08013077309385803,-0.1691809144473303,-0.16477114425142905,-0.16911994423340462,-0.16949261162077614,-0.1664752259517679,-0.14864291776795252,-0.1682837190151428,-0.1685619646721748,1.585261182902478,-0.1370376547598118,-0.16584188722429763,-0.1692074415396806,-0.16956344315044694,-0.16882019984688235,-0.13946162927349204,-0.16944429331870464,-0.03383582415904531,-0.13711549340944815,-0.1630870424581364,-0.16942358872522556,-0.16751054170462887,-0.16890858827827473,-0.12422306711273315,-0.13657748307631778,-0.13686557112764755,-0.13684821042339756,-0.13744127335877473,-0.21476440374674702,-0.16913922930512984,-0.18035221388045025,-0.1662320112087414,-0.13664499129649854,3.8841206620599373,0.47173590946878025,-0.16800285637165038,-0.1525442385324802,-0.16671743190948163,-0.16956564901355428,-0.16658212429411776,-0.15275873680469648,-0.1299527720988091,-0.10948377567023636,-0.16833573399074742,-0.16943834781005424,-0.04192510610181874,-0.09531399954779653,-0.16957458331843883,-0.13714335259182123,0.485214380971198,-0.2141495317846079,-0.1447717413849925,-0.13688219538657526,-0.21443536143234038,-0.16769122043568607,-0.166880778499008,-0.13658490278101074,0.38092059579534715,-0.21447090111898442,-0.1370387804107259,-0.16551893391032524,-0.12733700454167027,-0.16813306430933495,0.2828432253207323,-0.213628627234488,-0.14527972520652924,-0.1683805624200724,-0.12984243882919294,-0.16936372672152677,-0.214433966596949,-0.1695746420087965,-0.21458437865681113,-0.44040098082679047,0.3161069944332646,-0.13729971763519647,-0.08948833462660336,-0.1667314740738682,-0.13725821865135848,-0.16923682425832395,-0.14432840970446528,-0.13632622930925584,-0.18332250421080643,-0.09600756779255663,-0.20112455241754493,-0.21240456713912145,0.31610142701256316,-0.16955630989057643,0.31623255844019726,-0.1453142079865874,0.5035391070277947,-0.14335313286981222,-0.16952449874709186,-0.20728951139587198,-0.18333494640454873,-0.16765152557626647,-0.1450316745309416,-0.14111456558874177,-0.14033169412120824,-0.18903991763100403,-0.16908533974826967,-0.10350651599971128,-0.16890659880776723,-0.14321106969300612,-0.15951269940380092,-0.020557283381987847,-0.1416979998776444,0.35234500908793226,-0.21363692160101336,-0.16922720742858752,-0.16898946073811288,-0.21403307219533937,-0.21461254092144638,0.3164978318726743,-0.13414447402897292,3.251701984535857,-0.10432520775613842,-0.20544945089940128,-0.1370755606284571,-0.0948480421387582,1.5825833253214618,-0.16932533719088372,-0.168774871985706,-0.16847484378930966,-0.1684617362713217,0.31668225177516357,0.02977829439775603,-0.1688515200399143,-0.171180146396487,-0.1831805138680222,-0.1440341936172109,-0.1676497294631554,-0.2101413009902759,-0.17102496433066938,-0.13468465930688442,-0.17112556632711884,-0.09968175148211633,1.1571660424770516,0.31608408025007867,-0.05927776770780774,-0.20988056815441541,-0.13228419145028963,-0.08542879188948212,1.0885738368617668,-0.21458645607927448,-0.17117774427067495,-0.16419142993713096,-0.16857379457420546,-0.21451161935037755,-0.1370549038720062,-0.19291657793997383,8.084418659943655,-0.11458114222057593,0.31997240975563473,0.024110967315309755,-0.143536383150004,-0.16585992229093974,-0.16914939269495585,0.13897226947320368,-0.20863160535558273,-0.08753695085440315,0.3240381578383837,-0.1693872475402451,-0.13129161008961715,-0.1821682580173804,-0.14210324838235402,-0.21367781403827438,0.31626718167203893,-0.1890997645653918,-0.14515886534600075,-0.1307357457547976,-0.1444131186808238,0.3202114478106425,0.5966347286180684,2.1314952720808606,-0.12320944422287304,0.329919744752328,-0.19099029644788806,-0.15169217756853598,-0.21456855452457324,-0.16941189320416813,-0.13215792328131098,-0.14752754340434018,-0.10718459076060727,3.128038423335132,-0.09676902889900142,-0.21453980498964081,-0.19041573332694964,-0.07755845270359439,-0.14380853127437315,-0.13707559830447918,0.39632432634835024,-0.14195291506758856,-0.1423467097747402,-0.2976849529140338,-0.1381565052244761,-0.16830017442018197,-0.1812330420460527,-0.18301276432904642,-0.16754361328122463,-0.13634927821812634,-0.10452190379242696,-0.13521308224546713,0.5293101829205957,-0.09609236218797489,-0.09261252668082198,-0.15290976619385513,-0.13686493972547797,0.5487567527859589,-0.20301899266638096,-0.16948908974631738,-0.1674374180910634,-0.11022080273446166,-0.09629003614841018,-0.1363594987023817,0.3379159526392755,-0.1833018836337525],\"y\":[-1.3254995197911588,-2.025334113347328,-1.1110736808964412,-2.256025556080583,-2.0254059093554706,-2.229939398577926,-1.7231615182466873,-1.1110808408701214,-0.9107157238408748,-1.1110928174455157,-1.7214194252963926,-1.2477203049524241,-1.3254738227261835,-1.111098715371328,-1.111108131613007,-0.42339238633856613,-1.2049976679214722,-1.1110762148652835,-1.111080091153283,-1.1110785936744465,-0.9107181897992257,-1.7192436856285185,-1.323278083339925,-1.1094043416908101,-1.1110730205517567,-1.1110699880012558,-1.11107766494685,-1.1110797552703404,-1.5690388456304856,-1.111125246895367,-1.111067339000927,-1.1110805404171245,-1.0965267351471633,-1.3254978866560527,-1.1110925789644857,-1.1110734828625741,-1.111076257292468,-1.1110715887191518,-2.0789548829870217,-1.1110769080518228,-1.1151920242068245,-1.3255011676975177,-1.1110234027694896,-1.1110832497164715,-1.111152801999778,-1.1110813483159847,-1.3255263543267328,-1.3254955496479826,-1.3255044059638057,-1.3255285966550214,-1.3255012909343373,-0.9107137418283435,-1.11107257515606,-1.2486901724314758,-1.111109023404048,-1.3254970756843831,-2.203378607593898,-2.232791584798002,-1.1110785337420144,-1.1114598170924392,-1.111064532340542,-1.111077188455874,-1.1110546405892616,-1.111022877425764,-2.209164653518821,-1.721546024732624,-1.5019983229568727,-1.1110723099983135,-1.1122537289934908,-2.230798060590272,-1.111076247754677,-1.325502342013015,-1.143813916570718,-0.9107094670538227,-2.1095753512505118,-1.325512819557399,-0.9107136450405304,-1.111134341157953,-1.1111262563286937,-2.025390323544172,-2.1624727451911223,-0.9107118638300876,-1.3254979341042974,-1.1110426179022306,-2.1144238050297335,-1.1110701705945818,-1.3219690628389085,-0.9107209585612835,-2.1208583802898353,-1.1111359252849156,-2.0460196374405992,-1.1110800705688668,-0.9107162096642625,-1.111076248241343,-0.9107225498077206,-2.4001831958110706,-2.232799640302411,-1.325501545538853,-1.7214902058954324,-1.111087170141623,-1.3255003880571121,-1.1110812799444005,-2.1636731876492075,-2.0253855188696814,-2.2299403124564074,-1.1145334036817962,-0.9104667244691202,-0.9107638052586368,-2.232807089380515,-1.1110768513858316,-2.2328041853695697,-2.1095616276688074,-0.9460213998070063,-2.256094605639595,-1.1110759339824732,-0.911054516091465,-2.229938213499037,-1.1110603665305303,-2.1095569327686334,-2.0698482804011897,-1.1124666187915344,-0.6863541559768894,-1.1110785151752085,-1.325710351496379,-1.1110949062328601,-2.2560361490449226,-2.2732569050992337,-2.179618947957079,-2.1893296499664228,-2.232577292449062,-0.9107318018583863,-1.1110738417168653,-1.1111003665787422,-0.9107222661446253,-0.9107197361853318,-2.232812023393967,-2.010701143241761,-1.0980337056754443,-1.123543728863202,-0.9110425396405702,-1.3254994844577537,-1.114812454878895,-1.0372191805577256,-1.111078452379928,-1.11109722396214,-1.1110950708992298,-1.1110945183933703,-2.232827131797123,-2.2347168986674917,-0.9099589681638233,-1.5690345075470153,-2.229934327303729,-2.1208887177128366,-1.1110602908210772,-0.9107484187176383,-1.5690397717227593,-2.0254827759684053,-1.5690353549995675,-1.721565715551393,-2.253088549560759,-2.2328022458137693,-2.028679144739376,-0.9108685992814403,-2.2561622110000346,-1.1108082156818542,-1.2488513276792288,-0.9107192269307036,-1.5690304711651248,-1.5690501396133418,-1.1110756310884566,-0.910718171160565,-1.3254980667549066,-1.323563249799959,-2.5611991840405324,-2.1216099215741813,-2.2328505145914495,-1.1094701877052833,-2.120830805058637,-1.2487456441547915,-1.1110841530905622,-1.1101423305249434,-0.9107831604824153,-2.027574829729975,-2.233114623359493,-1.111081717869049,-2.2341529692034987,-2.2299237957457914,-2.1637621141343657,-0.9107335255494177,-2.2327983972963317,-0.6863388052837561,-2.109565757006692,-2.1815087312447874,-2.163669609471839,-2.2330135846672063,-2.2403345412370292,-2.276948400517783,-2.156591482953847,-2.232866703712429,-1.2975761839316524,-2.251880727552853,-0.9107192593730057,-1.1110834816207422,-2.2566491196025122,-2.2236485121088334,-0.599276115845973,-2.254518373916323,-1.3251640122312869,-0.9107206709461149,-1.2976030720595215,-2.2304528866045423,-2.16369233032343,-1.325499486045867,-2.234711080044184,-2.2298015489522376,-2.2297657511036104,-0.22814429148106752,-2.07502324349902,-1.1111008253587915,-2.2300108234581932,-2.229933740132871,-1.5020305190848973,-1.3254970720755375,-0.30290841682231356,-1.3255173882204307,-1.1459559112161022,-1.5684751306113318,-2.2322438004281744,-1.1110292435907814,-1.3255043793490495,-1.1135895941152996,-1.2049928749194396,-1.1110755170299442,-1.111105121589587,-1.721578928164573,-2.1057149530408976,-2.025385794742792,-2.2327921367826096,-2.2299394432613644],\"z\":[0.16422694638007007,0.37502682917999636,0.024708903731779235,0.42244437134756735,0.3749941217397118,0.4384712418790235,0.34799839881828165,0.024736736147069508,0.06290625811173657,0.024728328167174452,0.3539425511941253,-0.0317007196420481,0.16415569377256456,0.02466313295007518,0.024724608844082955,0.022521274355568686,0.12459653828174852,0.024723768547415172,0.024736265394075606,0.024738236635775186,0.0629085473508744,0.34718488911549633,0.15506099730679254,0.018691125552291535,0.024731825708762225,0.0246266505696771,0.024730667313686342,0.024739671364367454,0.18822559068200442,0.024246172251892854,0.024710107520489508,0.02471756493406108,-0.01795439171251955,0.16422592092192126,0.02465356764275222,0.024732486419715847,0.024741136883825388,0.024723147779172044,0.19269027886058535,0.024738341346710786,0.021769622478509717,0.16422798111320086,0.024583616835033295,0.024738248680299568,0.024697094361858983,0.024725868019137988,0.16392263975337532,0.1642148180803452,0.16422223557477908,0.16422334904465766,0.16423574475978397,0.06291242203917519,0.024730805196522057,0.12265214470762563,0.024663893233374836,0.16421652156844616,0.2765432546003393,0.35963854193354067,0.02470412754947035,0.024360167448225244,0.024672641661300412,0.02474124816866678,0.024668796071844284,0.024337696902640805,0.3144969548723248,0.35476288879968126,0.24998069762614472,0.024737909598790818,0.02177675632199757,0.3720884211645009,0.024741401496700385,0.16422871847497233,0.011219003373395316,0.06289751393534668,0.33983451680316923,0.16422316236751633,0.06290458239452232,0.024700230652132463,0.024680426129938954,0.37505586148827835,0.35556675098014323,0.06290531607083093,0.1642259507150408,0.02464272581274971,0.3930750996309266,0.024706699586125962,0.15400706506925255,0.0628858379981825,0.3846465736376315,0.02471674185134798,0.4974975859407856,0.024736622891382485,0.06290471105189015,0.024741402924661614,0.0629086920769404,0.6926627196397179,0.36334412003105837,0.1642323908008422,0.35428333281565466,0.02467440473220603,0.1642313297777066,0.024733678043413587,0.45274825249430345,0.3750493999853617,0.4384718157103802,0.023208181667619995,0.06257210672087418,0.0628594009418113,0.36334472271810975,0.024741004557514483,0.3633414175775217,0.33984656519406065,0.04804013112721698,0.4224191999511743,0.024740189325916543,0.06275597441039497,0.4384719794485185,0.02469461677984526,0.3398395425829767,0.28713248990953416,0.024132965995578855,-0.04922250050479448,0.024729897143550082,0.16344105205506532,0.024726676353515283,0.42241212839751124,0.3925033445876855,0.36620693592073456,0.4456739022364961,0.36246736547901537,0.06288671982945664,0.02473297963659235,0.024728993679609842,0.06289554917796286,0.0629091849584765,0.3633355968833801,0.4130949132804282,-0.057532366116187214,0.11169476184350695,0.06271141206228607,0.16422692419395124,0.023198188859332655,-0.021633792020071433,0.024735606818048518,0.0247236866045835,0.02471640792101777,0.02471606099832101,0.3633321599400694,0.43369997912142927,0.0617717334676519,0.18833732729392064,0.4384680575867824,0.38461883589417145,0.024694569241295112,0.06280454807852717,0.1883339651069576,0.37501645731025474,0.1883360813883044,0.35453077401913685,0.34460148132529356,0.3633448299957134,0.37342297602072855,0.06280592589868036,0.4221599476643199,0.02272121945258995,0.07930518144903248,0.0629085318133828,0.1883370153530792,0.18817193298406215,0.024717536720824725,0.06290668353541112,0.16422634293968177,0.04115520958431059,0.19913001358859997,0.35991987106341894,0.3632553066809225,0.020028949246291977,0.3846033293675055,0.1223106266516127,0.02473177788987323,0.01733685909038407,0.06277079933786141,0.37402604656919197,0.36317518212899613,0.024737286821470538,0.48128218010348933,0.4384432940415845,0.4527008904347838,0.06288780214836952,0.3633402279896043,-0.04922204457177339,0.339843127559833,0.36789975893391086,0.452750043333482,0.363259907930111,0.35250256157619303,0.32291144637925945,0.5036243629460873,0.36301951146760486,0.2660162383168445,0.5236212593636106,0.06290810767725032,0.024737984880585904,0.42218767246311245,0.42366503926558075,0.05156032540103658,0.29313243906825764,0.1632461703787706,0.06290751232522546,0.2660042566721778,0.43598623344979986,0.4527370838837671,0.16422692519114,0.36155501887331976,0.38190716707925776,0.3819142828258327,0.16609301116690608,0.40552430394856337,0.024712612742209268,0.4384265219716913,0.43846402690161357,0.2499638715815406,0.16420948127642807,-0.09687232514118775,0.16418371400896806,0.010304401589535479,0.18651440191727248,0.3808866575052341,0.024341694266829226,0.1642222188631682,0.007798659517434152,0.1245857498479124,0.024739320025432627,0.02469234418861931,0.3547825119359792,0.4214911683740733,0.37505020944391687,0.3628244388883292,0.43847126993609953],\"type\":\"scatter3d\"},{\"customdata\":[[\"Proof-of-BibleHash\",1772091549.88818,\"5200000000\"],[\"SHA-256 + Hive\",638382332.208514,\"840000000\"],[\"Proof-of-Authority\",204479039.0,\"252460800\"],[\"ECC 256K1\",1000000000.0,\"1000000000\"]],\"hovertemplate\":\"<b>%{hovertext}</b><br><br>class=%{marker.color}<br>PC 1=%{x}<br>PC 2=%{y}<br>PC 3=%{z}<br>Algorithm=%{customdata[0]}<br>TotalCoinsMined=%{customdata[1]}<br>TotalCoinSupply=%{customdata[2]}<extra></extra>\",\"hovertext\":[\"BiblePay\",\"LitecoinCash\",\"Poa Network\",\"Acute Angle Cloud\"],\"legendgroup\":\"1\",\"marker\":{\"color\":[1,1,1,1],\"coloraxis\":\"coloraxis\",\"symbol\":\"square\"},\"mode\":\"markers\",\"name\":\"1\",\"scene\":\"scene\",\"showlegend\":true,\"x\":[-0.26316212803102634,-0.4198081422040482,-0.3822369526385097,-0.27687025490267547],\"y\":[2.804522814083581,2.5513013019597945,3.344617589441659,4.104595249265917],\"z\":[17.965429304373213,18.967704937012446,13.554014819818338,10.650045454073242],\"type\":\"scatter3d\"},{\"customdata\":[[\"TRC10\",989988713439.649,\"990000000000\"]],\"hovertemplate\":\"<b>%{hovertext}</b><br><br>class=%{marker.color}<br>PC 1=%{x}<br>PC 2=%{y}<br>PC 3=%{z}<br>Algorithm=%{customdata[0]}<br>TotalCoinsMined=%{customdata[1]}<br>TotalCoinSupply=%{customdata[2]}<extra></extra>\",\"hovertext\":[\"BitTorrent\"],\"legendgroup\":\"2\",\"marker\":{\"color\":[2],\"coloraxis\":\"coloraxis\",\"symbol\":\"x\"},\"mode\":\"markers\",\"name\":\"2\",\"scene\":\"scene\",\"showlegend\":true,\"x\":[34.1163351819568],\"y\":[1.8652086570113238],\"z\":[-0.6172548768713562],\"type\":\"scatter3d\"}],                        {\"template\":{\"data\":{\"bar\":[{\"error_x\":{\"color\":\"#2a3f5f\"},\"error_y\":{\"color\":\"#2a3f5f\"},\"marker\":{\"line\":{\"color\":\"#E5ECF6\",\"width\":0.5},\"pattern\":{\"fillmode\":\"overlay\",\"size\":10,\"solidity\":0.2}},\"type\":\"bar\"}],\"barpolar\":[{\"marker\":{\"line\":{\"color\":\"#E5ECF6\",\"width\":0.5},\"pattern\":{\"fillmode\":\"overlay\",\"size\":10,\"solidity\":0.2}},\"type\":\"barpolar\"}],\"carpet\":[{\"aaxis\":{\"endlinecolor\":\"#2a3f5f\",\"gridcolor\":\"white\",\"linecolor\":\"white\",\"minorgridcolor\":\"white\",\"startlinecolor\":\"#2a3f5f\"},\"baxis\":{\"endlinecolor\":\"#2a3f5f\",\"gridcolor\":\"white\",\"linecolor\":\"white\",\"minorgridcolor\":\"white\",\"startlinecolor\":\"#2a3f5f\"},\"type\":\"carpet\"}],\"choropleth\":[{\"colorbar\":{\"outlinewidth\":0,\"ticks\":\"\"},\"type\":\"choropleth\"}],\"contour\":[{\"colorbar\":{\"outlinewidth\":0,\"ticks\":\"\"},\"colorscale\":[[0.0,\"#0d0887\"],[0.1111111111111111,\"#46039f\"],[0.2222222222222222,\"#7201a8\"],[0.3333333333333333,\"#9c179e\"],[0.4444444444444444,\"#bd3786\"],[0.5555555555555556,\"#d8576b\"],[0.6666666666666666,\"#ed7953\"],[0.7777777777777778,\"#fb9f3a\"],[0.8888888888888888,\"#fdca26\"],[1.0,\"#f0f921\"]],\"type\":\"contour\"}],\"contourcarpet\":[{\"colorbar\":{\"outlinewidth\":0,\"ticks\":\"\"},\"type\":\"contourcarpet\"}],\"heatmap\":[{\"colorbar\":{\"outlinewidth\":0,\"ticks\":\"\"},\"colorscale\":[[0.0,\"#0d0887\"],[0.1111111111111111,\"#46039f\"],[0.2222222222222222,\"#7201a8\"],[0.3333333333333333,\"#9c179e\"],[0.4444444444444444,\"#bd3786\"],[0.5555555555555556,\"#d8576b\"],[0.6666666666666666,\"#ed7953\"],[0.7777777777777778,\"#fb9f3a\"],[0.8888888888888888,\"#fdca26\"],[1.0,\"#f0f921\"]],\"type\":\"heatmap\"}],\"heatmapgl\":[{\"colorbar\":{\"outlinewidth\":0,\"ticks\":\"\"},\"colorscale\":[[0.0,\"#0d0887\"],[0.1111111111111111,\"#46039f\"],[0.2222222222222222,\"#7201a8\"],[0.3333333333333333,\"#9c179e\"],[0.4444444444444444,\"#bd3786\"],[0.5555555555555556,\"#d8576b\"],[0.6666666666666666,\"#ed7953\"],[0.7777777777777778,\"#fb9f3a\"],[0.8888888888888888,\"#fdca26\"],[1.0,\"#f0f921\"]],\"type\":\"heatmapgl\"}],\"histogram\":[{\"marker\":{\"pattern\":{\"fillmode\":\"overlay\",\"size\":10,\"solidity\":0.2}},\"type\":\"histogram\"}],\"histogram2d\":[{\"colorbar\":{\"outlinewidth\":0,\"ticks\":\"\"},\"colorscale\":[[0.0,\"#0d0887\"],[0.1111111111111111,\"#46039f\"],[0.2222222222222222,\"#7201a8\"],[0.3333333333333333,\"#9c179e\"],[0.4444444444444444,\"#bd3786\"],[0.5555555555555556,\"#d8576b\"],[0.6666666666666666,\"#ed7953\"],[0.7777777777777778,\"#fb9f3a\"],[0.8888888888888888,\"#fdca26\"],[1.0,\"#f0f921\"]],\"type\":\"histogram2d\"}],\"histogram2dcontour\":[{\"colorbar\":{\"outlinewidth\":0,\"ticks\":\"\"},\"colorscale\":[[0.0,\"#0d0887\"],[0.1111111111111111,\"#46039f\"],[0.2222222222222222,\"#7201a8\"],[0.3333333333333333,\"#9c179e\"],[0.4444444444444444,\"#bd3786\"],[0.5555555555555556,\"#d8576b\"],[0.6666666666666666,\"#ed7953\"],[0.7777777777777778,\"#fb9f3a\"],[0.8888888888888888,\"#fdca26\"],[1.0,\"#f0f921\"]],\"type\":\"histogram2dcontour\"}],\"mesh3d\":[{\"colorbar\":{\"outlinewidth\":0,\"ticks\":\"\"},\"type\":\"mesh3d\"}],\"parcoords\":[{\"line\":{\"colorbar\":{\"outlinewidth\":0,\"ticks\":\"\"}},\"type\":\"parcoords\"}],\"pie\":[{\"automargin\":true,\"type\":\"pie\"}],\"scatter\":[{\"marker\":{\"colorbar\":{\"outlinewidth\":0,\"ticks\":\"\"}},\"type\":\"scatter\"}],\"scatter3d\":[{\"line\":{\"colorbar\":{\"outlinewidth\":0,\"ticks\":\"\"}},\"marker\":{\"colorbar\":{\"outlinewidth\":0,\"ticks\":\"\"}},\"type\":\"scatter3d\"}],\"scattercarpet\":[{\"marker\":{\"colorbar\":{\"outlinewidth\":0,\"ticks\":\"\"}},\"type\":\"scattercarpet\"}],\"scattergeo\":[{\"marker\":{\"colorbar\":{\"outlinewidth\":0,\"ticks\":\"\"}},\"type\":\"scattergeo\"}],\"scattergl\":[{\"marker\":{\"colorbar\":{\"outlinewidth\":0,\"ticks\":\"\"}},\"type\":\"scattergl\"}],\"scattermapbox\":[{\"marker\":{\"colorbar\":{\"outlinewidth\":0,\"ticks\":\"\"}},\"type\":\"scattermapbox\"}],\"scatterpolar\":[{\"marker\":{\"colorbar\":{\"outlinewidth\":0,\"ticks\":\"\"}},\"type\":\"scatterpolar\"}],\"scatterpolargl\":[{\"marker\":{\"colorbar\":{\"outlinewidth\":0,\"ticks\":\"\"}},\"type\":\"scatterpolargl\"}],\"scatterternary\":[{\"marker\":{\"colorbar\":{\"outlinewidth\":0,\"ticks\":\"\"}},\"type\":\"scatterternary\"}],\"surface\":[{\"colorbar\":{\"outlinewidth\":0,\"ticks\":\"\"},\"colorscale\":[[0.0,\"#0d0887\"],[0.1111111111111111,\"#46039f\"],[0.2222222222222222,\"#7201a8\"],[0.3333333333333333,\"#9c179e\"],[0.4444444444444444,\"#bd3786\"],[0.5555555555555556,\"#d8576b\"],[0.6666666666666666,\"#ed7953\"],[0.7777777777777778,\"#fb9f3a\"],[0.8888888888888888,\"#fdca26\"],[1.0,\"#f0f921\"]],\"type\":\"surface\"}],\"table\":[{\"cells\":{\"fill\":{\"color\":\"#EBF0F8\"},\"line\":{\"color\":\"white\"}},\"header\":{\"fill\":{\"color\":\"#C8D4E3\"},\"line\":{\"color\":\"white\"}},\"type\":\"table\"}]},\"layout\":{\"annotationdefaults\":{\"arrowcolor\":\"#2a3f5f\",\"arrowhead\":0,\"arrowwidth\":1},\"autotypenumbers\":\"strict\",\"coloraxis\":{\"colorbar\":{\"outlinewidth\":0,\"ticks\":\"\"}},\"colorscale\":{\"diverging\":[[0,\"#8e0152\"],[0.1,\"#c51b7d\"],[0.2,\"#de77ae\"],[0.3,\"#f1b6da\"],[0.4,\"#fde0ef\"],[0.5,\"#f7f7f7\"],[0.6,\"#e6f5d0\"],[0.7,\"#b8e186\"],[0.8,\"#7fbc41\"],[0.9,\"#4d9221\"],[1,\"#276419\"]],\"sequential\":[[0.0,\"#0d0887\"],[0.1111111111111111,\"#46039f\"],[0.2222222222222222,\"#7201a8\"],[0.3333333333333333,\"#9c179e\"],[0.4444444444444444,\"#bd3786\"],[0.5555555555555556,\"#d8576b\"],[0.6666666666666666,\"#ed7953\"],[0.7777777777777778,\"#fb9f3a\"],[0.8888888888888888,\"#fdca26\"],[1.0,\"#f0f921\"]],\"sequentialminus\":[[0.0,\"#0d0887\"],[0.1111111111111111,\"#46039f\"],[0.2222222222222222,\"#7201a8\"],[0.3333333333333333,\"#9c179e\"],[0.4444444444444444,\"#bd3786\"],[0.5555555555555556,\"#d8576b\"],[0.6666666666666666,\"#ed7953\"],[0.7777777777777778,\"#fb9f3a\"],[0.8888888888888888,\"#fdca26\"],[1.0,\"#f0f921\"]]},\"colorway\":[\"#636efa\",\"#EF553B\",\"#00cc96\",\"#ab63fa\",\"#FFA15A\",\"#19d3f3\",\"#FF6692\",\"#B6E880\",\"#FF97FF\",\"#FECB52\"],\"font\":{\"color\":\"#2a3f5f\"},\"geo\":{\"bgcolor\":\"white\",\"lakecolor\":\"white\",\"landcolor\":\"#E5ECF6\",\"showlakes\":true,\"showland\":true,\"subunitcolor\":\"white\"},\"hoverlabel\":{\"align\":\"left\"},\"hovermode\":\"closest\",\"mapbox\":{\"style\":\"light\"},\"paper_bgcolor\":\"white\",\"plot_bgcolor\":\"#E5ECF6\",\"polar\":{\"angularaxis\":{\"gridcolor\":\"white\",\"linecolor\":\"white\",\"ticks\":\"\"},\"bgcolor\":\"#E5ECF6\",\"radialaxis\":{\"gridcolor\":\"white\",\"linecolor\":\"white\",\"ticks\":\"\"}},\"scene\":{\"xaxis\":{\"backgroundcolor\":\"#E5ECF6\",\"gridcolor\":\"white\",\"gridwidth\":2,\"linecolor\":\"white\",\"showbackground\":true,\"ticks\":\"\",\"zerolinecolor\":\"white\"},\"yaxis\":{\"backgroundcolor\":\"#E5ECF6\",\"gridcolor\":\"white\",\"gridwidth\":2,\"linecolor\":\"white\",\"showbackground\":true,\"ticks\":\"\",\"zerolinecolor\":\"white\"},\"zaxis\":{\"backgroundcolor\":\"#E5ECF6\",\"gridcolor\":\"white\",\"gridwidth\":2,\"linecolor\":\"white\",\"showbackground\":true,\"ticks\":\"\",\"zerolinecolor\":\"white\"}},\"shapedefaults\":{\"line\":{\"color\":\"#2a3f5f\"}},\"ternary\":{\"aaxis\":{\"gridcolor\":\"white\",\"linecolor\":\"white\",\"ticks\":\"\"},\"baxis\":{\"gridcolor\":\"white\",\"linecolor\":\"white\",\"ticks\":\"\"},\"bgcolor\":\"#E5ECF6\",\"caxis\":{\"gridcolor\":\"white\",\"linecolor\":\"white\",\"ticks\":\"\"}},\"title\":{\"x\":0.05},\"xaxis\":{\"automargin\":true,\"gridcolor\":\"white\",\"linecolor\":\"white\",\"ticks\":\"\",\"title\":{\"standoff\":15},\"zerolinecolor\":\"white\",\"zerolinewidth\":2},\"yaxis\":{\"automargin\":true,\"gridcolor\":\"white\",\"linecolor\":\"white\",\"ticks\":\"\",\"title\":{\"standoff\":15},\"zerolinecolor\":\"white\",\"zerolinewidth\":2}}},\"scene\":{\"domain\":{\"x\":[0.0,1.0],\"y\":[0.0,1.0]},\"xaxis\":{\"title\":{\"text\":\"PC 1\"}},\"yaxis\":{\"title\":{\"text\":\"PC 2\"}},\"zaxis\":{\"title\":{\"text\":\"PC 3\"}}},\"coloraxis\":{\"colorbar\":{\"title\":{\"text\":\"class\"}},\"colorscale\":[[0.0,\"#0d0887\"],[0.1111111111111111,\"#46039f\"],[0.2222222222222222,\"#7201a8\"],[0.3333333333333333,\"#9c179e\"],[0.4444444444444444,\"#bd3786\"],[0.5555555555555556,\"#d8576b\"],[0.6666666666666666,\"#ed7953\"],[0.7777777777777778,\"#fb9f3a\"],[0.8888888888888888,\"#fdca26\"],[1.0,\"#f0f921\"]]},\"legend\":{\"title\":{\"text\":\"class\"},\"tracegroupgap\":0,\"x\":0,\"y\":1},\"margin\":{\"t\":60},\"width\":800},                        {\"responsive\": true}                    ).then(function(){\n",
       "                            \n",
       "var gd = document.getElementById('624b1fa0-3108-4cff-9c6d-0dd05bb264cf');\n",
       "var x = new MutationObserver(function (mutations, observer) {{\n",
       "        var display = window.getComputedStyle(gd).display;\n",
       "        if (!display || display === 'none') {{\n",
       "            console.log([gd, 'removed!']);\n",
       "            Plotly.purge(gd);\n",
       "            observer.disconnect();\n",
       "        }}\n",
       "}});\n",
       "\n",
       "// Listen for the removal of the full notebook cells\n",
       "var notebookContainer = gd.closest('#notebook-container');\n",
       "if (notebookContainer) {{\n",
       "    x.observe(notebookContainer, {childList: true});\n",
       "}}\n",
       "\n",
       "// Listen for the clearing of the current output cell\n",
       "var outputEl = gd.closest('.output');\n",
       "if (outputEl) {{\n",
       "    x.observe(outputEl, {childList: true});\n",
       "}}\n",
       "\n",
       "                        })                };                });            </script>        </div>"
      ]
     },
     "metadata": {},
     "output_type": "display_data"
    }
   ],
   "source": [
    "# Creating a 3D-Scatter with the PCA data and the clusters\n",
    "fig = px.scatter_3d(\n",
    "    clustered_df,\n",
    "    x=\"PC 1\",\n",
    "    y=\"PC 2\",\n",
    "    z=\"PC 3\",\n",
    "    color=\"class\",\n",
    "    symbol=\"class\",\n",
    "    width=800,\n",
    "    hover_name='CoinName',\n",
    "    hover_data=['Algorithm', 'TotalCoinsMined', 'TotalCoinSupply']\n",
    ")\n",
    "fig.update_layout(legend=dict(x=0, y=1))\n",
    "fig.show()"
   ]
  },
  {
   "cell_type": "code",
   "execution_count": 324,
   "metadata": {},
   "outputs": [
    {
     "data": {},
     "metadata": {},
     "output_type": "display_data"
    },
    {
     "data": {
      "application/vnd.holoviews_exec.v0+json": "",
      "text/html": [
       "<div id='2332'>\n",
       "\n",
       "\n",
       "\n",
       "\n",
       "\n",
       "  <div class=\"bk-root\" id=\"3f1b3e44-1fc2-4df9-836e-13747a3ac5b2\" data-root-id=\"2332\"></div>\n",
       "</div>\n",
       "<script type=\"application/javascript\">(function(root) {\n",
       "  function embed_document(root) {\n",
       "    var docs_json = {\"79e60409-28a6-449b-a5e1-8328f52c81a6\":{\"defs\":[{\"extends\":null,\"module\":null,\"name\":\"ReactiveHTML1\",\"overrides\":[],\"properties\":[]},{\"extends\":null,\"module\":null,\"name\":\"FlexBox1\",\"overrides\":[],\"properties\":[{\"default\":\"flex-start\",\"kind\":null,\"name\":\"align_content\"},{\"default\":\"flex-start\",\"kind\":null,\"name\":\"align_items\"},{\"default\":\"row\",\"kind\":null,\"name\":\"flex_direction\"},{\"default\":\"wrap\",\"kind\":null,\"name\":\"flex_wrap\"},{\"default\":\"flex-start\",\"kind\":null,\"name\":\"justify_content\"}]},{\"extends\":null,\"module\":null,\"name\":\"TemplateActions1\",\"overrides\":[],\"properties\":[{\"default\":0,\"kind\":null,\"name\":\"open_modal\"},{\"default\":0,\"kind\":null,\"name\":\"close_modal\"}]},{\"extends\":null,\"module\":null,\"name\":\"MaterialTemplateActions1\",\"overrides\":[],\"properties\":[{\"default\":0,\"kind\":null,\"name\":\"open_modal\"},{\"default\":0,\"kind\":null,\"name\":\"close_modal\"}]}],\"roots\":{\"references\":[{\"attributes\":{\"editor\":{\"id\":\"2347\"},\"field\":\"ProofType\",\"formatter\":{\"id\":\"2346\"},\"title\":\"ProofType\"},\"id\":\"2348\",\"type\":\"TableColumn\"},{\"attributes\":{},\"id\":\"2351\",\"type\":\"StringFormatter\"},{\"attributes\":{\"columns\":[{\"id\":\"2338\"},{\"id\":\"2343\"},{\"id\":\"2348\"},{\"id\":\"2353\"},{\"id\":\"2358\"},{\"id\":\"2363\"}],\"height\":300,\"reorderable\":false,\"source\":{\"id\":\"2334\"},\"view\":{\"id\":\"2368\"},\"width\":700},\"id\":\"2366\",\"type\":\"DataTable\"},{\"attributes\":{},\"id\":\"2347\",\"type\":\"StringEditor\"},{\"attributes\":{\"children\":[{\"id\":\"2333\"},{\"id\":\"2366\"},{\"id\":\"2373\"}],\"margin\":[0,0,0,0],\"name\":\"Row03860\",\"tags\":[\"embedded\"]},\"id\":\"2332\",\"type\":\"Row\"},{\"attributes\":{\"data\":{\"Algorithm\":[\"Scrypt\",\"Scrypt\",\"X13\",\"SHA-256\",\"Ethash\",\"Scrypt\",\"X11\",\"CryptoNight-V7\",\"Ethash\",\"Equihash\",\"SHA-512\",\"Multiple\",\"SHA-256\",\"SHA-256\",\"Scrypt\",\"X15\",\"X11\",\"Scrypt\",\"Scrypt\",\"Scrypt\",\"Multiple\",\"Scrypt\",\"SHA-256\",\"Scrypt\",\"Scrypt\",\"Scrypt\",\"Quark\",\"Groestl\",\"Scrypt\",\"Scrypt\",\"Scrypt\",\"Scrypt\",\"Scrypt\",\"X11\",\"Scrypt\",\"Groestl\",\"Multiple\",\"SHA-256\",\"Scrypt\",\"Scrypt\",\"Scrypt\",\"Scrypt\",\"PoS\",\"Scrypt\",\"Scrypt\",\"NeoScrypt\",\"Scrypt\",\"Scrypt\",\"Scrypt\",\"Scrypt\",\"X11\",\"Scrypt\",\"X11\",\"SHA-256\",\"Scrypt\",\"Scrypt\",\"Scrypt\",\"SHA3\",\"Scrypt\",\"HybridScryptHash256\",\"Scrypt\",\"Scrypt\",\"SHA-256\",\"Scrypt\",\"X13\",\"Scrypt\",\"SHA-256\",\"Scrypt\",\"X13\",\"NeoScrypt\",\"Scrypt\",\"Scrypt\",\"Scrypt\",\"Scrypt\",\"Scrypt\",\"Scrypt\",\"X11\",\"X11\",\"SHA-256\",\"Multiple\",\"SHA-256\",\"PHI1612\",\"X11\",\"SHA-256\",\"SHA-256\",\"SHA-256\",\"X11\",\"Scrypt\",\"Scrypt\",\"Scrypt\",\"Scrypt\",\"Lyra2REv2\",\"Scrypt\",\"X11\",\"Multiple\",\"SHA-256\",\"X13\",\"Scrypt\",\"CryptoNight\",\"CryptoNight\",\"Shabal256\",\"Counterparty\",\"Scrypt\",\"SHA-256\",\"Groestl\",\"Scrypt\",\"Scrypt\",\"Scrypt\",\"X13\",\"Scrypt\",\"Scrypt\",\"Scrypt\",\"Scrypt\",\"X13\",\"Scrypt\",\"Stanford Folding\",\"X11\",\"Multiple\",\"QuBit\",\"Scrypt\",\"Scrypt\",\"Scrypt\",\"M7 POW\",\"Scrypt\",\"SHA-256\",\"Scrypt\",\"X11\",\"SHA3\",\"X11\",\"Lyra2RE\",\"SHA-256\",\"QUAIT\",\"X11\",\"X11\",\"Scrypt\",\"Scrypt\",\"Scrypt\",\"Ethash\",\"X13\",\"Blake2b\",\"SHA-256\",\"X15\",\"X11\",\"SHA-256\",\"BLAKE256\",\"Scrypt\",\"1GB AES Pattern Search\",\"SHA-256\",\"X11\",\"Scrypt\",\"SHA-256\",\"SHA-256\",\"NIST5\",\"Scrypt\",\"Scrypt\",\"X11\",\"Dagger\",\"Scrypt\",\"X11GOST\",\"X11\",\"Scrypt\",\"SHA-256\",\"Scrypt\",\"PoS\",\"Scrypt\",\"X11\",\"X11\",\"SHA-256\",\"SHA-256\",\"NIST5\",\"X11\",\"Scrypt\",\"POS 3.0\",\"Scrypt\",\"Scrypt\",\"Scrypt\",\"X13\",\"X11\",\"X11\",\"Equihash\",\"X11\",\"Scrypt\",\"CryptoNight\",\"SHA-256\",\"SHA-256\",\"X11\",\"Scrypt\",\"Multiple\",\"Scrypt\",\"Scrypt\",\"Scrypt\",\"SHA-256\",\"Scrypt\",\"Scrypt\",\"SHA-256D\",\"PoS\",\"Scrypt\",\"X11\",\"Lyra2Z\",\"PoS\",\"X13\",\"X14\",\"PoS\",\"SHA-256D\",\"Ethash\",\"Equihash\",\"DPoS\",\"X11\",\"Scrypt\",\"X11\",\"X13\",\"X11\",\"PoS\",\"Scrypt\",\"Scrypt\",\"X11\",\"PoS\",\"X11\",\"SHA-256\",\"Scrypt\",\"X11\",\"Scrypt\",\"Scrypt\",\"X11\",\"CryptoNight\",\"Scrypt\",\"Scrypt\",\"Scrypt\",\"Scrypt\",\"Quark\",\"QuBit\",\"Scrypt\",\"CryptoNight\",\"Lyra2RE\",\"Scrypt\",\"SHA-256\",\"X11\",\"Scrypt\",\"X11\",\"Scrypt\",\"CryptoNight-V7\",\"Scrypt\",\"Scrypt\",\"Scrypt\",\"X13\",\"X11\",\"Equihash\",\"Scrypt\",\"Scrypt\",\"Lyra2RE\",\"Scrypt\",\"Dagger-Hashimoto\",\"X11\",\"Blake2S\",\"X11\",\"Scrypt\",\"PoS\",\"X11\",\"NIST5\",\"PoS\",\"X11\",\"Scrypt\",\"Scrypt\",\"Scrypt\",\"SHA-256\",\"X11\",\"Scrypt\",\"Scrypt\",\"SHA-256\",\"PoS\",\"Scrypt\",\"X15\",\"SHA-256\",\"Scrypt\",\"POS 3.0\",\"CryptoNight-V7\",\"536\",\"Argon2d\",\"Blake2b\",\"Cloverhash\",\"CryptoNight\",\"NIST5\",\"X11\",\"NIST5\",\"Skein\",\"Scrypt\",\"X13\",\"Scrypt\",\"X11\",\"X11\",\"Scrypt\",\"CryptoNight\",\"X13\",\"Time Travel\",\"Scrypt\",\"Keccak\",\"SkunkHash v2 Raptor\",\"X11\",\"Skein\",\"SHA-256\",\"X11\",\"Scrypt\",\"VeChainThor Authority\",\"Scrypt\",\"PoS\",\"Scrypt\",\"Scrypt\",\"Scrypt\",\"Scrypt\",\"Scrypt\",\"Scrypt\",\"Scrypt\",\"CryptoNight\",\"SHA-512\",\"Ouroboros\",\"X11\",\"Equihash\",\"NeoScrypt\",\"X11\",\"Scrypt\",\"NeoScrypt\",\"Lyra2REv2\",\"Equihash\",\"Scrypt\",\"SHA-256\",\"NIST5\",\"PHI1612\",\"Dagger\",\"Scrypt\",\"Quark\",\"Scrypt\",\"POS 2.0\",\"Scrypt\",\"SHA-256\",\"X11\",\"NeoScrypt\",\"Ethash\",\"NeoScrypt\",\"X11\",\"DPoS\",\"NIST5\",\"X13\",\"Multiple\",\"Scrypt\",\"CryptoNight\",\"CryptoNight\",\"Ethash\",\"NIST5\",\"Quark\",\"X11\",\"CryptoNight-V7\",\"Scrypt\",\"Scrypt\",\"Scrypt\",\"X11\",\"BLAKE256\",\"X11\",\"NeoScrypt\",\"Quark\",\"NeoScrypt\",\"Scrypt\",\"Scrypt\",\"Scrypt\",\"X11\",\"X11\",\"SHA-256\",\"C11\",\"POS 3.0\",\"Ethash\",\"Scrypt\",\"CryptoNight\",\"SkunkHash\",\"Scrypt\",\"CryptoNight\",\"Scrypt\",\"Dagger\",\"Lyra2REv2\",\"X13\",\"Proof-of-BibleHash\",\"SHA-256 + Hive\",\"Scrypt\",\"Scrypt\",\"X11\",\"C11\",\"Proof-of-Authority\",\"X11\",\"XEVAN\",\"Scrypt\",\"VBFT\",\"Ethash\",\"CryptoNight\",\"Scrypt\",\"IMesh\",\"NIST5\",\"Scrypt\",\"Scrypt\",\"Equihash\",\"Scrypt\",\"Lyra2Z\",\"Green Protocol\",\"PoS\",\"Scrypt\",\"Semux BFT consensus\",\"X11\",\"Quark\",\"PoS\",\"CryptoNight\",\"X16R\",\"Scrypt\",\"NIST5\",\"Lyra2RE\",\"XEVAN\",\"Tribus\",\"Scrypt\",\"Lyra2Z\",\"CryptoNight\",\"CryptoNight Heavy\",\"CryptoNight\",\"Scrypt\",\"Scrypt\",\"Jump Consistent Hash\",\"SHA-256D\",\"CryptoNight\",\"Scrypt\",\"X15\",\"Scrypt\",\"Quark\",\"SHA-256\",\"DPoS\",\"X16R\",\"HMQ1725\",\"X11\",\"X16R\",\"Quark\",\"Quark\",\"Scrypt\",\"Lyra2REv2\",\"Quark\",\"Scrypt\",\"Scrypt\",\"CryptoNight-V7\",\"Cryptonight-GPU\",\"XEVAN\",\"CryptoNight Heavy\",\"X11\",\"X11\",\"Scrypt\",\"PoS\",\"SHA-256\",\"Keccak\",\"X11\",\"X11\",\"Scrypt\",\"SHA-512\",\"X16R\",\"ECC 256K1\",\"Equihash\",\"XEVAN\",\"Lyra2Z\",\"SHA-256\",\"XEVAN\",\"X11\",\"CryptoNight\",\"Quark\",\"Blake\",\"Blake\",\"Equihash\",\"Exosis\",\"Scrypt\",\"Scrypt\",\"Equihash\",\"Quark\",\"Equihash\",\"Quark\",\"Scrypt\",\"QuBit\",\"X11\",\"Scrypt\",\"XEVAN\",\"SHA-256D\",\"X11\",\"SHA-256\",\"X13\",\"SHA-256\",\"X11\",\"DPoS\",\"Scrypt\",\"Scrypt\",\"X11\",\"NeoScrypt\",\"Scrypt\",\"Blake\",\"Scrypt\",\"SHA-256\",\"Scrypt\",\"X11\",\"Scrypt\",\"Scrypt\",\"SHA-256\",\"X11\",\"SHA-256\",\"Scrypt\",\"Scrypt\",\"Scrypt\",\"Groestl\",\"X11\",\"Scrypt\",\"PoS\",\"Scrypt\",\"Scrypt\",\"X11\",\"SHA-256\",\"DPoS\",\"Scrypt\",\"Scrypt\",\"NeoScrypt\",\"Multiple\",\"X13\",\"Equihash+Scrypt\",\"DPoS\",\"Ethash\",\"DPoS\",\"SHA-256\",\"Leased POS\",\"PoS\",\"TRC10\",\"PoS\",\"SHA-256\",\"Scrypt\",\"CryptoNight\",\"Equihash\",\"Scrypt\"],\"CoinName\":[\"42 Coin\",\"404Coin\",\"EliteCoin\",\"Bitcoin\",\"Ethereum\",\"Litecoin\",\"Dash\",\"Monero\",\"Ethereum Classic\",\"ZCash\",\"Bitshares\",\"DigiByte\",\"BitcoinDark\",\"PayCoin\",\"ProsperCoin\",\"KoboCoin\",\"Spreadcoin\",\"Argentum\",\"Aurora Coin\",\"BlueCoin\",\"MyriadCoin\",\"MoonCoin\",\"ZetaCoin\",\"SexCoin\",\"Quatloo\",\"EnergyCoin\",\"QuarkCoin\",\"Riecoin\",\"Digitalcoin \",\"BitBar\",\"Catcoin\",\"CryptoBullion\",\"CannaCoin\",\"CryptCoin\",\"CasinoCoin\",\"Diamond\",\"Verge\",\"DevCoin\",\"EarthCoin\",\"E-Gulden\",\"Einsteinium\",\"Emerald\",\"Exclusive Coin\",\"FlutterCoin\",\"Franko\",\"FeatherCoin\",\"GrandCoin\",\"GlobalCoin\",\"GoldCoin\",\"HoboNickels\",\"HyperStake\",\"Infinite Coin\",\"IOCoin\",\"IXcoin\",\"KrugerCoin\",\"LuckyCoin\",\"Litebar \",\"MaxCoin\",\"MegaCoin\",\"MediterraneanCoin\",\"MintCoin\",\"MinCoin\",\"MazaCoin\",\"Nautilus Coin\",\"NavCoin\",\"NobleCoin\",\"Namecoin\",\"NyanCoin\",\"OpalCoin\",\"Orbitcoin\",\"PotCoin\",\"PhoenixCoin\",\"Reddcoin\",\"RonPaulCoin\",\"StableCoin\",\"SmartCoin\",\"SuperCoin\",\"SyncCoin\",\"SysCoin\",\"TeslaCoin\",\"TigerCoin\",\"TittieCoin\",\"TorCoin\",\"TerraCoin\",\"UnbreakableCoin\",\"Unobtanium\",\"UroCoin\",\"UnitaryStatus Dollar\",\"UltraCoin\",\"ViaCoin\",\"VeriCoin\",\"Vertcoin\",\"WorldCoin\",\"X11 Coin\",\"Crypti\",\"JouleCoin\",\"StealthCoin\",\"ZCC Coin\",\"ByteCoin\",\"DigitalNote \",\"BurstCoin\",\"StorjCoin\",\"MonaCoin\",\"Neutron\",\"FairCoin\",\"Gulden\",\"RubyCoin\",\"PesetaCoin\",\"Kore\",\"Wild Beast Coin\",\"Dnotes\",\"Flo\",\"8BIT Coin\",\"Sativa Coin\",\"ArtByte\",\"Folding Coin\",\"Ucoin\",\"Unitus\",\"CypherPunkCoin\",\"OmniCron\",\"Vtorrent\",\"GreenCoin\",\"Cryptonite\",\"MasterCoin\",\"SoonCoin\",\"1Credit\",\"IslaCoin\",\"Nexus\",\"MarsCoin \",\"Crypto\",\"Anarchists Prime\",\"Droidz\",\"BowsCoin\",\"Squall Coin\",\"Song Coin\",\"BitZeny\",\"Diggits\",\"Expanse\",\"Paycon\",\"Siacoin\",\"Emercoin\",\"EverGreenCoin\",\"MindCoin\",\"I0coin\",\"Decred\",\"Revolution VR\",\"HOdlcoin\",\"EDRCoin\",\"Hitcoin\",\"Gamecredits\",\"DubaiCoin\",\"CarpeDiemCoin\",\"PWR Coin\",\"BillaryCoin\",\"GPU Coin\",\"Adzcoin\",\"SoilCoin\",\"YoCoin\",\"SibCoin\",\"EuropeCoin\",\"ZeitCoin\",\"SwingCoin\",\"SafeExchangeCoin\",\"Nebuchadnezzar\",\"Francs\",\"BolivarCoin\",\"Ratecoin\",\"Revenu\",\"Clockcoin\",\"VIP Tokens\",\"BitSend\",\"Omni\",\"Let it Ride\",\"PutinCoin\",\"iBankCoin\",\"Frankywillcoin\",\"MudraCoin\",\"PizzaCoin\",\"Lutetium Coin\",\"Komodo\",\"GoldBlocks\",\"CarterCoin\",\"Karbo\",\"BitTokens\",\"ZayedCoin\",\"MustangCoin\",\"ZoneCoin\",\"Circuits of Value\",\"RootCoin\",\"DopeCoin\",\"BitCurrency\",\"DollarCoin\",\"Swiscoin\",\"Shilling\",\"BuzzCoin\",\"Opair\",\"PesoBit\",\"Halloween Coin\",\"ZCoin\",\"CoffeeCoin\",\"RoyalCoin\",\"GanjaCoin V2\",\"TeamUP\",\"LanaCoin\",\"Elementrem\",\"ZClassic\",\"ARK\",\"InsaneCoin\",\"KiloCoin\",\"ArtexCoin\",\"EmberCoin\",\"XenixCoin\",\"FreeCoin\",\"PLNCoin\",\"AquariusCoin\",\"Kurrent\",\"Creatio\",\"Eternity\",\"Eurocoin\",\"BitcoinFast\",\"Stakenet\",\"BitConnect Coin\",\"MoneyCoin\",\"Enigma\",\"Cannabis Industry Coin\",\"Russiacoin\",\"PandaCoin\",\"GameUnits\",\"GAKHcoin\",\"Allsafe\",\"LiteCreed\",\"OsmiumCoin\",\"Bikercoins\",\"HexxCoin\",\"Klingon Empire Darsek\",\"Internet of People\",\"KushCoin\",\"Printerium\",\"PacCoin\",\"Impeach\",\"Citadel\",\"Zilbercoin\",\"FirstCoin\",\"BeaverCoin\",\"FindCoin\",\"VaultCoin\",\"Zero\",\"OpenChat\",\"Canada eCoin\",\"Zoin\",\"RenosCoin\",\"DubaiCoin\",\"VirtacoinPlus\",\"TajCoin\",\"Impact\",\"EB3coin\",\"Atmos\",\"HappyCoin\",\"Coinonat\",\"MacronCoin\",\"Condensate\",\"Independent Money System\",\"ArgusCoin\",\"LomoCoin\",\"ProCurrency\",\"GoldReserve\",\"BenjiRolls\",\"GrowthCoin\",\"ILCoin\",\"Phreak\",\"Degas Coin\",\"HTML5 Coin\",\"Ultimate Secure Cash\",\"EquiTrader\",\"QTUM\",\"Quantum Resistant Ledger\",\"Espers\",\"Dynamic\",\"Nano\",\"ChanCoin\",\"Dinastycoin\",\"Denarius\",\"DigitalPrice\",\"Virta Unique Coin\",\"Bitcoin Planet\",\"Unify\",\"BritCoin\",\"SocialCoin\",\"ArcticCoin\",\"DAS\",\"Linda\",\"LeviarCoin\",\"DeepOnion\",\"Bitcore\",\"gCn Coin\",\"SmartCash\",\"Signatum\",\"Onix\",\"Cream\",\"Bitcoin Cash\",\"Monoeci\",\"Draftcoin\",\"Vechain\",\"Sojourn Coin\",\"Stakecoin\",\"NewYorkCoin\",\"FrazCoin\",\"Kronecoin\",\"AdCoin\",\"Linx\",\"CoinonatX\",\"Ethereum Dark\",\"Sumokoin\",\"Obsidian\",\"Cardano\",\"Regalcoin\",\"BitcoinZ\",\"TrezarCoin\",\"Elements\",\"TerraNovaCoin\",\"VIVO Coin\",\"Rupee\",\"Bitcoin Gold\",\"WomenCoin\",\"Theresa May Coin\",\"NamoCoin\",\"LUXCoin\",\"Pirl\",\"Xios\",\"Bitcloud 2.0\",\"eBoost\",\"KekCoin\",\"BlackholeCoin\",\"Infinity Economics\",\"Pura\",\"Innova\",\"Ellaism\",\"GoByte\",\"Magnet\",\"Lamden Tau\",\"Electra\",\"Bitcoin Diamond\",\"SHIELD\",\"Cash & Back Coin\",\"UltraNote\",\"BitCoal\",\"DaxxCoin\",\"Bulwark\",\"Kalkulus\",\"AC3\",\"Lethean\",\"GermanCoin\",\"LiteCoin Ultra\",\"PopularCoin\",\"PhantomX\",\"Photon\",\"Sucre\",\"SparksPay\",\"Digiwage\",\"GunCoin\",\"IrishCoin\",\"Trollcoin\",\"Litecoin Plus\",\"Monkey Project\",\"Pioneer Coin\",\"UnitedBitcoin\",\"Interzone\",\"TokenPay\",\"1717 Masonic Commemorative Token\",\"My Big Coin\",\"TurtleCoin\",\"MUNcoin\",\"Unified Society USDEX\",\"Niobio Cash\",\"ShareChain\",\"Travelflex\",\"KREDS\",\"Tokyo Coin\",\"BiblePay\",\"LitecoinCash\",\"BitFlip\",\"LottoCoin\",\"Crypto Improvement Fund\",\"Stipend\",\"Poa Network\",\"Pushi\",\"Ellerium\",\"Velox\",\"Ontology\",\"Callisto Network\",\"BitTube\",\"Poseidon\",\"Aidos Kuneen\",\"Bitspace\",\"Briacoin\",\"Ignition\",\"Bitrolium\",\"MedicCoin\",\"Alpenschillling\",\"Bitcoin Green\",\"Deviant Coin\",\"Abjcoin\",\"Semux\",\"FuturoCoin\",\"Carebit\",\"Zealium\",\"Monero Classic\",\"Proton\",\"iDealCash\",\"Jumpcoin\",\"Infinex\",\"Bitcoin Incognito\",\"KEYCO\",\"HollyWoodCoin\",\"GINcoin\",\"PlatinCoin\",\"Loki\",\"Newton Coin\",\"Swisscoin\",\"Xt3ch\",\"MassGrid\",\"TheVig\",\"PluraCoin\",\"EmaratCoin\",\"Dekado\",\"Lynx\",\"Poseidon Quark\",\"BitcoinWSpectrum\",\"Muse\",\"Motion\",\"PlusOneCoin\",\"Axe\",\"Trivechain\",\"Dystem\",\"Giant\",\"Peony Coin\",\"Absolute Coin\",\"Vitae\",\"HexCoin\",\"TPCash\",\"Webchain\",\"Ryo\",\"Urals Coin\",\"Qwertycoin\",\"ARENON\",\"EUNO\",\"MMOCoin\",\"Ketan\",\"Project Pai\",\"XDNA\",\"PAXEX\",\"Azart\",\"ThunderStake\",\"Kcash\",\"Xchange\",\"Acute Angle Cloud\",\"CrypticCoin\",\"Bettex coin\",\"Actinium\",\"Bitcoin SV\",\"BitMoney\",\"Junson Ming Chan Coin\",\"FREDEnergy\",\"HerbCoin\",\"Universal Molecule\",\"Lithium\",\"PirateCash\",\"Exosis\",\"Block-Logic\",\"Oduwa\",\"Beam\",\"Galilel\",\"Bithereum\",\"Crypto Sports\",\"Credit\",\"SLICE\",\"Dash Platinum\",\"Nasdacoin\",\"Beetle Coin\",\"Titan Coin\",\"Award\",\"BLAST\",\"Bitcoin Rhodium\",\"GlobalToken\",\"Insane Coin\",\"ALAX\",\"LiteDoge\",\"SolarCoin\",\"TruckCoin\",\"UFO Coin\",\"OrangeCoin\",\"BlakeCoin\",\"BitstarCoin\",\"NeosCoin\",\"HyperCoin\",\"PinkCoin\",\"Crypto Escudo\",\"AudioCoin\",\"IncaKoin\",\"Piggy Coin\",\"Crown Coin\",\"Genstake\",\"SmileyCoin\",\"XiaoMiCoin\",\"Groestlcoin\",\"CapriCoin\",\" ClubCoin\",\"Radium\",\"Bata\",\"Pakcoin\",\"Creditbit \",\"OKCash\",\"Lisk\",\"HiCoin\",\"WhiteCoin\",\"FriendshipCoin\",\"JoinCoin\",\"Triangles Coin\",\"Vollar\",\"EOS\",\"Reality Clash\",\"Oxycoin\",\"TigerCash\",\"Waves\",\"Particl\",\"BitTorrent\",\"Nxt\",\"ZEPHYR\",\"Gapcoin\",\"Beldex\",\"Horizen\",\"BitcoinPlus\"],\"ProofType\":[\"PoW/PoS\",\"PoW/PoS\",\"PoW/PoS\",\"PoW\",\"PoW\",\"PoW\",\"PoW/PoS\",\"PoW\",\"PoW\",\"PoW\",\"PoS\",\"PoW\",\"PoW/PoS\",\"PoS\",\"PoW\",\"PoW/PoS\",\"PoW\",\"PoW\",\"PoW/PoS\",\"PoW/PoS\",\"PoW\",\"PoW\",\"PoW\",\"PoW\",\"PoW\",\"PoW/PoS\",\"PoW\",\"PoW\",\"PoW\",\"PoW/PoS\",\"PoW\",\"PoW/PoS\",\"PoW\",\"PoW\",\"PoC\",\"PoW/PoS\",\"PoW\",\"PoW\",\"PoW\",\"PoW\",\"PoW\",\"PoW\",\"PoS\",\"PoS/PoW/PoT\",\"PoW\",\"PoW\",\"PoW\",\"PoW\",\"PoW\",\"PoW/PoS\",\"PoS\",\"PoW\",\"PoW/PoS\",\"PoW\",\"PoW\",\"PoW\",\"PoW\",\"PoW/PoS\",\"PoW\",\"PoW\",\"PoS\",\"PoW\",\"PoW/PoS\",\"PoS\",\"PoW/PoS\",\"PoW\",\"PoW\",\"PoW\",\"PoW/PoS\",\"PoW/PoS\",\"PoW/PoS\",\"PoW/PoS\",\"PoW/PoS\",\"PoW\",\"PoW\",\"PoW\",\"PoS\",\"PoW/PoS\",\"PoW\",\"PoS\",\"PoW\",\"PoS\",\"PoW/PoS\",\"PoW\",\"PoW\",\"PoW\",\"PoW\",\"PoW/PoS\",\"PoW/PoS\",\"PoW\",\"PoST\",\"PoW\",\"PoW\",\"PoW/PoS\",\"PoS\",\"PoW\",\"PoW/PoS\",\"PoW/PoS\",\"PoW\",\"PoW\",\"PoC\",\"PoS\",\"PoW\",\"PoW/PoS\",\"PoW/PoS\",\"PoW\",\"PoS\",\"PoW\",\"PoW/PoS\",\"PoW\",\"PoS\",\"PoW\",\"PoW/PoS\",\"PoW/PoS\",\"PoW\",\"PoW\",\"PoS\",\"PoW\",\"PoW\",\"PoW\",\"PoW/PoS\",\"PoW\",\"PoW\",\"PoW\",\"PoW\",\"PoW\",\"PoW/PoS\",\"PoW/nPoS\",\"PoW\",\"PoW\",\"PoW\",\"PoW/PoS\",\"PoW\",\"PoS/PoW\",\"PoW\",\"PoW\",\"PoS\",\"PoW\",\"PoW/PoS\",\"PoW\",\"PoW/PoS\",\"PoW/PoS\",\"PoW\",\"PoW\",\"PoW/PoS\",\"PoW\",\"PoW\",\"PoW/PoS\",\"PoW/PoS\",\"PoW\",\"PoW/PoS\",\"PoW\",\"PoW/PoS\",\"PoW/PoS\",\"PoS\",\"PoW\",\"PoW\",\"PoW\",\"PoW\",\"PoW/PoS\",\"PoS\",\"PoW/PoS\",\"PoC\",\"PoS\",\"PoW\",\"PoW\",\"PoW/PoS\",\"PoW/PoS\",\"PoW/PoS\",\"PoW/PoS\",\"PoW/PoS\",\"PoW\",\"PoS\",\"PoW/PoS\",\"PoW/PoS\",\"PoW/PoS\",\"PoS\",\"PoW\",\"PoS\",\"dPoW/PoW\",\"PoW/PoS\",\"PoW/PoS\",\"PoW\",\"PoW/PoS\",\"PoW\",\"PoW/PoS\",\"PoW/PoS\",\"PoW\",\"PoW/PoS\",\"PoW\",\"PoS\",\"PoW\",\"PoW/PoW\",\"PoW\",\"PoW/PoS\",\"PoS\",\"PoW/PoS\",\"PoW/PoS\",\"PoW\",\"PoS\",\"PoS\",\"PoW/PoS\",\"PoS\",\"PoW/PoS\",\"PoW\",\"PoW\",\"DPoS\",\"PoW/PoS\",\"PoW\",\"PoW\",\"PoW/PoS\",\"PoW/PoS\",\"PoS\",\"PoW/PoS\",\"PoW/PoS\",\"PoW\",\"PoS\",\"PoW/PoS\",\"PoW/PoS\",\"PoW/PoS\",\"TPoS\",\"PoW/PoS\",\"PoW/PoS\",\"PoW/PoS\",\"PoW\",\"PoW/PoS\",\"PoS\",\"PoW/PoS\",\"PoW/PoS\",\"PoS\",\"PoW/PoS\",\"PoW\",\"PoW\",\"PoW\",\"PoW/PoS\",\"PoW/PoS\",\"PoW/PoS\",\"PoW/PoS\",\"PoW\",\"PoW/PoS\",\"PoW\",\"PoS\",\"PoW/PoS \",\"PoW\",\"PoS\",\"PoW\",\"PoW\",\"PoW/PoS\",\"PoW\",\"PoW\",\"PoS\",\"PoW\",\"PoW/PoS\",\"PoW/PoS\",\"PoW/PoS\",\"PoW\",\"PoS\",\"PoW/PoS\",\"PoW\",\"PoS\",\"PoW/PoS\",\"PoW/PoS\",\"PoW/PoS\",\"PoW/PoS\",\"PoS\",\"PoW/PoS\",\"PoW\",\"PoS\",\"PoW\",\"PoS\",\"PoW/PoS\",\"PoW/PoS\",\"PoS\",\"PoW\",\"PoS\",\"PoW\",\"PoW/PoS\",\"PoW\",\"PoW\",\"PoW\",\"PoW\",\"PoW/PoS\",\"PoW\",\"PoW/PoS\",\"PoW/PoS\",\"PoW\",\"PoW/PoS\",\"PoW\",\"PoW\",\"PoW\",\"PoW/PoS\",\"PoW\",\"PoW/PoS\",\"PoW\",\"PoW\",\"PoW\",\"PoS\",\"PoW\",\"PoW/PoS\",\"PoW\",\"PoW/PoS\",\"PoS\",\"Proof of Authority\",\"PoW\",\"PoS\",\"PoW\",\"PoW\",\"PoW\",\"PoW\",\"PoW\",\"PoW/PoS\",\"PoW/PoS\",\"PoW\",\"PoS\",\"PoS\",\"PoW/PoS\",\"PoW\",\"PoW/PoS\",\"PoW\",\"PoW/PoS\",\"PoW\",\"PoS\",\"PoW\",\"PoW/PoS\",\"PoW/PoS\",\"PoW/PoS\",\"PoW/PoS\",\"PoW\",\"PoW/PoS\",\"PoW/PoS\",\"PoW\",\"PoS\",\"PoW/PoS\",\"PoS\",\"PoW\",\"PoW\",\"PoW\",\"PoW\",\"PoW/PoS\",\"DPoS\",\"PoW/PoS\",\"PoW/PoS\",\"PoW\",\"PoW/PoS\",\"PoW\",\"PoW\",\"PoW\",\"PoS\",\"PoS\",\"PoW\",\"PoW\",\"PoW/PoS\",\"PoW/PoS\",\"PoW\",\"PoW/PoS\",\"PoW\",\"PoW\",\"PoW\",\"PoS\",\"PoW\",\"PoW\",\"PoW/PoS\",\"PoW/PoS\",\"PoS\",\"PoW\",\"PoW\",\"PoW\",\"PoS\",\"PoS\",\"PoW and PoS\",\"PoW\",\"PoW\",\"PoW/PoS\",\"PoW\",\"PoW\",\"PoW\",\"PoW\",\"PoS\",\"POBh\",\"PoW + Hive\",\"PoW\",\"PoW\",\"PoW\",\"PoW/PoS\",\"PoA\",\"PoW/PoS\",\"PoW/PoS\",\"PoS\",\"PoS\",\"PoW\",\"PoW\",\"PoW\",\"PoW\",\"PoW/PoS\",\"PoW/PoS\",\"PoW/PoS\",\"PoW\",\"PoS\",\"PoW\",\"PoS\",\"PoS\",\"PoW/PoS\",\"DPoS\",\"PoW\",\"PoW/PoS\",\"PoS\",\"PoW\",\"PoS\",\"PoW/PoS\",\"PoW\",\"PoW\",\"PoS/PoW\",\"PoW\",\"PoS\",\"PoW\",\"PoW\",\"PoW\",\"PoW\",\"PoW/PoS\",\"PoS\",\"PoW\",\"PoW/PoS\",\"PoW\",\"PoW/PoS\",\"PoS\",\"HPoW\",\"PoS\",\"PoS\",\"PoS\",\"PoW\",\"PoW\",\"PoW\",\"PoW/PoS\",\"PoS\",\"PoW/PoS\",\"PoS\",\"PoW/PoS\",\"PoS\",\"PoW\",\"PoW/PoS\",\"PoW\",\"PoW\",\"PoW\",\"PoW\",\"PoS\",\"PoW/PoS\",\"PoS\",\"PoS\",\"PoW\",\"PoW/PoS\",\"PoS\",\"PoW\",\"PoW/PoS\",\"Zero-Knowledge Proof\",\"PoW\",\"DPOS\",\"PoW\",\"PoS\",\"PoW\",\"PoW\",\"Pos\",\"PoS\",\"PoW\",\"PoW/PoS\",\"PoW\",\"PoW\",\"PoS\",\"PoW\",\"PoW\",\"PoW/PoS\",\"PoW\",\"PoW/PoS\",\"PoW\",\"PoS\",\"PoW/PoS\",\"PoW\",\"PoS\",\"PoW/PoS\",\"PoW/PoS\",\"PoW/PoS\",\"PoW/PoS\",\"PoW\",\"PoW\",\"PoW\",\"PoW/PoS\",\"DPoS\",\"PoW/PoS\",\"PoW\",\"PoW/PoS\",\"PoW\",\"PoW/PoS\",\"PoW\",\"PoW/PoS\",\"PoS\",\"PoW/PoS\",\"PoW/PoS\",\"PoW\",\"PoW/PoS\",\"PoW/PoS\",\"PoW/PoS\",\"PoW\",\"PoW/PoS\",\"PoW\",\"PoW/PoS\",\"PoW\",\"PoW/PoS\",\"PoW/PoS\",\"PoS\",\"PoW\",\"PoW\",\"Proof of Trust\",\"PoW/PoS\",\"DPoS\",\"PoS\",\"PoW/PoS\",\"PoW/PoS\",\"PoW\",\"PoW/PoS\",\"PoW\",\"DPoS\",\"PoW\",\"DPoS\",\"PoS\",\"LPoS\",\"PoS\",\"DPoS\",\"PoS/LPoS\",\"DPoS\",\"PoW/PoS\",\"PoW\",\"PoW\",\"PoS\"],\"TotalCoinSupply\":[\"42\",\"532000000\",\"314159265359\",\"21000000\",\"0\",\"84000000\",\"22000000\",\"0\",\"210000000\",\"21000000\",\"3600570502\",\"21000000000\",\"22000000\",\"12500000\",\"21000000\",\"350000000\",\"20000000\",\"64000000\",\"16768584\",\"0\",\"2000000000\",\"384000000000\",\"169795588\",\"250000000\",\"100000000\",\"0\",\"247000000\",\"84000000\",\"48166000\",\"500000\",\"21000000 \",\"1000000\",\"13140000\",\"18000000\",\"40000000000\",\"4380000\",\"16555000000\",\"21000000000\",\"13500000000\",\"21000000 \",\"299792458\",\"32000000\",\"0\",\"0\",\"11235813\",\"336000000\",\"1420609614\",\"70000000\",\"72245700\",\"120000000\",\"0\",\"90600000000\",\"22000000\",\"21000000\",\"265420800\",\"20000000\",\"1350000\",\"100000000\",\"42000000\",\"200000000\",\"0\",\"10000000\",\"2419200000\",\"16180000\",\"0\",\"15000000000\",\"21000000\",\"337000000\",\"0\",\"3770000\",\"420000000\",\"98000000\",\"0\",\"21000000\",\"250000000\",\"51200000\",\"0\",\"1000\",\"888000000\",\"100000000\",\"47011968\",\"2300000000\",\"10000000\",\"42000000\",\"80000000\",\"250000\",\"0\",\"1600000000\",\"100000000\",\"23000000\",\"0\",\"84000000\",\"265420800\",\"5500000\",\"0\",\"45000000\",\"0\",\"1000000000\",\"184467440735\",\"10000000000\",\"2158812800\",\"500000000\",\"105120000\",\"68000000\",\"0\",\"1680000000\",\"0\",\"166386000\",\"12000000\",\"2628000\",\"500000000\",\"160000000\",\"0\",\"10000000\",\"1000000000\",\"1000000000\",\"20000000\",\"0\",\"0\",\"3371337\",\"20000000\",\"10000000000\",\"1840000000\",\"619478\",\"21000000\",\"92000000000\",\"0\",\"78000000\",\"33000000\",\"65789100\",\"53760000\",\"5060000\",\"21000000\",\"0\",\"210240000\",\"250000000\",\"100000000\",\"16906397\",\"50000000\",\"0\",\"1000000000\",\"26298000\",\"16000000\",\"21000000\",\"21000000\",\"210000000\",\"81962100\",\"22000000\",\"26550000000\",\"84000000\",\"10500000\",\"21626280000 \",\"0\",\"42000000\",\"221052632\",\"84000000\",\"30000000\",\"168351300\",\"24000000\",\"384000000\",\" 99000000000\",\"40000000\",\"2147483647\",\"20000000\",\"20000000\",\"25000000\",\"75000000\",\"222725000\",\"525000000\",\"90000000\",\"139000000\",\"616448\",\"33500000\",\"2000000000\",\"44333333\",\"100000000\",\"200000000\",\"25000000\",\"657000000\",\"200000000\",\"50000000\",\"90000000\",\"10000000\",\"21000000\",\"9736000\",\"3000000\",\"21000000\",\"1200000000\",\"0\",\"200000000\",\"0\",\"10638298\",\"3100000000\",\"30000000\",\"20000000000\",\"74000000\",\"0\",\"1500000000\",\"21400000\",\"39999898\",\"2500124\",\"100000000\",\"301000000\",\"7506000000\",\"26205539\",\"21000000\",\"125000000\",\"30000000\",\"10000000000\",\"500000000\",\"850000000\",\"3853326.77707314\",\"50000000\",\"38540000 \",\"42000000\",\"228000000\",\"20000000\",\"60000000\",\"20000000\",\"33000000\",\"76500000\",\"28000000\",\"650659833\",\"5000000\",\"21000000\",\"144000000\",\"32514916898\",\"13000000\",\"3315789\",\"15000000\",\"78835200\",\"2714286\",\"25000000\",\"9999999\",\"500000000\",\"21000000\",\"9354000\",\"20000000\",\"100000000000\",\"21933333\",\"185000000\",\"55000000\",\"110000000\",\"3360000\",\"14524851.4827\",\"1000000000\",\"17000000\",\"1000000000\",\"100000000 \",\"21000000\",\"34426423\",\"2232901\",\"100000000\",\"36900000\",\"110000000\",\"4000000000\",\"110290030\",\"100000000\",\"48252000\",\"400000000\",\"500000000\",\"21212121\",\"28600000\",\"1000000000\",\"75000000000\",\"40000000\",\"35520400\",\"2000000000\",\"2500000000\",\"30000000\",\"105000000\",\"90000000000\",\"200084200\",\"72000000\",\"100000000\",\"105000000\",\"50000000000\",\"0\",\"340282367\",\"30000000\",\"2000000000\",\"10000000\",\"100000000\",\"120000000\",\"100000000\",\"19276800\",\"30000000\",\" 75000000\",\"60000000\",\"18900000\",\"50000000000\",\"54000000\",\"18898187.6216583\",\"21000000\",\"200000000000\",\"5000000000\",\"137500000\",\"1100000000\",\"100000000\",\"21000000\",\"9507271\",\"17405891.19707116\",\"86712634466\",\"10500000000\",\"61599965\",\"0\",\"20000000\",\"84000000\",\"100000000\",\"100000000\",\"48252000\",\"4200000\",\"88888888\",\"91388946\",\"45000000000\",\"27000000\",\"21000000000\",\"400000000\",\"1800000000\",\"15733333\",\"27000000\",\"24000000\",\"21000000\",\"25000000000\",\"100000000\",\"1200000000\",\"60000000\",\"156306732.71\",\"21000000\",\"200000000\",\"100000000\",\"21000000\",\"14788275.991\",\"9000000000\",\"350000000\",\"45000000\",\"280000000\",\"31800000\",\"144000000\",\"500000000\",\"30000000000\",\"210000000\",\"660000000\",\"210000000\",\"85000000000\",\"12500000\",\"10000000000\",\"27716121\",\"20000000\",\"550000000\",\"999481516\",\"50000000000\",\"150000000\",\"4999999999\",\"50000000\",\" 90000000000\",\"19800000\",\"21000000\",\"120000000\",\"500000000\",\"64000000\",\"900000000\",\"4000000\",\"21000000\",\"23000000\",\"20166000\",\"23000000\",\"25000000\",\"1618033\",\"30000000\",\"1000000000000\",\"16600000\",\"232000000\",\"336000000\",\"10000000000\",\"100000000\",\"1100000000\",\"800000000\",\"5200000000\",\"840000000\",\"40000000\",\"18406979840\",\"500000000\",\"19340594\",\"252460800\",\"25000000\",\"60000000\",\"124000000\",\"1000000000\",\"6500000000\",\"1000000000\",\"21000000\",\"25000000\",\"50000000\",\"3000000\",\"5000000\",\"70000000\",\"500000000\",\"300000000\",\"21000000\",\"88000000\",\"30000000\",\"100000000\",\"100000000\",\"200000000\",\"80000000\",\"18400000\",\"45000000\",\"5121951220\",\"21000000\",\"26280000\",\"21000000\",\"18000000\",\"26000000\",\"10500000\",\"600000518\",\"150000000\",\"184000000000\",\"10200000000\",\"44000000\",\"168000000\",\"100000000\",\"1000000000\",\"84000000\",\"90000000\",\"92000000000\",\"650000000 \",\"100262205\",\"18081806 \",\"22075700\",\"21000000\",\"21000000\",\"82546564\",\"21000000\",\"5151000\",\"16880000000\",\"52500000\",\"100000000\",\"22105263\",\"1000000000\",\"1750000000\",\"88188888\",\"210000000\",\"184470000000\",\"55000000\",\"50000000\",\"260000000\",\"210000000\",\"2100000000\",\"366000000\",\"100000000\",\"25000000\",\"18000000000\",\"1000000000\",\"100000000\",\"1000000000\",\"7600000000\",\"50000000\",\"84000000\",\"21000000\",\"70000000000\",\"0\",\"8080000000\",\"54000000\",\"105120001.44\",\"25228800\",\"105000000\",\"21000000\",\"120000000\",\"21000000\",\"262800000\",\"19035999\",\"30886000\",\"13370000\",\"74800000000\",\"100000000\",\"19700000\",\"84000000\",\"500000000\",\"5000000000\",\"420000000\",\"64000000\",\"2100000\",\"168000000\",\"30000000\",\"1000000000\",\"35000000000\",\"98100000000\",\"0\",\"4000000000\",\"200000000\",\"7000000000\",\"54256119\",\"21000000\",\"0\",\"500000000\",\"1000000000\",\"10500000000\",\"190000000\",\"1000000000\",\"42000000\",\"15000000\",\"50000000000\",\"400000000\",\"105000000\",\"208000000\",\"160000000\",\"9000000\",\"5000000\",\"182000000\",\"16504333\",\"105000000\",\"159918400\",\"10008835635\",\"300000000\",\"60168145\",\"2800000\",\"120000\",\"2100000000\",\"0\",\"24487944\",\"0\",\"1000000000\",\"100000000\",\"8634140\",\"990000000000\",\"1000000000\",\"2000000000\",\"250000000\",\"1400222610\",\"21000000\",\"1000000\"],\"TotalCoinsMined\":{\"__ndarray__\":\"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\",\"dtype\":\"float64\",\"order\":\"little\",\"shape\":[532]},\"class\":{\"__ndarray__\":\"AAAAAAAAAAAAAAAAAwAAAAMAAAADAAAAAAAAAAMAAAADAAAAAwAAAAAAAAADAAAAAAAAAAAAAAADAAAAAAAAAAMAAAADAAAAAAAAAAAAAAADAAAAAwAAAAMAAAADAAAAAwAAAAAAAAADAAAAAwAAAAMAAAAAAAAAAwAAAAAAAAADAAAAAwAAAAAAAAAAAAAAAwAAAAMAAAADAAAAAwAAAAMAAAADAAAAAAAAAAAAAAADAAAAAwAAAAMAAAADAAAAAwAAAAAAAAAAAAAAAwAAAAAAAAADAAAAAwAAAAMAAAADAAAAAAAAAAMAAAADAAAAAAAAAAMAAAAAAAAAAAAAAAAAAAADAAAAAwAAAAMAAAAAAAAAAAAAAAAAAAAAAAAAAAAAAAMAAAADAAAAAwAAAAAAAAAAAAAAAwAAAAAAAAADAAAAAAAAAAAAAAADAAAAAwAAAAMAAAADAAAAAAAAAAAAAAADAAAAAAAAAAMAAAADAAAAAAAAAAAAAAADAAAAAAAAAAAAAAADAAAAAwAAAAAAAAAAAAAAAwAAAAAAAAAAAAAAAwAAAAAAAAADAAAAAAAAAAMAAAAAAAAAAwAAAAAAAAAAAAAAAwAAAAMAAAAAAAAAAwAAAAMAAAADAAAAAAAAAAMAAAADAAAAAwAAAAMAAAADAAAAAAAAAAAAAAADAAAAAwAAAAMAAAAAAAAAAwAAAAAAAAADAAAAAwAAAAAAAAADAAAAAAAAAAMAAAAAAAAAAAAAAAMAAAADAAAAAAAAAAMAAAADAAAAAAAAAAAAAAADAAAAAAAAAAMAAAAAAAAAAAAAAAAAAAADAAAAAwAAAAMAAAADAAAAAAAAAAAAAAAAAAAAAAAAAAAAAAADAAAAAwAAAAAAAAAAAAAAAAAAAAAAAAAAAAAAAwAAAAAAAAAAAAAAAAAAAAAAAAAAAAAAAwAAAAAAAAADAAAAAAAAAAAAAAADAAAAAAAAAAMAAAAAAAAAAAAAAAMAAAAAAAAAAwAAAAAAAAADAAAAAAAAAAMAAAAAAAAAAAAAAAAAAAAAAAAAAwAAAAAAAAAAAAAAAAAAAAAAAAAAAAAAAwAAAAMAAAAAAAAAAAAAAAMAAAADAAAAAAAAAAAAAAAAAAAAAAAAAAAAAAADAAAAAAAAAAAAAAAAAAAAAAAAAAAAAAAAAAAAAAAAAAAAAAADAAAAAAAAAAAAAAAAAAAAAAAAAAAAAAAAAAAAAwAAAAMAAAADAAAAAAAAAAAAAAAAAAAAAAAAAAMAAAAAAAAAAwAAAAAAAAAAAAAAAwAAAAAAAAADAAAAAwAAAAAAAAADAAAAAwAAAAAAAAADAAAAAAAAAAAAAAAAAAAAAwAAAAAAAAAAAAAAAwAAAAAAAAAAAAAAAAAAAAAAAAAAAAAAAAAAAAAAAAADAAAAAAAAAAMAAAAAAAAAAAAAAAAAAAAAAAAAAwAAAAAAAAADAAAAAAAAAAMAAAADAAAAAwAAAAMAAAAAAAAAAwAAAAAAAAAAAAAAAwAAAAAAAAADAAAAAwAAAAMAAAAAAAAAAwAAAAAAAAADAAAAAwAAAAMAAAAAAAAAAwAAAAAAAAADAAAAAAAAAAAAAAAAAAAAAwAAAAAAAAADAAAAAwAAAAMAAAADAAAAAwAAAAAAAAAAAAAAAwAAAAAAAAAAAAAAAAAAAAMAAAAAAAAAAwAAAAAAAAADAAAAAAAAAAMAAAAAAAAAAAAAAAAAAAAAAAAAAwAAAAAAAAAAAAAAAwAAAAAAAAAAAAAAAAAAAAMAAAADAAAAAwAAAAMAAAAAAAAAAAAAAAAAAAAAAAAAAwAAAAAAAAADAAAAAwAAAAMAAAAAAAAAAAAAAAMAAAADAAAAAAAAAAAAAAADAAAAAAAAAAMAAAADAAAAAwAAAAAAAAADAAAAAwAAAAAAAAAAAAAAAAAAAAMAAAADAAAAAwAAAAAAAAAAAAAAAAAAAAMAAAADAAAAAAAAAAMAAAADAAAAAwAAAAMAAAAAAAAAAQAAAAEAAAADAAAAAwAAAAMAAAAAAAAAAQAAAAAAAAAAAAAAAAAAAAAAAAADAAAAAwAAAAMAAAADAAAAAAAAAAAAAAAAAAAAAwAAAAAAAAADAAAAAAAAAAAAAAAAAAAAAAAAAAMAAAAAAAAAAAAAAAMAAAAAAAAAAAAAAAMAAAADAAAAAAAAAAMAAAAAAAAAAwAAAAMAAAADAAAAAwAAAAAAAAAAAAAAAwAAAAAAAAADAAAAAAAAAAAAAAAAAAAAAAAAAAAAAAAAAAAAAwAAAAMAAAADAAAAAAAAAAAAAAAAAAAAAAAAAAAAAAAAAAAAAwAAAAAAAAADAAAAAwAAAAMAAAADAAAAAAAAAAAAAAAAAAAAAAAAAAMAAAAAAAAAAAAAAAMAAAAAAAAAAAAAAAMAAAABAAAAAwAAAAAAAAADAAAAAwAAAAAAAAAAAAAAAwAAAAAAAAADAAAAAwAAAAMAAAADAAAAAwAAAAAAAAADAAAAAAAAAAMAAAAAAAAAAAAAAAMAAAAAAAAAAAAAAAAAAAAAAAAAAAAAAAMAAAADAAAAAwAAAAAAAAAAAAAAAAAAAAMAAAAAAAAAAwAAAAAAAAADAAAAAAAAAAAAAAAAAAAAAAAAAAMAAAAAAAAAAAAAAAAAAAADAAAAAAAAAAMAAAAAAAAAAwAAAAAAAAAAAAAAAAAAAAMAAAADAAAAAAAAAAAAAAAAAAAAAAAAAAAAAAAAAAAAAwAAAAAAAAADAAAAAAAAAAMAAAAAAAAAAAAAAAAAAAAAAAAAAgAAAAAAAAAAAAAAAAAAAAMAAAADAAAAAAAAAA==\",\"dtype\":\"int32\",\"order\":\"little\",\"shape\":[532]}},\"selected\":{\"id\":\"2335\"},\"selection_policy\":{\"id\":\"2369\"}},\"id\":\"2334\",\"type\":\"ColumnDataSource\"},{\"attributes\":{\"format\":\"0,0.0[00000]\"},\"id\":\"2356\",\"type\":\"NumberFormatter\"},{\"attributes\":{},\"id\":\"2357\",\"type\":\"NumberEditor\"},{\"attributes\":{},\"id\":\"2335\",\"type\":\"Selection\"},{\"attributes\":{\"editor\":{\"id\":\"2337\"},\"field\":\"CoinName\",\"formatter\":{\"id\":\"2336\"},\"title\":\"CoinName\"},\"id\":\"2338\",\"type\":\"TableColumn\"},{\"attributes\":{\"margin\":[5,5,5,5],\"name\":\"HSpacer03865\",\"sizing_mode\":\"stretch_width\"},\"id\":\"2373\",\"type\":\"Spacer\"},{\"attributes\":{},\"id\":\"2346\",\"type\":\"StringFormatter\"},{\"attributes\":{\"editor\":{\"id\":\"2362\"},\"field\":\"class\",\"formatter\":{\"id\":\"2361\"},\"title\":\"class\"},\"id\":\"2363\",\"type\":\"TableColumn\"},{\"attributes\":{\"editor\":{\"id\":\"2352\"},\"field\":\"TotalCoinSupply\",\"formatter\":{\"id\":\"2351\"},\"title\":\"TotalCoinSupply\"},\"id\":\"2353\",\"type\":\"TableColumn\"},{\"attributes\":{\"editor\":{\"id\":\"2357\"},\"field\":\"TotalCoinsMined\",\"formatter\":{\"id\":\"2356\"},\"title\":\"TotalCoinsMined\"},\"id\":\"2358\",\"type\":\"TableColumn\"},{\"attributes\":{},\"id\":\"2369\",\"type\":\"UnionRenderers\"},{\"attributes\":{},\"id\":\"2337\",\"type\":\"StringEditor\"},{\"attributes\":{\"editor\":{\"id\":\"2342\"},\"field\":\"Algorithm\",\"formatter\":{\"id\":\"2341\"},\"title\":\"Algorithm\"},\"id\":\"2343\",\"type\":\"TableColumn\"},{\"attributes\":{},\"id\":\"2352\",\"type\":\"StringEditor\"},{\"attributes\":{\"margin\":[5,5,5,5],\"name\":\"HSpacer03864\",\"sizing_mode\":\"stretch_width\"},\"id\":\"2333\",\"type\":\"Spacer\"},{\"attributes\":{},\"id\":\"2342\",\"type\":\"StringEditor\"},{\"attributes\":{},\"id\":\"2362\",\"type\":\"IntEditor\"},{\"attributes\":{},\"id\":\"2336\",\"type\":\"StringFormatter\"},{\"attributes\":{},\"id\":\"2341\",\"type\":\"StringFormatter\"},{\"attributes\":{},\"id\":\"2361\",\"type\":\"NumberFormatter\"},{\"attributes\":{\"source\":{\"id\":\"2334\"}},\"id\":\"2368\",\"type\":\"CDSView\"}],\"root_ids\":[\"2332\"]},\"title\":\"Bokeh Application\",\"version\":\"2.4.2\"}};\n",
       "    var render_items = [{\"docid\":\"79e60409-28a6-449b-a5e1-8328f52c81a6\",\"root_ids\":[\"2332\"],\"roots\":{\"2332\":\"3f1b3e44-1fc2-4df9-836e-13747a3ac5b2\"}}];\n",
       "    root.Bokeh.embed.embed_items_notebook(docs_json, render_items);\n",
       "  }\n",
       "  if (root.Bokeh !== undefined && root.Bokeh.Panel !== undefined) {\n",
       "    embed_document(root);\n",
       "  } else {\n",
       "    var attempts = 0;\n",
       "    var timer = setInterval(function(root) {\n",
       "      if (root.Bokeh !== undefined && root.Bokeh.Panel !== undefined) {\n",
       "        clearInterval(timer);\n",
       "        embed_document(root);\n",
       "      } else if (document.readyState == \"complete\") {\n",
       "        attempts++;\n",
       "        if (attempts > 200) {\n",
       "          clearInterval(timer);\n",
       "          console.log(\"Bokeh: ERROR: Unable to run BokehJS code because BokehJS library is missing\");\n",
       "        }\n",
       "      }\n",
       "    }, 25, root)\n",
       "  }\n",
       "})(window);</script>"
      ],
      "text/plain": [
       ":Table   [CoinName,Algorithm,ProofType,TotalCoinSupply,TotalCoinsMined,class]"
      ]
     },
     "execution_count": 324,
     "metadata": {
      "application/vnd.holoviews_exec.v0+json": {
       "id": "2332"
      }
     },
     "output_type": "execute_result"
    }
   ],
   "source": [
    "# Create a table with tradable cryptocurrencies.\n",
    "clustered_df.hvplot.table(columns=['CoinName', 'Algorithm', 'ProofType', 'TotalCoinSupply', 'TotalCoinsMined', 'class'])"
   ]
  },
  {
   "cell_type": "code",
   "execution_count": 325,
   "metadata": {},
   "outputs": [
    {
     "name": "stdout",
     "output_type": "stream",
     "text": [
      "There are 532 tradable cryptocurrencies\n"
     ]
    }
   ],
   "source": [
    "# Print the total number of tradable cryptocurrencies.\n",
    "count = clustered_df['CoinName'].count()\n",
    "print(f'There are {count} tradable cryptocurrencies')"
   ]
  },
  {
   "cell_type": "code",
   "execution_count": 326,
   "metadata": {},
   "outputs": [
    {
     "data": {
      "text/plain": [
       "array([[4.20000000e-11, 0.00000000e+00],\n",
       "       [5.32000000e-04, 1.06585544e-03],\n",
       "       [3.14159265e-01, 2.95755135e-02],\n",
       "       ...,\n",
       "       [1.40022261e-03, 9.90135079e-04],\n",
       "       [2.10000000e-05, 7.37028150e-06],\n",
       "       [1.00000000e-06, 1.29582282e-07]])"
      ]
     },
     "execution_count": 326,
     "metadata": {},
     "output_type": "execute_result"
    }
   ],
   "source": [
    "# Scaling data to create the scatter plot with tradable cryptocurrencies.\n",
    "cluster_df = clustered_df[['TotalCoinSupply', 'TotalCoinsMined']]\n",
    "clustered_scaled = MinMaxScaler().fit_transform(cluster_df)\n",
    "clustered_scaled"
   ]
  },
  {
   "cell_type": "code",
   "execution_count": 327,
   "metadata": {},
   "outputs": [
    {
     "data": {
      "text/html": [
       "<div>\n",
       "<style scoped>\n",
       "    .dataframe tbody tr th:only-of-type {\n",
       "        vertical-align: middle;\n",
       "    }\n",
       "\n",
       "    .dataframe tbody tr th {\n",
       "        vertical-align: top;\n",
       "    }\n",
       "\n",
       "    .dataframe thead th {\n",
       "        text-align: right;\n",
       "    }\n",
       "</style>\n",
       "<table border=\"1\" class=\"dataframe\">\n",
       "  <thead>\n",
       "    <tr style=\"text-align: right;\">\n",
       "      <th></th>\n",
       "      <th>TotalCoinSupply</th>\n",
       "      <th>TotalCoinsMined</th>\n",
       "    </tr>\n",
       "  </thead>\n",
       "  <tbody>\n",
       "    <tr>\n",
       "      <th>42</th>\n",
       "      <td>4.200000e-11</td>\n",
       "      <td>0.000000e+00</td>\n",
       "    </tr>\n",
       "    <tr>\n",
       "      <th>404</th>\n",
       "      <td>5.320000e-04</td>\n",
       "      <td>1.065855e-03</td>\n",
       "    </tr>\n",
       "    <tr>\n",
       "      <th>1337</th>\n",
       "      <td>3.141593e-01</td>\n",
       "      <td>2.957551e-02</td>\n",
       "    </tr>\n",
       "    <tr>\n",
       "      <th>BTC</th>\n",
       "      <td>2.100000e-05</td>\n",
       "      <td>1.810842e-05</td>\n",
       "    </tr>\n",
       "    <tr>\n",
       "      <th>ETH</th>\n",
       "      <td>0.000000e+00</td>\n",
       "      <td>1.087731e-04</td>\n",
       "    </tr>\n",
       "    <tr>\n",
       "      <th>...</th>\n",
       "      <td>...</td>\n",
       "      <td>...</td>\n",
       "    </tr>\n",
       "    <tr>\n",
       "      <th>ZEPH</th>\n",
       "      <td>2.000000e-03</td>\n",
       "      <td>2.020225e-03</td>\n",
       "    </tr>\n",
       "    <tr>\n",
       "      <th>GAP</th>\n",
       "      <td>2.500000e-04</td>\n",
       "      <td>1.508199e-05</td>\n",
       "    </tr>\n",
       "    <tr>\n",
       "      <th>BDX</th>\n",
       "      <td>1.400223e-03</td>\n",
       "      <td>9.901351e-04</td>\n",
       "    </tr>\n",
       "    <tr>\n",
       "      <th>ZEN</th>\n",
       "      <td>2.100000e-05</td>\n",
       "      <td>7.370282e-06</td>\n",
       "    </tr>\n",
       "    <tr>\n",
       "      <th>XBC</th>\n",
       "      <td>1.000000e-06</td>\n",
       "      <td>1.295823e-07</td>\n",
       "    </tr>\n",
       "  </tbody>\n",
       "</table>\n",
       "<p>532 rows × 2 columns</p>\n",
       "</div>"
      ],
      "text/plain": [
       "      TotalCoinSupply  TotalCoinsMined\n",
       "42       4.200000e-11     0.000000e+00\n",
       "404      5.320000e-04     1.065855e-03\n",
       "1337     3.141593e-01     2.957551e-02\n",
       "BTC      2.100000e-05     1.810842e-05\n",
       "ETH      0.000000e+00     1.087731e-04\n",
       "...               ...              ...\n",
       "ZEPH     2.000000e-03     2.020225e-03\n",
       "GAP      2.500000e-04     1.508199e-05\n",
       "BDX      1.400223e-03     9.901351e-04\n",
       "ZEN      2.100000e-05     7.370282e-06\n",
       "XBC      1.000000e-06     1.295823e-07\n",
       "\n",
       "[532 rows x 2 columns]"
      ]
     },
     "execution_count": 327,
     "metadata": {},
     "output_type": "execute_result"
    }
   ],
   "source": [
    "# Create a new DataFrame that has the scaled data with the clustered_df DataFrame index.\n",
    "index_values= (cluster_df.index.tolist())\n",
    "plot_df = pd.DataFrame(data = clustered_scaled, columns=['TotalCoinSupply', 'TotalCoinsMined'], index=index_values)\n",
    "plot_df"
   ]
  },
  {
   "cell_type": "code",
   "execution_count": 328,
   "metadata": {},
   "outputs": [],
   "source": [
    "# Add the \"CoinName\" column from the clustered_df DataFrame to the new DataFrame.\n",
    "plot_df['CoinName'] = clustered_df['CoinName']"
   ]
  },
  {
   "cell_type": "code",
   "execution_count": 329,
   "metadata": {},
   "outputs": [
    {
     "data": {
      "text/html": [
       "<div>\n",
       "<style scoped>\n",
       "    .dataframe tbody tr th:only-of-type {\n",
       "        vertical-align: middle;\n",
       "    }\n",
       "\n",
       "    .dataframe tbody tr th {\n",
       "        vertical-align: top;\n",
       "    }\n",
       "\n",
       "    .dataframe thead th {\n",
       "        text-align: right;\n",
       "    }\n",
       "</style>\n",
       "<table border=\"1\" class=\"dataframe\">\n",
       "  <thead>\n",
       "    <tr style=\"text-align: right;\">\n",
       "      <th></th>\n",
       "      <th>TotalCoinSupply</th>\n",
       "      <th>TotalCoinsMined</th>\n",
       "      <th>CoinName</th>\n",
       "      <th>class</th>\n",
       "    </tr>\n",
       "  </thead>\n",
       "  <tbody>\n",
       "    <tr>\n",
       "      <th>42</th>\n",
       "      <td>4.200000e-11</td>\n",
       "      <td>0.000000</td>\n",
       "      <td>42 Coin</td>\n",
       "      <td>0</td>\n",
       "    </tr>\n",
       "    <tr>\n",
       "      <th>404</th>\n",
       "      <td>5.320000e-04</td>\n",
       "      <td>0.001066</td>\n",
       "      <td>404Coin</td>\n",
       "      <td>0</td>\n",
       "    </tr>\n",
       "    <tr>\n",
       "      <th>1337</th>\n",
       "      <td>3.141593e-01</td>\n",
       "      <td>0.029576</td>\n",
       "      <td>EliteCoin</td>\n",
       "      <td>0</td>\n",
       "    </tr>\n",
       "    <tr>\n",
       "      <th>BTC</th>\n",
       "      <td>2.100000e-05</td>\n",
       "      <td>0.000018</td>\n",
       "      <td>Bitcoin</td>\n",
       "      <td>3</td>\n",
       "    </tr>\n",
       "    <tr>\n",
       "      <th>ETH</th>\n",
       "      <td>0.000000e+00</td>\n",
       "      <td>0.000109</td>\n",
       "      <td>Ethereum</td>\n",
       "      <td>3</td>\n",
       "    </tr>\n",
       "    <tr>\n",
       "      <th>LTC</th>\n",
       "      <td>8.400000e-05</td>\n",
       "      <td>0.000064</td>\n",
       "      <td>Litecoin</td>\n",
       "      <td>3</td>\n",
       "    </tr>\n",
       "    <tr>\n",
       "      <th>DASH</th>\n",
       "      <td>2.200000e-05</td>\n",
       "      <td>0.000009</td>\n",
       "      <td>Dash</td>\n",
       "      <td>0</td>\n",
       "    </tr>\n",
       "    <tr>\n",
       "      <th>XMR</th>\n",
       "      <td>0.000000e+00</td>\n",
       "      <td>0.000017</td>\n",
       "      <td>Monero</td>\n",
       "      <td>3</td>\n",
       "    </tr>\n",
       "    <tr>\n",
       "      <th>ETC</th>\n",
       "      <td>2.100000e-04</td>\n",
       "      <td>0.000115</td>\n",
       "      <td>Ethereum Classic</td>\n",
       "      <td>3</td>\n",
       "    </tr>\n",
       "    <tr>\n",
       "      <th>ZEC</th>\n",
       "      <td>2.100000e-05</td>\n",
       "      <td>0.000007</td>\n",
       "      <td>ZCash</td>\n",
       "      <td>3</td>\n",
       "    </tr>\n",
       "  </tbody>\n",
       "</table>\n",
       "</div>"
      ],
      "text/plain": [
       "      TotalCoinSupply  TotalCoinsMined          CoinName  class\n",
       "42       4.200000e-11         0.000000           42 Coin      0\n",
       "404      5.320000e-04         0.001066           404Coin      0\n",
       "1337     3.141593e-01         0.029576         EliteCoin      0\n",
       "BTC      2.100000e-05         0.000018           Bitcoin      3\n",
       "ETH      0.000000e+00         0.000109          Ethereum      3\n",
       "LTC      8.400000e-05         0.000064          Litecoin      3\n",
       "DASH     2.200000e-05         0.000009              Dash      0\n",
       "XMR      0.000000e+00         0.000017            Monero      3\n",
       "ETC      2.100000e-04         0.000115  Ethereum Classic      3\n",
       "ZEC      2.100000e-05         0.000007             ZCash      3"
      ]
     },
     "execution_count": 329,
     "metadata": {},
     "output_type": "execute_result"
    }
   ],
   "source": [
    "# Add the \"Class\" column from the clustered_df DataFrame to the new DataFrame. \n",
    "class_df = clustered_df['class']\n",
    "plot_df = plot_df.join(class_df, how=\"inner\")\n",
    "\n",
    "plot_df.head(10)"
   ]
  },
  {
   "cell_type": "code",
   "execution_count": 330,
   "metadata": {},
   "outputs": [
    {
     "data": {},
     "metadata": {},
     "output_type": "display_data"
    },
    {
     "data": {
      "application/vnd.holoviews_exec.v0+json": "",
      "text/html": [
       "<div id='2385'>\n",
       "\n",
       "\n",
       "\n",
       "\n",
       "\n",
       "  <div class=\"bk-root\" id=\"c8aea33a-5a1e-4742-8e6f-e50ddb3774c2\" data-root-id=\"2385\"></div>\n",
       "</div>\n",
       "<script type=\"application/javascript\">(function(root) {\n",
       "  function embed_document(root) {\n",
       "    var docs_json = {\"7bfb4254-f2e8-4ce1-80d5-bbdd22b0abbe\":{\"defs\":[{\"extends\":null,\"module\":null,\"name\":\"ReactiveHTML1\",\"overrides\":[],\"properties\":[]},{\"extends\":null,\"module\":null,\"name\":\"FlexBox1\",\"overrides\":[],\"properties\":[{\"default\":\"flex-start\",\"kind\":null,\"name\":\"align_content\"},{\"default\":\"flex-start\",\"kind\":null,\"name\":\"align_items\"},{\"default\":\"row\",\"kind\":null,\"name\":\"flex_direction\"},{\"default\":\"wrap\",\"kind\":null,\"name\":\"flex_wrap\"},{\"default\":\"flex-start\",\"kind\":null,\"name\":\"justify_content\"}]},{\"extends\":null,\"module\":null,\"name\":\"TemplateActions1\",\"overrides\":[],\"properties\":[{\"default\":0,\"kind\":null,\"name\":\"open_modal\"},{\"default\":0,\"kind\":null,\"name\":\"close_modal\"}]},{\"extends\":null,\"module\":null,\"name\":\"MaterialTemplateActions1\",\"overrides\":[],\"properties\":[{\"default\":0,\"kind\":null,\"name\":\"open_modal\"},{\"default\":0,\"kind\":null,\"name\":\"close_modal\"}]}],\"roots\":{\"references\":[{\"attributes\":{\"source\":{\"id\":\"2450\"}},\"id\":\"2457\",\"type\":\"CDSView\"},{\"attributes\":{\"angle\":{\"value\":0.0},\"fill_alpha\":{\"value\":1.0},\"fill_color\":{\"value\":\"#fc4f30\"},\"hatch_alpha\":{\"value\":1.0},\"hatch_color\":{\"value\":\"#fc4f30\"},\"hatch_scale\":{\"value\":12.0},\"hatch_weight\":{\"value\":1.0},\"line_alpha\":{\"value\":1.0},\"line_cap\":{\"value\":\"butt\"},\"line_color\":{\"value\":\"#fc4f30\"},\"line_dash\":{\"value\":[]},\"line_dash_offset\":{\"value\":0},\"line_join\":{\"value\":\"bevel\"},\"line_width\":{\"value\":1},\"marker\":{\"value\":\"circle\"},\"size\":{\"value\":5.477225575051661},\"x\":{\"field\":\"TotalCoinsMined\"},\"y\":{\"field\":\"TotalCoinSupply\"}},\"id\":\"2471\",\"type\":\"Scatter\"},{\"attributes\":{\"data\":{\"TotalCoinSupply\":{\"__ndarray__\":\"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\",\"dtype\":\"float64\",\"order\":\"little\",\"shape\":[239]},\"TotalCoinsMined\":{\"__ndarray__\":\"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\",\"dtype\":\"float64\",\"order\":\"little\",\"shape\":[239]},\"class\":[3,3,3,3,3,3,3,3,3,3,3,3,3,3,3,3,3,3,3,3,3,3,3,3,3,3,3,3,3,3,3,3,3,3,3,3,3,3,3,3,3,3,3,3,3,3,3,3,3,3,3,3,3,3,3,3,3,3,3,3,3,3,3,3,3,3,3,3,3,3,3,3,3,3,3,3,3,3,3,3,3,3,3,3,3,3,3,3,3,3,3,3,3,3,3,3,3,3,3,3,3,3,3,3,3,3,3,3,3,3,3,3,3,3,3,3,3,3,3,3,3,3,3,3,3,3,3,3,3,3,3,3,3,3,3,3,3,3,3,3,3,3,3,3,3,3,3,3,3,3,3,3,3,3,3,3,3,3,3,3,3,3,3,3,3,3,3,3,3,3,3,3,3,3,3,3,3,3,3,3,3,3,3,3,3,3,3,3,3,3,3,3,3,3,3,3,3,3,3,3,3,3,3,3,3,3,3,3,3,3,3,3,3,3,3,3,3,3,3,3,3,3,3,3,3,3,3,3,3,3,3,3,3,3,3,3,3,3,3]},\"selected\":{\"id\":\"2497\"},\"selection_policy\":{\"id\":\"2517\"}},\"id\":\"2496\",\"type\":\"ColumnDataSource\"},{\"attributes\":{},\"id\":\"2407\",\"type\":\"BasicTicker\"},{\"attributes\":{\"callback\":null,\"renderers\":[{\"id\":\"2435\"},{\"id\":\"2456\"},{\"id\":\"2478\"},{\"id\":\"2502\"}],\"tags\":[\"hv_created\"],\"tooltips\":[[\"class\",\"@{class}\"],[\"TotalCoinsMined\",\"@{TotalCoinsMined}\"],[\"TotalCoinSupply\",\"@{TotalCoinSupply}\"]]},\"id\":\"2389\",\"type\":\"HoverTool\"},{\"attributes\":{},\"id\":\"2517\",\"type\":\"UnionRenderers\"},{\"attributes\":{},\"id\":\"2497\",\"type\":\"Selection\"},{\"attributes\":{\"coordinates\":null,\"group\":null,\"text_color\":\"black\",\"text_font_size\":\"12pt\"},\"id\":\"2394\",\"type\":\"Title\"},{\"attributes\":{},\"id\":\"2444\",\"type\":\"UnionRenderers\"},{\"attributes\":{},\"id\":\"2398\",\"type\":\"LinearScale\"},{\"attributes\":{\"click_policy\":\"mute\",\"coordinates\":null,\"group\":null,\"items\":[{\"id\":\"2448\"},{\"id\":\"2470\"},{\"id\":\"2494\"},{\"id\":\"2520\"}],\"location\":[0,0],\"title\":\"class\"},\"id\":\"2447\",\"type\":\"Legend\"},{\"attributes\":{\"fill_alpha\":{\"value\":0.2},\"fill_color\":{\"value\":\"#30a2da\"},\"hatch_alpha\":{\"value\":0.2},\"hatch_color\":{\"value\":\"#30a2da\"},\"line_alpha\":{\"value\":0.2},\"line_color\":{\"value\":\"#30a2da\"},\"size\":{\"value\":5.477225575051661},\"x\":{\"field\":\"TotalCoinsMined\"},\"y\":{\"field\":\"TotalCoinSupply\"}},\"id\":\"2434\",\"type\":\"Scatter\"},{\"attributes\":{},\"id\":\"2467\",\"type\":\"UnionRenderers\"},{\"attributes\":{\"below\":[{\"id\":\"2402\"}],\"center\":[{\"id\":\"2405\"},{\"id\":\"2409\"}],\"height\":300,\"left\":[{\"id\":\"2406\"}],\"margin\":[5,5,5,5],\"min_border_bottom\":10,\"min_border_left\":10,\"min_border_right\":10,\"min_border_top\":10,\"renderers\":[{\"id\":\"2435\"},{\"id\":\"2456\"},{\"id\":\"2478\"},{\"id\":\"2502\"}],\"right\":[{\"id\":\"2447\"}],\"sizing_mode\":\"fixed\",\"title\":{\"id\":\"2394\"},\"toolbar\":{\"id\":\"2416\"},\"width\":700,\"x_range\":{\"id\":\"2387\"},\"x_scale\":{\"id\":\"2398\"},\"y_range\":{\"id\":\"2388\"},\"y_scale\":{\"id\":\"2400\"}},\"id\":\"2393\",\"subtype\":\"Figure\",\"type\":\"Plot\"},{\"attributes\":{\"axis\":{\"id\":\"2402\"},\"coordinates\":null,\"grid_line_color\":null,\"group\":null,\"ticker\":null},\"id\":\"2405\",\"type\":\"Grid\"},{\"attributes\":{},\"id\":\"2491\",\"type\":\"UnionRenderers\"},{\"attributes\":{\"end\":1.042857142857143,\"reset_end\":1.042857142857143,\"reset_start\":-0.04285714285714286,\"start\":-0.04285714285714286,\"tags\":[[[\"TotalCoinsMined\",\"TotalCoinsMined\",null]]]},\"id\":\"2387\",\"type\":\"Range1d\"},{\"attributes\":{\"coordinates\":null,\"data_source\":{\"id\":\"2429\"},\"glyph\":{\"id\":\"2432\"},\"group\":null,\"hover_glyph\":null,\"muted_glyph\":{\"id\":\"2434\"},\"nonselection_glyph\":{\"id\":\"2433\"},\"selection_glyph\":{\"id\":\"2449\"},\"view\":{\"id\":\"2436\"}},\"id\":\"2435\",\"type\":\"GlyphRenderer\"},{\"attributes\":{},\"id\":\"2400\",\"type\":\"LinearScale\"},{\"attributes\":{},\"id\":\"2428\",\"type\":\"AllLabels\"},{\"attributes\":{\"coordinates\":null,\"data_source\":{\"id\":\"2450\"},\"glyph\":{\"id\":\"2453\"},\"group\":null,\"hover_glyph\":null,\"muted_glyph\":{\"id\":\"2455\"},\"nonselection_glyph\":{\"id\":\"2454\"},\"selection_glyph\":{\"id\":\"2471\"},\"view\":{\"id\":\"2457\"}},\"id\":\"2456\",\"type\":\"GlyphRenderer\"},{\"attributes\":{},\"id\":\"2425\",\"type\":\"AllLabels\"},{\"attributes\":{\"label\":{\"value\":\"0\"},\"renderers\":[{\"id\":\"2435\"}]},\"id\":\"2448\",\"type\":\"LegendItem\"},{\"attributes\":{\"fill_color\":{\"value\":\"#6d904f\"},\"hatch_color\":{\"value\":\"#6d904f\"},\"line_color\":{\"value\":\"#6d904f\"},\"size\":{\"value\":5.477225575051661},\"x\":{\"field\":\"TotalCoinsMined\"},\"y\":{\"field\":\"TotalCoinSupply\"}},\"id\":\"2499\",\"type\":\"Scatter\"},{\"attributes\":{\"axis_label\":\"TotalCoinSupply\",\"coordinates\":null,\"formatter\":{\"id\":\"2427\"},\"group\":null,\"major_label_policy\":{\"id\":\"2428\"},\"ticker\":{\"id\":\"2407\"}},\"id\":\"2406\",\"type\":\"LinearAxis\"},{\"attributes\":{\"data\":{\"TotalCoinSupply\":{\"__ndarray__\":\"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\",\"dtype\":\"float64\",\"order\":\"little\",\"shape\":[288]},\"TotalCoinsMined\":{\"__ndarray__\":\"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\",\"dtype\":\"float64\",\"order\":\"little\",\"shape\":[288]},\"class\":[0,0,0,0,0,0,0,0,0,0,0,0,0,0,0,0,0,0,0,0,0,0,0,0,0,0,0,0,0,0,0,0,0,0,0,0,0,0,0,0,0,0,0,0,0,0,0,0,0,0,0,0,0,0,0,0,0,0,0,0,0,0,0,0,0,0,0,0,0,0,0,0,0,0,0,0,0,0,0,0,0,0,0,0,0,0,0,0,0,0,0,0,0,0,0,0,0,0,0,0,0,0,0,0,0,0,0,0,0,0,0,0,0,0,0,0,0,0,0,0,0,0,0,0,0,0,0,0,0,0,0,0,0,0,0,0,0,0,0,0,0,0,0,0,0,0,0,0,0,0,0,0,0,0,0,0,0,0,0,0,0,0,0,0,0,0,0,0,0,0,0,0,0,0,0,0,0,0,0,0,0,0,0,0,0,0,0,0,0,0,0,0,0,0,0,0,0,0,0,0,0,0,0,0,0,0,0,0,0,0,0,0,0,0,0,0,0,0,0,0,0,0,0,0,0,0,0,0,0,0,0,0,0,0,0,0,0,0,0,0,0,0,0,0,0,0,0,0,0,0,0,0,0,0,0,0,0,0,0,0,0,0,0,0,0,0,0,0,0,0,0,0,0,0,0,0,0,0,0,0,0,0,0,0,0,0,0,0]},\"selected\":{\"id\":\"2430\"},\"selection_policy\":{\"id\":\"2444\"}},\"id\":\"2429\",\"type\":\"ColumnDataSource\"},{\"attributes\":{\"fill_alpha\":{\"value\":0.1},\"fill_color\":{\"value\":\"#30a2da\"},\"hatch_alpha\":{\"value\":0.1},\"hatch_color\":{\"value\":\"#30a2da\"},\"line_alpha\":{\"value\":0.1},\"line_color\":{\"value\":\"#30a2da\"},\"size\":{\"value\":5.477225575051661},\"x\":{\"field\":\"TotalCoinsMined\"},\"y\":{\"field\":\"TotalCoinSupply\"}},\"id\":\"2433\",\"type\":\"Scatter\"},{\"attributes\":{\"source\":{\"id\":\"2472\"}},\"id\":\"2479\",\"type\":\"CDSView\"},{\"attributes\":{\"angle\":{\"value\":0.0},\"fill_alpha\":{\"value\":1.0},\"fill_color\":{\"value\":\"#6d904f\"},\"hatch_alpha\":{\"value\":1.0},\"hatch_color\":{\"value\":\"#6d904f\"},\"hatch_scale\":{\"value\":12.0},\"hatch_weight\":{\"value\":1.0},\"line_alpha\":{\"value\":1.0},\"line_cap\":{\"value\":\"butt\"},\"line_color\":{\"value\":\"#6d904f\"},\"line_dash\":{\"value\":[]},\"line_dash_offset\":{\"value\":0},\"line_join\":{\"value\":\"bevel\"},\"line_width\":{\"value\":1},\"marker\":{\"value\":\"circle\"},\"size\":{\"value\":5.477225575051661},\"x\":{\"field\":\"TotalCoinsMined\"},\"y\":{\"field\":\"TotalCoinSupply\"}},\"id\":\"2521\",\"type\":\"Scatter\"},{\"attributes\":{},\"id\":\"2424\",\"type\":\"BasicTickFormatter\"},{\"attributes\":{},\"id\":\"2410\",\"type\":\"SaveTool\"},{\"attributes\":{\"fill_alpha\":{\"value\":0.2},\"fill_color\":{\"value\":\"#6d904f\"},\"hatch_alpha\":{\"value\":0.2},\"hatch_color\":{\"value\":\"#6d904f\"},\"line_alpha\":{\"value\":0.2},\"line_color\":{\"value\":\"#6d904f\"},\"size\":{\"value\":5.477225575051661},\"x\":{\"field\":\"TotalCoinsMined\"},\"y\":{\"field\":\"TotalCoinSupply\"}},\"id\":\"2501\",\"type\":\"Scatter\"},{\"attributes\":{\"fill_alpha\":{\"value\":0.2},\"fill_color\":{\"value\":\"#fc4f30\"},\"hatch_alpha\":{\"value\":0.2},\"hatch_color\":{\"value\":\"#fc4f30\"},\"line_alpha\":{\"value\":0.2},\"line_color\":{\"value\":\"#fc4f30\"},\"size\":{\"value\":5.477225575051661},\"x\":{\"field\":\"TotalCoinsMined\"},\"y\":{\"field\":\"TotalCoinSupply\"}},\"id\":\"2455\",\"type\":\"Scatter\"},{\"attributes\":{\"bottom_units\":\"screen\",\"coordinates\":null,\"fill_alpha\":0.5,\"fill_color\":\"lightgrey\",\"group\":null,\"left_units\":\"screen\",\"level\":\"overlay\",\"line_alpha\":1.0,\"line_color\":\"black\",\"line_dash\":[4,4],\"line_width\":2,\"right_units\":\"screen\",\"syncable\":false,\"top_units\":\"screen\"},\"id\":\"2415\",\"type\":\"BoxAnnotation\"},{\"attributes\":{\"fill_alpha\":{\"value\":0.1},\"fill_color\":{\"value\":\"#e5ae38\"},\"hatch_alpha\":{\"value\":0.1},\"hatch_color\":{\"value\":\"#e5ae38\"},\"line_alpha\":{\"value\":0.1},\"line_color\":{\"value\":\"#e5ae38\"},\"size\":{\"value\":5.477225575051661},\"x\":{\"field\":\"TotalCoinsMined\"},\"y\":{\"field\":\"TotalCoinSupply\"}},\"id\":\"2476\",\"type\":\"Scatter\"},{\"attributes\":{\"angle\":{\"value\":0.0},\"fill_alpha\":{\"value\":1.0},\"fill_color\":{\"value\":\"#e5ae38\"},\"hatch_alpha\":{\"value\":1.0},\"hatch_color\":{\"value\":\"#e5ae38\"},\"hatch_scale\":{\"value\":12.0},\"hatch_weight\":{\"value\":1.0},\"line_alpha\":{\"value\":1.0},\"line_cap\":{\"value\":\"butt\"},\"line_color\":{\"value\":\"#e5ae38\"},\"line_dash\":{\"value\":[]},\"line_dash_offset\":{\"value\":0},\"line_join\":{\"value\":\"bevel\"},\"line_width\":{\"value\":1},\"marker\":{\"value\":\"circle\"},\"size\":{\"value\":5.477225575051661},\"x\":{\"field\":\"TotalCoinsMined\"},\"y\":{\"field\":\"TotalCoinSupply\"}},\"id\":\"2495\",\"type\":\"Scatter\"},{\"attributes\":{\"margin\":[5,5,5,5],\"name\":\"HSpacer04055\",\"sizing_mode\":\"stretch_width\"},\"id\":\"2666\",\"type\":\"Spacer\"},{\"attributes\":{},\"id\":\"2403\",\"type\":\"BasicTicker\"},{\"attributes\":{\"source\":{\"id\":\"2429\"}},\"id\":\"2436\",\"type\":\"CDSView\"},{\"attributes\":{\"fill_alpha\":{\"value\":0.1},\"fill_color\":{\"value\":\"#fc4f30\"},\"hatch_alpha\":{\"value\":0.1},\"hatch_color\":{\"value\":\"#fc4f30\"},\"line_alpha\":{\"value\":0.1},\"line_color\":{\"value\":\"#fc4f30\"},\"size\":{\"value\":5.477225575051661},\"x\":{\"field\":\"TotalCoinsMined\"},\"y\":{\"field\":\"TotalCoinSupply\"}},\"id\":\"2454\",\"type\":\"Scatter\"},{\"attributes\":{\"axis\":{\"id\":\"2406\"},\"coordinates\":null,\"dimension\":1,\"grid_line_color\":null,\"group\":null,\"ticker\":null},\"id\":\"2409\",\"type\":\"Grid\"},{\"attributes\":{},\"id\":\"2451\",\"type\":\"Selection\"},{\"attributes\":{\"coordinates\":null,\"data_source\":{\"id\":\"2496\"},\"glyph\":{\"id\":\"2499\"},\"group\":null,\"hover_glyph\":null,\"muted_glyph\":{\"id\":\"2501\"},\"nonselection_glyph\":{\"id\":\"2500\"},\"selection_glyph\":{\"id\":\"2521\"},\"view\":{\"id\":\"2503\"}},\"id\":\"2502\",\"type\":\"GlyphRenderer\"},{\"attributes\":{},\"id\":\"2414\",\"type\":\"ResetTool\"},{\"attributes\":{},\"id\":\"2430\",\"type\":\"Selection\"},{\"attributes\":{},\"id\":\"2473\",\"type\":\"Selection\"},{\"attributes\":{\"margin\":[5,5,5,5],\"name\":\"HSpacer04054\",\"sizing_mode\":\"stretch_width\"},\"id\":\"2386\",\"type\":\"Spacer\"},{\"attributes\":{\"end\":1.1,\"reset_end\":1.1,\"reset_start\":-0.1,\"start\":-0.1,\"tags\":[[[\"TotalCoinSupply\",\"TotalCoinSupply\",null]]]},\"id\":\"2388\",\"type\":\"Range1d\"},{\"attributes\":{\"label\":{\"value\":\"3\"},\"renderers\":[{\"id\":\"2502\"}]},\"id\":\"2520\",\"type\":\"LegendItem\"},{\"attributes\":{\"tools\":[{\"id\":\"2389\"},{\"id\":\"2410\"},{\"id\":\"2411\"},{\"id\":\"2412\"},{\"id\":\"2413\"},{\"id\":\"2414\"}]},\"id\":\"2416\",\"type\":\"Toolbar\"},{\"attributes\":{\"label\":{\"value\":\"2\"},\"renderers\":[{\"id\":\"2478\"}]},\"id\":\"2494\",\"type\":\"LegendItem\"},{\"attributes\":{\"overlay\":{\"id\":\"2415\"}},\"id\":\"2413\",\"type\":\"BoxZoomTool\"},{\"attributes\":{\"label\":{\"value\":\"1\"},\"renderers\":[{\"id\":\"2456\"}]},\"id\":\"2470\",\"type\":\"LegendItem\"},{\"attributes\":{\"axis_label\":\"TotalCoinsMined\",\"coordinates\":null,\"formatter\":{\"id\":\"2424\"},\"group\":null,\"major_label_policy\":{\"id\":\"2425\"},\"ticker\":{\"id\":\"2403\"}},\"id\":\"2402\",\"type\":\"LinearAxis\"},{\"attributes\":{\"data\":{\"TotalCoinSupply\":{\"__ndarray__\":\"rkfhehSu7z8=\",\"dtype\":\"float64\",\"order\":\"little\",\"shape\":[1]},\"TotalCoinsMined\":{\"__ndarray__\":\"AAAAAAAA8D8=\",\"dtype\":\"float64\",\"order\":\"little\",\"shape\":[1]},\"class\":[2]},\"selected\":{\"id\":\"2473\"},\"selection_policy\":{\"id\":\"2491\"}},\"id\":\"2472\",\"type\":\"ColumnDataSource\"},{\"attributes\":{\"source\":{\"id\":\"2496\"}},\"id\":\"2503\",\"type\":\"CDSView\"},{\"attributes\":{\"fill_color\":{\"value\":\"#30a2da\"},\"hatch_color\":{\"value\":\"#30a2da\"},\"line_color\":{\"value\":\"#30a2da\"},\"size\":{\"value\":5.477225575051661},\"x\":{\"field\":\"TotalCoinsMined\"},\"y\":{\"field\":\"TotalCoinSupply\"}},\"id\":\"2432\",\"type\":\"Scatter\"},{\"attributes\":{},\"id\":\"2427\",\"type\":\"BasicTickFormatter\"},{\"attributes\":{\"fill_color\":{\"value\":\"#e5ae38\"},\"hatch_color\":{\"value\":\"#e5ae38\"},\"line_color\":{\"value\":\"#e5ae38\"},\"size\":{\"value\":5.477225575051661},\"x\":{\"field\":\"TotalCoinsMined\"},\"y\":{\"field\":\"TotalCoinSupply\"}},\"id\":\"2475\",\"type\":\"Scatter\"},{\"attributes\":{\"children\":[{\"id\":\"2386\"},{\"id\":\"2393\"},{\"id\":\"2666\"}],\"margin\":[0,0,0,0],\"name\":\"Row04050\",\"tags\":[\"embedded\"]},\"id\":\"2385\",\"type\":\"Row\"},{\"attributes\":{\"coordinates\":null,\"data_source\":{\"id\":\"2472\"},\"glyph\":{\"id\":\"2475\"},\"group\":null,\"hover_glyph\":null,\"muted_glyph\":{\"id\":\"2477\"},\"nonselection_glyph\":{\"id\":\"2476\"},\"selection_glyph\":{\"id\":\"2495\"},\"view\":{\"id\":\"2479\"}},\"id\":\"2478\",\"type\":\"GlyphRenderer\"},{\"attributes\":{\"fill_alpha\":{\"value\":0.1},\"fill_color\":{\"value\":\"#6d904f\"},\"hatch_alpha\":{\"value\":0.1},\"hatch_color\":{\"value\":\"#6d904f\"},\"line_alpha\":{\"value\":0.1},\"line_color\":{\"value\":\"#6d904f\"},\"size\":{\"value\":5.477225575051661},\"x\":{\"field\":\"TotalCoinsMined\"},\"y\":{\"field\":\"TotalCoinSupply\"}},\"id\":\"2500\",\"type\":\"Scatter\"},{\"attributes\":{\"fill_color\":{\"value\":\"#fc4f30\"},\"hatch_color\":{\"value\":\"#fc4f30\"},\"line_color\":{\"value\":\"#fc4f30\"},\"size\":{\"value\":5.477225575051661},\"x\":{\"field\":\"TotalCoinsMined\"},\"y\":{\"field\":\"TotalCoinSupply\"}},\"id\":\"2453\",\"type\":\"Scatter\"},{\"attributes\":{},\"id\":\"2412\",\"type\":\"WheelZoomTool\"},{\"attributes\":{\"angle\":{\"value\":0.0},\"fill_alpha\":{\"value\":1.0},\"fill_color\":{\"value\":\"#30a2da\"},\"hatch_alpha\":{\"value\":1.0},\"hatch_color\":{\"value\":\"#30a2da\"},\"hatch_scale\":{\"value\":12.0},\"hatch_weight\":{\"value\":1.0},\"line_alpha\":{\"value\":1.0},\"line_cap\":{\"value\":\"butt\"},\"line_color\":{\"value\":\"#30a2da\"},\"line_dash\":{\"value\":[]},\"line_dash_offset\":{\"value\":0},\"line_join\":{\"value\":\"bevel\"},\"line_width\":{\"value\":1},\"marker\":{\"value\":\"circle\"},\"size\":{\"value\":5.477225575051661},\"x\":{\"field\":\"TotalCoinsMined\"},\"y\":{\"field\":\"TotalCoinSupply\"}},\"id\":\"2449\",\"type\":\"Scatter\"},{\"attributes\":{\"fill_alpha\":{\"value\":0.2},\"fill_color\":{\"value\":\"#e5ae38\"},\"hatch_alpha\":{\"value\":0.2},\"hatch_color\":{\"value\":\"#e5ae38\"},\"line_alpha\":{\"value\":0.2},\"line_color\":{\"value\":\"#e5ae38\"},\"size\":{\"value\":5.477225575051661},\"x\":{\"field\":\"TotalCoinsMined\"},\"y\":{\"field\":\"TotalCoinSupply\"}},\"id\":\"2477\",\"type\":\"Scatter\"},{\"attributes\":{\"data\":{\"TotalCoinSupply\":{\"__ndarray__\":\"lPYGX5hMdT+8eapDboZLP4RaKOGWizA//Knx0k1iUD8=\",\"dtype\":\"float64\",\"order\":\"little\",\"shape\":[4]},\"TotalCoinsMined\":{\"__ndarray__\":\"j1gNkdpTXT+QpMXySiFFP5wZJXiPEis/ekNDBbiMUD8=\",\"dtype\":\"float64\",\"order\":\"little\",\"shape\":[4]},\"class\":[1,1,1,1]},\"selected\":{\"id\":\"2451\"},\"selection_policy\":{\"id\":\"2467\"}},\"id\":\"2450\",\"type\":\"ColumnDataSource\"},{\"attributes\":{},\"id\":\"2411\",\"type\":\"PanTool\"}],\"root_ids\":[\"2385\"]},\"title\":\"Bokeh Application\",\"version\":\"2.4.2\"}};\n",
       "    var render_items = [{\"docid\":\"7bfb4254-f2e8-4ce1-80d5-bbdd22b0abbe\",\"root_ids\":[\"2385\"],\"roots\":{\"2385\":\"c8aea33a-5a1e-4742-8e6f-e50ddb3774c2\"}}];\n",
       "    root.Bokeh.embed.embed_items_notebook(docs_json, render_items);\n",
       "  }\n",
       "  if (root.Bokeh !== undefined && root.Bokeh.Panel !== undefined) {\n",
       "    embed_document(root);\n",
       "  } else {\n",
       "    var attempts = 0;\n",
       "    var timer = setInterval(function(root) {\n",
       "      if (root.Bokeh !== undefined && root.Bokeh.Panel !== undefined) {\n",
       "        clearInterval(timer);\n",
       "        embed_document(root);\n",
       "      } else if (document.readyState == \"complete\") {\n",
       "        attempts++;\n",
       "        if (attempts > 200) {\n",
       "          clearInterval(timer);\n",
       "          console.log(\"Bokeh: ERROR: Unable to run BokehJS code because BokehJS library is missing\");\n",
       "        }\n",
       "      }\n",
       "    }, 25, root)\n",
       "  }\n",
       "})(window);</script>"
      ],
      "text/plain": [
       ":NdOverlay   [class]\n",
       "   :Scatter   [TotalCoinsMined]   (TotalCoinSupply)"
      ]
     },
     "execution_count": 330,
     "metadata": {
      "application/vnd.holoviews_exec.v0+json": {
       "id": "2385"
      }
     },
     "output_type": "execute_result"
    }
   ],
   "source": [
    "# Create a hvplot.scatter plot using x=\"TotalCoinsMined\" and y=\"TotalCoinSupply\".\n",
    "plot_df.hvplot.scatter(x=\"TotalCoinsMined\", y=\"TotalCoinSupply\", by=\"class\")\n"
   ]
  }
 ],
 "metadata": {
  "file_extension": ".py",
  "kernelspec": {
   "display_name": "mlenv",
   "language": "python",
   "name": "mlenv"
  },
  "language_info": {
   "codemirror_mode": {
    "name": "ipython",
    "version": 3
   },
   "file_extension": ".py",
   "mimetype": "text/x-python",
   "name": "python",
   "nbconvert_exporter": "python",
   "pygments_lexer": "ipython3",
   "version": "3.7.11"
  },
  "latex_envs": {
   "LaTeX_envs_menu_present": true,
   "autoclose": false,
   "autocomplete": true,
   "bibliofile": "biblio.bib",
   "cite_by": "apalike",
   "current_citInitial": 1,
   "eqLabelWithNumbers": true,
   "eqNumInitial": 1,
   "hotkeys": {
    "equation": "Ctrl-E",
    "itemize": "Ctrl-I"
   },
   "labels_anchors": false,
   "latex_user_defs": false,
   "report_style_numbering": false,
   "user_envs_cfg": false
  },
  "mimetype": "text/x-python",
  "name": "python",
  "npconvert_exporter": "python",
  "pygments_lexer": "ipython3",
  "version": 3
 },
 "nbformat": 4,
 "nbformat_minor": 2
}
